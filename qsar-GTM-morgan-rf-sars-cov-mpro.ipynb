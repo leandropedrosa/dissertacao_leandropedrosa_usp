{
 "cells": [
  {
   "cell_type": "markdown",
   "metadata": {},
   "source": [
    "# Modelos QSAR-GTM para protease principal 3C-like protease (M<sup>pro</sup>) de SARS-CoV"
   ]
  },
  {
   "cell_type": "markdown",
   "metadata": {},
   "source": [
    "Os modelos nesse fluxo de trabalho foram criados usando as impressões digitais de Morgan com Random Forest scikit-learn."
   ]
  },
  {
   "cell_type": "code",
   "execution_count": 1,
   "metadata": {},
   "outputs": [
    {
     "data": {
      "text/html": [
       "<style>.container { width:90% !important; }</style>"
      ],
      "text/plain": [
       "<IPython.core.display.HTML object>"
      ]
     },
     "metadata": {},
     "output_type": "display_data"
    }
   ],
   "source": [
    "import numpy as np\n",
    "import pandas as pd\n",
    "import seaborn as sns\n",
    "import matplotlib.pyplot as plt\n",
    "import _pickle as cPickle\n",
    "import gzip\n",
    "import ugtm\n",
    "import altair as alt\n",
    "\n",
    "#BalanceBySim: função de balanceamento de conjunto de dados (Equilibre os dados usando 1/2 similaridade e 1/2 aleatória)\n",
    "from BalanceBySim import *\n",
    "\n",
    "#Stats: Calculos estatisticos referente ao modelo Kappa\tCCR\tSensitivity\tPPV\tSpecificity\tNPV\tCoverage\n",
    "from stats import *\n",
    "\n",
    "from collections import Counter\n",
    "\n",
    "#Rdkit: coleção de quiminformática e software de aprendizado de máquina escrito em C++ e Python de Código Aberto.\n",
    "from rdkit import Chem\n",
    "from rdkit.Chem import AllChem\n",
    "from rdkit.Chem import Draw\n",
    "from rdkit.Chem import PandasTools\n",
    "from rdkit.Chem.Draw import IPythonConsole\n",
    "\n",
    "#Sklearn: Bibliotecas p/ Machine learning de Código Aberto\n",
    "from sklearn import metrics, preprocessing\n",
    "from sklearn.feature_selection import VarianceThreshold\n",
    "from sklearn.model_selection import train_test_split, cross_validate, GridSearchCV\n",
    "from sklearn.model_selection import permutation_test_score, StratifiedKFold\n",
    "from sklearn.metrics import classification_report\n",
    "from sklearn.metrics import balanced_accuracy_score\n",
    "from sklearn import manifold\n",
    "\n",
    "# Bibliotecas do GTM\n",
    "from ugtm import eGTM, eGTC, eGTR, crossvalidateGTC\n",
    "\n",
    "def warn(*args, **kwargs):\n",
    "    pass\n",
    "import warnings\n",
    "warnings.filterwarnings(\"ignore\")\n",
    "warnings.warn = warn\n",
    "\n",
    "from IPython.core.interactiveshell import InteractiveShell\n",
    "InteractiveShell.ast_node_interactivity = \"all\"\n",
    "%matplotlib inline\n",
    "%reload_ext autoreload\n",
    "%autoreload 2\n",
    "Draw.DrawingOptions.atomLabelFontFace = \"DejaVu Sans\"\n",
    "Draw.DrawingOptions.atomLabelFontSize = 18\n",
    "\n",
    "from IPython.core.display import display, HTML\n",
    "display(HTML(\"<style>.container { width:90% !important; }</style>\"))"
   ]
  },
  {
   "cell_type": "code",
   "execution_count": 2,
   "metadata": {},
   "outputs": [
    {
     "name": "stdout",
     "output_type": "stream",
     "text": [
      "Dados originais:  (113, 11)\n",
      "Dados mantidos:  (113, 11)\n"
     ]
    },
    {
     "data": {
      "text/html": [
       "<div>\n",
       "<style scoped>\n",
       "    .dataframe tbody tr th:only-of-type {\n",
       "        vertical-align: middle;\n",
       "    }\n",
       "\n",
       "    .dataframe tbody tr th {\n",
       "        vertical-align: top;\n",
       "    }\n",
       "\n",
       "    .dataframe thead th {\n",
       "        text-align: right;\n",
       "    }\n",
       "</style>\n",
       "<table border=\"1\" class=\"dataframe\">\n",
       "  <thead>\n",
       "    <tr style=\"text-align: right;\">\n",
       "      <th></th>\n",
       "      <th>Compound_name</th>\n",
       "      <th>Standard Type</th>\n",
       "      <th>Standard Relation</th>\n",
       "      <th>Standard Value</th>\n",
       "      <th>Standard Units</th>\n",
       "      <th>Outcome</th>\n",
       "      <th>InChIKey</th>\n",
       "      <th>Molecule ChEMBL ID</th>\n",
       "      <th>ID</th>\n",
       "      <th>SMILES</th>\n",
       "      <th>Mol</th>\n",
       "    </tr>\n",
       "  </thead>\n",
       "  <tbody>\n",
       "    <tr>\n",
       "      <th>0</th>\n",
       "      <td></td>\n",
       "      <td>IC50</td>\n",
       "      <td>=</td>\n",
       "      <td>5700.0</td>\n",
       "      <td>nM</td>\n",
       "      <td>Active</td>\n",
       "      <td>AEYIBAPLFDNVGD-UHFFFAOYNA-N</td>\n",
       "      <td></td>\n",
       "      <td></td>\n",
       "      <td>CC(=O)NC(CO)C(=O)NC(C)C(=O)NC(C(=O)NC(CC(C)C)C...</td>\n",
       "      <td><img data-content=\"rdkit/molecule\" src=\"data:image/png;base64,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\" alt=\"Mol\"/></td>\n",
       "    </tr>\n",
       "  </tbody>\n",
       "</table>\n",
       "</div>"
      ],
      "text/plain": [
       "  Compound_name Standard Type Standard Relation Standard Value Standard Units  \\\n",
       "0                        IC50                 =         5700.0             nM   \n",
       "\n",
       "  Outcome                     InChIKey Molecule ChEMBL ID ID  \\\n",
       "0  Active  AEYIBAPLFDNVGD-UHFFFAOYNA-N                         \n",
       "\n",
       "                                              SMILES  \\\n",
       "0  CC(=O)NC(CO)C(=O)NC(C)C(=O)NC(C(=O)NC(CC(C)C)C...   \n",
       "\n",
       "                                                 Mol  \n",
       "0  <img data-content=\"rdkit/molecule\" src=\"data:i...  "
      ]
     },
     "execution_count": 2,
     "metadata": {},
     "output_type": "execute_result"
    }
   ],
   "source": [
    "# Definir caminho do arquivo\n",
    "file = 'datasets/curated_data/chembl-pdb-sars-cov-3C-like-proteinase.sdf.gz'\n",
    "\n",
    "# Novo dicionário inicializado a partir de um objeto de mapeamento\n",
    "sdfInfo = dict(smilesName='SMILES', molColName='ROMol')\n",
    "\n",
    "# Carregando o arquivo SDF com os dicionarios mapeados\n",
    "moldf = PandasTools.LoadSDF(file, **sdfInfo)\n",
    "print('Dados originais: ', moldf.shape)\n",
    "\n",
    "# Renomear ROMol\n",
    "moldf = moldf.rename(columns={'ROMol': 'Mol'})\n",
    "\n",
    "# Remover moléculas RDKit ausentes\n",
    "moldf = moldf[pd.notnull(moldf['Mol'])]\n",
    "if 'StandardizerResult' in moldf.columns:\n",
    "    moldf = moldf.drop(columns='StandardizerResult')\n",
    "    \n",
    "# Colunas\n",
    "print('Dados mantidos: ', moldf.shape)\n",
    "moldf.head(1)"
   ]
  },
  {
   "cell_type": "code",
   "execution_count": 3,
   "metadata": {},
   "outputs": [
    {
     "name": "stdout",
     "output_type": "stream",
     "text": [
      "\u001b[1mForma do conjunto de treinamento:\n",
      "\u001b[0m\n",
      "\t\t Class 1: 40\n",
      "\t\t Class 0: 73\n",
      "\t\t Número total de compostos: 113\n"
     ]
    }
   ],
   "source": [
    "# (27 ativos e 64 inativos) 91 compostos utilizando o software ChemAxon Standardizer \n",
    "# (13 ativos e 09 inativos) 22 compostos obtidos de empresas encontradas do PDB\n",
    "\n",
    "moldf['Outcome'] = moldf['Outcome'].replace('Active', 1)\n",
    "moldf['Outcome'] = moldf['Outcome'].replace('Inactive', 0)\n",
    "\n",
    "classes = Counter(moldf['Outcome'])\n",
    "print('\\033[1m' + 'Forma do conjunto de treinamento:' + '\\n' + '\\033[0m')\n",
    "for key, value in classes.items():\n",
    "    print('\\t\\t Class %d: %d' % (key, value))\n",
    "print('\\t\\t Número total de compostos: %d' % (len(moldf['Outcome'])))"
   ]
  },
  {
   "cell_type": "code",
   "execution_count": 4,
   "metadata": {},
   "outputs": [
    {
     "data": {
      "text/plain": [
       "(113, 2048)"
      ]
     },
     "execution_count": 4,
     "metadata": {},
     "output_type": "execute_result"
    }
   ],
   "source": [
    "# Calculando os descritores fingerprints de Harry Morgan (vetores de bits).\n",
    "def calcfp(mol,funcFPInfo=dict(radius=3, nBits=2048, useFeatures=False, useChirality=False)):\n",
    "    fp = AllChem.GetMorganFingerprintAsBitVect(mol, **funcFPInfo)\n",
    "    fp = pd.Series(np.asarray(fp))\n",
    "    fp = fp.add_prefix('Bit_')\n",
    "    return fp\n",
    "\n",
    "# Conjunto de treinamento\n",
    "desc = moldf.Mol.apply(calcfp)\n",
    "descriptors = desc.columns.difference(moldf.columns).tolist()\n",
    "desc.shape"
   ]
  },
  {
   "cell_type": "code",
   "execution_count": 5,
   "metadata": {},
   "outputs": [
    {
     "name": "stdout",
     "output_type": "stream",
     "text": [
      "Forma do conjunto de treinamento: Counter({0: 73, 1: 40})\n",
      "Forma externa definida: Counter()\n"
     ]
    }
   ],
   "source": [
    "moldf_desc = pd.concat([moldf,desc], axis=1)\n",
    "balance_data = 'no'\n",
    "\n",
    "if balance_data == 'yes':\n",
    "    # Equilibre os dados usando 1/2 similaridade e 1/2 aleatória\n",
    "    moldf_desc = BalanceBySim(moldf_desc, 'Outcome', 2)\n",
    "    # Forma de impressão\n",
    "    print('Forma do conjunto de treinamento: %s' % Counter(moldf_desc['Outcome'].loc[moldf_desc['Set'] == 'train']))\n",
    "    print('Forma externa definida: %s' % Counter(moldf_desc['Outcome'].loc[moldf_desc['Set'] == 'ext']))\n",
    "      \n",
    "else:\n",
    "    moldf_desc['Set'] = 'train'\n",
    "    # Forma de impressão\n",
    "    print('Forma do conjunto de treinamento: %s' % Counter(moldf_desc['Outcome'].loc[moldf_desc['Set'] == 'train']))\n",
    "    print('Forma externa definida: %s' % Counter(moldf_desc['Outcome'].loc[moldf_desc['Set'] == 'ext']))"
   ]
  },
  {
   "cell_type": "code",
   "execution_count": 6,
   "metadata": {},
   "outputs": [
    {
     "data": {
      "text/plain": [
       "(113, 2048)"
      ]
     },
     "execution_count": 6,
     "metadata": {},
     "output_type": "execute_result"
    }
   ],
   "source": [
    "moldf_train = moldf_desc[(moldf_desc['Set'] == 'train')]\n",
    "\n",
    "y = moldf_train['Outcome'].to_numpy()\n",
    "X = moldf_train[descriptors]\n",
    "X.shape"
   ]
  },
  {
   "cell_type": "code",
   "execution_count": 9,
   "metadata": {},
   "outputs": [
    {
     "name": "stdout",
     "output_type": "stream",
     "text": [
      "\n",
      "Melhores parametros: {'k': 16, 'm': 4, 'regul': 250, 's': 0.3}\n",
      "Score: 0.74\n"
     ]
    }
   ],
   "source": [
    "#Classificador GTM (GTC), bayesiano\n",
    "tuned_params = {'regul': [100, 250, 500, 750, 1000],\n",
    "                's': [0.1, 0.2, 0.3],\n",
    "                'k': [16],\n",
    "                'm': [4]}\n",
    "\n",
    "scaler = preprocessing.StandardScaler().fit(X_train)\n",
    "X_train = scaler.transform(X_train)\n",
    "X_test = scaler.transform(X_test)\n",
    "\n",
    "X_train, X_test, y_train, y_test = train_test_split(X, y, test_size=0.5, random_state=24)\n",
    "\n",
    "#Construção do modelo de configuração\n",
    "grid_search = GridSearchCV(eGTC(), tuned_params, cv=3, refit = True, iid=False, scoring='balanced_accuracy')\n",
    "\n",
    "# Prever rótulos para X_test\n",
    "grid_search_gtc = grid_search.fit(X_train, y_train)\n",
    "print()\n",
    "\n",
    "#Retorna a melhor pontuação e os melhores parâmetros\n",
    "print('Melhores parametros: %s' % grid_search_gtc.best_params_)\n",
    "print('Score: %.2f' % grid_search_gtc.best_score_)"
   ]
  },
  {
   "cell_type": "markdown",
   "metadata": {},
   "source": [
    "##### Modelo com w/ melhores parâmetros"
   ]
  },
  {
   "cell_type": "code",
   "execution_count": 40,
   "metadata": {},
   "outputs": [
    {
     "data": {
      "text/plain": [
       "eGTC(k=16, m=4, niter=200, prior='estimated', random_state=1234, regul=250,\n",
       "     s=0.3, verbose=False)"
      ]
     },
     "execution_count": 40,
     "metadata": {},
     "output_type": "execute_result"
    },
    {
     "name": "stdout",
     "output_type": "stream",
     "text": [
      "              precision    recall  f1-score   support\n",
      "\n",
      "           0       0.75      0.89      0.81        37\n",
      "           1       0.69      0.45      0.55        20\n",
      "\n",
      "    accuracy                           0.74        57\n",
      "   macro avg       0.72      0.67      0.68        57\n",
      "weighted avg       0.73      0.74      0.72        57\n",
      "\n"
     ]
    }
   ],
   "source": [
    "gtm_best = eGTC(k=16, m=4, regul=250, s=0.3)\n",
    "gtm_best.fit(X_train, y_train)\n",
    "y_true, y_pred = y_test, gtm_best.predict(X_test)\n",
    "# Testar dados usando o modelo construído com os melhores parâmetros\n",
    "print(classification_report(y_true, y_pred))"
   ]
  },
  {
   "cell_type": "markdown",
   "metadata": {},
   "source": [
    "##### Modelo com w/ melhores parâmetros"
   ]
  },
  {
   "cell_type": "markdown",
   "metadata": {},
   "source": [
    "##### Mapa das classes"
   ]
  },
  {
   "cell_type": "code",
   "execution_count": 11,
   "metadata": {},
   "outputs": [
    {
     "data": {
      "text/html": [
       "\n",
       "<div id=\"altair-viz-72eee894ffc649659d40e1a89e39c0e7\"></div>\n",
       "<script type=\"text/javascript\">\n",
       "  (function(spec, embedOpt){\n",
       "    let outputDiv = document.currentScript.previousElementSibling;\n",
       "    if (outputDiv.id !== \"altair-viz-72eee894ffc649659d40e1a89e39c0e7\") {\n",
       "      outputDiv = document.getElementById(\"altair-viz-72eee894ffc649659d40e1a89e39c0e7\");\n",
       "    }\n",
       "    const paths = {\n",
       "      \"vega\": \"https://cdn.jsdelivr.net/npm//vega@5?noext\",\n",
       "      \"vega-lib\": \"https://cdn.jsdelivr.net/npm//vega-lib?noext\",\n",
       "      \"vega-lite\": \"https://cdn.jsdelivr.net/npm//vega-lite@4.8.1?noext\",\n",
       "      \"vega-embed\": \"https://cdn.jsdelivr.net/npm//vega-embed@6?noext\",\n",
       "    };\n",
       "\n",
       "    function loadScript(lib) {\n",
       "      return new Promise(function(resolve, reject) {\n",
       "        var s = document.createElement('script');\n",
       "        s.src = paths[lib];\n",
       "        s.async = true;\n",
       "        s.onload = () => resolve(paths[lib]);\n",
       "        s.onerror = () => reject(`Error loading script: ${paths[lib]}`);\n",
       "        document.getElementsByTagName(\"head\")[0].appendChild(s);\n",
       "      });\n",
       "    }\n",
       "\n",
       "    function showError(err) {\n",
       "      outputDiv.innerHTML = `<div class=\"error\" style=\"color:red;\">${err}</div>`;\n",
       "      throw err;\n",
       "    }\n",
       "\n",
       "    function displayChart(vegaEmbed) {\n",
       "      vegaEmbed(outputDiv, spec, embedOpt)\n",
       "        .catch(err => showError(`Javascript Error: ${err.message}<br>This usually means there's a typo in your chart specification. See the javascript console for the full traceback.`));\n",
       "    }\n",
       "\n",
       "    if(typeof define === \"function\" && define.amd) {\n",
       "      requirejs.config({paths});\n",
       "      require([\"vega-embed\"], displayChart, err => showError(`Error loading script: ${err.message}`));\n",
       "    } else if (typeof vegaEmbed === \"function\") {\n",
       "      displayChart(vegaEmbed);\n",
       "    } else {\n",
       "      loadScript(\"vega\")\n",
       "        .then(() => loadScript(\"vega-lite\"))\n",
       "        .then(() => loadScript(\"vega-embed\"))\n",
       "        .catch(showError)\n",
       "        .then(() => displayChart(vegaEmbed));\n",
       "    }\n",
       "  })({\"config\": {\"view\": {\"continuousWidth\": 400, \"continuousHeight\": 300}}, \"data\": {\"name\": \"data-0758128559bec2b2e41619f8896c082b\"}, \"mark\": \"square\", \"encoding\": {\"color\": {\"type\": \"nominal\", \"field\": \"r\\u00f3tulo_do_n\\u00f3_previsto\"}, \"opacity\": {\"type\": \"quantitative\", \"field\": \"probabilidade_de_classe_predominante\"}, \"size\": {\"value\": 50}, \"tooltip\": [{\"type\": \"quantitative\", \"field\": \"x1\"}, {\"type\": \"quantitative\", \"field\": \"x2\"}, {\"type\": \"nominal\", \"field\": \"r\\u00f3tulo_do_n\\u00f3_previsto\"}, {\"type\": \"quantitative\", \"field\": \"probabilidade_de_classe_predominante\"}], \"x\": {\"type\": \"quantitative\", \"field\": \"x1\"}, \"y\": {\"type\": \"quantitative\", \"field\": \"x2\"}}, \"height\": 200, \"title\": \"Mapa das Classes\", \"width\": 200, \"$schema\": \"https://vega.github.io/schema/vega-lite/v4.8.1.json\", \"datasets\": {\"data-0758128559bec2b2e41619f8896c082b\": [{\"x1\": -1.0, \"x2\": -1.0, \"r\\u00f3tulo_do_n\\u00f3_previsto\": 0, \"probabilidade_de_classe_predominante\": 0.9999999999628266}, {\"x1\": -1.0, \"x2\": -0.8666666666666667, \"r\\u00f3tulo_do_n\\u00f3_previsto\": 0, \"probabilidade_de_classe_predominante\": 0.9980386713311096}, {\"x1\": -1.0, \"x2\": -0.7333333333333334, \"r\\u00f3tulo_do_n\\u00f3_previsto\": 1, \"probabilidade_de_classe_predominante\": 0.9999999991993221}, {\"x1\": -1.0, \"x2\": -0.6, \"r\\u00f3tulo_do_n\\u00f3_previsto\": 0, \"probabilidade_de_classe_predominante\": 0.9999999999639403}, {\"x1\": -1.0, \"x2\": -0.4666666666666667, \"r\\u00f3tulo_do_n\\u00f3_previsto\": 0, \"probabilidade_de_classe_predominante\": 1.0}, {\"x1\": -1.0, \"x2\": -0.33333333333333337, \"r\\u00f3tulo_do_n\\u00f3_previsto\": 0, \"probabilidade_de_classe_predominante\": 1.0}, {\"x1\": -1.0, \"x2\": -0.19999999999999996, \"r\\u00f3tulo_do_n\\u00f3_previsto\": 0, \"probabilidade_de_classe_predominante\": 1.0}, {\"x1\": -1.0, \"x2\": -0.06666666666666665, \"r\\u00f3tulo_do_n\\u00f3_previsto\": 0, \"probabilidade_de_classe_predominante\": 1.0}, {\"x1\": -1.0, \"x2\": 0.06666666666666665, \"r\\u00f3tulo_do_n\\u00f3_previsto\": 0, \"probabilidade_de_classe_predominante\": 1.0}, {\"x1\": -1.0, \"x2\": 0.19999999999999996, \"r\\u00f3tulo_do_n\\u00f3_previsto\": 0, \"probabilidade_de_classe_predominante\": 1.0}, {\"x1\": -1.0, \"x2\": 0.33333333333333326, \"r\\u00f3tulo_do_n\\u00f3_previsto\": 0, \"probabilidade_de_classe_predominante\": 1.0}, {\"x1\": -1.0, \"x2\": 0.46666666666666656, \"r\\u00f3tulo_do_n\\u00f3_previsto\": 0, \"probabilidade_de_classe_predominante\": 1.0}, {\"x1\": -1.0, \"x2\": 0.6000000000000001, \"r\\u00f3tulo_do_n\\u00f3_previsto\": 0, \"probabilidade_de_classe_predominante\": 1.0}, {\"x1\": -1.0, \"x2\": 0.7333333333333334, \"r\\u00f3tulo_do_n\\u00f3_previsto\": 0, \"probabilidade_de_classe_predominante\": 1.0}, {\"x1\": -1.0, \"x2\": 0.8666666666666667, \"r\\u00f3tulo_do_n\\u00f3_previsto\": 0, \"probabilidade_de_classe_predominante\": 1.0}, {\"x1\": -1.0, \"x2\": 1.0, \"r\\u00f3tulo_do_n\\u00f3_previsto\": 0, \"probabilidade_de_classe_predominante\": 1.0}, {\"x1\": -0.8666666666666667, \"x2\": -1.0, \"r\\u00f3tulo_do_n\\u00f3_previsto\": 1, \"probabilidade_de_classe_predominante\": 0.9999999996243467}, {\"x1\": -0.8666666666666667, \"x2\": -0.8666666666666667, \"r\\u00f3tulo_do_n\\u00f3_previsto\": 1, \"probabilidade_de_classe_predominante\": 0.9999999735102221}, {\"x1\": -0.8666666666666667, \"x2\": -0.7333333333333334, \"r\\u00f3tulo_do_n\\u00f3_previsto\": 1, \"probabilidade_de_classe_predominante\": 0.9999970937116075}, {\"x1\": -0.8666666666666667, \"x2\": -0.6, \"r\\u00f3tulo_do_n\\u00f3_previsto\": 0, \"probabilidade_de_classe_predominante\": 0.9999970474868238}, {\"x1\": -0.8666666666666667, \"x2\": -0.4666666666666667, \"r\\u00f3tulo_do_n\\u00f3_previsto\": 0, \"probabilidade_de_classe_predominante\": 1.0}, {\"x1\": -0.8666666666666667, \"x2\": -0.33333333333333337, \"r\\u00f3tulo_do_n\\u00f3_previsto\": 0, \"probabilidade_de_classe_predominante\": 1.0}, {\"x1\": -0.8666666666666667, \"x2\": -0.19999999999999996, \"r\\u00f3tulo_do_n\\u00f3_previsto\": 0, \"probabilidade_de_classe_predominante\": 1.0}, {\"x1\": -0.8666666666666667, \"x2\": -0.06666666666666665, \"r\\u00f3tulo_do_n\\u00f3_previsto\": 0, \"probabilidade_de_classe_predominante\": 1.0}, {\"x1\": -0.8666666666666667, \"x2\": 0.06666666666666665, \"r\\u00f3tulo_do_n\\u00f3_previsto\": 0, \"probabilidade_de_classe_predominante\": 1.0}, {\"x1\": -0.8666666666666667, \"x2\": 0.19999999999999996, \"r\\u00f3tulo_do_n\\u00f3_previsto\": 0, \"probabilidade_de_classe_predominante\": 1.0}, {\"x1\": -0.8666666666666667, \"x2\": 0.33333333333333326, \"r\\u00f3tulo_do_n\\u00f3_previsto\": 0, \"probabilidade_de_classe_predominante\": 1.0}, {\"x1\": -0.8666666666666667, \"x2\": 0.46666666666666656, \"r\\u00f3tulo_do_n\\u00f3_previsto\": 0, \"probabilidade_de_classe_predominante\": 1.0}, {\"x1\": -0.8666666666666667, \"x2\": 0.6000000000000001, \"r\\u00f3tulo_do_n\\u00f3_previsto\": 0, \"probabilidade_de_classe_predominante\": 1.0}, {\"x1\": -0.8666666666666667, \"x2\": 0.7333333333333334, \"r\\u00f3tulo_do_n\\u00f3_previsto\": 0, \"probabilidade_de_classe_predominante\": 1.0}, {\"x1\": -0.8666666666666667, \"x2\": 0.8666666666666667, \"r\\u00f3tulo_do_n\\u00f3_previsto\": 0, \"probabilidade_de_classe_predominante\": 1.0}, {\"x1\": -0.8666666666666667, \"x2\": 1.0, \"r\\u00f3tulo_do_n\\u00f3_previsto\": 0, \"probabilidade_de_classe_predominante\": 1.0}, {\"x1\": -0.7333333333333334, \"x2\": -1.0, \"r\\u00f3tulo_do_n\\u00f3_previsto\": 1, \"probabilidade_de_classe_predominante\": 0.9967645823037835}, {\"x1\": -0.7333333333333334, \"x2\": -0.8666666666666667, \"r\\u00f3tulo_do_n\\u00f3_previsto\": 1, \"probabilidade_de_classe_predominante\": 0.9663446440935005}, {\"x1\": -0.7333333333333334, \"x2\": -0.7333333333333334, \"r\\u00f3tulo_do_n\\u00f3_previsto\": 1, \"probabilidade_de_classe_predominante\": 0.9481447425713072}, {\"x1\": -0.7333333333333334, \"x2\": -0.6, \"r\\u00f3tulo_do_n\\u00f3_previsto\": 1, \"probabilidade_de_classe_predominante\": 0.9681325180661741}, {\"x1\": -0.7333333333333334, \"x2\": -0.4666666666666667, \"r\\u00f3tulo_do_n\\u00f3_previsto\": 0, \"probabilidade_de_classe_predominante\": 1.0}, {\"x1\": -0.7333333333333334, \"x2\": -0.33333333333333337, \"r\\u00f3tulo_do_n\\u00f3_previsto\": 0, \"probabilidade_de_classe_predominante\": 1.0}, {\"x1\": -0.7333333333333334, \"x2\": -0.19999999999999996, \"r\\u00f3tulo_do_n\\u00f3_previsto\": 0, \"probabilidade_de_classe_predominante\": 1.0}, {\"x1\": -0.7333333333333334, \"x2\": -0.06666666666666665, \"r\\u00f3tulo_do_n\\u00f3_previsto\": 0, \"probabilidade_de_classe_predominante\": 1.0}, {\"x1\": -0.7333333333333334, \"x2\": 0.06666666666666665, \"r\\u00f3tulo_do_n\\u00f3_previsto\": 0, \"probabilidade_de_classe_predominante\": 1.0}, {\"x1\": -0.7333333333333334, \"x2\": 0.19999999999999996, \"r\\u00f3tulo_do_n\\u00f3_previsto\": 0, \"probabilidade_de_classe_predominante\": 1.0}, {\"x1\": -0.7333333333333334, \"x2\": 0.33333333333333326, \"r\\u00f3tulo_do_n\\u00f3_previsto\": 0, \"probabilidade_de_classe_predominante\": 1.0}, {\"x1\": -0.7333333333333334, \"x2\": 0.46666666666666656, \"r\\u00f3tulo_do_n\\u00f3_previsto\": 0, \"probabilidade_de_classe_predominante\": 1.0}, {\"x1\": -0.7333333333333334, \"x2\": 0.6000000000000001, \"r\\u00f3tulo_do_n\\u00f3_previsto\": 0, \"probabilidade_de_classe_predominante\": 1.0}, {\"x1\": -0.7333333333333334, \"x2\": 0.7333333333333334, \"r\\u00f3tulo_do_n\\u00f3_previsto\": 0, \"probabilidade_de_classe_predominante\": 1.0}, {\"x1\": -0.7333333333333334, \"x2\": 0.8666666666666667, \"r\\u00f3tulo_do_n\\u00f3_previsto\": 0, \"probabilidade_de_classe_predominante\": 1.0}, {\"x1\": -0.7333333333333334, \"x2\": 1.0, \"r\\u00f3tulo_do_n\\u00f3_previsto\": 0, \"probabilidade_de_classe_predominante\": 1.0}, {\"x1\": -0.6, \"x2\": -1.0, \"r\\u00f3tulo_do_n\\u00f3_previsto\": 0, \"probabilidade_de_classe_predominante\": 0.9999942914813656}, {\"x1\": -0.6, \"x2\": -0.8666666666666667, \"r\\u00f3tulo_do_n\\u00f3_previsto\": 0, \"probabilidade_de_classe_predominante\": 0.9999930182451212}, {\"x1\": -0.6, \"x2\": -0.7333333333333334, \"r\\u00f3tulo_do_n\\u00f3_previsto\": 0, \"probabilidade_de_classe_predominante\": 0.9992731186764641}, {\"x1\": -0.6, \"x2\": -0.6, \"r\\u00f3tulo_do_n\\u00f3_previsto\": 1, \"probabilidade_de_classe_predominante\": 0.9999999821831208}, {\"x1\": -0.6, \"x2\": -0.4666666666666667, \"r\\u00f3tulo_do_n\\u00f3_previsto\": 1, \"probabilidade_de_classe_predominante\": 1.0}, {\"x1\": -0.6, \"x2\": -0.33333333333333337, \"r\\u00f3tulo_do_n\\u00f3_previsto\": 1, \"probabilidade_de_classe_predominante\": 1.0}, {\"x1\": -0.6, \"x2\": -0.19999999999999996, \"r\\u00f3tulo_do_n\\u00f3_previsto\": 1, \"probabilidade_de_classe_predominante\": 1.0}, {\"x1\": -0.6, \"x2\": -0.06666666666666665, \"r\\u00f3tulo_do_n\\u00f3_previsto\": 1, \"probabilidade_de_classe_predominante\": 0.9999999999946652}, {\"x1\": -0.6, \"x2\": 0.06666666666666665, \"r\\u00f3tulo_do_n\\u00f3_previsto\": 1, \"probabilidade_de_classe_predominante\": 0.9999349138737188}, {\"x1\": -0.6, \"x2\": 0.19999999999999996, \"r\\u00f3tulo_do_n\\u00f3_previsto\": 0, \"probabilidade_de_classe_predominante\": 1.0}, {\"x1\": -0.6, \"x2\": 0.33333333333333326, \"r\\u00f3tulo_do_n\\u00f3_previsto\": 0, \"probabilidade_de_classe_predominante\": 1.0}, {\"x1\": -0.6, \"x2\": 0.46666666666666656, \"r\\u00f3tulo_do_n\\u00f3_previsto\": 0, \"probabilidade_de_classe_predominante\": 1.0}, {\"x1\": -0.6, \"x2\": 0.6000000000000001, \"r\\u00f3tulo_do_n\\u00f3_previsto\": 0, \"probabilidade_de_classe_predominante\": 1.0}, {\"x1\": -0.6, \"x2\": 0.7333333333333334, \"r\\u00f3tulo_do_n\\u00f3_previsto\": 0, \"probabilidade_de_classe_predominante\": 1.0}, {\"x1\": -0.6, \"x2\": 0.8666666666666667, \"r\\u00f3tulo_do_n\\u00f3_previsto\": 0, \"probabilidade_de_classe_predominante\": 1.0}, {\"x1\": -0.6, \"x2\": 1.0, \"r\\u00f3tulo_do_n\\u00f3_previsto\": 0, \"probabilidade_de_classe_predominante\": 1.0}, {\"x1\": -0.4666666666666667, \"x2\": -1.0, \"r\\u00f3tulo_do_n\\u00f3_previsto\": 0, \"probabilidade_de_classe_predominante\": 0.9886408905741835}, {\"x1\": -0.4666666666666667, \"x2\": -0.8666666666666667, \"r\\u00f3tulo_do_n\\u00f3_previsto\": 1, \"probabilidade_de_classe_predominante\": 0.6328064068342265}, {\"x1\": -0.4666666666666667, \"x2\": -0.7333333333333334, \"r\\u00f3tulo_do_n\\u00f3_previsto\": 0, \"probabilidade_de_classe_predominante\": 1.0}, {\"x1\": -0.4666666666666667, \"x2\": -0.6, \"r\\u00f3tulo_do_n\\u00f3_previsto\": 0, \"probabilidade_de_classe_predominante\": 0.930583503880297}, {\"x1\": -0.4666666666666667, \"x2\": -0.4666666666666667, \"r\\u00f3tulo_do_n\\u00f3_previsto\": 1, \"probabilidade_de_classe_predominante\": 0.9999999648209914}, {\"x1\": -0.4666666666666667, \"x2\": -0.33333333333333337, \"r\\u00f3tulo_do_n\\u00f3_previsto\": 1, \"probabilidade_de_classe_predominante\": 0.9999999999999521}, {\"x1\": -0.4666666666666667, \"x2\": -0.19999999999999996, \"r\\u00f3tulo_do_n\\u00f3_previsto\": 1, \"probabilidade_de_classe_predominante\": 1.0}, {\"x1\": -0.4666666666666667, \"x2\": -0.06666666666666665, \"r\\u00f3tulo_do_n\\u00f3_previsto\": 1, \"probabilidade_de_classe_predominante\": 1.0}, {\"x1\": -0.4666666666666667, \"x2\": 0.06666666666666665, \"r\\u00f3tulo_do_n\\u00f3_previsto\": 1, \"probabilidade_de_classe_predominante\": 0.9999999983251867}, {\"x1\": -0.4666666666666667, \"x2\": 0.19999999999999996, \"r\\u00f3tulo_do_n\\u00f3_previsto\": 0, \"probabilidade_de_classe_predominante\": 1.0}, {\"x1\": -0.4666666666666667, \"x2\": 0.33333333333333326, \"r\\u00f3tulo_do_n\\u00f3_previsto\": 0, \"probabilidade_de_classe_predominante\": 1.0}, {\"x1\": -0.4666666666666667, \"x2\": 0.46666666666666656, \"r\\u00f3tulo_do_n\\u00f3_previsto\": 0, \"probabilidade_de_classe_predominante\": 1.0}, {\"x1\": -0.4666666666666667, \"x2\": 0.6000000000000001, \"r\\u00f3tulo_do_n\\u00f3_previsto\": 0, \"probabilidade_de_classe_predominante\": 1.0}, {\"x1\": -0.4666666666666667, \"x2\": 0.7333333333333334, \"r\\u00f3tulo_do_n\\u00f3_previsto\": 0, \"probabilidade_de_classe_predominante\": 1.0}, {\"x1\": -0.4666666666666667, \"x2\": 0.8666666666666667, \"r\\u00f3tulo_do_n\\u00f3_previsto\": 0, \"probabilidade_de_classe_predominante\": 1.0}, {\"x1\": -0.4666666666666667, \"x2\": 1.0, \"r\\u00f3tulo_do_n\\u00f3_previsto\": 0, \"probabilidade_de_classe_predominante\": 1.0}, {\"x1\": -0.33333333333333337, \"x2\": -1.0, \"r\\u00f3tulo_do_n\\u00f3_previsto\": 0, \"probabilidade_de_classe_predominante\": 0.6666636534628009}, {\"x1\": -0.33333333333333337, \"x2\": -0.8666666666666667, \"r\\u00f3tulo_do_n\\u00f3_previsto\": 1, \"probabilidade_de_classe_predominante\": 0.9985294963554867}, {\"x1\": -0.33333333333333337, \"x2\": -0.7333333333333334, \"r\\u00f3tulo_do_n\\u00f3_previsto\": 0, \"probabilidade_de_classe_predominante\": 1.0}, {\"x1\": -0.33333333333333337, \"x2\": -0.6, \"r\\u00f3tulo_do_n\\u00f3_previsto\": 0, \"probabilidade_de_classe_predominante\": 0.999991877494874}, {\"x1\": -0.33333333333333337, \"x2\": -0.4666666666666667, \"r\\u00f3tulo_do_n\\u00f3_previsto\": 1, \"probabilidade_de_classe_predominante\": 0.5012673300027245}, {\"x1\": -0.33333333333333337, \"x2\": -0.33333333333333337, \"r\\u00f3tulo_do_n\\u00f3_previsto\": 1, \"probabilidade_de_classe_predominante\": 1.0}, {\"x1\": -0.33333333333333337, \"x2\": -0.19999999999999996, \"r\\u00f3tulo_do_n\\u00f3_previsto\": 1, \"probabilidade_de_classe_predominante\": 1.0}, {\"x1\": -0.33333333333333337, \"x2\": -0.06666666666666665, \"r\\u00f3tulo_do_n\\u00f3_previsto\": 1, \"probabilidade_de_classe_predominante\": 1.0}, {\"x1\": -0.33333333333333337, \"x2\": 0.06666666666666665, \"r\\u00f3tulo_do_n\\u00f3_previsto\": 1, \"probabilidade_de_classe_predominante\": 0.9996713765392818}, {\"x1\": -0.33333333333333337, \"x2\": 0.19999999999999996, \"r\\u00f3tulo_do_n\\u00f3_previsto\": 0, \"probabilidade_de_classe_predominante\": 1.0}, {\"x1\": -0.33333333333333337, \"x2\": 0.33333333333333326, \"r\\u00f3tulo_do_n\\u00f3_previsto\": 0, \"probabilidade_de_classe_predominante\": 1.0}, {\"x1\": -0.33333333333333337, \"x2\": 0.46666666666666656, \"r\\u00f3tulo_do_n\\u00f3_previsto\": 0, \"probabilidade_de_classe_predominante\": 1.0}, {\"x1\": -0.33333333333333337, \"x2\": 0.6000000000000001, \"r\\u00f3tulo_do_n\\u00f3_previsto\": 0, \"probabilidade_de_classe_predominante\": 1.0}, {\"x1\": -0.33333333333333337, \"x2\": 0.7333333333333334, \"r\\u00f3tulo_do_n\\u00f3_previsto\": 0, \"probabilidade_de_classe_predominante\": 1.0}, {\"x1\": -0.33333333333333337, \"x2\": 0.8666666666666667, \"r\\u00f3tulo_do_n\\u00f3_previsto\": 0, \"probabilidade_de_classe_predominante\": 1.0}, {\"x1\": -0.33333333333333337, \"x2\": 1.0, \"r\\u00f3tulo_do_n\\u00f3_previsto\": 0, \"probabilidade_de_classe_predominante\": 1.0}, {\"x1\": -0.19999999999999996, \"x2\": -1.0, \"r\\u00f3tulo_do_n\\u00f3_previsto\": 0, \"probabilidade_de_classe_predominante\": 0.9999999999999942}, {\"x1\": -0.19999999999999996, \"x2\": -0.8666666666666667, \"r\\u00f3tulo_do_n\\u00f3_previsto\": 0, \"probabilidade_de_classe_predominante\": 0.9999999999980109}, {\"x1\": -0.19999999999999996, \"x2\": -0.7333333333333334, \"r\\u00f3tulo_do_n\\u00f3_previsto\": 0, \"probabilidade_de_classe_predominante\": 1.0}, {\"x1\": -0.19999999999999996, \"x2\": -0.6, \"r\\u00f3tulo_do_n\\u00f3_previsto\": 0, \"probabilidade_de_classe_predominante\": 0.9999987927112884}, {\"x1\": -0.19999999999999996, \"x2\": -0.4666666666666667, \"r\\u00f3tulo_do_n\\u00f3_previsto\": 1, \"probabilidade_de_classe_predominante\": 0.8581782635219809}, {\"x1\": -0.19999999999999996, \"x2\": -0.33333333333333337, \"r\\u00f3tulo_do_n\\u00f3_previsto\": 1, \"probabilidade_de_classe_predominante\": 1.0}, {\"x1\": -0.19999999999999996, \"x2\": -0.19999999999999996, \"r\\u00f3tulo_do_n\\u00f3_previsto\": 1, \"probabilidade_de_classe_predominante\": 1.0}, {\"x1\": -0.19999999999999996, \"x2\": -0.06666666666666665, \"r\\u00f3tulo_do_n\\u00f3_previsto\": 1, \"probabilidade_de_classe_predominante\": 1.0}, {\"x1\": -0.19999999999999996, \"x2\": 0.06666666666666665, \"r\\u00f3tulo_do_n\\u00f3_previsto\": 0, \"probabilidade_de_classe_predominante\": 0.9999059989477873}, {\"x1\": -0.19999999999999996, \"x2\": 0.19999999999999996, \"r\\u00f3tulo_do_n\\u00f3_previsto\": 0, \"probabilidade_de_classe_predominante\": 1.0}, {\"x1\": -0.19999999999999996, \"x2\": 0.33333333333333326, \"r\\u00f3tulo_do_n\\u00f3_previsto\": 0, \"probabilidade_de_classe_predominante\": 1.0}, {\"x1\": -0.19999999999999996, \"x2\": 0.46666666666666656, \"r\\u00f3tulo_do_n\\u00f3_previsto\": 0, \"probabilidade_de_classe_predominante\": 1.0}, {\"x1\": -0.19999999999999996, \"x2\": 0.6000000000000001, \"r\\u00f3tulo_do_n\\u00f3_previsto\": 0, \"probabilidade_de_classe_predominante\": 1.0}, {\"x1\": -0.19999999999999996, \"x2\": 0.7333333333333334, \"r\\u00f3tulo_do_n\\u00f3_previsto\": 0, \"probabilidade_de_classe_predominante\": 1.0}, {\"x1\": -0.19999999999999996, \"x2\": 0.8666666666666667, \"r\\u00f3tulo_do_n\\u00f3_previsto\": 0, \"probabilidade_de_classe_predominante\": 1.0}, {\"x1\": -0.19999999999999996, \"x2\": 1.0, \"r\\u00f3tulo_do_n\\u00f3_previsto\": 0, \"probabilidade_de_classe_predominante\": 1.0}, {\"x1\": -0.06666666666666665, \"x2\": -1.0, \"r\\u00f3tulo_do_n\\u00f3_previsto\": 0, \"probabilidade_de_classe_predominante\": 0.9999999999999941}, {\"x1\": -0.06666666666666665, \"x2\": -0.8666666666666667, \"r\\u00f3tulo_do_n\\u00f3_previsto\": 0, \"probabilidade_de_classe_predominante\": 0.9999999999702093}, {\"x1\": -0.06666666666666665, \"x2\": -0.7333333333333334, \"r\\u00f3tulo_do_n\\u00f3_previsto\": 0, \"probabilidade_de_classe_predominante\": 0.9976650103148704}, {\"x1\": -0.06666666666666665, \"x2\": -0.6, \"r\\u00f3tulo_do_n\\u00f3_previsto\": 1, \"probabilidade_de_classe_predominante\": 0.9999999998984821}, {\"x1\": -0.06666666666666665, \"x2\": -0.4666666666666667, \"r\\u00f3tulo_do_n\\u00f3_previsto\": 1, \"probabilidade_de_classe_predominante\": 1.0}, {\"x1\": -0.06666666666666665, \"x2\": -0.33333333333333337, \"r\\u00f3tulo_do_n\\u00f3_previsto\": 1, \"probabilidade_de_classe_predominante\": 1.0}, {\"x1\": -0.06666666666666665, \"x2\": -0.19999999999999996, \"r\\u00f3tulo_do_n\\u00f3_previsto\": 1, \"probabilidade_de_classe_predominante\": 1.0}, {\"x1\": -0.06666666666666665, \"x2\": -0.06666666666666665, \"r\\u00f3tulo_do_n\\u00f3_previsto\": 1, \"probabilidade_de_classe_predominante\": 1.0}, {\"x1\": -0.06666666666666665, \"x2\": 0.06666666666666665, \"r\\u00f3tulo_do_n\\u00f3_previsto\": 1, \"probabilidade_de_classe_predominante\": 0.999999983107669}, {\"x1\": -0.06666666666666665, \"x2\": 0.19999999999999996, \"r\\u00f3tulo_do_n\\u00f3_previsto\": 0, \"probabilidade_de_classe_predominante\": 1.0}, {\"x1\": -0.06666666666666665, \"x2\": 0.33333333333333326, \"r\\u00f3tulo_do_n\\u00f3_previsto\": 0, \"probabilidade_de_classe_predominante\": 1.0}, {\"x1\": -0.06666666666666665, \"x2\": 0.46666666666666656, \"r\\u00f3tulo_do_n\\u00f3_previsto\": 0, \"probabilidade_de_classe_predominante\": 1.0}, {\"x1\": -0.06666666666666665, \"x2\": 0.6000000000000001, \"r\\u00f3tulo_do_n\\u00f3_previsto\": 0, \"probabilidade_de_classe_predominante\": 1.0}, {\"x1\": -0.06666666666666665, \"x2\": 0.7333333333333334, \"r\\u00f3tulo_do_n\\u00f3_previsto\": 0, \"probabilidade_de_classe_predominante\": 1.0}, {\"x1\": -0.06666666666666665, \"x2\": 0.8666666666666667, \"r\\u00f3tulo_do_n\\u00f3_previsto\": 0, \"probabilidade_de_classe_predominante\": 1.0}, {\"x1\": -0.06666666666666665, \"x2\": 1.0, \"r\\u00f3tulo_do_n\\u00f3_previsto\": 0, \"probabilidade_de_classe_predominante\": 1.0}, {\"x1\": 0.06666666666666665, \"x2\": -1.0, \"r\\u00f3tulo_do_n\\u00f3_previsto\": 1, \"probabilidade_de_classe_predominante\": 1.0}, {\"x1\": 0.06666666666666665, \"x2\": -0.8666666666666667, \"r\\u00f3tulo_do_n\\u00f3_previsto\": 1, \"probabilidade_de_classe_predominante\": 0.9999999999999929}, {\"x1\": 0.06666666666666665, \"x2\": -0.7333333333333334, \"r\\u00f3tulo_do_n\\u00f3_previsto\": 1, \"probabilidade_de_classe_predominante\": 0.9902529375250524}, {\"x1\": 0.06666666666666665, \"x2\": -0.6, \"r\\u00f3tulo_do_n\\u00f3_previsto\": 1, \"probabilidade_de_classe_predominante\": 1.0}, {\"x1\": 0.06666666666666665, \"x2\": -0.4666666666666667, \"r\\u00f3tulo_do_n\\u00f3_previsto\": 1, \"probabilidade_de_classe_predominante\": 1.0}, {\"x1\": 0.06666666666666665, \"x2\": -0.33333333333333337, \"r\\u00f3tulo_do_n\\u00f3_previsto\": 1, \"probabilidade_de_classe_predominante\": 1.0}, {\"x1\": 0.06666666666666665, \"x2\": -0.19999999999999996, \"r\\u00f3tulo_do_n\\u00f3_previsto\": 1, \"probabilidade_de_classe_predominante\": 1.0}, {\"x1\": 0.06666666666666665, \"x2\": -0.06666666666666665, \"r\\u00f3tulo_do_n\\u00f3_previsto\": 1, \"probabilidade_de_classe_predominante\": 1.0}, {\"x1\": 0.06666666666666665, \"x2\": 0.06666666666666665, \"r\\u00f3tulo_do_n\\u00f3_previsto\": 1, \"probabilidade_de_classe_predominante\": 1.0}, {\"x1\": 0.06666666666666665, \"x2\": 0.19999999999999996, \"r\\u00f3tulo_do_n\\u00f3_previsto\": 0, \"probabilidade_de_classe_predominante\": 1.0}, {\"x1\": 0.06666666666666665, \"x2\": 0.33333333333333326, \"r\\u00f3tulo_do_n\\u00f3_previsto\": 0, \"probabilidade_de_classe_predominante\": 1.0}, {\"x1\": 0.06666666666666665, \"x2\": 0.46666666666666656, \"r\\u00f3tulo_do_n\\u00f3_previsto\": 0, \"probabilidade_de_classe_predominante\": 1.0}, {\"x1\": 0.06666666666666665, \"x2\": 0.6000000000000001, \"r\\u00f3tulo_do_n\\u00f3_previsto\": 0, \"probabilidade_de_classe_predominante\": 1.0}, {\"x1\": 0.06666666666666665, \"x2\": 0.7333333333333334, \"r\\u00f3tulo_do_n\\u00f3_previsto\": 0, \"probabilidade_de_classe_predominante\": 1.0}, {\"x1\": 0.06666666666666665, \"x2\": 0.8666666666666667, \"r\\u00f3tulo_do_n\\u00f3_previsto\": 0, \"probabilidade_de_classe_predominante\": 1.0}, {\"x1\": 0.06666666666666665, \"x2\": 1.0, \"r\\u00f3tulo_do_n\\u00f3_previsto\": 0, \"probabilidade_de_classe_predominante\": 1.0}, {\"x1\": 0.19999999999999996, \"x2\": -1.0, \"r\\u00f3tulo_do_n\\u00f3_previsto\": 1, \"probabilidade_de_classe_predominante\": 1.0}, {\"x1\": 0.19999999999999996, \"x2\": -0.8666666666666667, \"r\\u00f3tulo_do_n\\u00f3_previsto\": 1, \"probabilidade_de_classe_predominante\": 1.0}, {\"x1\": 0.19999999999999996, \"x2\": -0.7333333333333334, \"r\\u00f3tulo_do_n\\u00f3_previsto\": 1, \"probabilidade_de_classe_predominante\": 1.0}, {\"x1\": 0.19999999999999996, \"x2\": -0.6, \"r\\u00f3tulo_do_n\\u00f3_previsto\": 1, \"probabilidade_de_classe_predominante\": 1.0}, {\"x1\": 0.19999999999999996, \"x2\": -0.4666666666666667, \"r\\u00f3tulo_do_n\\u00f3_previsto\": 1, \"probabilidade_de_classe_predominante\": 1.0}, {\"x1\": 0.19999999999999996, \"x2\": -0.33333333333333337, \"r\\u00f3tulo_do_n\\u00f3_previsto\": 1, \"probabilidade_de_classe_predominante\": 1.0}, {\"x1\": 0.19999999999999996, \"x2\": -0.19999999999999996, \"r\\u00f3tulo_do_n\\u00f3_previsto\": 1, \"probabilidade_de_classe_predominante\": 1.0}, {\"x1\": 0.19999999999999996, \"x2\": -0.06666666666666665, \"r\\u00f3tulo_do_n\\u00f3_previsto\": 1, \"probabilidade_de_classe_predominante\": 1.0}, {\"x1\": 0.19999999999999996, \"x2\": 0.06666666666666665, \"r\\u00f3tulo_do_n\\u00f3_previsto\": 1, \"probabilidade_de_classe_predominante\": 1.0}, {\"x1\": 0.19999999999999996, \"x2\": 0.19999999999999996, \"r\\u00f3tulo_do_n\\u00f3_previsto\": 1, \"probabilidade_de_classe_predominante\": 0.9999999940059774}, {\"x1\": 0.19999999999999996, \"x2\": 0.33333333333333326, \"r\\u00f3tulo_do_n\\u00f3_previsto\": 1, \"probabilidade_de_classe_predominante\": 0.9999999577888831}, {\"x1\": 0.19999999999999996, \"x2\": 0.46666666666666656, \"r\\u00f3tulo_do_n\\u00f3_previsto\": 1, \"probabilidade_de_classe_predominante\": 0.973449428979125}, {\"x1\": 0.19999999999999996, \"x2\": 0.6000000000000001, \"r\\u00f3tulo_do_n\\u00f3_previsto\": 0, \"probabilidade_de_classe_predominante\": 0.9999999954007519}, {\"x1\": 0.19999999999999996, \"x2\": 0.7333333333333334, \"r\\u00f3tulo_do_n\\u00f3_previsto\": 0, \"probabilidade_de_classe_predominante\": 1.0}, {\"x1\": 0.19999999999999996, \"x2\": 0.8666666666666667, \"r\\u00f3tulo_do_n\\u00f3_previsto\": 0, \"probabilidade_de_classe_predominante\": 0.9984941837965529}, {\"x1\": 0.19999999999999996, \"x2\": 1.0, \"r\\u00f3tulo_do_n\\u00f3_previsto\": 1, \"probabilidade_de_classe_predominante\": 1.0}, {\"x1\": 0.33333333333333326, \"x2\": -1.0, \"r\\u00f3tulo_do_n\\u00f3_previsto\": 0, \"probabilidade_de_classe_predominante\": 0.6666668730226248}, {\"x1\": 0.33333333333333326, \"x2\": -0.8666666666666667, \"r\\u00f3tulo_do_n\\u00f3_previsto\": 1, \"probabilidade_de_classe_predominante\": 1.0}, {\"x1\": 0.33333333333333326, \"x2\": -0.7333333333333334, \"r\\u00f3tulo_do_n\\u00f3_previsto\": 1, \"probabilidade_de_classe_predominante\": 1.0}, {\"x1\": 0.33333333333333326, \"x2\": -0.6, \"r\\u00f3tulo_do_n\\u00f3_previsto\": 1, \"probabilidade_de_classe_predominante\": 1.0}, {\"x1\": 0.33333333333333326, \"x2\": -0.4666666666666667, \"r\\u00f3tulo_do_n\\u00f3_previsto\": 1, \"probabilidade_de_classe_predominante\": 0.9999902163199288}, {\"x1\": 0.33333333333333326, \"x2\": -0.33333333333333337, \"r\\u00f3tulo_do_n\\u00f3_previsto\": 0, \"probabilidade_de_classe_predominante\": 0.999981680216289}, {\"x1\": 0.33333333333333326, \"x2\": -0.19999999999999996, \"r\\u00f3tulo_do_n\\u00f3_previsto\": 1, \"probabilidade_de_classe_predominante\": 1.0}, {\"x1\": 0.33333333333333326, \"x2\": -0.06666666666666665, \"r\\u00f3tulo_do_n\\u00f3_previsto\": 1, \"probabilidade_de_classe_predominante\": 1.0}, {\"x1\": 0.33333333333333326, \"x2\": 0.06666666666666665, \"r\\u00f3tulo_do_n\\u00f3_previsto\": 1, \"probabilidade_de_classe_predominante\": 1.0}, {\"x1\": 0.33333333333333326, \"x2\": 0.19999999999999996, \"r\\u00f3tulo_do_n\\u00f3_previsto\": 1, \"probabilidade_de_classe_predominante\": 1.0}, {\"x1\": 0.33333333333333326, \"x2\": 0.33333333333333326, \"r\\u00f3tulo_do_n\\u00f3_previsto\": 1, \"probabilidade_de_classe_predominante\": 1.0}, {\"x1\": 0.33333333333333326, \"x2\": 0.46666666666666656, \"r\\u00f3tulo_do_n\\u00f3_previsto\": 1, \"probabilidade_de_classe_predominante\": 1.0}, {\"x1\": 0.33333333333333326, \"x2\": 0.6000000000000001, \"r\\u00f3tulo_do_n\\u00f3_previsto\": 1, \"probabilidade_de_classe_predominante\": 1.0}, {\"x1\": 0.33333333333333326, \"x2\": 0.7333333333333334, \"r\\u00f3tulo_do_n\\u00f3_previsto\": 1, \"probabilidade_de_classe_predominante\": 0.9999999993892504}, {\"x1\": 0.33333333333333326, \"x2\": 0.8666666666666667, \"r\\u00f3tulo_do_n\\u00f3_previsto\": 1, \"probabilidade_de_classe_predominante\": 1.0}, {\"x1\": 0.33333333333333326, \"x2\": 1.0, \"r\\u00f3tulo_do_n\\u00f3_previsto\": 1, \"probabilidade_de_classe_predominante\": 1.0}, {\"x1\": 0.46666666666666656, \"x2\": -1.0, \"r\\u00f3tulo_do_n\\u00f3_previsto\": 0, \"probabilidade_de_classe_predominante\": 0.9999981939220425}, {\"x1\": 0.46666666666666656, \"x2\": -0.8666666666666667, \"r\\u00f3tulo_do_n\\u00f3_previsto\": 1, \"probabilidade_de_classe_predominante\": 0.9999971738618499}, {\"x1\": 0.46666666666666656, \"x2\": -0.7333333333333334, \"r\\u00f3tulo_do_n\\u00f3_previsto\": 1, \"probabilidade_de_classe_predominante\": 1.0}, {\"x1\": 0.46666666666666656, \"x2\": -0.6, \"r\\u00f3tulo_do_n\\u00f3_previsto\": 1, \"probabilidade_de_classe_predominante\": 0.9999999999996699}, {\"x1\": 0.46666666666666656, \"x2\": -0.4666666666666667, \"r\\u00f3tulo_do_n\\u00f3_previsto\": 0, \"probabilidade_de_classe_predominante\": 1.0}, {\"x1\": 0.46666666666666656, \"x2\": -0.33333333333333337, \"r\\u00f3tulo_do_n\\u00f3_previsto\": 0, \"probabilidade_de_classe_predominante\": 1.0}, {\"x1\": 0.46666666666666656, \"x2\": -0.19999999999999996, \"r\\u00f3tulo_do_n\\u00f3_previsto\": 0, \"probabilidade_de_classe_predominante\": 0.9999999999999987}, {\"x1\": 0.46666666666666656, \"x2\": -0.06666666666666665, \"r\\u00f3tulo_do_n\\u00f3_previsto\": 1, \"probabilidade_de_classe_predominante\": 1.0}, {\"x1\": 0.46666666666666656, \"x2\": 0.06666666666666665, \"r\\u00f3tulo_do_n\\u00f3_previsto\": 0, \"probabilidade_de_classe_predominante\": 0.9999998270452864}, {\"x1\": 0.46666666666666656, \"x2\": 0.19999999999999996, \"r\\u00f3tulo_do_n\\u00f3_previsto\": 0, \"probabilidade_de_classe_predominante\": 1.0}, {\"x1\": 0.46666666666666656, \"x2\": 0.33333333333333326, \"r\\u00f3tulo_do_n\\u00f3_previsto\": 0, \"probabilidade_de_classe_predominante\": 1.0}, {\"x1\": 0.46666666666666656, \"x2\": 0.46666666666666656, \"r\\u00f3tulo_do_n\\u00f3_previsto\": 0, \"probabilidade_de_classe_predominante\": 1.0}, {\"x1\": 0.46666666666666656, \"x2\": 0.6000000000000001, \"r\\u00f3tulo_do_n\\u00f3_previsto\": 0, \"probabilidade_de_classe_predominante\": 1.0}, {\"x1\": 0.46666666666666656, \"x2\": 0.7333333333333334, \"r\\u00f3tulo_do_n\\u00f3_previsto\": 0, \"probabilidade_de_classe_predominante\": 1.0}, {\"x1\": 0.46666666666666656, \"x2\": 0.8666666666666667, \"r\\u00f3tulo_do_n\\u00f3_previsto\": 0, \"probabilidade_de_classe_predominante\": 0.9995857987421659}, {\"x1\": 0.46666666666666656, \"x2\": 1.0, \"r\\u00f3tulo_do_n\\u00f3_previsto\": 1, \"probabilidade_de_classe_predominante\": 1.0}, {\"x1\": 0.6000000000000001, \"x2\": -1.0, \"r\\u00f3tulo_do_n\\u00f3_previsto\": 0, \"probabilidade_de_classe_predominante\": 0.9999999999999668}, {\"x1\": 0.6000000000000001, \"x2\": -0.8666666666666667, \"r\\u00f3tulo_do_n\\u00f3_previsto\": 0, \"probabilidade_de_classe_predominante\": 0.9999991559654802}, {\"x1\": 0.6000000000000001, \"x2\": -0.7333333333333334, \"r\\u00f3tulo_do_n\\u00f3_previsto\": 1, \"probabilidade_de_classe_predominante\": 0.9999999999998326}, {\"x1\": 0.6000000000000001, \"x2\": -0.6, \"r\\u00f3tulo_do_n\\u00f3_previsto\": 0, \"probabilidade_de_classe_predominante\": 0.9999993050021142}, {\"x1\": 0.6000000000000001, \"x2\": -0.4666666666666667, \"r\\u00f3tulo_do_n\\u00f3_previsto\": 0, \"probabilidade_de_classe_predominante\": 1.0}, {\"x1\": 0.6000000000000001, \"x2\": -0.33333333333333337, \"r\\u00f3tulo_do_n\\u00f3_previsto\": 0, \"probabilidade_de_classe_predominante\": 1.0}, {\"x1\": 0.6000000000000001, \"x2\": -0.19999999999999996, \"r\\u00f3tulo_do_n\\u00f3_previsto\": 0, \"probabilidade_de_classe_predominante\": 1.0}, {\"x1\": 0.6000000000000001, \"x2\": -0.06666666666666665, \"r\\u00f3tulo_do_n\\u00f3_previsto\": 0, \"probabilidade_de_classe_predominante\": 1.0}, {\"x1\": 0.6000000000000001, \"x2\": 0.06666666666666665, \"r\\u00f3tulo_do_n\\u00f3_previsto\": 0, \"probabilidade_de_classe_predominante\": 1.0}, {\"x1\": 0.6000000000000001, \"x2\": 0.19999999999999996, \"r\\u00f3tulo_do_n\\u00f3_previsto\": 0, \"probabilidade_de_classe_predominante\": 1.0}, {\"x1\": 0.6000000000000001, \"x2\": 0.33333333333333326, \"r\\u00f3tulo_do_n\\u00f3_previsto\": 0, \"probabilidade_de_classe_predominante\": 1.0}, {\"x1\": 0.6000000000000001, \"x2\": 0.46666666666666656, \"r\\u00f3tulo_do_n\\u00f3_previsto\": 0, \"probabilidade_de_classe_predominante\": 1.0}, {\"x1\": 0.6000000000000001, \"x2\": 0.6000000000000001, \"r\\u00f3tulo_do_n\\u00f3_previsto\": 0, \"probabilidade_de_classe_predominante\": 1.0}, {\"x1\": 0.6000000000000001, \"x2\": 0.7333333333333334, \"r\\u00f3tulo_do_n\\u00f3_previsto\": 0, \"probabilidade_de_classe_predominante\": 1.0}, {\"x1\": 0.6000000000000001, \"x2\": 0.8666666666666667, \"r\\u00f3tulo_do_n\\u00f3_previsto\": 0, \"probabilidade_de_classe_predominante\": 1.0}, {\"x1\": 0.6000000000000001, \"x2\": 1.0, \"r\\u00f3tulo_do_n\\u00f3_previsto\": 1, \"probabilidade_de_classe_predominante\": 0.9999999769745016}, {\"x1\": 0.7333333333333334, \"x2\": -1.0, \"r\\u00f3tulo_do_n\\u00f3_previsto\": 0, \"probabilidade_de_classe_predominante\": 1.0}, {\"x1\": 0.7333333333333334, \"x2\": -0.8666666666666667, \"r\\u00f3tulo_do_n\\u00f3_previsto\": 0, \"probabilidade_de_classe_predominante\": 0.9999999999999961}, {\"x1\": 0.7333333333333334, \"x2\": -0.7333333333333334, \"r\\u00f3tulo_do_n\\u00f3_previsto\": 0, \"probabilidade_de_classe_predominante\": 0.9679944719524023}, {\"x1\": 0.7333333333333334, \"x2\": -0.6, \"r\\u00f3tulo_do_n\\u00f3_previsto\": 1, \"probabilidade_de_classe_predominante\": 1.0}, {\"x1\": 0.7333333333333334, \"x2\": -0.4666666666666667, \"r\\u00f3tulo_do_n\\u00f3_previsto\": 1, \"probabilidade_de_classe_predominante\": 0.9999999998991985}, {\"x1\": 0.7333333333333334, \"x2\": -0.33333333333333337, \"r\\u00f3tulo_do_n\\u00f3_previsto\": 1, \"probabilidade_de_classe_predominante\": 0.9999999999994282}, {\"x1\": 0.7333333333333334, \"x2\": -0.19999999999999996, \"r\\u00f3tulo_do_n\\u00f3_previsto\": 1, \"probabilidade_de_classe_predominante\": 1.0}, {\"x1\": 0.7333333333333334, \"x2\": -0.06666666666666665, \"r\\u00f3tulo_do_n\\u00f3_previsto\": 0, \"probabilidade_de_classe_predominante\": 1.0}, {\"x1\": 0.7333333333333334, \"x2\": 0.06666666666666665, \"r\\u00f3tulo_do_n\\u00f3_previsto\": 0, \"probabilidade_de_classe_predominante\": 1.0}, {\"x1\": 0.7333333333333334, \"x2\": 0.19999999999999996, \"r\\u00f3tulo_do_n\\u00f3_previsto\": 0, \"probabilidade_de_classe_predominante\": 1.0}, {\"x1\": 0.7333333333333334, \"x2\": 0.33333333333333326, \"r\\u00f3tulo_do_n\\u00f3_previsto\": 0, \"probabilidade_de_classe_predominante\": 1.0}, {\"x1\": 0.7333333333333334, \"x2\": 0.46666666666666656, \"r\\u00f3tulo_do_n\\u00f3_previsto\": 0, \"probabilidade_de_classe_predominante\": 1.0}, {\"x1\": 0.7333333333333334, \"x2\": 0.6000000000000001, \"r\\u00f3tulo_do_n\\u00f3_previsto\": 0, \"probabilidade_de_classe_predominante\": 1.0}, {\"x1\": 0.7333333333333334, \"x2\": 0.7333333333333334, \"r\\u00f3tulo_do_n\\u00f3_previsto\": 0, \"probabilidade_de_classe_predominante\": 1.0}, {\"x1\": 0.7333333333333334, \"x2\": 0.8666666666666667, \"r\\u00f3tulo_do_n\\u00f3_previsto\": 0, \"probabilidade_de_classe_predominante\": 1.0}, {\"x1\": 0.7333333333333334, \"x2\": 1.0, \"r\\u00f3tulo_do_n\\u00f3_previsto\": 0, \"probabilidade_de_classe_predominante\": 1.0}, {\"x1\": 0.8666666666666667, \"x2\": -1.0, \"r\\u00f3tulo_do_n\\u00f3_previsto\": 0, \"probabilidade_de_classe_predominante\": 1.0}, {\"x1\": 0.8666666666666667, \"x2\": -0.8666666666666667, \"r\\u00f3tulo_do_n\\u00f3_previsto\": 0, \"probabilidade_de_classe_predominante\": 1.0}, {\"x1\": 0.8666666666666667, \"x2\": -0.7333333333333334, \"r\\u00f3tulo_do_n\\u00f3_previsto\": 1, \"probabilidade_de_classe_predominante\": 0.9999999990429362}, {\"x1\": 0.8666666666666667, \"x2\": -0.6, \"r\\u00f3tulo_do_n\\u00f3_previsto\": 1, \"probabilidade_de_classe_predominante\": 1.0}, {\"x1\": 0.8666666666666667, \"x2\": -0.4666666666666667, \"r\\u00f3tulo_do_n\\u00f3_previsto\": 1, \"probabilidade_de_classe_predominante\": 1.0}, {\"x1\": 0.8666666666666667, \"x2\": -0.33333333333333337, \"r\\u00f3tulo_do_n\\u00f3_previsto\": 1, \"probabilidade_de_classe_predominante\": 1.0}, {\"x1\": 0.8666666666666667, \"x2\": -0.19999999999999996, \"r\\u00f3tulo_do_n\\u00f3_previsto\": 1, \"probabilidade_de_classe_predominante\": 1.0}, {\"x1\": 0.8666666666666667, \"x2\": -0.06666666666666665, \"r\\u00f3tulo_do_n\\u00f3_previsto\": 1, \"probabilidade_de_classe_predominante\": 0.9999999999999218}, {\"x1\": 0.8666666666666667, \"x2\": 0.06666666666666665, \"r\\u00f3tulo_do_n\\u00f3_previsto\": 1, \"probabilidade_de_classe_predominante\": 1.0}, {\"x1\": 0.8666666666666667, \"x2\": 0.19999999999999996, \"r\\u00f3tulo_do_n\\u00f3_previsto\": 1, \"probabilidade_de_classe_predominante\": 1.0}, {\"x1\": 0.8666666666666667, \"x2\": 0.33333333333333326, \"r\\u00f3tulo_do_n\\u00f3_previsto\": 0, \"probabilidade_de_classe_predominante\": 0.9992593347775893}, {\"x1\": 0.8666666666666667, \"x2\": 0.46666666666666656, \"r\\u00f3tulo_do_n\\u00f3_previsto\": 0, \"probabilidade_de_classe_predominante\": 1.0}, {\"x1\": 0.8666666666666667, \"x2\": 0.6000000000000001, \"r\\u00f3tulo_do_n\\u00f3_previsto\": 0, \"probabilidade_de_classe_predominante\": 1.0}, {\"x1\": 0.8666666666666667, \"x2\": 0.7333333333333334, \"r\\u00f3tulo_do_n\\u00f3_previsto\": 0, \"probabilidade_de_classe_predominante\": 1.0}, {\"x1\": 0.8666666666666667, \"x2\": 0.8666666666666667, \"r\\u00f3tulo_do_n\\u00f3_previsto\": 0, \"probabilidade_de_classe_predominante\": 1.0}, {\"x1\": 0.8666666666666667, \"x2\": 1.0, \"r\\u00f3tulo_do_n\\u00f3_previsto\": 0, \"probabilidade_de_classe_predominante\": 1.0}, {\"x1\": 1.0, \"x2\": -1.0, \"r\\u00f3tulo_do_n\\u00f3_previsto\": 1, \"probabilidade_de_classe_predominante\": 0.9999999999999993}, {\"x1\": 1.0, \"x2\": -0.8666666666666667, \"r\\u00f3tulo_do_n\\u00f3_previsto\": 1, \"probabilidade_de_classe_predominante\": 1.0}, {\"x1\": 1.0, \"x2\": -0.7333333333333334, \"r\\u00f3tulo_do_n\\u00f3_previsto\": 1, \"probabilidade_de_classe_predominante\": 1.0}, {\"x1\": 1.0, \"x2\": -0.6, \"r\\u00f3tulo_do_n\\u00f3_previsto\": 1, \"probabilidade_de_classe_predominante\": 1.0}, {\"x1\": 1.0, \"x2\": -0.4666666666666667, \"r\\u00f3tulo_do_n\\u00f3_previsto\": 1, \"probabilidade_de_classe_predominante\": 1.0}, {\"x1\": 1.0, \"x2\": -0.33333333333333337, \"r\\u00f3tulo_do_n\\u00f3_previsto\": 1, \"probabilidade_de_classe_predominante\": 1.0}, {\"x1\": 1.0, \"x2\": -0.19999999999999996, \"r\\u00f3tulo_do_n\\u00f3_previsto\": 1, \"probabilidade_de_classe_predominante\": 1.0}, {\"x1\": 1.0, \"x2\": -0.06666666666666665, \"r\\u00f3tulo_do_n\\u00f3_previsto\": 1, \"probabilidade_de_classe_predominante\": 1.0}, {\"x1\": 1.0, \"x2\": 0.06666666666666665, \"r\\u00f3tulo_do_n\\u00f3_previsto\": 1, \"probabilidade_de_classe_predominante\": 1.0}, {\"x1\": 1.0, \"x2\": 0.19999999999999996, \"r\\u00f3tulo_do_n\\u00f3_previsto\": 1, \"probabilidade_de_classe_predominante\": 1.0}, {\"x1\": 1.0, \"x2\": 0.33333333333333326, \"r\\u00f3tulo_do_n\\u00f3_previsto\": 1, \"probabilidade_de_classe_predominante\": 0.8000000000682573}, {\"x1\": 1.0, \"x2\": 0.46666666666666656, \"r\\u00f3tulo_do_n\\u00f3_previsto\": 0, \"probabilidade_de_classe_predominante\": 0.9999999999536826}, {\"x1\": 1.0, \"x2\": 0.6000000000000001, \"r\\u00f3tulo_do_n\\u00f3_previsto\": 0, \"probabilidade_de_classe_predominante\": 1.0}, {\"x1\": 1.0, \"x2\": 0.7333333333333334, \"r\\u00f3tulo_do_n\\u00f3_previsto\": 0, \"probabilidade_de_classe_predominante\": 1.0}, {\"x1\": 1.0, \"x2\": 0.8666666666666667, \"r\\u00f3tulo_do_n\\u00f3_previsto\": 0, \"probabilidade_de_classe_predominante\": 1.0}, {\"x1\": 1.0, \"x2\": 1.0, \"r\\u00f3tulo_do_n\\u00f3_previsto\": 0, \"probabilidade_de_classe_predominante\": 1.0}]}}, {\"mode\": \"vega-lite\"});\n",
       "</script>"
      ],
      "text/plain": [
       "alt.Chart(...)"
      ]
     },
     "execution_count": 11,
     "metadata": {},
     "output_type": "execute_result"
    }
   ],
   "source": [
    "# optional preprocessing\n",
    "dfclassmap = pd.DataFrame(gtm_best.optimizedModel.matX, columns=[\"x1\", \"x2\"])\n",
    "dfclassmap[\"rótulo_do_nó_previsto\"] = gtm_best.node_label\n",
    "dfclassmap[\"probabilidade_de_classe_predominante\"] = np.max(gtm_best.node_probabilities,axis=1)\n",
    "\n",
    "# Classification map\n",
    "alt.Chart(dfclassmap).mark_square().encode(\n",
    "    x='x1',\n",
    "    y='x2',\n",
    "    color='rótulo_do_nó_previsto:N',\n",
    "    size=alt.value(50),\n",
    "    opacity='probabilidade_de_classe_predominante:Q',\n",
    "    tooltip=['x1','x2', 'rótulo_do_nó_previsto:N', 'probabilidade_de_classe_predominante:Q']\n",
    ").properties(title = \"Mapa das Classes\", width = 200, height = 200)"
   ]
  },
  {
   "cell_type": "markdown",
   "metadata": {},
   "source": [
    "##### Plot maps hand-written digits"
   ]
  },
  {
   "cell_type": "code",
   "execution_count": 17,
   "metadata": {},
   "outputs": [
    {
     "data": {
      "text/html": [
       "\n",
       "<div id=\"altair-viz-14b078a355904f2c99c5cfcec11758c3\"></div>\n",
       "<script type=\"text/javascript\">\n",
       "  (function(spec, embedOpt){\n",
       "    let outputDiv = document.currentScript.previousElementSibling;\n",
       "    if (outputDiv.id !== \"altair-viz-14b078a355904f2c99c5cfcec11758c3\") {\n",
       "      outputDiv = document.getElementById(\"altair-viz-14b078a355904f2c99c5cfcec11758c3\");\n",
       "    }\n",
       "    const paths = {\n",
       "      \"vega\": \"https://cdn.jsdelivr.net/npm//vega@5?noext\",\n",
       "      \"vega-lib\": \"https://cdn.jsdelivr.net/npm//vega-lib?noext\",\n",
       "      \"vega-lite\": \"https://cdn.jsdelivr.net/npm//vega-lite@4.8.1?noext\",\n",
       "      \"vega-embed\": \"https://cdn.jsdelivr.net/npm//vega-embed@6?noext\",\n",
       "    };\n",
       "\n",
       "    function loadScript(lib) {\n",
       "      return new Promise(function(resolve, reject) {\n",
       "        var s = document.createElement('script');\n",
       "        s.src = paths[lib];\n",
       "        s.async = true;\n",
       "        s.onload = () => resolve(paths[lib]);\n",
       "        s.onerror = () => reject(`Error loading script: ${paths[lib]}`);\n",
       "        document.getElementsByTagName(\"head\")[0].appendChild(s);\n",
       "      });\n",
       "    }\n",
       "\n",
       "    function showError(err) {\n",
       "      outputDiv.innerHTML = `<div class=\"error\" style=\"color:red;\">${err}</div>`;\n",
       "      throw err;\n",
       "    }\n",
       "\n",
       "    function displayChart(vegaEmbed) {\n",
       "      vegaEmbed(outputDiv, spec, embedOpt)\n",
       "        .catch(err => showError(`Javascript Error: ${err.message}<br>This usually means there's a typo in your chart specification. See the javascript console for the full traceback.`));\n",
       "    }\n",
       "\n",
       "    if(typeof define === \"function\" && define.amd) {\n",
       "      requirejs.config({paths});\n",
       "      require([\"vega-embed\"], displayChart, err => showError(`Error loading script: ${err.message}`));\n",
       "    } else if (typeof vegaEmbed === \"function\") {\n",
       "      displayChart(vegaEmbed);\n",
       "    } else {\n",
       "      loadScript(\"vega\")\n",
       "        .then(() => loadScript(\"vega-lite\"))\n",
       "        .then(() => loadScript(\"vega-embed\"))\n",
       "        .catch(showError)\n",
       "        .then(() => displayChart(vegaEmbed));\n",
       "    }\n",
       "  })({\"config\": {\"view\": {\"continuousWidth\": 400, \"continuousHeight\": 300}}, \"vconcat\": [{\"hconcat\": [{\"data\": {\"name\": \"data-77c10036fc49548cb7b01accf42add07\"}, \"mark\": \"circle\", \"encoding\": {\"color\": {\"type\": \"nominal\", \"field\": \"label\", \"scale\": {\"scheme\": \"viridis\"}}, \"size\": {\"value\": 50}, \"tooltip\": [{\"type\": \"quantitative\", \"field\": \"x1\"}, {\"type\": \"quantitative\", \"field\": \"x2\"}, {\"type\": \"nominal\", \"field\": \"label\"}], \"x\": {\"type\": \"quantitative\", \"field\": \"x1\"}, \"y\": {\"type\": \"quantitative\", \"field\": \"x2\"}}, \"height\": 100, \"title\": \"GTM (means)\", \"width\": 100}, {\"data\": {\"name\": \"data-dbc831225bd7e4c52a44f4ddad3e8cbd\"}, \"mark\": \"circle\", \"encoding\": {\"color\": {\"type\": \"nominal\", \"field\": \"label\", \"scale\": {\"scheme\": \"viridis\"}}, \"size\": {\"value\": 50}, \"tooltip\": [{\"type\": \"quantitative\", \"field\": \"x1\"}, {\"type\": \"quantitative\", \"field\": \"x2\"}, {\"type\": \"nominal\", \"field\": \"label\"}], \"x\": {\"type\": \"quantitative\", \"field\": \"x1\"}, \"y\": {\"type\": \"quantitative\", \"field\": \"x2\"}}, \"height\": 100, \"title\": \"GTM (modes)\", \"width\": 100}, {\"data\": {\"name\": \"data-d4a744cdf96706e81ca6003fd4afbe05\"}, \"mark\": \"square\", \"encoding\": {\"color\": {\"type\": \"nominal\", \"field\": \"label\", \"scale\": {\"scheme\": \"viridis\"}}, \"size\": {\"value\": 50}, \"tooltip\": [{\"type\": \"quantitative\", \"field\": \"x1\"}, {\"type\": \"quantitative\", \"field\": \"x2\"}, {\"type\": \"nominal\", \"field\": \"label\"}], \"x\": {\"type\": \"quantitative\", \"field\": \"x1\"}, \"y\": {\"type\": \"quantitative\", \"field\": \"x2\"}}, \"height\": 100, \"title\": \"GTM class map\", \"width\": 100}]}, {\"hconcat\": [{\"data\": {\"name\": \"data-4c4ca0e2bb3e6338a8b72f6a835e9d4a\"}, \"mark\": \"circle\", \"encoding\": {\"color\": {\"type\": \"nominal\", \"field\": \"label\", \"scale\": {\"scheme\": \"viridis\"}}, \"size\": {\"value\": 50}, \"tooltip\": [{\"type\": \"quantitative\", \"field\": \"x1\"}, {\"type\": \"quantitative\", \"field\": \"x2\"}, {\"type\": \"nominal\", \"field\": \"label\"}], \"x\": {\"type\": \"quantitative\", \"field\": \"x1\"}, \"y\": {\"type\": \"quantitative\", \"field\": \"x2\"}}, \"height\": 100, \"title\": \"t-SNE\", \"width\": 100}, {\"data\": {\"name\": \"data-2c32998162b6d6022e51d59fb4987a57\"}, \"mark\": \"circle\", \"encoding\": {\"color\": {\"type\": \"nominal\", \"field\": \"label\", \"scale\": {\"scheme\": \"viridis\"}}, \"size\": {\"value\": 50}, \"tooltip\": [{\"type\": \"quantitative\", \"field\": \"x1\"}, {\"type\": \"quantitative\", \"field\": \"x2\"}, {\"type\": \"nominal\", \"field\": \"label\"}], \"x\": {\"type\": \"quantitative\", \"field\": \"x1\"}, \"y\": {\"type\": \"quantitative\", \"field\": \"x2\"}}, \"height\": 100, \"title\": \"MDS\", \"width\": 100}, {\"data\": {\"name\": \"data-6b920584e1b2475086ff0a17e80c8c22\"}, \"mark\": \"circle\", \"encoding\": {\"color\": {\"type\": \"nominal\", \"field\": \"label\", \"scale\": {\"scheme\": \"viridis\"}}, \"size\": {\"value\": 50}, \"tooltip\": [{\"type\": \"quantitative\", \"field\": \"x1\"}, {\"type\": \"quantitative\", \"field\": \"x2\"}, {\"type\": \"nominal\", \"field\": \"label\"}], \"x\": {\"type\": \"quantitative\", \"field\": \"x1\"}, \"y\": {\"type\": \"quantitative\", \"field\": \"x2\"}}, \"height\": 100, \"title\": \"LLE\", \"width\": 100}]}], \"$schema\": \"https://vega.github.io/schema/vega-lite/v4.8.1.json\", \"datasets\": {\"data-77c10036fc49548cb7b01accf42add07\": [{\"x1\": 0.6000000000000001, \"x2\": 0.06666666666666665, \"label\": 0}, {\"x1\": -0.19999999999999996, \"x2\": -0.19999999999999996, \"label\": 1}, {\"x1\": 1.0, \"x2\": 0.1999999999999997, \"label\": 1}, {\"x1\": -0.19999999999999996, \"x2\": 0.8666666666666667, \"label\": 0}, {\"x1\": -0.6, \"x2\": 0.2000000001060118, \"label\": 1}, {\"x1\": -1.0, \"x2\": -0.19999999999999996, \"label\": 0}, {\"x1\": 1.0, \"x2\": 0.333333333333333, \"label\": 1}, {\"x1\": -0.33333333333333337, \"x2\": -0.33333333333333337, \"label\": 0}, {\"x1\": -0.19999999999999996, \"x2\": 0.8666666666666667, \"label\": 0}, {\"x1\": 1.0, \"x2\": 0.6000000000000001, \"label\": 1}, {\"x1\": -0.8666666666666667, \"x2\": 1.0, \"label\": 0}, {\"x1\": -0.6000000000001514, \"x2\": -0.33333333333333337, \"label\": 0}, {\"x1\": -0.33333333333333337, \"x2\": -0.33333333333333337, \"label\": 0}, {\"x1\": -0.6, \"x2\": 1.0, \"label\": 0}, {\"x1\": 1.0, \"x2\": 0.7333333333333334, \"label\": 0}, {\"x1\": -0.33333333333327464, \"x2\": -0.7333333333333334, \"label\": 0}, {\"x1\": 1.0, \"x2\": 0.33333333333333326, \"label\": 1}, {\"x1\": -0.599990770839851, \"x2\": -0.8666666666666666, \"label\": 1}, {\"x1\": -0.8666666666666667, \"x2\": -1.0, \"label\": 1}, {\"x1\": -1.0, \"x2\": -0.8666666666666667, \"label\": 1}, {\"x1\": -0.8666666666353439, \"x2\": -0.19999999999999993, \"label\": 0}, {\"x1\": -0.4666666666666667, \"x2\": 0.8666666666666667, \"label\": 0}, {\"x1\": -0.06666666666666665, \"x2\": 1.0, \"label\": 0}, {\"x1\": -0.33333333334850784, \"x2\": -1.0, \"label\": 0}, {\"x1\": -0.6000000000000001, \"x2\": 0.20020174841628596, \"label\": 1}, {\"x1\": 0.06666666666666665, \"x2\": 1.0, \"label\": 0}, {\"x1\": -0.06666666666666665, \"x2\": -0.06666666666666665, \"label\": 1}, {\"x1\": -0.8666666666666667, \"x2\": -1.0, \"label\": 0}, {\"x1\": -1.0, \"x2\": 0.8666666666666667, \"label\": 0}, {\"x1\": -0.8666666666666667, \"x2\": 0.46666666666666656, \"label\": 0}, {\"x1\": -0.7333333333333334, \"x2\": -0.33333333333333337, \"label\": 0}, {\"x1\": -0.19999999999999996, \"x2\": 0.8666666666666667, \"label\": 0}, {\"x1\": -0.5999999999999999, \"x2\": 0.20000000000496226, \"label\": 1}, {\"x1\": 1.0, \"x2\": -0.4666666666666667, \"label\": 1}, {\"x1\": 0.8666666666666667, \"x2\": -0.8666666666666667, \"label\": 1}, {\"x1\": -0.5999999999999999, \"x2\": -0.3333333329935504, \"label\": 0}, {\"x1\": -0.19999999999999996, \"x2\": 0.6000000000000001, \"label\": 0}, {\"x1\": -0.8666666666660996, \"x2\": 1.0, \"label\": 0}, {\"x1\": 0.46666666666666656, \"x2\": -0.8666666666666667, \"label\": 0}, {\"x1\": 1.0, \"x2\": -0.8666666666666667, \"label\": 1}, {\"x1\": -0.33333333333333337, \"x2\": -0.19999999999999996, \"label\": 0}, {\"x1\": 0.33333333333333326, \"x2\": -0.4666666666666667, \"label\": 0}, {\"x1\": -0.20000000000001195, \"x2\": -0.19999999999999993, \"label\": 0}, {\"x1\": 0.33333333333333326, \"x2\": -0.8666666666666667, \"label\": 0}, {\"x1\": -0.6, \"x2\": 0.20000008958940896, \"label\": 1}, {\"x1\": -0.8666666666666667, \"x2\": -1.0, \"label\": 0}, {\"x1\": 0.33333333333333326, \"x2\": -0.8666666666666667, \"label\": 0}, {\"x1\": -0.20000000011991084, \"x2\": -0.19999999999999998, \"label\": 0}, {\"x1\": -0.19999999999999996, \"x2\": -0.06666666666666665, \"label\": 1}, {\"x1\": 0.06666666666666665, \"x2\": 0.19999999999999996, \"label\": 1}, {\"x1\": 0.9999999999999999, \"x2\": -0.33333333333333337, \"label\": 1}, {\"x1\": 0.33333333333333326, \"x2\": -0.4666666666666667, \"label\": 0}, {\"x1\": -0.7333333333333334, \"x2\": -0.33333333333333337, \"label\": 0}, {\"x1\": -0.7333333333334283, \"x2\": 1.0, \"label\": 0}, {\"x1\": 0.1999999295838872, \"x2\": -0.8666666666666666, \"label\": 1}, {\"x1\": 1.0, \"x2\": 1.0, \"label\": 0}], \"data-dbc831225bd7e4c52a44f4ddad3e8cbd\": [{\"x1\": 0.6000000000000001, \"x2\": 0.06666666666666665, \"label\": 0}, {\"x1\": -0.19999999999999996, \"x2\": -0.19999999999999996, \"label\": 1}, {\"x1\": 1.0, \"x2\": 0.19999999999999996, \"label\": 1}, {\"x1\": -0.19999999999999996, \"x2\": 0.8666666666666667, \"label\": 0}, {\"x1\": -0.6, \"x2\": 0.19999999999999996, \"label\": 1}, {\"x1\": -1.0, \"x2\": -0.19999999999999996, \"label\": 0}, {\"x1\": 1.0, \"x2\": 0.33333333333333326, \"label\": 1}, {\"x1\": -0.33333333333333337, \"x2\": -0.33333333333333337, \"label\": 0}, {\"x1\": -0.19999999999999996, \"x2\": 0.8666666666666667, \"label\": 0}, {\"x1\": 1.0, \"x2\": 0.6000000000000001, \"label\": 1}, {\"x1\": -0.8666666666666667, \"x2\": 1.0, \"label\": 0}, {\"x1\": -0.6, \"x2\": -0.33333333333333337, \"label\": 0}, {\"x1\": -0.33333333333333337, \"x2\": -0.33333333333333337, \"label\": 0}, {\"x1\": -0.6, \"x2\": 1.0, \"label\": 0}, {\"x1\": 1.0, \"x2\": 0.7333333333333334, \"label\": 0}, {\"x1\": -0.33333333333333337, \"x2\": -0.7333333333333334, \"label\": 0}, {\"x1\": 1.0, \"x2\": 0.33333333333333326, \"label\": 1}, {\"x1\": -0.6, \"x2\": -0.8666666666666667, \"label\": 1}, {\"x1\": -0.8666666666666667, \"x2\": -1.0, \"label\": 1}, {\"x1\": -1.0, \"x2\": -0.8666666666666667, \"label\": 1}, {\"x1\": -0.8666666666666667, \"x2\": -0.19999999999999996, \"label\": 0}, {\"x1\": -0.4666666666666667, \"x2\": 0.8666666666666667, \"label\": 0}, {\"x1\": -0.06666666666666665, \"x2\": 1.0, \"label\": 0}, {\"x1\": -0.33333333333333337, \"x2\": -1.0, \"label\": 0}, {\"x1\": -0.6, \"x2\": 0.19999999999999996, \"label\": 1}, {\"x1\": 0.06666666666666665, \"x2\": 1.0, \"label\": 0}, {\"x1\": -0.06666666666666665, \"x2\": -0.06666666666666665, \"label\": 1}, {\"x1\": -0.8666666666666667, \"x2\": -1.0, \"label\": 0}, {\"x1\": -1.0, \"x2\": 0.8666666666666667, \"label\": 0}, {\"x1\": -0.8666666666666667, \"x2\": 0.46666666666666656, \"label\": 0}, {\"x1\": -0.7333333333333334, \"x2\": -0.33333333333333337, \"label\": 0}, {\"x1\": -0.19999999999999996, \"x2\": 0.8666666666666667, \"label\": 0}, {\"x1\": -0.6, \"x2\": 0.19999999999999996, \"label\": 1}, {\"x1\": 1.0, \"x2\": -0.4666666666666667, \"label\": 1}, {\"x1\": 0.8666666666666667, \"x2\": -0.8666666666666667, \"label\": 1}, {\"x1\": -0.6, \"x2\": -0.33333333333333337, \"label\": 0}, {\"x1\": -0.19999999999999996, \"x2\": 0.6000000000000001, \"label\": 0}, {\"x1\": -0.8666666666666667, \"x2\": 1.0, \"label\": 0}, {\"x1\": 0.46666666666666656, \"x2\": -0.8666666666666667, \"label\": 0}, {\"x1\": 1.0, \"x2\": -0.8666666666666667, \"label\": 1}, {\"x1\": -0.33333333333333337, \"x2\": -0.19999999999999996, \"label\": 0}, {\"x1\": 0.33333333333333326, \"x2\": -0.4666666666666667, \"label\": 0}, {\"x1\": -0.19999999999999996, \"x2\": -0.19999999999999996, \"label\": 0}, {\"x1\": 0.33333333333333326, \"x2\": -0.8666666666666667, \"label\": 0}, {\"x1\": -0.6, \"x2\": 0.19999999999999996, \"label\": 1}, {\"x1\": -0.8666666666666667, \"x2\": -1.0, \"label\": 0}, {\"x1\": 0.33333333333333326, \"x2\": -0.8666666666666667, \"label\": 0}, {\"x1\": -0.19999999999999996, \"x2\": -0.19999999999999996, \"label\": 0}, {\"x1\": -0.19999999999999996, \"x2\": -0.06666666666666665, \"label\": 1}, {\"x1\": 0.06666666666666665, \"x2\": 0.19999999999999996, \"label\": 1}, {\"x1\": 1.0, \"x2\": -0.33333333333333337, \"label\": 1}, {\"x1\": 0.33333333333333326, \"x2\": -0.4666666666666667, \"label\": 0}, {\"x1\": -0.7333333333333334, \"x2\": -0.33333333333333337, \"label\": 0}, {\"x1\": -0.7333333333333334, \"x2\": 1.0, \"label\": 0}, {\"x1\": 0.19999999999999996, \"x2\": -0.8666666666666667, \"label\": 1}, {\"x1\": 1.0, \"x2\": 1.0, \"label\": 0}], \"data-d4a744cdf96706e81ca6003fd4afbe05\": [{\"x1\": -1.0, \"x2\": -1.0, \"label\": 0}, {\"x1\": -1.0, \"x2\": -0.8666666666666667, \"label\": 0}, {\"x1\": -1.0, \"x2\": -0.7333333333333334, \"label\": 0}, {\"x1\": -1.0, \"x2\": -0.6, \"label\": 0}, {\"x1\": -1.0, \"x2\": -0.4666666666666667, \"label\": 0}, {\"x1\": -1.0, \"x2\": -0.33333333333333337, \"label\": 0}, {\"x1\": -1.0, \"x2\": -0.19999999999999996, \"label\": 0}, {\"x1\": -1.0, \"x2\": -0.06666666666666665, \"label\": 0}, {\"x1\": -1.0, \"x2\": 0.06666666666666665, \"label\": 0}, {\"x1\": -1.0, \"x2\": 0.19999999999999996, \"label\": 0}, {\"x1\": -1.0, \"x2\": 0.33333333333333326, \"label\": 1}, {\"x1\": -1.0, \"x2\": 0.46666666666666656, \"label\": 1}, {\"x1\": -1.0, \"x2\": 0.6000000000000001, \"label\": 0}, {\"x1\": -1.0, \"x2\": 0.7333333333333334, \"label\": 0}, {\"x1\": -1.0, \"x2\": 0.8666666666666667, \"label\": 0}, {\"x1\": -1.0, \"x2\": 1.0, \"label\": 0}, {\"x1\": -0.8666666666666667, \"x2\": -1.0, \"label\": 0}, {\"x1\": -0.8666666666666667, \"x2\": -0.8666666666666667, \"label\": 0}, {\"x1\": -0.8666666666666667, \"x2\": -0.7333333333333334, \"label\": 0}, {\"x1\": -0.8666666666666667, \"x2\": -0.6, \"label\": 0}, {\"x1\": -0.8666666666666667, \"x2\": -0.4666666666666667, \"label\": 0}, {\"x1\": -0.8666666666666667, \"x2\": -0.33333333333333337, \"label\": 0}, {\"x1\": -0.8666666666666667, \"x2\": -0.19999999999999996, \"label\": 0}, {\"x1\": -0.8666666666666667, \"x2\": -0.06666666666666665, \"label\": 0}, {\"x1\": -0.8666666666666667, \"x2\": 0.06666666666666665, \"label\": 0}, {\"x1\": -0.8666666666666667, \"x2\": 0.19999999999999996, \"label\": 0}, {\"x1\": -0.8666666666666667, \"x2\": 0.33333333333333326, \"label\": 0}, {\"x1\": -0.8666666666666667, \"x2\": 0.46666666666666656, \"label\": 0}, {\"x1\": -0.8666666666666667, \"x2\": 0.6000000000000001, \"label\": 0}, {\"x1\": -0.8666666666666667, \"x2\": 0.7333333333333334, \"label\": 0}, {\"x1\": -0.8666666666666667, \"x2\": 0.8666666666666667, \"label\": 0}, {\"x1\": -0.8666666666666667, \"x2\": 1.0, \"label\": 0}, {\"x1\": -0.7333333333333334, \"x2\": -1.0, \"label\": 0}, {\"x1\": -0.7333333333333334, \"x2\": -0.8666666666666667, \"label\": 0}, {\"x1\": -0.7333333333333334, \"x2\": -0.7333333333333334, \"label\": 0}, {\"x1\": -0.7333333333333334, \"x2\": -0.6, \"label\": 0}, {\"x1\": -0.7333333333333334, \"x2\": -0.4666666666666667, \"label\": 0}, {\"x1\": -0.7333333333333334, \"x2\": -0.33333333333333337, \"label\": 0}, {\"x1\": -0.7333333333333334, \"x2\": -0.19999999999999996, \"label\": 0}, {\"x1\": -0.7333333333333334, \"x2\": -0.06666666666666665, \"label\": 0}, {\"x1\": -0.7333333333333334, \"x2\": 0.06666666666666665, \"label\": 0}, {\"x1\": -0.7333333333333334, \"x2\": 0.19999999999999996, \"label\": 0}, {\"x1\": -0.7333333333333334, \"x2\": 0.33333333333333326, \"label\": 0}, {\"x1\": -0.7333333333333334, \"x2\": 0.46666666666666656, \"label\": 0}, {\"x1\": -0.7333333333333334, \"x2\": 0.6000000000000001, \"label\": 0}, {\"x1\": -0.7333333333333334, \"x2\": 0.7333333333333334, \"label\": 0}, {\"x1\": -0.7333333333333334, \"x2\": 0.8666666666666667, \"label\": 0}, {\"x1\": -0.7333333333333334, \"x2\": 1.0, \"label\": 0}, {\"x1\": -0.6, \"x2\": -1.0, \"label\": 0}, {\"x1\": -0.6, \"x2\": -0.8666666666666667, \"label\": 0}, {\"x1\": -0.6, \"x2\": -0.7333333333333334, \"label\": 1}, {\"x1\": -0.6, \"x2\": -0.6, \"label\": 0}, {\"x1\": -0.6, \"x2\": -0.4666666666666667, \"label\": 1}, {\"x1\": -0.6, \"x2\": -0.33333333333333337, \"label\": 1}, {\"x1\": -0.6, \"x2\": -0.19999999999999996, \"label\": 1}, {\"x1\": -0.6, \"x2\": -0.06666666666666665, \"label\": 0}, {\"x1\": -0.6, \"x2\": 0.06666666666666665, \"label\": 0}, {\"x1\": -0.6, \"x2\": 0.19999999999999996, \"label\": 0}, {\"x1\": -0.6, \"x2\": 0.33333333333333326, \"label\": 0}, {\"x1\": -0.6, \"x2\": 0.46666666666666656, \"label\": 0}, {\"x1\": -0.6, \"x2\": 0.6000000000000001, \"label\": 0}, {\"x1\": -0.6, \"x2\": 0.7333333333333334, \"label\": 0}, {\"x1\": -0.6, \"x2\": 0.8666666666666667, \"label\": 0}, {\"x1\": -0.6, \"x2\": 1.0, \"label\": 0}, {\"x1\": -0.4666666666666667, \"x2\": -1.0, \"label\": 0}, {\"x1\": -0.4666666666666667, \"x2\": -0.8666666666666667, \"label\": 1}, {\"x1\": -0.4666666666666667, \"x2\": -0.7333333333333334, \"label\": 1}, {\"x1\": -0.4666666666666667, \"x2\": -0.6, \"label\": 0}, {\"x1\": -0.4666666666666667, \"x2\": -0.4666666666666667, \"label\": 0}, {\"x1\": -0.4666666666666667, \"x2\": -0.33333333333333337, \"label\": 1}, {\"x1\": -0.4666666666666667, \"x2\": -0.19999999999999996, \"label\": 0}, {\"x1\": -0.4666666666666667, \"x2\": -0.06666666666666665, \"label\": 0}, {\"x1\": -0.4666666666666667, \"x2\": 0.06666666666666665, \"label\": 0}, {\"x1\": -0.4666666666666667, \"x2\": 0.19999999999999996, \"label\": 0}, {\"x1\": -0.4666666666666667, \"x2\": 0.33333333333333326, \"label\": 0}, {\"x1\": -0.4666666666666667, \"x2\": 0.46666666666666656, \"label\": 0}, {\"x1\": -0.4666666666666667, \"x2\": 0.6000000000000001, \"label\": 0}, {\"x1\": -0.4666666666666667, \"x2\": 0.7333333333333334, \"label\": 0}, {\"x1\": -0.4666666666666667, \"x2\": 0.8666666666666667, \"label\": 0}, {\"x1\": -0.4666666666666667, \"x2\": 1.0, \"label\": 0}, {\"x1\": -0.33333333333333337, \"x2\": -1.0, \"label\": 0}, {\"x1\": -0.33333333333333337, \"x2\": -0.8666666666666667, \"label\": 1}, {\"x1\": -0.33333333333333337, \"x2\": -0.7333333333333334, \"label\": 1}, {\"x1\": -0.33333333333333337, \"x2\": -0.6, \"label\": 0}, {\"x1\": -0.33333333333333337, \"x2\": -0.4666666666666667, \"label\": 0}, {\"x1\": -0.33333333333333337, \"x2\": -0.33333333333333337, \"label\": 1}, {\"x1\": -0.33333333333333337, \"x2\": -0.19999999999999996, \"label\": 0}, {\"x1\": -0.33333333333333337, \"x2\": -0.06666666666666665, \"label\": 0}, {\"x1\": -0.33333333333333337, \"x2\": 0.06666666666666665, \"label\": 0}, {\"x1\": -0.33333333333333337, \"x2\": 0.19999999999999996, \"label\": 0}, {\"x1\": -0.33333333333333337, \"x2\": 0.33333333333333326, \"label\": 0}, {\"x1\": -0.33333333333333337, \"x2\": 0.46666666666666656, \"label\": 0}, {\"x1\": -0.33333333333333337, \"x2\": 0.6000000000000001, \"label\": 0}, {\"x1\": -0.33333333333333337, \"x2\": 0.7333333333333334, \"label\": 0}, {\"x1\": -0.33333333333333337, \"x2\": 0.8666666666666667, \"label\": 0}, {\"x1\": -0.33333333333333337, \"x2\": 1.0, \"label\": 0}, {\"x1\": -0.19999999999999996, \"x2\": -1.0, \"label\": 0}, {\"x1\": -0.19999999999999996, \"x2\": -0.8666666666666667, \"label\": 0}, {\"x1\": -0.19999999999999996, \"x2\": -0.7333333333333334, \"label\": 1}, {\"x1\": -0.19999999999999996, \"x2\": -0.6, \"label\": 0}, {\"x1\": -0.19999999999999996, \"x2\": -0.4666666666666667, \"label\": 0}, {\"x1\": -0.19999999999999996, \"x2\": -0.33333333333333337, \"label\": 0}, {\"x1\": -0.19999999999999996, \"x2\": -0.19999999999999996, \"label\": 0}, {\"x1\": -0.19999999999999996, \"x2\": -0.06666666666666665, \"label\": 1}, {\"x1\": -0.19999999999999996, \"x2\": 0.06666666666666665, \"label\": 0}, {\"x1\": -0.19999999999999996, \"x2\": 0.19999999999999996, \"label\": 0}, {\"x1\": -0.19999999999999996, \"x2\": 0.33333333333333326, \"label\": 0}, {\"x1\": -0.19999999999999996, \"x2\": 0.46666666666666656, \"label\": 0}, {\"x1\": -0.19999999999999996, \"x2\": 0.6000000000000001, \"label\": 0}, {\"x1\": -0.19999999999999996, \"x2\": 0.7333333333333334, \"label\": 0}, {\"x1\": -0.19999999999999996, \"x2\": 0.8666666666666667, \"label\": 0}, {\"x1\": -0.19999999999999996, \"x2\": 1.0, \"label\": 0}, {\"x1\": -0.06666666666666665, \"x2\": -1.0, \"label\": 0}, {\"x1\": -0.06666666666666665, \"x2\": -0.8666666666666667, \"label\": 0}, {\"x1\": -0.06666666666666665, \"x2\": -0.7333333333333334, \"label\": 0}, {\"x1\": -0.06666666666666665, \"x2\": -0.6, \"label\": 1}, {\"x1\": -0.06666666666666665, \"x2\": -0.4666666666666667, \"label\": 0}, {\"x1\": -0.06666666666666665, \"x2\": -0.33333333333333337, \"label\": 1}, {\"x1\": -0.06666666666666665, \"x2\": -0.19999999999999996, \"label\": 1}, {\"x1\": -0.06666666666666665, \"x2\": -0.06666666666666665, \"label\": 1}, {\"x1\": -0.06666666666666665, \"x2\": 0.06666666666666665, \"label\": 0}, {\"x1\": -0.06666666666666665, \"x2\": 0.19999999999999996, \"label\": 0}, {\"x1\": -0.06666666666666665, \"x2\": 0.33333333333333326, \"label\": 0}, {\"x1\": -0.06666666666666665, \"x2\": 0.46666666666666656, \"label\": 0}, {\"x1\": -0.06666666666666665, \"x2\": 0.6000000000000001, \"label\": 0}, {\"x1\": -0.06666666666666665, \"x2\": 0.7333333333333334, \"label\": 0}, {\"x1\": -0.06666666666666665, \"x2\": 0.8666666666666667, \"label\": 0}, {\"x1\": -0.06666666666666665, \"x2\": 1.0, \"label\": 0}, {\"x1\": 0.06666666666666665, \"x2\": -1.0, \"label\": 1}, {\"x1\": 0.06666666666666665, \"x2\": -0.8666666666666667, \"label\": 1}, {\"x1\": 0.06666666666666665, \"x2\": -0.7333333333333334, \"label\": 1}, {\"x1\": 0.06666666666666665, \"x2\": -0.6, \"label\": 1}, {\"x1\": 0.06666666666666665, \"x2\": -0.4666666666666667, \"label\": 1}, {\"x1\": 0.06666666666666665, \"x2\": -0.33333333333333337, \"label\": 1}, {\"x1\": 0.06666666666666665, \"x2\": -0.19999999999999996, \"label\": 1}, {\"x1\": 0.06666666666666665, \"x2\": -0.06666666666666665, \"label\": 1}, {\"x1\": 0.06666666666666665, \"x2\": 0.06666666666666665, \"label\": 1}, {\"x1\": 0.06666666666666665, \"x2\": 0.19999999999999996, \"label\": 0}, {\"x1\": 0.06666666666666665, \"x2\": 0.33333333333333326, \"label\": 0}, {\"x1\": 0.06666666666666665, \"x2\": 0.46666666666666656, \"label\": 0}, {\"x1\": 0.06666666666666665, \"x2\": 0.6000000000000001, \"label\": 0}, {\"x1\": 0.06666666666666665, \"x2\": 0.7333333333333334, \"label\": 0}, {\"x1\": 0.06666666666666665, \"x2\": 0.8666666666666667, \"label\": 0}, {\"x1\": 0.06666666666666665, \"x2\": 1.0, \"label\": 0}, {\"x1\": 0.19999999999999996, \"x2\": -1.0, \"label\": 1}, {\"x1\": 0.19999999999999996, \"x2\": -0.8666666666666667, \"label\": 1}, {\"x1\": 0.19999999999999996, \"x2\": -0.7333333333333334, \"label\": 1}, {\"x1\": 0.19999999999999996, \"x2\": -0.6, \"label\": 1}, {\"x1\": 0.19999999999999996, \"x2\": -0.4666666666666667, \"label\": 1}, {\"x1\": 0.19999999999999996, \"x2\": -0.33333333333333337, \"label\": 1}, {\"x1\": 0.19999999999999996, \"x2\": -0.19999999999999996, \"label\": 1}, {\"x1\": 0.19999999999999996, \"x2\": -0.06666666666666665, \"label\": 1}, {\"x1\": 0.19999999999999996, \"x2\": 0.06666666666666665, \"label\": 1}, {\"x1\": 0.19999999999999996, \"x2\": 0.19999999999999996, \"label\": 1}, {\"x1\": 0.19999999999999996, \"x2\": 0.33333333333333326, \"label\": 1}, {\"x1\": 0.19999999999999996, \"x2\": 0.46666666666666656, \"label\": 1}, {\"x1\": 0.19999999999999996, \"x2\": 0.6000000000000001, \"label\": 1}, {\"x1\": 0.19999999999999996, \"x2\": 0.7333333333333334, \"label\": 1}, {\"x1\": 0.19999999999999996, \"x2\": 0.8666666666666667, \"label\": 1}, {\"x1\": 0.19999999999999996, \"x2\": 1.0, \"label\": 1}, {\"x1\": 0.33333333333333326, \"x2\": -1.0, \"label\": 0}, {\"x1\": 0.33333333333333326, \"x2\": -0.8666666666666667, \"label\": 1}, {\"x1\": 0.33333333333333326, \"x2\": -0.7333333333333334, \"label\": 1}, {\"x1\": 0.33333333333333326, \"x2\": -0.6, \"label\": 1}, {\"x1\": 0.33333333333333326, \"x2\": -0.4666666666666667, \"label\": 0}, {\"x1\": 0.33333333333333326, \"x2\": -0.33333333333333337, \"label\": 0}, {\"x1\": 0.33333333333333326, \"x2\": -0.19999999999999996, \"label\": 1}, {\"x1\": 0.33333333333333326, \"x2\": -0.06666666666666665, \"label\": 1}, {\"x1\": 0.33333333333333326, \"x2\": 0.06666666666666665, \"label\": 1}, {\"x1\": 0.33333333333333326, \"x2\": 0.19999999999999996, \"label\": 1}, {\"x1\": 0.33333333333333326, \"x2\": 0.33333333333333326, \"label\": 1}, {\"x1\": 0.33333333333333326, \"x2\": 0.46666666666666656, \"label\": 1}, {\"x1\": 0.33333333333333326, \"x2\": 0.6000000000000001, \"label\": 1}, {\"x1\": 0.33333333333333326, \"x2\": 0.7333333333333334, \"label\": 1}, {\"x1\": 0.33333333333333326, \"x2\": 0.8666666666666667, \"label\": 1}, {\"x1\": 0.33333333333333326, \"x2\": 1.0, \"label\": 1}, {\"x1\": 0.46666666666666656, \"x2\": -1.0, \"label\": 0}, {\"x1\": 0.46666666666666656, \"x2\": -0.8666666666666667, \"label\": 1}, {\"x1\": 0.46666666666666656, \"x2\": -0.7333333333333334, \"label\": 1}, {\"x1\": 0.46666666666666656, \"x2\": -0.6, \"label\": 1}, {\"x1\": 0.46666666666666656, \"x2\": -0.4666666666666667, \"label\": 0}, {\"x1\": 0.46666666666666656, \"x2\": -0.33333333333333337, \"label\": 0}, {\"x1\": 0.46666666666666656, \"x2\": -0.19999999999999996, \"label\": 0}, {\"x1\": 0.46666666666666656, \"x2\": -0.06666666666666665, \"label\": 1}, {\"x1\": 0.46666666666666656, \"x2\": 0.06666666666666665, \"label\": 1}, {\"x1\": 0.46666666666666656, \"x2\": 0.19999999999999996, \"label\": 1}, {\"x1\": 0.46666666666666656, \"x2\": 0.33333333333333326, \"label\": 1}, {\"x1\": 0.46666666666666656, \"x2\": 0.46666666666666656, \"label\": 1}, {\"x1\": 0.46666666666666656, \"x2\": 0.6000000000000001, \"label\": 1}, {\"x1\": 0.46666666666666656, \"x2\": 0.7333333333333334, \"label\": 1}, {\"x1\": 0.46666666666666656, \"x2\": 0.8666666666666667, \"label\": 1}, {\"x1\": 0.46666666666666656, \"x2\": 1.0, \"label\": 1}, {\"x1\": 0.6000000000000001, \"x2\": -1.0, \"label\": 0}, {\"x1\": 0.6000000000000001, \"x2\": -0.8666666666666667, \"label\": 0}, {\"x1\": 0.6000000000000001, \"x2\": -0.7333333333333334, \"label\": 1}, {\"x1\": 0.6000000000000001, \"x2\": -0.6, \"label\": 0}, {\"x1\": 0.6000000000000001, \"x2\": -0.4666666666666667, \"label\": 0}, {\"x1\": 0.6000000000000001, \"x2\": -0.33333333333333337, \"label\": 0}, {\"x1\": 0.6000000000000001, \"x2\": -0.19999999999999996, \"label\": 0}, {\"x1\": 0.6000000000000001, \"x2\": -0.06666666666666665, \"label\": 1}, {\"x1\": 0.6000000000000001, \"x2\": 0.06666666666666665, \"label\": 1}, {\"x1\": 0.6000000000000001, \"x2\": 0.19999999999999996, \"label\": 1}, {\"x1\": 0.6000000000000001, \"x2\": 0.33333333333333326, \"label\": 1}, {\"x1\": 0.6000000000000001, \"x2\": 0.46666666666666656, \"label\": 1}, {\"x1\": 0.6000000000000001, \"x2\": 0.6000000000000001, \"label\": 1}, {\"x1\": 0.6000000000000001, \"x2\": 0.7333333333333334, \"label\": 1}, {\"x1\": 0.6000000000000001, \"x2\": 0.8666666666666667, \"label\": 1}, {\"x1\": 0.6000000000000001, \"x2\": 1.0, \"label\": 1}, {\"x1\": 0.7333333333333334, \"x2\": -1.0, \"label\": 0}, {\"x1\": 0.7333333333333334, \"x2\": -0.8666666666666667, \"label\": 0}, {\"x1\": 0.7333333333333334, \"x2\": -0.7333333333333334, \"label\": 0}, {\"x1\": 0.7333333333333334, \"x2\": -0.6, \"label\": 1}, {\"x1\": 0.7333333333333334, \"x2\": -0.4666666666666667, \"label\": 1}, {\"x1\": 0.7333333333333334, \"x2\": -0.33333333333333337, \"label\": 1}, {\"x1\": 0.7333333333333334, \"x2\": -0.19999999999999996, \"label\": 1}, {\"x1\": 0.7333333333333334, \"x2\": -0.06666666666666665, \"label\": 1}, {\"x1\": 0.7333333333333334, \"x2\": 0.06666666666666665, \"label\": 1}, {\"x1\": 0.7333333333333334, \"x2\": 0.19999999999999996, \"label\": 1}, {\"x1\": 0.7333333333333334, \"x2\": 0.33333333333333326, \"label\": 1}, {\"x1\": 0.7333333333333334, \"x2\": 0.46666666666666656, \"label\": 1}, {\"x1\": 0.7333333333333334, \"x2\": 0.6000000000000001, \"label\": 1}, {\"x1\": 0.7333333333333334, \"x2\": 0.7333333333333334, \"label\": 1}, {\"x1\": 0.7333333333333334, \"x2\": 0.8666666666666667, \"label\": 1}, {\"x1\": 0.7333333333333334, \"x2\": 1.0, \"label\": 1}, {\"x1\": 0.8666666666666667, \"x2\": -1.0, \"label\": 0}, {\"x1\": 0.8666666666666667, \"x2\": -0.8666666666666667, \"label\": 0}, {\"x1\": 0.8666666666666667, \"x2\": -0.7333333333333334, \"label\": 1}, {\"x1\": 0.8666666666666667, \"x2\": -0.6, \"label\": 1}, {\"x1\": 0.8666666666666667, \"x2\": -0.4666666666666667, \"label\": 1}, {\"x1\": 0.8666666666666667, \"x2\": -0.33333333333333337, \"label\": 1}, {\"x1\": 0.8666666666666667, \"x2\": -0.19999999999999996, \"label\": 1}, {\"x1\": 0.8666666666666667, \"x2\": -0.06666666666666665, \"label\": 1}, {\"x1\": 0.8666666666666667, \"x2\": 0.06666666666666665, \"label\": 1}, {\"x1\": 0.8666666666666667, \"x2\": 0.19999999999999996, \"label\": 1}, {\"x1\": 0.8666666666666667, \"x2\": 0.33333333333333326, \"label\": 1}, {\"x1\": 0.8666666666666667, \"x2\": 0.46666666666666656, \"label\": 1}, {\"x1\": 0.8666666666666667, \"x2\": 0.6000000000000001, \"label\": 1}, {\"x1\": 0.8666666666666667, \"x2\": 0.7333333333333334, \"label\": 1}, {\"x1\": 0.8666666666666667, \"x2\": 0.8666666666666667, \"label\": 1}, {\"x1\": 0.8666666666666667, \"x2\": 1.0, \"label\": 1}, {\"x1\": 1.0, \"x2\": -1.0, \"label\": 0}, {\"x1\": 1.0, \"x2\": -0.8666666666666667, \"label\": 0}, {\"x1\": 1.0, \"x2\": -0.7333333333333334, \"label\": 1}, {\"x1\": 1.0, \"x2\": -0.6, \"label\": 1}, {\"x1\": 1.0, \"x2\": -0.4666666666666667, \"label\": 1}, {\"x1\": 1.0, \"x2\": -0.33333333333333337, \"label\": 1}, {\"x1\": 1.0, \"x2\": -0.19999999999999996, \"label\": 1}, {\"x1\": 1.0, \"x2\": -0.06666666666666665, \"label\": 1}, {\"x1\": 1.0, \"x2\": 0.06666666666666665, \"label\": 1}, {\"x1\": 1.0, \"x2\": 0.19999999999999996, \"label\": 1}, {\"x1\": 1.0, \"x2\": 0.33333333333333326, \"label\": 1}, {\"x1\": 1.0, \"x2\": 0.46666666666666656, \"label\": 0}, {\"x1\": 1.0, \"x2\": 0.6000000000000001, \"label\": 1}, {\"x1\": 1.0, \"x2\": 0.7333333333333334, \"label\": 1}, {\"x1\": 1.0, \"x2\": 0.8666666666666667, \"label\": 1}, {\"x1\": 1.0, \"x2\": 1.0, \"label\": 1}], \"data-4c4ca0e2bb3e6338a8b72f6a835e9d4a\": [{\"x1\": -114.7944564819336, \"x2\": 52.75056838989258, \"label\": 0}, {\"x1\": 16.805444717407227, \"x2\": 0.923407793045044, \"label\": 1}, {\"x1\": -81.90911102294922, \"x2\": 104.9737548828125, \"label\": 1}, {\"x1\": 16.645540237426758, \"x2\": -105.56095123291016, \"label\": 0}, {\"x1\": 34.195438385009766, \"x2\": 17.744306564331055, \"label\": 1}, {\"x1\": 77.79217529296875, \"x2\": 6.20135498046875, \"label\": 0}, {\"x1\": -59.26355743408203, \"x2\": 78.66864776611328, \"label\": 1}, {\"x1\": -41.42640686035156, \"x2\": 10.349542617797852, \"label\": 0}, {\"x1\": 16.274629592895508, \"x2\": -80.14488220214844, \"label\": 0}, {\"x1\": -102.66568756103516, \"x2\": 82.25411224365234, \"label\": 1}, {\"x1\": 79.2441635131836, \"x2\": -60.702491760253906, \"label\": 0}, {\"x1\": 94.06629180908203, \"x2\": -14.813934326171875, \"label\": 0}, {\"x1\": -38.928192138671875, \"x2\": 28.289474487304688, \"label\": 0}, {\"x1\": 104.72329711914062, \"x2\": -59.2875862121582, \"label\": 0}, {\"x1\": -94.67347717285156, \"x2\": 64.56465911865234, \"label\": 0}, {\"x1\": -1.422895073890686, \"x2\": 12.228057861328125, \"label\": 0}, {\"x1\": -75.93734741210938, \"x2\": 86.9216079711914, \"label\": 1}, {\"x1\": 11.754415512084961, \"x2\": 33.85468292236328, \"label\": 1}, {\"x1\": 2.293778419494629, \"x2\": 79.0792236328125, \"label\": 1}, {\"x1\": 20.8645076751709, \"x2\": 71.0899887084961, \"label\": 1}, {\"x1\": 40.13164520263672, \"x2\": -31.624799728393555, \"label\": 0}, {\"x1\": 43.419532775878906, \"x2\": -90.02564239501953, \"label\": 0}, {\"x1\": -8.379408836364746, \"x2\": -92.84681701660156, \"label\": 0}, {\"x1\": -9.44143009185791, \"x2\": 28.560468673706055, \"label\": 0}, {\"x1\": 59.561256408691406, \"x2\": 34.87464904785156, \"label\": 1}, {\"x1\": -26.25463104248047, \"x2\": -95.57748413085938, \"label\": 0}, {\"x1\": -12.246235847473145, \"x2\": -32.293701171875, \"label\": 1}, {\"x1\": 4.875766277313232, \"x2\": 56.5713005065918, \"label\": 0}, {\"x1\": 88.74801635742188, \"x2\": -100.95003509521484, \"label\": 0}, {\"x1\": 48.52661895751953, \"x2\": -56.29104995727539, \"label\": 0}, {\"x1\": 65.75846099853516, \"x2\": -24.630062103271484, \"label\": 0}, {\"x1\": 24.322038650512695, \"x2\": -64.3992919921875, \"label\": 0}, {\"x1\": 52.410160064697266, \"x2\": 15.511577606201172, \"label\": 1}, {\"x1\": -49.07835006713867, \"x2\": 103.6241226196289, \"label\": 1}, {\"x1\": -103.4917984008789, \"x2\": 24.095680236816406, \"label\": 1}, {\"x1\": 30.21971893310547, \"x2\": -14.201570510864258, \"label\": 0}, {\"x1\": -4.154750347137451, \"x2\": -60.448707580566406, \"label\": 0}, {\"x1\": 68.125732421875, \"x2\": -77.79802703857422, \"label\": 0}, {\"x1\": -66.58384704589844, \"x2\": -43.955848693847656, \"label\": 0}, {\"x1\": -115.72863006591797, \"x2\": 11.63635540008545, \"label\": 1}, {\"x1\": 94.66926574707031, \"x2\": 32.666526794433594, \"label\": 0}, {\"x1\": -88.01805877685547, \"x2\": -9.935768127441406, \"label\": 0}, {\"x1\": 16.930416107177734, \"x2\": -32.09932327270508, \"label\": 0}, {\"x1\": -52.55042266845703, \"x2\": -27.703588485717773, \"label\": 0}, {\"x1\": 40.45566177368164, \"x2\": 37.638160705566406, \"label\": 1}, {\"x1\": -14.251032829284668, \"x2\": 61.32939529418945, \"label\": 0}, {\"x1\": -43.880985260009766, \"x2\": -43.0550651550293, \"label\": 0}, {\"x1\": 4.985180854797363, \"x2\": -13.07726764678955, \"label\": 0}, {\"x1\": -19.69056510925293, \"x2\": -7.516002655029297, \"label\": 1}, {\"x1\": 40.71253967285156, \"x2\": 105.86058044433594, \"label\": 1}, {\"x1\": -70.00939178466797, \"x2\": 122.42448425292969, \"label\": 1}, {\"x1\": -99.71956634521484, \"x2\": -21.468116760253906, \"label\": 0}, {\"x1\": 55.13502883911133, \"x2\": -11.879525184631348, \"label\": 0}, {\"x1\": 94.99284362792969, \"x2\": -78.45603942871094, \"label\": 0}, {\"x1\": 56.59968185424805, \"x2\": 67.37653350830078, \"label\": 1}, {\"x1\": -75.26055908203125, \"x2\": 54.277584075927734, \"label\": 0}], \"data-2c32998162b6d6022e51d59fb4987a57\": [{\"x1\": 4.558015614520903, \"x2\": 4.429546079063329, \"label\": 0}, {\"x1\": -0.45500896890694326, \"x2\": 0.2672208571722479, \"label\": 1}, {\"x1\": 3.332427514550874, \"x2\": 8.33546262340904, \"label\": 1}, {\"x1\": -2.2554519801987163, \"x2\": 7.00099623196801, \"label\": 0}, {\"x1\": 2.1038930209167153, \"x2\": 0.7762801109958426, \"label\": 1}, {\"x1\": 2.3594743067286013, \"x2\": -1.8829790777051039, \"label\": 0}, {\"x1\": 1.9477914665235807, \"x2\": 8.050985683034792, \"label\": 1}, {\"x1\": -5.758359715198571, \"x2\": -3.7040444398115273, \"label\": 0}, {\"x1\": -1.3084719502222173, \"x2\": 3.9577505323234425, \"label\": 0}, {\"x1\": 5.65245574840411, \"x2\": 7.54818959169375, \"label\": 1}, {\"x1\": 6.2718697272209, \"x2\": -4.849278601962481, \"label\": 0}, {\"x1\": -5.970945072280543, \"x2\": 4.363728844552388, \"label\": 0}, {\"x1\": -7.006473663108329, \"x2\": -0.7076270556458754, \"label\": 0}, {\"x1\": -4.382696087225557, \"x2\": 7.316114628672683, \"label\": 0}, {\"x1\": 4.874745148707048, \"x2\": 7.284776570492491, \"label\": 0}, {\"x1\": -1.8515932156493937, \"x2\": 1.3111145130761952, \"label\": 0}, {\"x1\": 3.142495549707172, \"x2\": 7.441062543145027, \"label\": 1}, {\"x1\": -7.3571798543284395, \"x2\": -2.0019859498217807, \"label\": 1}, {\"x1\": -4.70383756319406, \"x2\": 3.9081305745954578, \"label\": 1}, {\"x1\": -4.349632873574049, \"x2\": 4.915905993752774, \"label\": 1}, {\"x1\": -4.222549716252858, \"x2\": 0.25506805441889213, \"label\": 0}, {\"x1\": 2.5226357002896456, \"x2\": -5.481518694133567, \"label\": 0}, {\"x1\": 6.8099506419476175, \"x2\": -1.484744441655499, \"label\": 0}, {\"x1\": -2.800212965275524, \"x2\": -3.323796464044831, \"label\": 0}, {\"x1\": -0.5819765786820128, \"x2\": -4.513652512288007, \"label\": 1}, {\"x1\": 8.580264962899133, \"x2\": -0.6417435377326799, \"label\": 0}, {\"x1\": 4.520130809260154, \"x2\": -5.6336002419305515, \"label\": 1}, {\"x1\": -5.464788525590542, \"x2\": 2.286615755933312, \"label\": 0}, {\"x1\": 5.542039804961608, \"x2\": -7.158168995539764, \"label\": 0}, {\"x1\": 0.6559271698625051, \"x2\": -6.433040286826535, \"label\": 0}, {\"x1\": -4.04958523791, \"x2\": -2.2264646046017718, \"label\": 0}, {\"x1\": 3.6325753407031818, \"x2\": -3.10706196082203, \"label\": 0}, {\"x1\": 0.4545927921138793, \"x2\": -3.3272638011758233, \"label\": 1}, {\"x1\": 7.393672481027271, \"x2\": 3.7487089746201097, \"label\": 1}, {\"x1\": 8.04466745705169, \"x2\": -1.7855176823588674, \"label\": 1}, {\"x1\": -2.135596100353066, \"x2\": -0.23959634958255296, \"label\": 0}, {\"x1\": 5.327364250341784, \"x2\": -2.3543752023264743, \"label\": 0}, {\"x1\": 3.2219848480595283, \"x2\": -7.355180074864814, \"label\": 0}, {\"x1\": -4.404943017640281, \"x2\": -6.458040045021259, \"label\": 0}, {\"x1\": -1.2105670686515697, \"x2\": -8.357288263319989, \"label\": 1}, {\"x1\": -7.148029637151575, \"x2\": -4.153267431962472, \"label\": 0}, {\"x1\": -7.857712834081264, \"x2\": 4.676825927167758, \"label\": 0}, {\"x1\": 0.581759419805999, \"x2\": -0.6963484273582337, \"label\": 0}, {\"x1\": -5.189838468842498, \"x2\": -5.73725596636886, \"label\": 0}, {\"x1\": 1.4000793334575468, \"x2\": 1.94943083188329, \"label\": 1}, {\"x1\": -6.724508898848364, \"x2\": 2.187899741210952, \"label\": 0}, {\"x1\": -8.189823779414679, \"x2\": -0.23528475922975212, \"label\": 0}, {\"x1\": -1.1847401447363666, \"x2\": -1.4103626961154025, \"label\": 0}, {\"x1\": -2.5327937731568357, \"x2\": -6.7124506710479, \"label\": 1}, {\"x1\": 0.7160275636684106, \"x2\": -9.481405229477483, \"label\": 1}, {\"x1\": 6.6387295493251965, \"x2\": 5.402730404504014, \"label\": 1}, {\"x1\": 7.685238874501752, \"x2\": 2.0347997987101523, \"label\": 0}, {\"x1\": -4.781266662055965, \"x2\": -1.7366457360220753, \"label\": 0}, {\"x1\": 5.5049920153120295, \"x2\": 0.0008323199374956149, \"label\": 0}, {\"x1\": 0.14688198444353034, \"x2\": 4.5488802173884375, \"label\": 1}, {\"x1\": 0.2559012562178489, \"x2\": 9.190931797032054, \"label\": 0}], \"data-6b920584e1b2475086ff0a17e80c8c22\": [{\"x1\": -0.1577044736847892, \"x2\": 0.05669373932504684, \"label\": 0}, {\"x1\": 0.0664774361463137, \"x2\": 0.00734068627229835, \"label\": 1}, {\"x1\": -0.315888884426077, \"x2\": -0.2054422781695262, \"label\": 1}, {\"x1\": 0.09282284077276987, \"x2\": -0.06659557810134659, \"label\": 0}, {\"x1\": 0.08040478638980043, \"x2\": -0.024831124663917716, \"label\": 1}, {\"x1\": 0.0814034689165477, \"x2\": -0.018945856710947544, \"label\": 0}, {\"x1\": -0.30608412999783546, \"x2\": -0.10411944835289214, \"label\": 1}, {\"x1\": 0.08097521542915796, \"x2\": -0.013216642786999522, \"label\": 0}, {\"x1\": 0.08523352153375224, \"x2\": -0.05254896871276126, \"label\": 0}, {\"x1\": -0.3277029703441919, \"x2\": -0.15735356784089402, \"label\": 1}, {\"x1\": 0.08862539620935404, \"x2\": -0.058840211961313796, \"label\": 0}, {\"x1\": 0.08617222921299487, \"x2\": -0.02749522113728269, \"label\": 0}, {\"x1\": 0.0791626183297805, \"x2\": -0.01011649371464069, \"label\": 0}, {\"x1\": 0.08694668090557317, \"x2\": -0.05565189404064699, \"label\": 0}, {\"x1\": -0.3019259114574534, \"x2\": -0.1679257050218965, \"label\": 0}, {\"x1\": 0.06529865947774738, \"x2\": 0.017801241357841113, \"label\": 0}, {\"x1\": -0.3265059406893944, \"x2\": -0.21379423411473247, \"label\": 1}, {\"x1\": 0.0724022300431487, \"x2\": 0.002348509077207828, \"label\": 1}, {\"x1\": 0.085938225399754, \"x2\": -0.013249611413135916, \"label\": 1}, {\"x1\": 0.09030563123683338, \"x2\": -0.02140909287196246, \"label\": 1}, {\"x1\": 0.08810899203889684, \"x2\": -0.03626969722987095, \"label\": 0}, {\"x1\": 0.08831269173396952, \"x2\": -0.053068634107982654, \"label\": 0}, {\"x1\": 0.08743958229998611, \"x2\": -0.061367341535595296, \"label\": 0}, {\"x1\": 0.04856818053909836, \"x2\": 0.050554584209336326, \"label\": 0}, {\"x1\": 0.08297106341152499, \"x2\": -0.0290871246647338, \"label\": 1}, {\"x1\": 0.08602296926391452, \"x2\": -0.054771765349216045, \"label\": 0}, {\"x1\": 0.05993808457399628, \"x2\": 0.012159156075109765, \"label\": 1}, {\"x1\": 0.0819201188222476, \"x2\": -0.005818732023744501, \"label\": 0}, {\"x1\": 0.08375704324057331, \"x2\": -0.04320931835321794, \"label\": 0}, {\"x1\": 0.08305819641098285, \"x2\": -0.03874879332224719, \"label\": 0}, {\"x1\": 0.09564082945006559, \"x2\": -0.044501797635376344, \"label\": 0}, {\"x1\": 0.08572211878239111, \"x2\": -0.05391156771716464, \"label\": 0}, {\"x1\": 0.08203730532416248, \"x2\": -0.029285274278004952, \"label\": 1}, {\"x1\": -0.20434899086774924, \"x2\": -0.004867609510298747, \"label\": 1}, {\"x1\": -0.14929479269567722, \"x2\": 0.09165512432458378, \"label\": 1}, {\"x1\": 0.08600688679739399, \"x2\": -0.0271811067304988, \"label\": 0}, {\"x1\": 0.08212143174226787, \"x2\": -0.03895663156715467, \"label\": 0}, {\"x1\": 0.08757948925407874, \"x2\": -0.05768418200918993, \"label\": 0}, {\"x1\": -0.11656459609306015, \"x2\": 0.38675148705438084, \"label\": 0}, {\"x1\": -0.12082210321088539, \"x2\": 0.05803285461106392, \"label\": 1}, {\"x1\": 0.0818608462881895, \"x2\": -0.017496654714222064, \"label\": 0}, {\"x1\": -0.02469782885358622, \"x2\": 0.10082458457052922, \"label\": 0}, {\"x1\": 0.07434908549368044, \"x2\": -0.013743033832329879, \"label\": 0}, {\"x1\": -0.136233607938112, \"x2\": 0.5284492942664207, \"label\": 0}, {\"x1\": 0.08084271810831901, \"x2\": -0.024522867625836192, \"label\": 1}, {\"x1\": 0.08365760521072366, \"x2\": -0.010890470946965306, \"label\": 0}, {\"x1\": -0.1315110238397164, \"x2\": 0.5139253195003213, \"label\": 0}, {\"x1\": 0.06567864381059038, \"x2\": 0.00792346422611172, \"label\": 0}, {\"x1\": 0.062163346818489604, \"x2\": 0.005238056839875832, \"label\": 1}, {\"x1\": 0.04738781440504776, \"x2\": 0.04495254794429495, \"label\": 1}, {\"x1\": -0.21579133176088514, \"x2\": -0.09479548860394472, \"label\": 1}, {\"x1\": -0.033004502395930224, \"x2\": 0.11968738816853229, \"label\": 0}, {\"x1\": 0.09829508356004336, \"x2\": -0.04726099856795136, \"label\": 0}, {\"x1\": 0.08379132432786196, \"x2\": -0.04624903232291829, \"label\": 0}, {\"x1\": -0.06020249958820078, \"x2\": 0.18224660860187533, \"label\": 1}, {\"x1\": -0.20111680386851127, \"x2\": -0.1413605941615042, \"label\": 0}]}}, {\"mode\": \"vega-lite\"});\n",
       "</script>"
      ],
      "text/plain": [
       "alt.VConcatChart(...)"
      ]
     },
     "execution_count": 17,
     "metadata": {},
     "output_type": "execute_result"
    }
   ],
   "source": [
    "man = manifold.TSNE(n_components=2, init='pca', random_state=0)\n",
    "tsne = man.fit_transform(X_train)\n",
    "man = manifold.MDS(max_iter=100, n_init=1, random_state=0)\n",
    "mds = man.fit_transform(X_train)\n",
    "man = manifold.LocallyLinearEmbedding(n_neighbors=20, n_components=2,\n",
    "                                      eigen_solver='auto',\n",
    "                                      method=\"standard\",\n",
    "                                      random_state=0)\n",
    "lle = man.fit_transform(X_train)\n",
    "\n",
    "# Construct GTM\n",
    "gtm = eGTM().fit(X_train)\n",
    "gtm_means = gtm.transform(X_train,model=\"means\")\n",
    "gtm_modes = gtm.transform(X_train,model=\"modes\")\n",
    "\n",
    "dgtm_modes = pd.DataFrame(gtm_modes, columns=[\"x1\", \"x2\"])\n",
    "dgtm_modes[\"label\"] = y_train\n",
    "\n",
    "gtm_modes = alt.Chart(dgtm_modes).mark_circle().encode(\n",
    "    x='x1',\n",
    "    y='x2',\n",
    "    color=alt.Color('label:N',\n",
    "                    scale=alt.Scale(scheme='viridis')),\n",
    "    size=alt.value(50),\n",
    "    tooltip=['x1','x2','label:N']\n",
    ").properties(title = \"GTM (modes)\", width = 100, height = 100)\n",
    "\n",
    "dgtm_means = pd.DataFrame(gtm_means, columns=[\"x1\", \"x2\"])\n",
    "dgtm_means[\"label\"] = y_train\n",
    "\n",
    "gtm_means = alt.Chart(dgtm_means).mark_circle().encode(\n",
    "    x='x1',\n",
    "    y='x2',\n",
    "    color=alt.Color('label:N',\n",
    "                    scale=alt.Scale(scheme='viridis')),\n",
    "    size=alt.value(50),\n",
    "    tooltip=['x1','x2','label:N']\n",
    ").properties(title = \"GTM (means)\", width = 100, height = 100)\n",
    "\n",
    "#Construct activity landscape\n",
    "dfclassmap = pd.DataFrame(gtm_best.optimizedModel.matX, columns=[\"x1\", \"x2\"])\n",
    "dfclassmap[\"label\"] = gtm_best.node_label\n",
    "\n",
    "# Classification map\n",
    "gtc = alt.Chart(dfclassmap).mark_square().encode(\n",
    "    x='x1',\n",
    "    y='x2',\n",
    "    color=alt.Color('label:N',\n",
    "                    scale=alt.Scale(scheme='viridis')),\n",
    "    size=alt.value(50),\n",
    "    tooltip=['x1','x2', 'label:N'],\n",
    "    #opacity='density'\n",
    ").properties(title = \"GTM class map\",width = 100, height = 100)\n",
    "\n",
    "dtsne = pd.DataFrame(tsne, columns=[\"x1\", \"x2\"])\n",
    "dmds = pd.DataFrame(mds, columns=[\"x1\", \"x2\"])\n",
    "dlle = pd.DataFrame(lle, columns=[\"x1\", \"x2\"])\n",
    "dtsne[\"label\"] = y_train\n",
    "dmds[\"label\"] = y_train\n",
    "dlle[\"label\"] = y_train\n",
    "\n",
    "tsne = alt.Chart(dtsne).mark_circle().encode(\n",
    "    x='x1',\n",
    "    y='x2',\n",
    "    color=alt.Color('label:N',\n",
    "                    scale=alt.Scale(scheme='viridis')),\n",
    "    size=alt.value(50),\n",
    "    tooltip=['x1','x2','label:N']\n",
    ").properties(title = \"t-SNE\", width = 100, height = 100)\n",
    "\n",
    "mds = alt.Chart(dmds).mark_circle().encode(\n",
    "    x='x1',\n",
    "    y='x2',\n",
    "    color=alt.Color('label:N',\n",
    "                    scale=alt.Scale(scheme='viridis')),\n",
    "    size=alt.value(50),\n",
    "    tooltip=['x1','x2','label:N']\n",
    ").properties(title = \"MDS\", width = 100, height = 100)\n",
    "\n",
    "lle = alt.Chart(dlle).mark_circle().encode(\n",
    "    x='x1',\n",
    "    y='x2',\n",
    "    color=alt.Color('label:N',\n",
    "                    scale=alt.Scale(scheme='viridis')),\n",
    "    size=alt.value(50),\n",
    "    tooltip=['x1','x2','label:N']\n",
    ").properties(title = \"LLE\", width = 100, height = 100)\n",
    "\n",
    "\n",
    "gtm = gtm_means | gtm_modes | gtc\n",
    "others = tsne | mds | lle\n",
    "\n",
    "alt.vconcat(gtm, others)"
   ]
  },
  {
   "cell_type": "markdown",
   "metadata": {},
   "source": [
    "##### Validação cruzada 5 vezes"
   ]
  },
  {
   "cell_type": "code",
   "execution_count": 41,
   "metadata": {},
   "outputs": [
    {
     "name": "stdout",
     "output_type": "stream",
     "text": [
      "Classes:  [0 1]\n",
      "nClasses:  2\n",
      "\n",
      "model\tparameters=C\trecall with CI\tprecision with CI\tF1-score with CI\n",
      "\n"
     ]
    },
    {
     "ename": "KeyError",
     "evalue": "\"None of [Int64Index([ 0,  1,  3,  5,  6,  7,  8,  9, 12, 13, 14, 15, 16, 17, 18, 19, 20,\\n            21, 22, 23, 24, 25, 27, 28, 29, 31, 34, 35, 36, 37, 38, 39, 41, 42,\\n            44, 47, 48, 49, 50, 51, 52, 53, 54, 55],\\n           dtype='int64')] are in the [columns]\"",
     "output_type": "error",
     "traceback": [
      "\u001b[1;31m---------------------------------------------------------------------------\u001b[0m",
      "\u001b[1;31mKeyError\u001b[0m                                  Traceback (most recent call last)",
      "\u001b[1;32m<ipython-input-41-a94cc187e46a>\u001b[0m in \u001b[0;36m<module>\u001b[1;34m\u001b[0m\n\u001b[1;32m----> 1\u001b[1;33m \u001b[0mugtm\u001b[0m\u001b[1;33m.\u001b[0m\u001b[0mcrossvalidateSVC\u001b[0m\u001b[1;33m(\u001b[0m\u001b[0mdata\u001b[0m\u001b[1;33m=\u001b[0m\u001b[0mX_train\u001b[0m\u001b[1;33m,\u001b[0m\u001b[0mlabels\u001b[0m\u001b[1;33m=\u001b[0m\u001b[0my_train\u001b[0m\u001b[1;33m,\u001b[0m\u001b[0mC\u001b[0m\u001b[1;33m=\u001b[0m\u001b[1;36m1\u001b[0m\u001b[1;33m)\u001b[0m\u001b[1;33m\u001b[0m\u001b[1;33m\u001b[0m\u001b[0m\n\u001b[0m",
      "\u001b[1;32m~\\anaconda3\\lib\\site-packages\\ugtm\\ugtm_crossvalidate.py\u001b[0m in \u001b[0;36mcrossvalidateSVC\u001b[1;34m(data, labels, C, doPCA, n_components, missing, missing_strategy, random_state, n_folds, n_repetitions)\u001b[0m\n\u001b[0;32m    696\u001b[0m             \u001b[0my_pred\u001b[0m \u001b[1;33m=\u001b[0m \u001b[1;33m[\u001b[0m\u001b[1;33m]\u001b[0m\u001b[1;33m\u001b[0m\u001b[1;33m\u001b[0m\u001b[0m\n\u001b[0;32m    697\u001b[0m             \u001b[1;32mfor\u001b[0m \u001b[0mtrain_index\u001b[0m\u001b[1;33m,\u001b[0m \u001b[0mtest_index\u001b[0m \u001b[1;32min\u001b[0m \u001b[0mss\u001b[0m\u001b[1;33m.\u001b[0m\u001b[0msplit\u001b[0m\u001b[1;33m(\u001b[0m\u001b[0mdata\u001b[0m\u001b[1;33m)\u001b[0m\u001b[1;33m:\u001b[0m\u001b[1;33m\u001b[0m\u001b[1;33m\u001b[0m\u001b[0m\n\u001b[1;32m--> 698\u001b[1;33m                 \u001b[0mtrain\u001b[0m \u001b[1;33m=\u001b[0m \u001b[0mnp\u001b[0m\u001b[1;33m.\u001b[0m\u001b[0mcopy\u001b[0m\u001b[1;33m(\u001b[0m\u001b[0mdata\u001b[0m\u001b[1;33m[\u001b[0m\u001b[0mtrain_index\u001b[0m\u001b[1;33m]\u001b[0m\u001b[1;33m)\u001b[0m\u001b[1;33m\u001b[0m\u001b[1;33m\u001b[0m\u001b[0m\n\u001b[0m\u001b[0;32m    699\u001b[0m                 \u001b[0mtest\u001b[0m \u001b[1;33m=\u001b[0m \u001b[0mnp\u001b[0m\u001b[1;33m.\u001b[0m\u001b[0mcopy\u001b[0m\u001b[1;33m(\u001b[0m\u001b[0mdata\u001b[0m\u001b[1;33m[\u001b[0m\u001b[0mtest_index\u001b[0m\u001b[1;33m]\u001b[0m\u001b[1;33m)\u001b[0m\u001b[1;33m\u001b[0m\u001b[1;33m\u001b[0m\u001b[0m\n\u001b[0;32m    700\u001b[0m                 processed = ugtm_preprocess.processTrainTest(train, test,\n",
      "\u001b[1;32m~\\anaconda3\\lib\\site-packages\\pandas\\core\\frame.py\u001b[0m in \u001b[0;36m__getitem__\u001b[1;34m(self, key)\u001b[0m\n\u001b[0;32m   2804\u001b[0m             \u001b[1;32mif\u001b[0m \u001b[0mis_iterator\u001b[0m\u001b[1;33m(\u001b[0m\u001b[0mkey\u001b[0m\u001b[1;33m)\u001b[0m\u001b[1;33m:\u001b[0m\u001b[1;33m\u001b[0m\u001b[1;33m\u001b[0m\u001b[0m\n\u001b[0;32m   2805\u001b[0m                 \u001b[0mkey\u001b[0m \u001b[1;33m=\u001b[0m \u001b[0mlist\u001b[0m\u001b[1;33m(\u001b[0m\u001b[0mkey\u001b[0m\u001b[1;33m)\u001b[0m\u001b[1;33m\u001b[0m\u001b[1;33m\u001b[0m\u001b[0m\n\u001b[1;32m-> 2806\u001b[1;33m             \u001b[0mindexer\u001b[0m \u001b[1;33m=\u001b[0m \u001b[0mself\u001b[0m\u001b[1;33m.\u001b[0m\u001b[0mloc\u001b[0m\u001b[1;33m.\u001b[0m\u001b[0m_get_listlike_indexer\u001b[0m\u001b[1;33m(\u001b[0m\u001b[0mkey\u001b[0m\u001b[1;33m,\u001b[0m \u001b[0maxis\u001b[0m\u001b[1;33m=\u001b[0m\u001b[1;36m1\u001b[0m\u001b[1;33m,\u001b[0m \u001b[0mraise_missing\u001b[0m\u001b[1;33m=\u001b[0m\u001b[1;32mTrue\u001b[0m\u001b[1;33m)\u001b[0m\u001b[1;33m[\u001b[0m\u001b[1;36m1\u001b[0m\u001b[1;33m]\u001b[0m\u001b[1;33m\u001b[0m\u001b[1;33m\u001b[0m\u001b[0m\n\u001b[0m\u001b[0;32m   2807\u001b[0m \u001b[1;33m\u001b[0m\u001b[0m\n\u001b[0;32m   2808\u001b[0m         \u001b[1;31m# take() does not accept boolean indexers\u001b[0m\u001b[1;33m\u001b[0m\u001b[1;33m\u001b[0m\u001b[1;33m\u001b[0m\u001b[0m\n",
      "\u001b[1;32m~\\anaconda3\\lib\\site-packages\\pandas\\core\\indexing.py\u001b[0m in \u001b[0;36m_get_listlike_indexer\u001b[1;34m(self, key, axis, raise_missing)\u001b[0m\n\u001b[0;32m   1550\u001b[0m \u001b[1;33m\u001b[0m\u001b[0m\n\u001b[0;32m   1551\u001b[0m         self._validate_read_indexer(\n\u001b[1;32m-> 1552\u001b[1;33m             \u001b[0mkeyarr\u001b[0m\u001b[1;33m,\u001b[0m \u001b[0mindexer\u001b[0m\u001b[1;33m,\u001b[0m \u001b[0mo\u001b[0m\u001b[1;33m.\u001b[0m\u001b[0m_get_axis_number\u001b[0m\u001b[1;33m(\u001b[0m\u001b[0maxis\u001b[0m\u001b[1;33m)\u001b[0m\u001b[1;33m,\u001b[0m \u001b[0mraise_missing\u001b[0m\u001b[1;33m=\u001b[0m\u001b[0mraise_missing\u001b[0m\u001b[1;33m\u001b[0m\u001b[1;33m\u001b[0m\u001b[0m\n\u001b[0m\u001b[0;32m   1553\u001b[0m         )\n\u001b[0;32m   1554\u001b[0m         \u001b[1;32mreturn\u001b[0m \u001b[0mkeyarr\u001b[0m\u001b[1;33m,\u001b[0m \u001b[0mindexer\u001b[0m\u001b[1;33m\u001b[0m\u001b[1;33m\u001b[0m\u001b[0m\n",
      "\u001b[1;32m~\\anaconda3\\lib\\site-packages\\pandas\\core\\indexing.py\u001b[0m in \u001b[0;36m_validate_read_indexer\u001b[1;34m(self, key, indexer, axis, raise_missing)\u001b[0m\n\u001b[0;32m   1637\u001b[0m             \u001b[1;32mif\u001b[0m \u001b[0mmissing\u001b[0m \u001b[1;33m==\u001b[0m \u001b[0mlen\u001b[0m\u001b[1;33m(\u001b[0m\u001b[0mindexer\u001b[0m\u001b[1;33m)\u001b[0m\u001b[1;33m:\u001b[0m\u001b[1;33m\u001b[0m\u001b[1;33m\u001b[0m\u001b[0m\n\u001b[0;32m   1638\u001b[0m                 \u001b[0maxis_name\u001b[0m \u001b[1;33m=\u001b[0m \u001b[0mself\u001b[0m\u001b[1;33m.\u001b[0m\u001b[0mobj\u001b[0m\u001b[1;33m.\u001b[0m\u001b[0m_get_axis_name\u001b[0m\u001b[1;33m(\u001b[0m\u001b[0maxis\u001b[0m\u001b[1;33m)\u001b[0m\u001b[1;33m\u001b[0m\u001b[1;33m\u001b[0m\u001b[0m\n\u001b[1;32m-> 1639\u001b[1;33m                 \u001b[1;32mraise\u001b[0m \u001b[0mKeyError\u001b[0m\u001b[1;33m(\u001b[0m\u001b[1;34mf\"None of [{key}] are in the [{axis_name}]\"\u001b[0m\u001b[1;33m)\u001b[0m\u001b[1;33m\u001b[0m\u001b[1;33m\u001b[0m\u001b[0m\n\u001b[0m\u001b[0;32m   1640\u001b[0m \u001b[1;33m\u001b[0m\u001b[0m\n\u001b[0;32m   1641\u001b[0m             \u001b[1;31m# We (temporarily) allow for some missing keys with .loc, except in\u001b[0m\u001b[1;33m\u001b[0m\u001b[1;33m\u001b[0m\u001b[1;33m\u001b[0m\u001b[0m\n",
      "\u001b[1;31mKeyError\u001b[0m: \"None of [Int64Index([ 0,  1,  3,  5,  6,  7,  8,  9, 12, 13, 14, 15, 16, 17, 18, 19, 20,\\n            21, 22, 23, 24, 25, 27, 28, 29, 31, 34, 35, 36, 37, 38, 39, 41, 42,\\n            44, 47, 48, 49, 50, 51, 52, 53, 54, 55],\\n           dtype='int64')] are in the [columns]\""
     ]
    }
   ],
   "source": [
    "ugtm.crossvalidateSVC(data=X_train,labels=y_train,C=1)"
   ]
  },
  {
   "cell_type": "code",
   "execution_count": null,
   "metadata": {},
   "outputs": [],
   "source": []
  }
 ],
 "metadata": {
  "kernelspec": {
   "display_name": "Python 3",
   "language": "python",
   "name": "python3"
  },
  "language_info": {
   "codemirror_mode": {
    "name": "ipython",
    "version": 3
   },
   "file_extension": ".py",
   "mimetype": "text/x-python",
   "name": "python",
   "nbconvert_exporter": "python",
   "pygments_lexer": "ipython3",
   "version": "3.7.6"
  }
 },
 "nbformat": 4,
 "nbformat_minor": 4
}
