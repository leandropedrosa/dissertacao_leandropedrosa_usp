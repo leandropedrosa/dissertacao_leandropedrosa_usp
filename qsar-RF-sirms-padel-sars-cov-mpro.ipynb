{
 "cells": [
  {
   "cell_type": "markdown",
   "metadata": {},
   "source": [
    "# Modelos QSAR para protease principal 3C-like protease (M<sup>pro</sup>) de SARS-CoV"
   ]
  },
  {
   "cell_type": "markdown",
   "metadata": {},
   "source": [
    "- Os modelos neste fluxo de trabalho foram gerados usando descritores 2D sirms.py e PaDEL-Descriptor.\n",
    "- Foram coletados 114 pontos de dados para 113 compostos testados em SARS-CoV Mpro (CHEMBL3927). Os dados foram cuidadosamente selecionados seguindo os protocolos desenvolvidos por Fourches et al. Após a curadoria, 91 compostos (27 ativos e 64 inativos) foram mantidos para modelagem.\n",
    "- Devido ao tamanho limitado dos dados, validamos os modelos apenas por meio de validação cruzada externa de 5 vezes e aplicamos um limite de 70% de confiança para avaliar os modelos e selecionar resultados para validação experimental."
   ]
  },
  {
   "cell_type": "markdown",
   "metadata": {},
   "source": [
    "## Importando Módulos e Funções\n",
    "         \n",
    "    "
   ]
  },
  {
   "cell_type": "code",
   "execution_count": 18,
   "metadata": {},
   "outputs": [
    {
     "data": {
      "text/html": [
       "<style>.container { width:90% !important; }</style>"
      ],
      "text/plain": [
       "<IPython.core.display.HTML object>"
      ]
     },
     "metadata": {},
     "output_type": "display_data"
    }
   ],
   "source": [
    "import numpy as np\n",
    "import pandas as pd\n",
    "import seaborn as sns\n",
    "import matplotlib.pyplot as plt\n",
    "import _pickle as cPickle\n",
    "import gzip\n",
    "from time import time\n",
    "\n",
    "from BalanceBySim import *\n",
    "from stats import *\n",
    "from sklearn.metrics import classification_report, plot_roc_curve, auc\n",
    "\n",
    "from collections import Counter\n",
    "\n",
    "from rdkit import Chem, DataStructs\n",
    "from rdkit.Chem import Draw\n",
    "from rdkit.Chem import PandasTools\n",
    "from rdkit.Chem.Draw import IPythonConsole\n",
    "\n",
    "from sklearn import metrics\n",
    "from sklearn.ensemble import RandomForestClassifier\n",
    "from sklearn.feature_selection import VarianceThreshold\n",
    "from sklearn.model_selection import train_test_split, cross_validate, GridSearchCV, RandomizedSearchCV, cross_val_score\n",
    "from sklearn.model_selection import permutation_test_score, StratifiedKFold\n",
    "\n",
    "def warn(*args, **kwargs):\n",
    "    pass\n",
    "import warnings\n",
    "warnings.filterwarnings(\"ignore\")\n",
    "warnings.warn = warn\n",
    "\n",
    "from IPython.core.interactiveshell import InteractiveShell\n",
    "InteractiveShell.ast_node_interactivity = \"all\"\n",
    "%matplotlib inline\n",
    "%reload_ext autoreload\n",
    "%autoreload 2\n",
    "Draw.DrawingOptions.atomLabelFontFace = \"DejaVu Sans\"\n",
    "Draw.DrawingOptions.atomLabelFontSize = 18\n",
    "\n",
    "from IPython.core.display import display, HTML\n",
    "display(HTML(\"<style>.container { width:90% !important; }</style>\"))\n",
    "hiper_parametros = 'grid_search' #grid_search, random_search"
   ]
  },
  {
   "cell_type": "markdown",
   "metadata": {},
   "source": [
    "## Carregar dados"
   ]
  },
  {
   "cell_type": "code",
   "execution_count": 19,
   "metadata": {},
   "outputs": [
    {
     "name": "stdout",
     "output_type": "stream",
     "text": [
      "Dados originais:  (113, 11)\n",
      "Dados mantidos:  (113, 11)\n"
     ]
    },
    {
     "data": {
      "text/html": [
       "<div>\n",
       "<style scoped>\n",
       "    .dataframe tbody tr th:only-of-type {\n",
       "        vertical-align: middle;\n",
       "    }\n",
       "\n",
       "    .dataframe tbody tr th {\n",
       "        vertical-align: top;\n",
       "    }\n",
       "\n",
       "    .dataframe thead th {\n",
       "        text-align: right;\n",
       "    }\n",
       "</style>\n",
       "<table border=\"1\" class=\"dataframe\">\n",
       "  <thead>\n",
       "    <tr style=\"text-align: right;\">\n",
       "      <th></th>\n",
       "      <th>Compound_name</th>\n",
       "      <th>Standard Type</th>\n",
       "      <th>Standard Relation</th>\n",
       "      <th>Standard Value</th>\n",
       "      <th>Standard Units</th>\n",
       "      <th>Outcome</th>\n",
       "      <th>InChIKey</th>\n",
       "      <th>Molecule ChEMBL ID</th>\n",
       "      <th>ID</th>\n",
       "      <th>SMILES</th>\n",
       "      <th>Mol</th>\n",
       "    </tr>\n",
       "  </thead>\n",
       "  <tbody>\n",
       "    <tr>\n",
       "      <th>count</th>\n",
       "      <td>113</td>\n",
       "      <td>113</td>\n",
       "      <td>113</td>\n",
       "      <td>113</td>\n",
       "      <td>113</td>\n",
       "      <td>113</td>\n",
       "      <td>113</td>\n",
       "      <td>113</td>\n",
       "      <td>113</td>\n",
       "      <td>113</td>\n",
       "      <td>113</td>\n",
       "    </tr>\n",
       "    <tr>\n",
       "      <th>unique</th>\n",
       "      <td>74</td>\n",
       "      <td>2</td>\n",
       "      <td>4</td>\n",
       "      <td>94</td>\n",
       "      <td>1</td>\n",
       "      <td>2</td>\n",
       "      <td>113</td>\n",
       "      <td>92</td>\n",
       "      <td>1</td>\n",
       "      <td>113</td>\n",
       "      <td>113</td>\n",
       "    </tr>\n",
       "    <tr>\n",
       "      <th>top</th>\n",
       "      <td></td>\n",
       "      <td>IC50</td>\n",
       "      <td>'='</td>\n",
       "      <td>2.44889419684223E12</td>\n",
       "      <td>nM</td>\n",
       "      <td>Inactive</td>\n",
       "      <td>UUBHDKPSKIQBFE-UHFFFAOYSA-N</td>\n",
       "      <td></td>\n",
       "      <td></td>\n",
       "      <td>COc1cccc(-c2[nH]c(SCC(=O)Nc3ccc(C(C)=O)cc3)nc(...</td>\n",
       "      <td><img data-content=\"rdkit/molecule\" src=\"data:image/png;base64,iVBORw0KGgoAAAANSUhEUgAAAMgAAADICAIAAAAiOjnJAAAABmJLR0QA/wD/AP+gvaeTAAAVXklEQVR4nO2deVBTV/vHnwSoIqBixEBZVbaCS2go1ICCli62jNWCtKNvQB1Lp9MWbN++SqfTl9JOX7HvTI220xFsx19sdVocrYDa1g15FVqQTVxYgqCCLGHfQjAk5/fHgRhZIkvuvXjv+fwF957c8w358jznntzzHB5CCAgEU8NnWgCBnRBjESiBGItACcRYBEogxiJQAjEWgRKIsQiUQIxFoARiLAIlEGMRKIEYi0AJxFgESiDGIlACMRaBEoixCJRAjEWgBGIsAiUQYxEogRiLQAnEWARKIMYiUAIxFoESjBnr6NGjf/75Z3t7O21qCKyBN9a6QoTQggULWlpaAMDBwSE4ODgoKEgsFvv7+8+cOZNekYQnjzGNpVarP/300/z8/KKiIpVKpT/+1FNP+fn5BQzh4eHB4/HoUkt4YhjTWHq0Wm15eXlhYWFhYWFOTk5JSYlWq9WfnT179tKlS8VicXBw8KpVq4RCIcWCCU8GjzfWMHp6ekpKSgqHuHXrluFZBwcHsViMfSaRSGbNmmVStYQnhgkbaxgNDQ0FBQXYZLm5uW1tbfpTZmZmXl5e4iECAwMtLCymLJjwZDBVYxmi0+nKysry8/Pz8/Pz8vKuX78+MDCgP2tjYyMWi19++eWEhART9UiYtpjSWMPQaDSlpaVXrlzB8aysrAwhtHTp0rVr1+7Zs4eiTgnTBAqNNYzm5ubs7OzNmzdrtdqGhgY7Ozt6+iUwAn0z73Z2dpGRkWFhYVqtNiMjg7Z+CYxA91c6ERERAHD8+HGa+yXQDH2pENPa2mpvb8/j8ZqammxtbensmkAndEcsgUAQGhqq0WhOnTpFc9cEOmHg6QaSDbkA3akQAJqamhwdHS0sLJRKpY2NDc29E+iBgYglFAolEolarf7999/p751AD8w86EeyIethIBUCQF1dnYuLi6WlZXNzM/mimpUwE7GcnJwCAgJUKtXZs2cZEUCgGsaeeSfZkN0wkwoBoKamZtGiRXPmzFEqlU899RQjGgjUwVjEWrhwoUgk6uzsPH/+PFMaCNTB5PIvkg1ZDGOpEAAqKiq8vb0FAkFjY6O5uTlTMghUwGTE8vLy8vHxaW1tzc7OZlAGgQoYXglNsiFbYTIVAsC1a9dEIpFQKLx//76ZmRmDSgimheGItXz5ck9Pz6amptzcXGaVEEwL80VBNmzYACQbsg6GUyEAXL16NSAgwMnJ6d69e2S1PmtgPmL5+/u7urrW1dVdvXqVaS0Ek8G8sXg8HsmG7IN5Y8HQpMOxY8eYFkIwGcyPsQBAp9M5OzvX19cXFxeLRCKm5RBMwLSIWHw+f/369QDwwQcfZGZmNjU1Ma2IMFWmRcQCgMLCwh9++OHAgQP4V305JLFYvHLlyrlz5zIrjzBRpouxAKCsrOynn37Ky8srKCjo6urSHzc3N/f19Q0ICAgMDAwICPDx8SFz9NOfaWQsQ6qrq/VlagoKCvr7+/WnrKysRCKRPp75+voyqJMwFtPUWIZoNJrKysqcnBxsNVwOSX/WMGlKJBKBQMCgVIKeJ8BYw+js7Lx+/Tr2WX5+vlKpNDxLCjxPE548Yw2jqqoqf4ji4mK1Wq0/NXPmTD8/v4SEhHXr1jGokJs88cYyZGBgoKKiQl/gubi4WKfThYaGbtmyJSYmhml13IJVxhpGV1dXcnLy7t27V69effHiRablcAs2GwsAuru7FyxYoNFo6uvrFyxYwLQcDjEtZt6pw8bG5oUXXtBqtenp6Uxr4RYsNxaQx+oZguWpEADa29vt7e0RQo2NjfPmzWNaDldgf8SytbUNCQkhxSlphv3GApINmYD9qRCGilOam5srlcrZs2czLYcTcCJiCYXC4ODg/v7+M2fOMK2FK3DCWACwefP7ISF7LlwIZloIV+BEKgSA+/fB2RksLUGpBCsrptVwAK5ELEdHCAwElQpIbUp64IqxACAiAgCA3BrSA1dSIQDcuQOLFoG1NSiVQB7TohoORSw3NxCJoLsbLlxgWgoH4JCxgGRDGuFQKgSAykrw8gKBABobgdSmpBRuRSxPT/D1hdZWuHSJaSlsh1vGApIN6YJz+eDNN6G3F956i2kdbIdbY6wniL6+Pj6fPzAwYPVkflHAuVT4RJCZmenr6xsTE+Pp6ZmamqrT6ZhWNHEQl5DJEACSyUY5NdZxmikuLg4JCcEfzfz58/EPgYGBf//9N9PSJgYXI9aOHVBVxbSIEbS2tsbHx/v7+2dnZ8+bN08mkzU0NKSlpbm4uOTl5a1YsSIqKurevXtMyxw3TDubVnDEAkASyfBTDEasBw8eyGSyOXPmAICFhUVcXFx7e7v+bG9vb2JiIq4VMGvWrMTExL6+PmaETgQuGmvUhMiUsc6dO6cvmBMWFnbjxo1Rm927d08qleJmzs7OcrmcZp0ThYvGQghJJAgAKRQPT9FvrIqKivDwcOwVT0/PzMzMx74kKytr+fLl+CWhoaElJSU06JwcHDWWQjE8IdJprPb29l27ds2YMQMA5s6dm5ycrFarx/larVYrl8vxqm4+ny+VSpuamihVOzk4aiw04g5R/7NMhq5fp0rASFs0NjYaaZ+Xl9fa2jryOLYm3pkWW7O/v58q0ZOCu8ZCjyZEbKwbNwZH9wsXorg4dPky0ulM1rthIgsJCXlsIuvt7XVxcbG1tZXJZBqNZmSDioqK1157TZ9MT506ZTKtU4bTxjJMiNhYlZUoNhYtWDBoL+ywf/4T5eZOyWG1tbVSqRRv6OLk5CSXy3XjuFxtbe2aNWuwb5YsWXL+/PlRm41z+E8znDYWGuM+cWAAZWWh999Hjo4PHeboiN5/H2VnPxgYGBh/jyMnC1Qq1YQ0Z2RkLF68GPsmPDy8qqpqZJuRExYdHR0T6sXkcN1YaCghjjV4v3EDJSYiT8/BNkFBhwUCgVQqzcjIMD6s0el0eHoTAHg83saNG+/cuTM52dg3eKkt9k1nZ+fIZi0tLXFxcbiktEAgkMlkE/ofMC3EWIMJ8bF3hQUF6JNP0Lp17+rnlufNm7dly5bMzMyR93RXr14NCgrCzcRi8ZUrV6Yuvr6+PjY2FvvGwcEhJSVlVN8UFRWtWrUKd+3n55ednT31ricBV4xVVobKykY3FjL6HeJIbty4kZycrPcNznHh4eFyubyrqwt//Hw+X//xa7VaE76RgoKC4ODBZbfPPvvs5cuXR22WkZGxcOFCfQKtrq42oYbxwAlj9fWhpUvRrFnItP+9FRUV//nPf8Risd5hlpaWeDg1c+bMTz75pLu725T9DYGTrKurq943oyZZlUqVlJQ0a9YsLKyyspIKMWPBCWO99x4CQO7uqKuLkuvfvXtXJpMFBQXxeLz58+evXr369u3blPRkAL4tsLS0xCFz165do/q4rq4uMjJSIBBs3bqVakmGsN9Yp08jHg/NmIGKiijva+nSpQBQWFhIeU9DjGcio7KyEgDc3d1pU4VY/9jM/fsQEwMIwZ494OdHeXfmtC/9cXJyOnz4cFZWlkgkqquri4mJCQ0Nra2tpVnGSNhsLJ0OoqOhpQXWroW4OKbVUElISEhhYaFcLhcKhdXV1dOhIiabF1N89RVcvAhCIRw6BEztYl5VVVVUVOTh4eFHccDk8/nR0dGvv/56VVXVdHhMnrURKz8fvvwS+Hz4+WcQChmT8ccff7z55ps//vgjPd3NmTPH8C6VQdhprI6Ojq++qtBoYOdOCAtjWg0nYaexYmNjMzK8//GPY198wbQUrsJCYx08ePDYsWPW1tb//rfIwoJpNVyFbcZSKBQfffQRABw4cMDDw4NpOdyFxrvCffsgLQ1ycwEAJBKIioL4+MFTAwOPLeF4ns9/YHTdZnBw8IwZM6Kionp6erZu3bp582bTyCZMClqMVVUFMTGDlsLk5kJuLqSlgVwO7u6gUsHQk5Bj8facOXc6O400KCoqOnToUElJibu7+759+0winDBpaDEWdlVsLPzrX+DuDgBQVQX//S+kpkJMDOTkgIUFrF1r/BqrLC2f6esz0qCkpOS7776zsLA4cuSIjY2NCeUTJgH1xtq3D3JzQSZ7mPgAwN0dUlLAxwd27IB9+yA+Hh5X2l9u9Oz9+/dFIhFCaM+ePQEBASaQTZga1A/e09IA4BFX6cEHcYOpUVxc3N3dvXLlyh07dkz9aoSpQ72xcBIci9jYR8Zek6Wzs7O/v7+5udlws3ECg7BkumHDhg3PPPNMeXn5xx9/zLQWAsB0+RK6pweGFqKMhf/s2bVdXUYapKSkbNq06fvvv3/xxRfXr19vUn2ECUO9sSQSSE2FlJTRz6amgkQCOh0olcYv09rfrzQ63eDq6pqcnBwfH79t2zY/Pz/9k7sERqDeWFFRkJs7eOs3DDzbFBUFNjbQ2Gj8Mvk8ns5oVUuBQCASiS5evJieni6VSrOysvCCFgIz0PGYKl65Fxv7sLyLQoFiY0cvVDU12tra8FK+pKQk0155POCHrgwfTf72228B4L333qNfjB72PpqckzOYED08gMcDHg88PAaToNz4/NSEsbW1PXz4sJmZWVJS0iVSzZ056LorzMkBmQwkksFfJRKQySAnZ3Ai3qSEhITs2rVLp9NJpdK2tjaTX58wHmicboiPh5wcQAgQgpyc0adMTURSUpJEIqmrq3v77bep64VgBJbMYw3D3Nz8l19+sbW1PXHiRGpqKtNyuAg7jQUAzs7O2FLx8fGlpaVMyYiOjq6qqvr888/p6e7atWu//vorPX0Zh7XGAoDIyMht27ap1epNmzb1GX0ygjpmz569ePFifcV26mhra4uPjxeLxdu3b29oaKC6u8fCZmMBwP79+729vW/evLlz506mtVCFRqPZu3fv4sWL9+/fz+fzt2/fjus1MAydcxuMUFpaigt1nDx5ktKO1Go1rpBG5y4Sw8r5XR+tfGpZWRkAuLq60qYKcaF2A0Jo7969AGBra3v37l2TX1ylUmVkZEilUlxQz87Ozs3NLS0tzeQdDaOyslJfzdvDw2OsHi9cuODj42Nra2tmZjZWQUAq4ISxdDrdunXrAGDVqlWmKnLX2dl59OjRiIgIw7yzbNky/XeUL7300s2bN03S1zAMq3lbW1snJiaOWs1boVDgdw0A9vb2WOeMGTMSEhIoqq9kCCeMhRBSKpVPP/00AHz55ZdTuU5bW5tcLt+4caPhMnYfH5/ExERcgEqj0aSkpNjZ2QGAubl5bGysUqk00ZsYrOYtFArBaDXvnp6exMRE7DwrKyu8S8rIinCUFpLkirEQQpcuXTIzMzM3N59E4caWlha5XB4eHo5Lq+PPNSgoSCaT1dXVjWzf2toaFxeHi88Yqac9Uf0ikQj3HhISUlxcPLKNTqeTy+X29vYAwOPxpFJpQ0ODYYOCggLDGpZjFQScOhwyFkIoISEBAJydnUetyj8SpVKJ/WQxtPLVzMwM+6m+vv6xLy8rK3vllVfwC729vc+cOTM52eOs5p2Xl/f888/j7p577rnc3NxRr2ZYEHCKVXeNwC1jaTSaFStWAEBERISRZvoKfThx4KFJWFiYTCabxP4i46mnPRbDyvaNVc27rq5O7zxHR8fx1JEf55UnDbeMhRC6ffs2vn07ePDgsFPV1dX6io/YB5aWlrhq7RTLpo+znvYwFAqFo6MjjiubN2+ura0d2UalUiUnJ1tbW2O1YxWMHIuamprIyEj8ZtcEvHrn1IMJvCujcM5YCKG0tDT8b3rr1i30uCrIJux3osNnrVYrFouNjIQyMjLc3Nz0sbCmpmZywvDo7f9eL5W7dJx+vbu5yASDes4Za/fu3YcOHcIL8IVCoWF9ByN1203IhIbPDQ0No1bzLiwsXLlyJb6ISYq5DwwMVBxR/+rXKXfpOLyw468EVV/LlHYR4paxent7rays+Hy+QqHw9fVdtmwZAIxzpwkTMpXhM6XbT/R36gp39/3s3iF36TjyTGfJN30Dk/2TcMtYx44dA4CgoCCEUH9/f0lJSVZW1tdff71///5x3ieakIkOn2nbMKezWnvp3V65S4fcpeO3kK5hA68zG7rPbHj8MI5bxnrrrbcA4JtvvtEf0Wg0+NGDsrIyRiSNcyrh3LlzPj4+OPeFhYVRNKdvSP1lTXpYN7bX2U097eWDcZEYazhqtRrflxnu/3H27FkA8PX1ZVAYenTyMzAw0PBr7PLy8ldffRWfonlTQq0GVRzp/0XUKXfp+GlRx18JKnWrjhhrOOnp6QDg7+9vePCdd94BgMTERIZEPWTk1zUVFRXTYRvVvhbdXwmqwws75C4dN1PVxFjDiY6OBoDdu3frj2i1WgcHBwAoLS1lUJgh7e3tH374IZ7ox7NTZmZm7777bnNzM7PCWm8OXI7vHegnqfBRHjx4gMvql5eX6w/i9WEeHh4MChsVnP4+++yzNWvWTB/TY8ZprOlRu4F6Ll682NbWtmzZMi8vL/3B48ePA0BERARzukbHy8vr9OnTTKuYEix/NFnPSA8hhE6ePAnT0lgsgBsRS6vdWVtr7+8f8cYb+mN5eXm1tbVubm7TZCsHlsGNiPW//7n/8ccXXV2+S5boj+EY9sYbb/CY2meH1XAjYh0/DgCwcaPhsQ/Kyx1XrFhB8iA1cMBYOh389hsAgKGHiopcTp3aYW8PQ0/GEUwLB1Lh339DfT24ucHQ1DbAUAyLjAQ+B/4CTMCBiKX3kOFY6sQJgEdjGGF8rD1hPZ5mPGS0TB4bWLQIamrgr78eZr2bN2HJEpg/HxoagPbNdjkC2xNBQQHU1ICjIwQGPjyIY9iGDcRV1MF2Y2EPRUQ8kgf1BwmUwfZU6O0NFRWQnQ2rVg0eUSjA0xPmzoWmJhhaJEgwOazOBRoNREfDpUtgsFBiMFytW0dcRSlsj1gjee45KCiA9HQYqmtAoAJWR6yRIAQxMSAQwEsvMS2F5XAvYhFogb13hfv2QVDQYFn5oCAge67SCxsj1sidgjF4vwIKKssTRsLGiKXfKVihGCwrr1AMbowYE8O0OM5A6fPRDCCTIQAkk03sFMHUsC4VBgVBbi6M9aZ4PJBIICeHXk1chHWpkJadggmPhXXGIkwPiLEIlEDGWARKYF3EiooCgNGnQ/U7BRNogOnbUgqgcadgwliwLhVicEIcBpl5pxHWpUIMjTsFE0aFpRGLwDQsjVgEpiHGIlACMRaBEoixCJRAjEWgBGIsAiUQYxEogRiLQAnEWARKIMYiUAIxFoESiLEIlECMRaAEYiwCJRBjESiBGItACcRYBEogxiJQAjEWgRKIsQiUQIxFoARiLAIlEGMRKIEYi0AJ/w/nAeKaQAkT1gAAAABJRU5ErkJggg==\" alt=\"Mol\"/></td>\n",
       "    </tr>\n",
       "    <tr>\n",
       "      <th>freq</th>\n",
       "      <td>8</td>\n",
       "      <td>88</td>\n",
       "      <td>89</td>\n",
       "      <td>5</td>\n",
       "      <td>113</td>\n",
       "      <td>73</td>\n",
       "      <td>1</td>\n",
       "      <td>22</td>\n",
       "      <td>113</td>\n",
       "      <td>1</td>\n",
       "      <td>1</td>\n",
       "    </tr>\n",
       "  </tbody>\n",
       "</table>\n",
       "</div>"
      ],
      "text/plain": [
       "       Compound_name Standard Type Standard Relation       Standard Value  \\\n",
       "count            113           113               113                  113   \n",
       "unique            74             2                 4                   94   \n",
       "top                           IC50               '='  2.44889419684223E12   \n",
       "freq               8            88                89                    5   \n",
       "\n",
       "       Standard Units   Outcome                     InChIKey  \\\n",
       "count             113       113                          113   \n",
       "unique              1         2                          113   \n",
       "top                nM  Inactive  UUBHDKPSKIQBFE-UHFFFAOYSA-N   \n",
       "freq              113        73                            1   \n",
       "\n",
       "       Molecule ChEMBL ID   ID  \\\n",
       "count                 113  113   \n",
       "unique                 92    1   \n",
       "top                              \n",
       "freq                   22  113   \n",
       "\n",
       "                                                   SMILES  \\\n",
       "count                                                 113   \n",
       "unique                                                113   \n",
       "top     COc1cccc(-c2[nH]c(SCC(=O)Nc3ccc(C(C)=O)cc3)nc(...   \n",
       "freq                                                    1   \n",
       "\n",
       "                                                      Mol  \n",
       "count                                                 113  \n",
       "unique                                                113  \n",
       "top     <img data-content=\"rdkit/molecule\" src=\"data:i...  \n",
       "freq                                                    1  "
      ]
     },
     "execution_count": 19,
     "metadata": {},
     "output_type": "execute_result"
    }
   ],
   "source": [
    "# Definir caminho do arquivo\n",
    "file = 'datasets/curated_data/chembl-pdb-sars-cov-3C-like-proteinase.sdf.gz'\n",
    "sdfInfo = dict(smilesName='SMILES', molColName='ROMol')\n",
    "moldf = PandasTools.LoadSDF(file, **sdfInfo)\n",
    "print('Dados originais: ', moldf.shape)\n",
    "# Renomear ROMol\n",
    "moldf = moldf.rename(columns={'ROMol': 'Mol'})\n",
    "# Remover moléculas RDKit ausentes\n",
    "moldf = moldf[pd.notnull(moldf['Mol'])]\n",
    "if 'StandardizerResult' in moldf.columns:\n",
    "    moldf = moldf.drop(columns='StandardizerResult')\n",
    "# Colunas\n",
    "print('Dados mantidos: ', moldf.shape)\n",
    "moldf.describe()"
   ]
  },
  {
   "cell_type": "markdown",
   "metadata": {},
   "source": [
    "## Forma dos dados"
   ]
  },
  {
   "cell_type": "code",
   "execution_count": 20,
   "metadata": {},
   "outputs": [
    {
     "name": "stdout",
     "output_type": "stream",
     "text": [
      "\u001b[1mForma do conjunto de treinamento:\n",
      "\u001b[0m\n",
      "\t\t Classe 1: 40\n",
      "\t\t Classe 0: 73\n",
      "\t\t Número total de compostos: 113\n"
     ]
    }
   ],
   "source": [
    "moldf['Outcome'] = moldf['Outcome'].replace('Active', 1)\n",
    "moldf['Outcome'] = moldf['Outcome'].replace('Inactive', 0)\n",
    "\n",
    "classes = Counter(moldf['Outcome'])\n",
    "print('\\033[1m' + 'Forma do conjunto de treinamento:' + '\\n' + '\\033[0m')\n",
    "for key, value in classes.items():\n",
    "    print('\\t\\t Classe %d: %d' % (key, value))\n",
    "print('\\t\\t Número total de compostos: %d' % (len(moldf['Outcome'])))"
   ]
  },
  {
   "cell_type": "markdown",
   "metadata": {},
   "source": [
    "# SiRMS"
   ]
  },
  {
   "cell_type": "markdown",
   "metadata": {},
   "source": [
    "## Descritores de importação\n",
    "\n",
    "Os descritores foram calculados externamente usando o SiRMS.py. Descritores com baixa variância e correlacionados foram removidos do http://www.qsar4u.com/pages/sirms.php usando o módulo Métodos de Análise de Dados."
   ]
  },
  {
   "cell_type": "code",
   "execution_count": 21,
   "metadata": {
    "scrolled": true
   },
   "outputs": [
    {
     "data": {
      "text/html": [
       "<div>\n",
       "<style scoped>\n",
       "    .dataframe tbody tr th:only-of-type {\n",
       "        vertical-align: middle;\n",
       "    }\n",
       "\n",
       "    .dataframe tbody tr th {\n",
       "        vertical-align: top;\n",
       "    }\n",
       "\n",
       "    .dataframe thead th {\n",
       "        text-align: right;\n",
       "    }\n",
       "</style>\n",
       "<table border=\"1\" class=\"dataframe\">\n",
       "  <thead>\n",
       "    <tr style=\"text-align: right;\">\n",
       "      <th></th>\n",
       "      <th>|S|n|||2|||elm|C#C</th>\n",
       "      <th>|S|n|||2|||elm|C#N</th>\n",
       "      <th>|S|n|||2|||elm|C-C</th>\n",
       "      <th>|S|n|||2|||elm|C-Cl</th>\n",
       "      <th>|S|n|||2|||elm|C-F</th>\n",
       "      <th>|S|n|||2|||elm|C-H</th>\n",
       "      <th>|S|n|||2|||elm|C-I</th>\n",
       "      <th>|S|n|||2|||elm|C-N</th>\n",
       "      <th>|S|n|||2|||elm|C-O</th>\n",
       "      <th>|S|n|||2|||elm|C-S</th>\n",
       "      <th>...</th>\n",
       "      <th>|S|n|||6|||elm|C=C-N(-C-S)-H</th>\n",
       "      <th>|S|n|||6|||elm|C=C-N(-C:C)-H</th>\n",
       "      <th>|S|n|||6|||elm|C=C-N(-C=N)-H</th>\n",
       "      <th>|S|n|||6|||elm|C=C-N-C(:C):C</th>\n",
       "      <th>|S|n|||6|||elm|C=C-N-C(=N)-S</th>\n",
       "      <th>|S|n|||6|||elm|C=C-N-C-S-C</th>\n",
       "      <th>|S|n|||6|||elm|C=C-N-C:C-H</th>\n",
       "      <th>|S|n|||6|||elm|C=C-N-C:C:C</th>\n",
       "      <th>|S|n|||6|||elm|C=C-O-C(-H)-H</th>\n",
       "      <th>|S|n|||6|||elm|H-N(-H)-S(=O)=O</th>\n",
       "    </tr>\n",
       "  </thead>\n",
       "  <tbody>\n",
       "    <tr>\n",
       "      <th>0</th>\n",
       "      <td>0</td>\n",
       "      <td>0</td>\n",
       "      <td>17</td>\n",
       "      <td>0</td>\n",
       "      <td>0</td>\n",
       "      <td>34</td>\n",
       "      <td>0</td>\n",
       "      <td>10</td>\n",
       "      <td>1</td>\n",
       "      <td>0</td>\n",
       "      <td>...</td>\n",
       "      <td>0</td>\n",
       "      <td>0</td>\n",
       "      <td>0</td>\n",
       "      <td>0</td>\n",
       "      <td>0</td>\n",
       "      <td>0</td>\n",
       "      <td>0</td>\n",
       "      <td>0</td>\n",
       "      <td>0</td>\n",
       "      <td>0</td>\n",
       "    </tr>\n",
       "    <tr>\n",
       "      <th>1</th>\n",
       "      <td>0</td>\n",
       "      <td>0</td>\n",
       "      <td>8</td>\n",
       "      <td>0</td>\n",
       "      <td>0</td>\n",
       "      <td>31</td>\n",
       "      <td>0</td>\n",
       "      <td>9</td>\n",
       "      <td>0</td>\n",
       "      <td>0</td>\n",
       "      <td>...</td>\n",
       "      <td>0</td>\n",
       "      <td>0</td>\n",
       "      <td>0</td>\n",
       "      <td>0</td>\n",
       "      <td>0</td>\n",
       "      <td>0</td>\n",
       "      <td>0</td>\n",
       "      <td>0</td>\n",
       "      <td>0</td>\n",
       "      <td>0</td>\n",
       "    </tr>\n",
       "    <tr>\n",
       "      <th>2</th>\n",
       "      <td>0</td>\n",
       "      <td>0</td>\n",
       "      <td>17</td>\n",
       "      <td>0</td>\n",
       "      <td>0</td>\n",
       "      <td>32</td>\n",
       "      <td>0</td>\n",
       "      <td>9</td>\n",
       "      <td>0</td>\n",
       "      <td>0</td>\n",
       "      <td>...</td>\n",
       "      <td>0</td>\n",
       "      <td>0</td>\n",
       "      <td>0</td>\n",
       "      <td>0</td>\n",
       "      <td>0</td>\n",
       "      <td>0</td>\n",
       "      <td>0</td>\n",
       "      <td>0</td>\n",
       "      <td>0</td>\n",
       "      <td>0</td>\n",
       "    </tr>\n",
       "    <tr>\n",
       "      <th>3</th>\n",
       "      <td>0</td>\n",
       "      <td>0</td>\n",
       "      <td>8</td>\n",
       "      <td>0</td>\n",
       "      <td>0</td>\n",
       "      <td>25</td>\n",
       "      <td>0</td>\n",
       "      <td>4</td>\n",
       "      <td>1</td>\n",
       "      <td>0</td>\n",
       "      <td>...</td>\n",
       "      <td>0</td>\n",
       "      <td>0</td>\n",
       "      <td>0</td>\n",
       "      <td>0</td>\n",
       "      <td>0</td>\n",
       "      <td>0</td>\n",
       "      <td>0</td>\n",
       "      <td>0</td>\n",
       "      <td>0</td>\n",
       "      <td>0</td>\n",
       "    </tr>\n",
       "    <tr>\n",
       "      <th>4</th>\n",
       "      <td>0</td>\n",
       "      <td>0</td>\n",
       "      <td>16</td>\n",
       "      <td>0</td>\n",
       "      <td>0</td>\n",
       "      <td>27</td>\n",
       "      <td>0</td>\n",
       "      <td>11</td>\n",
       "      <td>4</td>\n",
       "      <td>0</td>\n",
       "      <td>...</td>\n",
       "      <td>0</td>\n",
       "      <td>0</td>\n",
       "      <td>0</td>\n",
       "      <td>0</td>\n",
       "      <td>0</td>\n",
       "      <td>0</td>\n",
       "      <td>0</td>\n",
       "      <td>0</td>\n",
       "      <td>0</td>\n",
       "      <td>0</td>\n",
       "    </tr>\n",
       "  </tbody>\n",
       "</table>\n",
       "<p>5 rows × 4842 columns</p>\n",
       "</div>"
      ],
      "text/plain": [
       "   |S|n|||2|||elm|C#C  |S|n|||2|||elm|C#N  |S|n|||2|||elm|C-C  \\\n",
       "0                   0                   0                  17   \n",
       "1                   0                   0                   8   \n",
       "2                   0                   0                  17   \n",
       "3                   0                   0                   8   \n",
       "4                   0                   0                  16   \n",
       "\n",
       "   |S|n|||2|||elm|C-Cl  |S|n|||2|||elm|C-F  |S|n|||2|||elm|C-H  \\\n",
       "0                    0                   0                  34   \n",
       "1                    0                   0                  31   \n",
       "2                    0                   0                  32   \n",
       "3                    0                   0                  25   \n",
       "4                    0                   0                  27   \n",
       "\n",
       "   |S|n|||2|||elm|C-I  |S|n|||2|||elm|C-N  |S|n|||2|||elm|C-O  \\\n",
       "0                   0                  10                   1   \n",
       "1                   0                   9                   0   \n",
       "2                   0                   9                   0   \n",
       "3                   0                   4                   1   \n",
       "4                   0                  11                   4   \n",
       "\n",
       "   |S|n|||2|||elm|C-S  ...  |S|n|||6|||elm|C=C-N(-C-S)-H  \\\n",
       "0                   0  ...                             0   \n",
       "1                   0  ...                             0   \n",
       "2                   0  ...                             0   \n",
       "3                   0  ...                             0   \n",
       "4                   0  ...                             0   \n",
       "\n",
       "   |S|n|||6|||elm|C=C-N(-C:C)-H  |S|n|||6|||elm|C=C-N(-C=N)-H  \\\n",
       "0                             0                             0   \n",
       "1                             0                             0   \n",
       "2                             0                             0   \n",
       "3                             0                             0   \n",
       "4                             0                             0   \n",
       "\n",
       "   |S|n|||6|||elm|C=C-N-C(:C):C  |S|n|||6|||elm|C=C-N-C(=N)-S  \\\n",
       "0                             0                             0   \n",
       "1                             0                             0   \n",
       "2                             0                             0   \n",
       "3                             0                             0   \n",
       "4                             0                             0   \n",
       "\n",
       "   |S|n|||6|||elm|C=C-N-C-S-C  |S|n|||6|||elm|C=C-N-C:C-H  \\\n",
       "0                           0                           0   \n",
       "1                           0                           0   \n",
       "2                           0                           0   \n",
       "3                           0                           0   \n",
       "4                           0                           0   \n",
       "\n",
       "   |S|n|||6|||elm|C=C-N-C:C:C  |S|n|||6|||elm|C=C-O-C(-H)-H  \\\n",
       "0                           0                             0   \n",
       "1                           0                             0   \n",
       "2                           0                             0   \n",
       "3                           0                             0   \n",
       "4                           0                             0   \n",
       "\n",
       "   |S|n|||6|||elm|H-N(-H)-S(=O)=O  \n",
       "0                               0  \n",
       "1                               0  \n",
       "2                               0  \n",
       "3                               0  \n",
       "4                               0  \n",
       "\n",
       "[5 rows x 4842 columns]"
      ]
     },
     "execution_count": 21,
     "metadata": {},
     "output_type": "execute_result"
    }
   ],
   "source": [
    "desc = pd.read_csv('descriptors/sirms_descritores.csv', sep='\\t')\n",
    "desc.drop(desc.columns[0:2], axis=1,inplace=True)\n",
    "descriptors = desc.columns.difference(moldf.columns).tolist()\n",
    "desc.head()"
   ]
  },
  {
   "cell_type": "code",
   "execution_count": 22,
   "metadata": {},
   "outputs": [
    {
     "name": "stdout",
     "output_type": "stream",
     "text": [
      "Forma do conjunto de treinamento: Counter({0: 73, 1: 40})\n",
      "Forma externa definida: Counter()\n"
     ]
    }
   ],
   "source": [
    "moldf_desc = pd.concat([moldf,desc], axis=1)\n",
    "balance_data = 'no'\n",
    "\n",
    "if balance_data == 'yes':\n",
    "    # Equilibre os dados usando 1/2 similaridade e 1/2 aleatória\n",
    "    moldf_desc = BalanceBySim(moldf_desc, 'Outcome', 2)\n",
    "    # Forma de impressão\n",
    "    print('Forma do conjunto de treinamento: %s' % Counter(moldf_desc['Outcome'].loc[moldf_desc['Set'] == 'train']))\n",
    "    print('Forma externa definida: %s' % Counter(moldf_desc['Outcome'].loc[moldf_desc['Set'] == 'ext']))\n",
    "      \n",
    "else:\n",
    "    moldf_desc['Set'] = 'train'\n",
    "    # Print shape\n",
    "    print('Forma do conjunto de treinamento: %s' % Counter(moldf_desc['Outcome']))\n",
    "    print('Forma externa definida: %s' % Counter(moldf_desc['Outcome'].loc[moldf_desc['Set'] == 'ext']))"
   ]
  },
  {
   "cell_type": "code",
   "execution_count": 23,
   "metadata": {
    "scrolled": true
   },
   "outputs": [
    {
     "data": {
      "text/plain": [
       "(113, 4842)"
      ]
     },
     "execution_count": 23,
     "metadata": {},
     "output_type": "execute_result"
    }
   ],
   "source": [
    "moldf_train = moldf_desc[(moldf_desc['Set'] == 'train')]\n",
    "\n",
    "y_train = moldf_train['Outcome'].to_numpy()\n",
    "X_train = moldf_train[descriptors]\n",
    "X_train.shape"
   ]
  },
  {
   "cell_type": "markdown",
   "metadata": {},
   "source": [
    "##### Remova variáveis constantes e quase constantes"
   ]
  },
  {
   "cell_type": "code",
   "execution_count": 24,
   "metadata": {},
   "outputs": [],
   "source": [
    "X_train = X_train.select_dtypes(exclude=['object'])\n",
    "X_train = X_train.dropna(axis=1, how='any')\n",
    "X_train = X_train.fillna(0)\n",
    "\n",
    "# Definir filtro de baixa variação (limite de 10%)\n",
    "def variance_filter(data, threshold=0.1):\n",
    "    selector = VarianceThreshold(threshold)\n",
    "    selector.fit(data)\n",
    "    return data[data.columns[selector.get_support(indices=True)]]\n",
    "\n",
    "# Aplicar filtro\n",
    "X_train = variance_filter(X_train)"
   ]
  },
  {
   "cell_type": "markdown",
   "metadata": {},
   "source": [
    "##### Remover variáveis correlacionadas"
   ]
  },
  {
   "cell_type": "code",
   "execution_count": 25,
   "metadata": {},
   "outputs": [
    {
     "name": "stdout",
     "output_type": "stream",
     "text": [
      "Wall time: 17.1 s\n"
     ]
    },
    {
     "data": {
      "text/plain": [
       "(113, 394)"
      ]
     },
     "execution_count": 25,
     "metadata": {},
     "output_type": "execute_result"
    }
   ],
   "source": [
    "%%time\n",
    "correlated_features = set()  \n",
    "correlation_matrix = X_train.corr()\n",
    "\n",
    "for i in range(len(correlation_matrix.columns)):  \n",
    "    for j in range(i):\n",
    "        if abs(correlation_matrix.iloc[i, j]) > 0.9:\n",
    "            colname = correlation_matrix.columns[i]\n",
    "            correlated_features.add(colname)\n",
    "\n",
    "X_train.drop(labels=correlated_features, axis=1, inplace=True)\n",
    "\n",
    "X_train.shape"
   ]
  },
  {
   "cell_type": "code",
   "execution_count": 12,
   "metadata": {},
   "outputs": [],
   "source": [
    "X_train.to_csv('descriptors/sirms-chembl-sars-cov-3C-like-proteinase-processed.txt', sep='\\t', index=False)"
   ]
  },
  {
   "cell_type": "code",
   "execution_count": 28,
   "metadata": {},
   "outputs": [],
   "source": [
    "def report(results, n_top=3):\n",
    "    for i in range(1, n_top + 1):\n",
    "        candidates = np.flatnonzero(results['rank_test_score'] == i)\n",
    "        for candidate in candidates:\n",
    "            print(\"Modelo com classificação: {0}\".format(i))\n",
    "            print(\"Escore médio de validação: {0:.3f} (std: {1:.3f})\"\n",
    "                  .format(results['mean_test_score'][candidate],\n",
    "                          results['std_test_score'][candidate]))\n",
    "            print(\"Parametros: {0}\".format(results['params'][candidate]))\n",
    "            print(\"\")"
   ]
  },
  {
   "cell_type": "markdown",
   "metadata": {},
   "source": [
    "## Construção de modelo"
   ]
  },
  {
   "cell_type": "markdown",
   "metadata": {},
   "source": [
    "##### Encontre os melhores parâmetros"
   ]
  },
  {
   "cell_type": "markdown",
   "metadata": {},
   "source": [
    "### Pesquisa em grade (Grid Search)"
   ]
  },
  {
   "cell_type": "code",
   "execution_count": 29,
   "metadata": {},
   "outputs": [],
   "source": [
    "def grid_search(classificador, grid_params, X_train, y_train):\n",
    "    n_iter_search = 20\n",
    "    # configuração detalhada = 10 imprimirá o progresso para cada 10 tarefas concluídas\n",
    "    grid_search = GridSearchCV(classificador, grid_params, n_jobs=-1, cv=5, verbose=1)\n",
    "    \n",
    "    start = time()\n",
    "    grid_search.fit(X_train, y_train)\n",
    "    print(\"GridSearchCV levou %.2f segundos para %d candidatos\"\n",
    "      \" configurações de parâmetros.\" % ((time() - start), n_iter_search))\n",
    "\n",
    "    return grid_search"
   ]
  },
  {
   "cell_type": "markdown",
   "metadata": {},
   "source": [
    "### Pesquisa aleatória (Random Search)"
   ]
  },
  {
   "cell_type": "code",
   "execution_count": 30,
   "metadata": {},
   "outputs": [],
   "source": [
    "def random_search(classificador, param_dist, X_train, y_train):\n",
    "    n_iter_search = 80\n",
    "    random_search = RandomizedSearchCV(classificador, param_distributions=param_dist, n_iter=n_iter_search, n_jobs=-1, cv=5, verbose=1)\n",
    "    \n",
    "    start = time()\n",
    "    random_search.fit(X_train, y_train)\n",
    "    print(\"RandomizedSearchCV levou %.2f segundos para %d candidatos\"\n",
    "      \" configurações de parâmetros.\" % ((time() - start), n_iter_search))\n",
    "    \n",
    "    return random_search"
   ]
  },
  {
   "cell_type": "markdown",
   "metadata": {},
   "source": [
    "### Dados de modelagem"
   ]
  },
  {
   "cell_type": "code",
   "execution_count": 31,
   "metadata": {},
   "outputs": [
    {
     "name": "stdout",
     "output_type": "stream",
     "text": [
      "Fitting 5 folds for each of 200 candidates, totalling 1000 fits\n"
     ]
    },
    {
     "name": "stderr",
     "output_type": "stream",
     "text": [
      "[Parallel(n_jobs=-1)]: Using backend LokyBackend with 4 concurrent workers.\n",
      "[Parallel(n_jobs=-1)]: Done  42 tasks      | elapsed:   15.6s\n",
      "[Parallel(n_jobs=-1)]: Done 192 tasks      | elapsed:  1.2min\n",
      "[Parallel(n_jobs=-1)]: Done 442 tasks      | elapsed:  2.7min\n",
      "[Parallel(n_jobs=-1)]: Done 792 tasks      | elapsed:  4.6min\n",
      "[Parallel(n_jobs=-1)]: Done 1000 out of 1000 | elapsed:  5.9min finished\n"
     ]
    },
    {
     "name": "stdout",
     "output_type": "stream",
     "text": [
      "GridSearchCV levou 358.28 segundos para 20 candidatos configurações de parâmetros.\n",
      "Fitting 5 folds for each of 200 candidates, totalling 1000 fits\n"
     ]
    },
    {
     "name": "stderr",
     "output_type": "stream",
     "text": [
      "[Parallel(n_jobs=-1)]: Using backend LokyBackend with 4 concurrent workers.\n",
      "[Parallel(n_jobs=-1)]: Done  42 tasks      | elapsed:   13.0s\n",
      "[Parallel(n_jobs=-1)]: Done 192 tasks      | elapsed:  1.1min\n",
      "[Parallel(n_jobs=-1)]: Done 442 tasks      | elapsed:  2.7min\n",
      "[Parallel(n_jobs=-1)]: Done 792 tasks      | elapsed:  4.6min\n",
      "[Parallel(n_jobs=-1)]: Done 1000 out of 1000 | elapsed:  5.8min finished\n"
     ]
    },
    {
     "name": "stdout",
     "output_type": "stream",
     "text": [
      "Modelo com classificação: 1\n",
      "Escore médio de validação: 0.797 (std: 0.057)\n",
      "Parametros: {'class_weight': {0: 0.8, 1: 0.2}, 'criterion': 'gini', 'max_features': 'auto', 'n_estimators': 1000, 'random_state': 24}\n",
      "\n",
      "Modelo com classificação: 1\n",
      "Escore médio de validação: 0.797 (std: 0.057)\n",
      "Parametros: {'class_weight': {0: 0.8, 1: 0.2}, 'criterion': 'gini', 'max_features': 'sqrt', 'n_estimators': 1000, 'random_state': 24}\n",
      "\n",
      "Modelo com classificação: 3\n",
      "Escore médio de validação: 0.789 (std: 0.073)\n",
      "Parametros: {'class_weight': {0: 0.8, 1: 0.2}, 'criterion': 'gini', 'max_features': 'auto', 'n_estimators': 500, 'random_state': 24}\n",
      "\n",
      "Modelo com classificação: 3\n",
      "Escore médio de validação: 0.789 (std: 0.073)\n",
      "Parametros: {'class_weight': {0: 0.8, 1: 0.2}, 'criterion': 'gini', 'max_features': 'auto', 'n_estimators': 750, 'random_state': 24}\n",
      "\n",
      "Modelo com classificação: 3\n",
      "Escore médio de validação: 0.789 (std: 0.073)\n",
      "Parametros: {'class_weight': {0: 0.8, 1: 0.2}, 'criterion': 'gini', 'max_features': 'sqrt', 'n_estimators': 500, 'random_state': 24}\n",
      "\n",
      "Modelo com classificação: 3\n",
      "Escore médio de validação: 0.789 (std: 0.073)\n",
      "Parametros: {'class_weight': {0: 0.8, 1: 0.2}, 'criterion': 'gini', 'max_features': 'sqrt', 'n_estimators': 750, 'random_state': 24}\n",
      "\n",
      "\n",
      "Grid Search Best params: {'class_weight': {0: 0.8, 1: 0.2}, 'criterion': 'gini', 'max_features': 'auto', 'n_estimators': 1000, 'random_state': 24}\n",
      "Score: 0.80\n",
      "Fitting 5 folds for each of 80 candidates, totalling 400 fits\n"
     ]
    },
    {
     "name": "stderr",
     "output_type": "stream",
     "text": [
      "[Parallel(n_jobs=-1)]: Using backend LokyBackend with 4 concurrent workers.\n",
      "[Parallel(n_jobs=-1)]: Done  42 tasks      | elapsed:   18.7s\n",
      "[Parallel(n_jobs=-1)]: Done 192 tasks      | elapsed:  1.5min\n",
      "[Parallel(n_jobs=-1)]: Done 400 out of 400 | elapsed:  2.7min finished\n"
     ]
    },
    {
     "name": "stdout",
     "output_type": "stream",
     "text": [
      "RandomizedSearchCV levou 165.45 segundos para 80 candidatos configurações de parâmetros.\n",
      "Fitting 5 folds for each of 80 candidates, totalling 400 fits\n"
     ]
    },
    {
     "name": "stderr",
     "output_type": "stream",
     "text": [
      "[Parallel(n_jobs=-1)]: Using backend LokyBackend with 4 concurrent workers.\n",
      "[Parallel(n_jobs=-1)]: Done  42 tasks      | elapsed:   15.5s\n",
      "[Parallel(n_jobs=-1)]: Done 192 tasks      | elapsed:  1.3min\n",
      "[Parallel(n_jobs=-1)]: Done 400 out of 400 | elapsed:  2.4min finished\n"
     ]
    },
    {
     "name": "stdout",
     "output_type": "stream",
     "text": [
      "Modelo com classificação: 1\n",
      "Escore médio de validação: 0.797 (std: 0.057)\n",
      "Parametros: {'random_state': 24, 'n_estimators': 1000, 'max_features': 'auto', 'criterion': 'gini', 'class_weight': {0: 0.8, 1: 0.2}}\n",
      "\n",
      "Modelo com classificação: 1\n",
      "Escore médio de validação: 0.797 (std: 0.057)\n",
      "Parametros: {'random_state': 24, 'n_estimators': 1000, 'max_features': 'sqrt', 'criterion': 'gini', 'class_weight': {0: 0.8, 1: 0.2}}\n",
      "\n",
      "Modelo com classificação: 3\n",
      "Escore médio de validação: 0.789 (std: 0.073)\n",
      "Parametros: {'random_state': 24, 'n_estimators': 500, 'max_features': 'sqrt', 'criterion': 'gini', 'class_weight': {0: 0.8, 1: 0.2}}\n",
      "\n",
      "Modelo com classificação: 3\n",
      "Escore médio de validação: 0.789 (std: 0.073)\n",
      "Parametros: {'random_state': 24, 'n_estimators': 750, 'max_features': 'auto', 'criterion': 'gini', 'class_weight': {0: 0.8, 1: 0.2}}\n",
      "\n",
      "Modelo com classificação: 3\n",
      "Escore médio de validação: 0.789 (std: 0.073)\n",
      "Parametros: {'random_state': 24, 'n_estimators': 750, 'max_features': 'sqrt', 'criterion': 'gini', 'class_weight': {0: 0.8, 1: 0.2}}\n",
      "\n",
      "\n",
      "Random Search Best params: {'random_state': 24, 'n_estimators': 1000, 'max_features': 'auto', 'criterion': 'gini', 'class_weight': {0: 0.8, 1: 0.2}}\n",
      "Score: 0.80\n",
      "Wall time: 16min 57s\n"
     ]
    }
   ],
   "source": [
    "%%time\n",
    "# Number of trees in random forest\n",
    "n_estimators = [100, 250, 500, 750, 1000]\n",
    "max_features = ['auto', 'sqrt']\n",
    "criterion = ['gini', 'entropy']\n",
    "if balance_data == 'yes':\n",
    "    class_weight = [None]\n",
    "else:\n",
    "    class_weight = [None,'balanced',\n",
    "                    {0:.9, 1:.1}, {0:.8, 1:.2}, {0:.7, 1:.3}, {0:.6, 1:.4},\n",
    "                    {0:.4, 1:.6}, {0:.3, 1:.7}, {0:.2, 1:.8}, {0:.1, 1:.9}]\n",
    "random_state = [24]\n",
    "\n",
    "# Create the random grid\n",
    "param_grid = {'n_estimators': n_estimators,\n",
    "              'max_features': max_features,\n",
    "              'criterion': criterion,\n",
    "              'random_state': random_state,\n",
    "              'class_weight': class_weight}\n",
    "\n",
    "# Grid Search\n",
    "rf_grid_sirms = grid_search(RandomForestClassifier(), param_grid, X_train, y_train)\n",
    "rf_grid_sirms.fit(X_train, y_train)\n",
    "report(rf_grid_sirms.cv_results_)\n",
    "print()\n",
    "print('Grid Search Best params: %s' % rf_grid_sirms.best_params_)\n",
    "print('Score: %.2f' % rf_grid_sirms.best_score_)\n",
    "\n",
    "# Random Search\n",
    "rf_random_sirms = random_search(RandomForestClassifier(), param_grid, X_train, y_train)\n",
    "rf_random_sirms.fit(X_train, y_train)\n",
    "report(rf_random_sirms.cv_results_)\n",
    "print()\n",
    "print('Random Search Best params: %s' % rf_random_sirms.best_params_)\n",
    "print('Score: %.2f' % rf_random_sirms.best_score_)"
   ]
  },
  {
   "cell_type": "markdown",
   "metadata": {},
   "source": [
    "##### Modelo com W/ melhores parâmetros"
   ]
  },
  {
   "cell_type": "code",
   "execution_count": 44,
   "metadata": {},
   "outputs": [
    {
     "data": {
      "text/plain": [
       "RandomForestClassifier(bootstrap=True, ccp_alpha=0.0,\n",
       "                       class_weight={0: 0.8, 1: 0.2}, criterion='gini',\n",
       "                       max_depth=None, max_features='auto', max_leaf_nodes=None,\n",
       "                       max_samples=None, min_impurity_decrease=0.0,\n",
       "                       min_impurity_split=None, min_samples_leaf=1,\n",
       "                       min_samples_split=2, min_weight_fraction_leaf=0.0,\n",
       "                       n_estimators=1000, n_jobs=-1, oob_score=False,\n",
       "                       random_state=24, verbose=0, warm_start=False)"
      ]
     },
     "execution_count": 44,
     "metadata": {},
     "output_type": "execute_result"
    }
   ],
   "source": [
    "#criando o modelo com os melhores parametros utilizando processamento paralelo\n",
    "rf_best = RandomForestClassifier(**rf_random_sirms.best_params_, n_jobs=-1)\n",
    "\n",
    "#Construa uma floresta de árvores a partir do conjunto de treinamento (X, y)\n",
    "rf_best.fit(X_train, y_train)\n",
    "\n",
    "# n_splits: int, padrão = 5 Número de dobras. Deve ser pelo menos 2.\n",
    "cross_val = StratifiedKFold(n_splits=5)"
   ]
  },
  {
   "cell_type": "markdown",
   "metadata": {},
   "source": [
    "#####  Área sob a curva ROC (AUC) "
   ]
  },
  {
   "cell_type": "code",
   "execution_count": 45,
   "metadata": {},
   "outputs": [],
   "source": [
    "def roc_auc(rf_best, cross_val, X_train, y_train):\n",
    "    tprs = []\n",
    "    aucs = []\n",
    "    mean_fpr = np.linspace(0, 1, 100)\n",
    "\n",
    "    fig, ax = plt.subplots(figsize=(10,6))\n",
    "    for i, (train_index, test_index) in enumerate(cross_val.split(X_train, y_train)):\n",
    "        rf_best.fit(X_train.iloc[train_index], y_train[train_index])\n",
    "        viz = plot_roc_curve(rf_best, X_train.iloc[test_index], y_train[test_index],\n",
    "                             name='ROC fold {}'.format(i),\n",
    "                             alpha=0.3, lw=1, ax=ax)\n",
    "        interp_tpr = np.interp(mean_fpr, viz.fpr, viz.tpr)\n",
    "        interp_tpr[0] = 0.0\n",
    "        tprs.append(interp_tpr)\n",
    "        aucs.append(viz.roc_auc)\n",
    "\n",
    "    ax.plot([0, 1], [0, 1], linestyle='--', lw=2, color='r',\n",
    "            label='Chance', alpha=.8, )\n",
    "\n",
    "    mean_tpr = np.mean(tprs, axis=0)\n",
    "    mean_tpr[-1] = 1.0\n",
    "    mean_auc = auc(mean_fpr, mean_tpr)\n",
    "    std_auc = np.std(aucs)\n",
    "    ax.plot(mean_fpr, mean_tpr, color='b',\n",
    "            label=r'Média ROC (AUC = %0.2f $\\pm$ %0.2f)' % (mean_auc, std_auc),\n",
    "            lw=2, alpha=.8)\n",
    "\n",
    "    std_tpr = np.std(tprs, axis=0)\n",
    "    tprs_upper = np.minimum(mean_tpr + std_tpr, 1)\n",
    "    tprs_lower = np.maximum(mean_tpr - std_tpr, 0)\n",
    "    ax.fill_between(mean_fpr, tprs_lower, tprs_upper, color='grey', alpha=.2,\n",
    "                    label=r'$\\pm$ 1 std. dev.')\n",
    "\n",
    "    ax.set(xlim=[-0.05, 1.05], ylim=[-0.05, 1.05],\n",
    "           title=\"Característica operacional do receptor\")\n",
    "    ax.legend(loc=\"lower right\")\n",
    "    plt.show()"
   ]
  },
  {
   "cell_type": "markdown",
   "metadata": {},
   "source": [
    "##### Validação cruzada 5 vezes Calcular DA"
   ]
  },
  {
   "cell_type": "code",
   "execution_count": 46,
   "metadata": {},
   "outputs": [
    {
     "data": {
      "image/png": "[encoded data removed]",
      "text/plain": [
       "<Figure size 720x432 with 1 Axes>"
      ]
     },
     "metadata": {
      "needs_background": "light"
     },
     "output_type": "display_data"
    }
   ],
   "source": [
    "roc_auc(rf_best, cross_val, X_train, y_train)\n",
    "\n",
    "# Parametros\n",
    "pred = []\n",
    "ad = []\n",
    "index = []\n",
    "cross_val = StratifiedKFold(n_splits=5)\n",
    "\n",
    "# Faça um loop de 5 vezes\n",
    "for train_index, test_index in cross_val.split(X_train, y_train):\n",
    "    \n",
    "    fold_model = rf_best.fit(X_train.iloc[train_index], y_train[train_index])\n",
    "    fold_pred = rf_best.predict(X_train.iloc[test_index])\n",
    "    fold_ad = rf_best.predict_proba(X_train.iloc[test_index])\n",
    "    pred.append(fold_pred)\n",
    "    ad.append(fold_ad)\n",
    "    index.append(test_index)"
   ]
  },
  {
   "cell_type": "code",
   "execution_count": 47,
   "metadata": {},
   "outputs": [
    {
     "name": "stdout",
     "output_type": "stream",
     "text": [
      "\u001b[1mCaracterísticas estatísticas de validação cruzada externa de 5 vezes dos modelos QSAR desenvolvidos SiRMS (grid_search)\n",
      "\u001b[0m\n"
     ]
    },
    {
     "data": {
      "text/html": [
       "<div>\n",
       "<style scoped>\n",
       "    .dataframe tbody tr th:only-of-type {\n",
       "        vertical-align: middle;\n",
       "    }\n",
       "\n",
       "    .dataframe tbody tr th {\n",
       "        vertical-align: top;\n",
       "    }\n",
       "\n",
       "    .dataframe thead th {\n",
       "        text-align: right;\n",
       "    }\n",
       "</style>\n",
       "<table border=\"1\" class=\"dataframe\">\n",
       "  <thead>\n",
       "    <tr style=\"text-align: right;\">\n",
       "      <th></th>\n",
       "      <th>Kappa</th>\n",
       "      <th>CCR</th>\n",
       "      <th>Sensibilidade</th>\n",
       "      <th>VPP</th>\n",
       "      <th>Especificidade</th>\n",
       "      <th>VPN</th>\n",
       "      <th>Acurácia</th>\n",
       "      <th>F1 Score</th>\n",
       "      <th>Cobertura</th>\n",
       "    </tr>\n",
       "  </thead>\n",
       "  <tbody>\n",
       "    <tr>\n",
       "      <th>SiRMS</th>\n",
       "      <td>0.55</td>\n",
       "      <td>0.77</td>\n",
       "      <td>0.68</td>\n",
       "      <td>0.73</td>\n",
       "      <td>0.86</td>\n",
       "      <td>0.83</td>\n",
       "      <td>0.80</td>\n",
       "      <td>0.70</td>\n",
       "      <td>1.00</td>\n",
       "    </tr>\n",
       "    <tr>\n",
       "      <th>SiRMS AD</th>\n",
       "      <td>0.62</td>\n",
       "      <td>0.80</td>\n",
       "      <td>0.68</td>\n",
       "      <td>0.81</td>\n",
       "      <td>0.92</td>\n",
       "      <td>0.85</td>\n",
       "      <td>0.84</td>\n",
       "      <td>0.74</td>\n",
       "      <td>0.65</td>\n",
       "    </tr>\n",
       "  </tbody>\n",
       "</table>\n",
       "</div>"
      ],
      "text/plain": [
       "          Kappa   CCR  Sensibilidade   VPP  Especificidade   VPN  Acurácia  \\\n",
       "SiRMS      0.55  0.77           0.68  0.73            0.86  0.83      0.80   \n",
       "SiRMS AD   0.62  0.80           0.68  0.81            0.92  0.85      0.84   \n",
       "\n",
       "          F1 Score  Cobertura  \n",
       "SiRMS         0.70       1.00  \n",
       "SiRMS AD      0.74       0.65  "
      ]
     },
     "execution_count": 47,
     "metadata": {},
     "output_type": "execute_result"
    }
   ],
   "source": [
    "threshold_ad = 0.70\n",
    "\n",
    "# Preparar resultados para exportar   \n",
    "fold_index = np.concatenate(index)    \n",
    "fold_pred = np.concatenate(pred)\n",
    "fold_ad = np.concatenate(ad)\n",
    "fold_ad = (np.amax(fold_ad, axis=1) >= threshold_ad).astype(str)\n",
    "five_fold_sirms = pd.DataFrame({'Prediction': fold_pred,'AD': fold_ad}, index=list(fold_index))\n",
    "five_fold_sirms.AD[five_fold_sirms.AD == 'False'] = np.nan\n",
    "five_fold_sirms.AD[five_fold_sirms.AD == 'True'] = five_fold_sirms.Prediction\n",
    "five_fold_sirms.sort_index(inplace=True)\n",
    "five_fold_sirms['y_train'] = pd.DataFrame(y_train)\n",
    "five_fold_sirms_ad = five_fold_sirms.dropna().astype(int)\n",
    "cobertura_5f = len(five_fold_sirms_ad) / len(five_fold_sirms)\n",
    "\n",
    "# estatísticas de sirms\n",
    "sirms = pd.DataFrame(stats(five_fold_sirms['y_train'], five_fold_sirms['Prediction']))\n",
    "sirms['Cobertura'] = 1.0\n",
    "\n",
    "# estatísticas de sirms AD\n",
    "sirms_ad = five_fold_sirms.dropna(subset=['AD']).astype(int)\n",
    "cobertura_sirms_ad = len(sirms_ad['AD']) / len(five_fold_sirms['y_train'])\n",
    "sirms_ad = pd.DataFrame(stats(sirms_ad['y_train'], sirms_ad['AD']))\n",
    "sirms_ad['Cobertura'] = round(cobertura_sirms_ad, 2)\n",
    "\n",
    "# imprimir estatísticas\n",
    "if hiper_parametros == 'random_search':\n",
    "    print('\\033[1m' + 'Características estatísticas de validação cruzada externa de 5 vezes dos modelos QSAR desenvolvidos SiRMS (random_search)' + '\\n' + '\\033[0m')\n",
    "if hiper_parametros == 'grid_search':\n",
    "    print('\\033[1m' + 'Características estatísticas de validação cruzada externa de 5 vezes dos modelos QSAR desenvolvidos SiRMS (grid_search)' + '\\n' + '\\033[0m')\n",
    "    \n",
    "sirms_5f_stats = sirms.append(sirms_ad)\n",
    "sirms_5f_stats.set_index([['SiRMS', 'SiRMS AD']], drop=True, inplace=True)\n",
    "sirms_5f_stats"
   ]
  },
  {
   "cell_type": "markdown",
   "metadata": {},
   "source": [
    "##### Prever conjunto retido externo após o balanceamento"
   ]
  },
  {
   "cell_type": "code",
   "execution_count": 48,
   "metadata": {},
   "outputs": [],
   "source": [
    "moldf_ext = moldf_desc[(moldf_desc['Set'] == 'ext')]\n",
    "descriptor_list = list(X_train.columns.values)\n",
    "\n",
    "if len(moldf_ext) > 0:\n",
    "    y_ext = moldf_ext['Outcome'].to_numpy()\n",
    "    X_ext = moldf_ext[descriptors]\n",
    "    \n",
    "    # Filtrar descritores não presentes no modelo\n",
    "    X_ext = X_ext[descriptor_list]\n",
    "    \n",
    "    # Fazer previsões\n",
    "    ext_set_sirms = rf_best.predict(X_ext)\n",
    "    ext_set_sirms_ad = rf_best.predict_proba(X_ext)\n",
    "    ext_set_sirms_ad = (np.amax(ext_set_sirms_ad, axis=1) >= threshold_ad).astype(str)\n",
    "    \n",
    "    # Preparar dados\n",
    "    ext_set_sirms = pd.DataFrame({'Prediction': ext_set_sirms,'AD': ext_set_sirms_ad})\n",
    "    ext_set_sirms.AD[ext_set_sirms.AD == 'False'] = np.nan\n",
    "    ext_set_sirms.AD[ext_set_sirms.AD == 'True'] = ext_set_sirms.Prediction\n",
    "    ext_set_sirms.sort_index(inplace=True)\n",
    "    ext_set_sirms['y_ext'] = pd.DataFrame(y_ext)\n",
    "    ext_set_sirms_ad = ext_set_sirms.dropna().astype(int)\n",
    "    cobertura_ext = len(ext_set_sirms_ad) / len(ext_set_sirms)\n",
    "    \n",
    "    # ext_set_sirms estatísticas\n",
    "    sirms_ext = pd.DataFrame(stats(ext_set_sirms['y_ext'], ext_set_sirms['Prediction']))\n",
    "    sirms_ext['Cobertura'] = 1.0\n",
    "    \n",
    "    # ext_set_sirms AD estatísticas\n",
    "    sirms_ext_ad = ext_set_sirms.dropna(subset=['AD']).astype(int)\n",
    "    cobertura_sirms_ext_ad = len(sirms_ext_ad['AD']) / len(ext_set_sirms['y_ext'])\n",
    "    sirms_ext_ad = pd.DataFrame(stats(sirms_ext_ad['y_ext'], sirms_ext_ad['AD']))\n",
    "    sirms_ext_ad['Cobertura'] = round(cobertura_sirms_ext_ad, 2)\n",
    "    \n",
    "    # imprimir estatísticas\n",
    "    print('\\033[1m' + 'Características estatísticas da previsão do conjunto retido na fonte por modelos SiRMS' + '\\n' + '\\033[0m')\n",
    "    ext_set_sirms_stats = sirms_ext.append(sirms_ext_ad)\n",
    "    ext_set_sirms_stats.set_index([['SiRMS Ext.', 'SiRMS Ext. AD']], drop=True, inplace=True)\n",
    "    ext_set_sirms_stats\n",
    "else:\n",
    "    pass"
   ]
  },
  {
   "cell_type": "markdown",
   "metadata": {},
   "source": [
    "##### Y-randomization"
   ]
  },
  {
   "cell_type": "code",
   "execution_count": 49,
   "metadata": {},
   "outputs": [
    {
     "name": "stderr",
     "output_type": "stream",
     "text": [
      "[Parallel(n_jobs=-1)]: Using backend LokyBackend with 4 concurrent workers.\n"
     ]
    },
    {
     "name": "stdout",
     "output_type": "stream",
     "text": [
      "True score =  0.77 \n",
      "Y-randomization =  0.49 \n",
      "p-value =  0.0476\n"
     ]
    },
    {
     "name": "stderr",
     "output_type": "stream",
     "text": [
      "[Parallel(n_jobs=-1)]: Done  20 out of  20 | elapsed:  1.4min finished\n"
     ]
    },
    {
     "data": {
      "text/plain": [
       "(<Figure size 720x432 with 1 Axes>,\n",
       " <matplotlib.axes._subplots.AxesSubplot at 0x1d1b60eab88>)"
      ]
     },
     "execution_count": 49,
     "metadata": {},
     "output_type": "execute_result"
    },
    {
     "data": {
      "text/plain": [
       "(array([1., 2., 2., 0., 1., 0., 2., 5., 4., 3.]),\n",
       " array([0.38 , 0.397, 0.414, 0.431, 0.448, 0.465, 0.482, 0.499, 0.516,\n",
       "        0.533, 0.55 ]),\n",
       " <a list of 10 Patch objects>)"
      ]
     },
     "execution_count": 49,
     "metadata": {},
     "output_type": "execute_result"
    },
    {
     "data": {
      "text/plain": [
       "<matplotlib.collections.LineCollection at 0x1d1b624a688>"
      ]
     },
     "execution_count": 49,
     "metadata": {},
     "output_type": "execute_result"
    },
    {
     "data": {
      "text/plain": [
       "<matplotlib.collections.LineCollection at 0x1d1b624ae08>"
      ]
     },
     "execution_count": 49,
     "metadata": {},
     "output_type": "execute_result"
    },
    {
     "data": {
      "text/plain": [
       "(0.0, 5.25)"
      ]
     },
     "execution_count": 49,
     "metadata": {},
     "output_type": "execute_result"
    },
    {
     "data": {
      "text/plain": [
       "<matplotlib.legend.Legend at 0x1d1b61323c8>"
      ]
     },
     "execution_count": 49,
     "metadata": {},
     "output_type": "execute_result"
    },
    {
     "data": {
      "text/plain": [
       "Text(0.5, 0, 'Score')"
      ]
     },
     "execution_count": 49,
     "metadata": {},
     "output_type": "execute_result"
    },
    {
     "data": {
      "image/png": "[encoded data removed]",
      "text/plain": [
       "<Figure size 720x432 with 1 Axes>"
      ]
     },
     "metadata": {
      "needs_background": "light"
     },
     "output_type": "display_data"
    }
   ],
   "source": [
    "permutations = 20\n",
    "score, permutation_scores, pvalue = permutation_test_score(rf_best, X_train, y_train,\n",
    "                                                           cv=5, scoring='balanced_accuracy',\n",
    "                                                           n_permutations=permutations,\n",
    "                                                           n_jobs=-1,\n",
    "                                                           verbose=1,\n",
    "                                                           random_state=24)\n",
    "print('True score = ', score.round(2),\n",
    "      '\\nY-randomization = ', np.mean(permutation_scores).round(2),\n",
    "      '\\np-value = ', pvalue.round(4))\n",
    "\n",
    "\n",
    "###############################################################################\n",
    "# View histogram of permutation scores\n",
    "plt.subplots(figsize=(10,6))\n",
    "plt.hist(permutation_scores.round(2), label='Permutation scores')\n",
    "ylim = plt.ylim()\n",
    "plt.vlines(score, ylim[0], ylim[1], linestyle='--',\n",
    "          color='g', linewidth=3, label='Classification Score'\n",
    "          ' (pvalue %s)' % pvalue.round(4))\n",
    "plt.vlines(1.0 / 2, ylim[0], ylim[1], linestyle='--',\n",
    "          color='k', linewidth=3, label='Luck')\n",
    "plt.ylim(ylim)\n",
    "plt.legend()\n",
    "plt.xlabel('Score')\n",
    "plt.show()"
   ]
  },
  {
   "cell_type": "markdown",
   "metadata": {},
   "source": [
    "##### Salvar modelo"
   ]
  },
  {
   "cell_type": "code",
   "execution_count": 47,
   "metadata": {},
   "outputs": [],
   "source": [
    "with gzip.GzipFile('model/sars-cov-3clpro-sirms_RF_ad_balanced.pgz', 'w') as f:\n",
    "    cPickle.dump(rf_best, f)"
   ]
  },
  {
   "cell_type": "markdown",
   "metadata": {},
   "source": [
    "### Estatísticas de plotagem"
   ]
  },
  {
   "cell_type": "code",
   "execution_count": 50,
   "metadata": {},
   "outputs": [],
   "source": [
    "# Exportar estatísticas\n",
    "if len(moldf_ext) > 0:\n",
    "    sirms_stats = pd.concat([sirms_5f_stats, ext_set_sirms_stats], axis=0)\n",
    "    sirms_stats\n",
    "else:\n",
    "    sirms_stats = sirms_5f_stats.copy()"
   ]
  },
  {
   "cell_type": "code",
   "execution_count": 51,
   "metadata": {},
   "outputs": [
    {
     "data": {
      "image/png": "[encoded data removed]",
      "text/plain": [
       "<Figure size 1040x650 with 1 Axes>"
      ]
     },
     "metadata": {
      "needs_background": "light"
     },
     "output_type": "display_data"
    }
   ],
   "source": [
    "# Estatísticas de transposição\n",
    "sirms_stats_t = sirms_stats.T\n",
    "sirms_stats_t = sirms_stats_t.reset_index()\n",
    "sirms_stats_t = sirms_stats_t.rename(columns={'index': 'Stats'})\n",
    "\n",
    "# Fazer enredo\n",
    "plt.style.use('seaborn-colorblind')\n",
    "fig, ax1 = plt.subplots(figsize=(8,5), dpi=130)\n",
    "\n",
    "sirms_stats_t.plot(kind='bar', ax=ax1, width=0.8)\n",
    "ax1.set_xticklabels(labels=sirms_stats_t['Stats'].tolist(), fontsize=14, rotation=0)\n",
    "ax1.axhline(y=.6, color='indianred', ls='dashed')\n",
    "ax1.legend_.remove()\n",
    "if hiper_parametros == 'random_search':\n",
    "    plt.title('Características estatísticas (random_search)', fontsize=16)\n",
    "if hiper_parametros == 'grid_search':\n",
    "    plt.title('Características estatísticas (grid_search)', fontsize=16)    \n",
    "ax1.set_yticks(np.arange(0, 1.1, 0.1))\n",
    "ax1.tick_params(labelsize=9)\n",
    "\n",
    "handles, labels = ax1.get_legend_handles_labels()\n",
    "ax1.legend(handles, labels, fontsize=12,\n",
    "            loc='upper center', bbox_to_anchor=(0.5, -0.09), ncol=4)\n",
    "fig.tight_layout()\n",
    "\n",
    "plt.savefig('statistics-sirms.png', bbox_inches='tight', transparent=False, format='png', dpi=300)\n",
    "plt.show();"
   ]
  },
  {
   "cell_type": "markdown",
   "metadata": {},
   "source": [
    "# PaDEL-Descriptor"
   ]
  },
  {
   "cell_type": "markdown",
   "metadata": {},
   "source": [
    "## Descritores de importação\n",
    "\n",
    "Os descritores foram calculados externamente usando o PaDEL-Descriptor"
   ]
  },
  {
   "cell_type": "code",
   "execution_count": 52,
   "metadata": {},
   "outputs": [
    {
     "data": {
      "text/html": [
       "<div>\n",
       "<style scoped>\n",
       "    .dataframe tbody tr th:only-of-type {\n",
       "        vertical-align: middle;\n",
       "    }\n",
       "\n",
       "    .dataframe tbody tr th {\n",
       "        vertical-align: top;\n",
       "    }\n",
       "\n",
       "    .dataframe thead th {\n",
       "        text-align: right;\n",
       "    }\n",
       "</style>\n",
       "<table border=\"1\" class=\"dataframe\">\n",
       "  <thead>\n",
       "    <tr style=\"text-align: right;\">\n",
       "      <th></th>\n",
       "      <th>nAcid</th>\n",
       "      <th>ALogP</th>\n",
       "      <th>ALogp2</th>\n",
       "      <th>AMR</th>\n",
       "      <th>apol</th>\n",
       "      <th>naAromAtom</th>\n",
       "      <th>nAromBond</th>\n",
       "      <th>nAtom</th>\n",
       "      <th>nHeavyAtom</th>\n",
       "      <th>nH</th>\n",
       "      <th>...</th>\n",
       "      <th>AMW</th>\n",
       "      <th>WTPT-1</th>\n",
       "      <th>WTPT-2</th>\n",
       "      <th>WTPT-3</th>\n",
       "      <th>WTPT-4</th>\n",
       "      <th>WTPT-5</th>\n",
       "      <th>WPATH</th>\n",
       "      <th>WPOL</th>\n",
       "      <th>XLogP</th>\n",
       "      <th>Zagreb</th>\n",
       "    </tr>\n",
       "  </thead>\n",
       "  <tbody>\n",
       "    <tr>\n",
       "      <th>0</th>\n",
       "      <td>0</td>\n",
       "      <td>-4.2977</td>\n",
       "      <td>18.470225</td>\n",
       "      <td>132.8391</td>\n",
       "      <td>84.652513</td>\n",
       "      <td>0</td>\n",
       "      <td>0</td>\n",
       "      <td>80</td>\n",
       "      <td>39</td>\n",
       "      <td>41</td>\n",
       "      <td>...</td>\n",
       "      <td>6.891334</td>\n",
       "      <td>75.570741</td>\n",
       "      <td>1.937711</td>\n",
       "      <td>38.322507</td>\n",
       "      <td>17.432368</td>\n",
       "      <td>20.890140</td>\n",
       "      <td>5667.0</td>\n",
       "      <td>54.0</td>\n",
       "      <td>-1.209</td>\n",
       "      <td>182.0</td>\n",
       "    </tr>\n",
       "    <tr>\n",
       "      <th>1</th>\n",
       "      <td>0</td>\n",
       "      <td>-1.7673</td>\n",
       "      <td>3.123349</td>\n",
       "      <td>69.7047</td>\n",
       "      <td>81.390169</td>\n",
       "      <td>20</td>\n",
       "      <td>21</td>\n",
       "      <td>71</td>\n",
       "      <td>38</td>\n",
       "      <td>33</td>\n",
       "      <td>...</td>\n",
       "      <td>7.257246</td>\n",
       "      <td>76.720926</td>\n",
       "      <td>2.018972</td>\n",
       "      <td>29.983053</td>\n",
       "      <td>7.558586</td>\n",
       "      <td>22.424467</td>\n",
       "      <td>4373.0</td>\n",
       "      <td>60.0</td>\n",
       "      <td>4.283</td>\n",
       "      <td>200.0</td>\n",
       "    </tr>\n",
       "    <tr>\n",
       "      <th>2</th>\n",
       "      <td>0</td>\n",
       "      <td>-2.3517</td>\n",
       "      <td>5.530493</td>\n",
       "      <td>111.7482</td>\n",
       "      <td>80.756927</td>\n",
       "      <td>5</td>\n",
       "      <td>5</td>\n",
       "      <td>76</td>\n",
       "      <td>37</td>\n",
       "      <td>39</td>\n",
       "      <td>...</td>\n",
       "      <td>6.859160</td>\n",
       "      <td>71.610666</td>\n",
       "      <td>1.935423</td>\n",
       "      <td>35.344750</td>\n",
       "      <td>15.491789</td>\n",
       "      <td>19.852961</td>\n",
       "      <td>4915.0</td>\n",
       "      <td>51.0</td>\n",
       "      <td>1.144</td>\n",
       "      <td>174.0</td>\n",
       "    </tr>\n",
       "    <tr>\n",
       "      <th>3</th>\n",
       "      <td>0</td>\n",
       "      <td>-1.4399</td>\n",
       "      <td>2.073312</td>\n",
       "      <td>48.8548</td>\n",
       "      <td>70.796204</td>\n",
       "      <td>18</td>\n",
       "      <td>18</td>\n",
       "      <td>60</td>\n",
       "      <td>32</td>\n",
       "      <td>28</td>\n",
       "      <td>...</td>\n",
       "      <td>7.136833</td>\n",
       "      <td>64.813560</td>\n",
       "      <td>2.025424</td>\n",
       "      <td>13.685079</td>\n",
       "      <td>7.585620</td>\n",
       "      <td>6.099459</td>\n",
       "      <td>3270.0</td>\n",
       "      <td>42.0</td>\n",
       "      <td>9.673</td>\n",
       "      <td>154.0</td>\n",
       "    </tr>\n",
       "    <tr>\n",
       "      <th>4</th>\n",
       "      <td>2</td>\n",
       "      <td>-5.9759</td>\n",
       "      <td>35.711381</td>\n",
       "      <td>117.1793</td>\n",
       "      <td>89.082134</td>\n",
       "      <td>6</td>\n",
       "      <td>6</td>\n",
       "      <td>83</td>\n",
       "      <td>45</td>\n",
       "      <td>38</td>\n",
       "      <td>...</td>\n",
       "      <td>7.689817</td>\n",
       "      <td>87.562513</td>\n",
       "      <td>1.945834</td>\n",
       "      <td>46.951878</td>\n",
       "      <td>29.497872</td>\n",
       "      <td>17.454006</td>\n",
       "      <td>7960.0</td>\n",
       "      <td>62.0</td>\n",
       "      <td>-2.633</td>\n",
       "      <td>208.0</td>\n",
       "    </tr>\n",
       "  </tbody>\n",
       "</table>\n",
       "<p>5 rows × 1444 columns</p>\n",
       "</div>"
      ],
      "text/plain": [
       "   nAcid   ALogP     ALogp2       AMR       apol  naAromAtom  nAromBond  \\\n",
       "0      0 -4.2977  18.470225  132.8391  84.652513           0          0   \n",
       "1      0 -1.7673   3.123349   69.7047  81.390169          20         21   \n",
       "2      0 -2.3517   5.530493  111.7482  80.756927           5          5   \n",
       "3      0 -1.4399   2.073312   48.8548  70.796204          18         18   \n",
       "4      2 -5.9759  35.711381  117.1793  89.082134           6          6   \n",
       "\n",
       "   nAtom  nHeavyAtom  nH  ...       AMW     WTPT-1    WTPT-2     WTPT-3  \\\n",
       "0     80          39  41  ...  6.891334  75.570741  1.937711  38.322507   \n",
       "1     71          38  33  ...  7.257246  76.720926  2.018972  29.983053   \n",
       "2     76          37  39  ...  6.859160  71.610666  1.935423  35.344750   \n",
       "3     60          32  28  ...  7.136833  64.813560  2.025424  13.685079   \n",
       "4     83          45  38  ...  7.689817  87.562513  1.945834  46.951878   \n",
       "\n",
       "      WTPT-4     WTPT-5   WPATH  WPOL  XLogP  Zagreb  \n",
       "0  17.432368  20.890140  5667.0  54.0 -1.209   182.0  \n",
       "1   7.558586  22.424467  4373.0  60.0  4.283   200.0  \n",
       "2  15.491789  19.852961  4915.0  51.0  1.144   174.0  \n",
       "3   7.585620   6.099459  3270.0  42.0  9.673   154.0  \n",
       "4  29.497872  17.454006  7960.0  62.0 -2.633   208.0  \n",
       "\n",
       "[5 rows x 1444 columns]"
      ]
     },
     "execution_count": 52,
     "metadata": {},
     "output_type": "execute_result"
    }
   ],
   "source": [
    "desc = pd.read_csv('descriptors/descritores_padel.csv', sep=',')\n",
    "desc.drop(desc.columns[0:1], axis=1,inplace=True)\n",
    "descriptors = desc.columns.difference(moldf.columns).tolist()\n",
    "desc.head()"
   ]
  },
  {
   "cell_type": "code",
   "execution_count": 53,
   "metadata": {},
   "outputs": [
    {
     "name": "stdout",
     "output_type": "stream",
     "text": [
      "Forma do conjunto de treinamento: Counter({0: 73, 1: 40})\n",
      "Forma externa definida: Counter()\n"
     ]
    }
   ],
   "source": [
    "moldf_desc = pd.concat([moldf,desc], axis=1)\n",
    "balance_data = 'no'\n",
    "\n",
    "if balance_data == 'yes':\n",
    "    # Equilibre os dados usando 1/2 similaridade e 1/2 aleatória\n",
    "    moldf_desc = BalanceBySim(moldf_desc, 'Outcome', 2)\n",
    "    # Forma de impressão\n",
    "    print('Forma do conjunto de treinamento: %s' % Counter(moldf_desc['Outcome'].loc[moldf_desc['Set'] == 'train']))\n",
    "    print('Forma externa definida: %s' % Counter(moldf_desc['Outcome'].loc[moldf_desc['Set'] == 'ext']))\n",
    "      \n",
    "else:\n",
    "    moldf_desc['Set'] = 'train'\n",
    "    # Forma de impressão\n",
    "    print('Forma do conjunto de treinamento: %s' % Counter(moldf_desc['Outcome']))\n",
    "    print('Forma externa definida: %s' % Counter(moldf_desc['Outcome'].loc[moldf_desc['Set'] == 'ext']))"
   ]
  },
  {
   "cell_type": "code",
   "execution_count": 56,
   "metadata": {},
   "outputs": [
    {
     "data": {
      "text/plain": [
       "(113, 1444)"
      ]
     },
     "execution_count": 56,
     "metadata": {},
     "output_type": "execute_result"
    }
   ],
   "source": [
    "moldf_train = moldf_desc[(moldf_desc['Set'] == 'train')]\n",
    "\n",
    "y_train = moldf_train['Outcome'].to_numpy()\n",
    "X_train = moldf_train[descriptors]\n",
    "X_train.shape"
   ]
  },
  {
   "cell_type": "markdown",
   "metadata": {},
   "source": [
    "##### Remover variáveis constantes e quase constantes"
   ]
  },
  {
   "cell_type": "code",
   "execution_count": 57,
   "metadata": {},
   "outputs": [],
   "source": [
    "X_train = X_train.select_dtypes(exclude=['object'])\n",
    "X_train = X_train.dropna(axis=1, how='any')\n",
    "X_train = X_train.fillna(0)\n",
    "\n",
    "# Definir filtro de baixa variação (limite de 10%)\n",
    "def variance_filter(data, threshold=0.1):\n",
    "    selector = VarianceThreshold(threshold)\n",
    "    selector.fit(data)\n",
    "    return data[data.columns[selector.get_support(indices=True)]]\n",
    "\n",
    "# Aplicar filtro\n",
    "X = variance_filter(X_train)"
   ]
  },
  {
   "cell_type": "markdown",
   "metadata": {},
   "source": [
    "##### Remover variáveis correlacionadas"
   ]
  },
  {
   "cell_type": "code",
   "execution_count": null,
   "metadata": {},
   "outputs": [],
   "source": [
    "correlated_features = set()  \n",
    "correlation_matrix = X_train.corr()\n",
    "\n",
    "for i in range(len(correlation_matrix.columns)):  \n",
    "    for j in range(i):\n",
    "        if abs(correlation_matrix.iloc[i, j]) > 0.9:\n",
    "            colname = correlation_matrix.columns[i]\n",
    "            correlated_features.add(colname)\n",
    "\n",
    "X_train.drop(labels=correlated_features, axis=1, inplace=True)\n",
    "\n",
    "X_train.shape"
   ]
  },
  {
   "cell_type": "code",
   "execution_count": null,
   "metadata": {},
   "outputs": [],
   "source": [
    "X_train.to_csv('descriptors/padel-chembl-sars-cov-3C-like-proteinase-processed.txt', sep='\\t', index=False)"
   ]
  },
  {
   "cell_type": "markdown",
   "metadata": {},
   "source": [
    "## Construção de modelo"
   ]
  },
  {
   "cell_type": "markdown",
   "metadata": {},
   "source": [
    "### Dados de modelagem"
   ]
  },
  {
   "cell_type": "markdown",
   "metadata": {},
   "source": [
    "##### Encontre os melhores parâmetros"
   ]
  },
  {
   "cell_type": "code",
   "execution_count": null,
   "metadata": {},
   "outputs": [],
   "source": [
    "if balance_data == 'yes':\n",
    "    class_weight = [None]\n",
    "else:\n",
    "    class_weight = [None,'balanced',\n",
    "                    {0:.9, 1:.1}, {0:.8, 1:.2}, {0:.7, 1:.3}, {0:.6, 1:.4},\n",
    "                    {0:.4, 1:.6}, {0:.3, 1:.7}, {0:.2, 1:.8}, {0:.1, 1:.9}]\n",
    "\n",
    "param_grid = {'criterion': ['entropy', 'gini'],\n",
    "               'max_features': ['auto', 'sqrt','log2'],\n",
    "               'class_weight': class_weight,\n",
    "               'random_state': [0, 24],\n",
    "               'min_samples_split':[2,5,10],\n",
    "               'min_samples_leaf':[1,2,4],\n",
    "               'bootstrap' : [True,False],\n",
    "               'max_depth': [1, 10, 20, 30, 40, 50, 60, 70, 80, 90, 100],\n",
    "               'n_estimators': list(np.linspace(151, 1200, 10, dtype = int))}\n",
    "\n",
    "# Grid Search\n",
    "rf_grid_padel = grid_search(RandomForestClassifier(), param_grid, X_train, y_train)\n",
    "rf_grid_padel.fit(X_train, y_train)\n",
    "report(rf_grid_padel.cv_results_)\n",
    "print()\n",
    "print('Grid Search Best params: %s' % rf_grid_padel.best_params_)\n",
    "print('Score: %.2f' % rf_grid_padel.best_score_)\n",
    "\n",
    "# Random Search\n",
    "rf_random_padel = random_search(RandomForestClassifier(), param_grid, X_train, y_train)\n",
    "rf_random_padel.fit(X_train, y_train)\n",
    "report(rf_random_padel.cv_results_)\n",
    "print()\n",
    "print('Random Search Best params: %s' % rf_random_padel.best_params_)\n",
    "print('Score: %.2f' % rf_random_sirms.best_score_)"
   ]
  },
  {
   "cell_type": "markdown",
   "metadata": {},
   "source": [
    "##### Modelo com / melhores parâmetros"
   ]
  },
  {
   "cell_type": "code",
   "execution_count": 93,
   "metadata": {},
   "outputs": [
    {
     "data": {
      "text/plain": [
       "RandomForestClassifier(bootstrap=True, ccp_alpha=0.0, class_weight='balanced',\n",
       "                       criterion='gini', max_depth=87, max_features='sqrt',\n",
       "                       max_leaf_nodes=None, max_samples=None,\n",
       "                       min_impurity_decrease=0.0, min_impurity_split=None,\n",
       "                       min_samples_leaf=2, min_samples_split=7,\n",
       "                       min_weight_fraction_leaf=0.0, n_estimators=933,\n",
       "                       n_jobs=-1, oob_score=False, random_state=24, verbose=0,\n",
       "                       warm_start=False)"
      ]
     },
     "execution_count": 93,
     "metadata": {},
     "output_type": "execute_result"
    }
   ],
   "source": [
    "#criando o modelo com os melhores parametros utilizando processamento paralelo\n",
    "rf_best = RandomForestClassifier(**rf_grid_padel.best_params_, n_jobs=-1)\n",
    "\n",
    "#Construa uma floresta de árvores a partir do conjunto de treinamento (X, y)\n",
    "rf_best.fit(X_train, y_train)"
   ]
  },
  {
   "cell_type": "markdown",
   "metadata": {},
   "source": [
    "##### Validação cruzada 5 vezes"
   ]
  },
  {
   "cell_type": "code",
   "execution_count": 96,
   "metadata": {},
   "outputs": [
    {
     "name": "stdout",
     "output_type": "stream",
     "text": [
      "\u001b[1mCaracterísticas estatísticas de validação cruzada externa de 5 vezes dos modelos QSAR desenvolvidos PaDEL (grid_search)\n",
      "\u001b[0m\n"
     ]
    },
    {
     "data": {
      "text/html": [
       "<div>\n",
       "<style scoped>\n",
       "    .dataframe tbody tr th:only-of-type {\n",
       "        vertical-align: middle;\n",
       "    }\n",
       "\n",
       "    .dataframe tbody tr th {\n",
       "        vertical-align: top;\n",
       "    }\n",
       "\n",
       "    .dataframe thead th {\n",
       "        text-align: right;\n",
       "    }\n",
       "</style>\n",
       "<table border=\"1\" class=\"dataframe\">\n",
       "  <thead>\n",
       "    <tr style=\"text-align: right;\">\n",
       "      <th></th>\n",
       "      <th>Kappa</th>\n",
       "      <th>CCR</th>\n",
       "      <th>Sensibilidade</th>\n",
       "      <th>PPV</th>\n",
       "      <th>Especificidade</th>\n",
       "      <th>NPV</th>\n",
       "      <th>Accuracy</th>\n",
       "      <th>F1 Score</th>\n",
       "      <th>Cobertura</th>\n",
       "    </tr>\n",
       "  </thead>\n",
       "  <tbody>\n",
       "    <tr>\n",
       "      <th>PaDEL</th>\n",
       "      <td>0.47</td>\n",
       "      <td>0.73</td>\n",
       "      <td>0.62</td>\n",
       "      <td>0.68</td>\n",
       "      <td>0.84</td>\n",
       "      <td>0.80</td>\n",
       "      <td>0.76</td>\n",
       "      <td>0.65</td>\n",
       "      <td>1.00</td>\n",
       "    </tr>\n",
       "    <tr>\n",
       "      <th>PaDEL AD</th>\n",
       "      <td>0.86</td>\n",
       "      <td>0.90</td>\n",
       "      <td>0.80</td>\n",
       "      <td>1.00</td>\n",
       "      <td>1.00</td>\n",
       "      <td>0.95</td>\n",
       "      <td>0.96</td>\n",
       "      <td>0.89</td>\n",
       "      <td>0.43</td>\n",
       "    </tr>\n",
       "  </tbody>\n",
       "</table>\n",
       "</div>"
      ],
      "text/plain": [
       "          Kappa   CCR  Sensibilidade   PPV  Especificidade   NPV  Accuracy  \\\n",
       "PaDEL      0.47  0.73           0.62  0.68            0.84  0.80      0.76   \n",
       "PaDEL AD   0.86  0.90           0.80  1.00            1.00  0.95      0.96   \n",
       "\n",
       "          F1 Score  Cobertura  \n",
       "PaDEL         0.65       1.00  \n",
       "PaDEL AD      0.89       0.43  "
      ]
     },
     "execution_count": 96,
     "metadata": {},
     "output_type": "execute_result"
    }
   ],
   "source": [
    "roc_auc(rf_best, cross_val, X_train, y_train)\n",
    "\n",
    "# Parametros\n",
    "pred = []\n",
    "ad = []\n",
    "index = []\n",
    "cross_val = StratifiedKFold(n_splits=5)\n",
    "\n",
    "# Faça um loop de 5 vezes\n",
    "for train_index, test_index in cross_val.split(X_train, y_train):\n",
    "    \n",
    "    fold_model = rf_best.fit(X_train.iloc[train_index], y_train[train_index])\n",
    "    fold_pred = rf_best.predict(X_train.iloc[test_index])\n",
    "    fold_ad = rf_best.predict_proba(X_train.iloc[test_index])\n",
    "    pred.append(fold_pred)\n",
    "    ad.append(fold_ad)\n",
    "    index.append(test_index)\n",
    "\n",
    "threshold_ad = 0.70\n",
    "\n",
    "# Preparar resultados para exportar    \n",
    "fold_index = np.concatenate(index)    \n",
    "fold_pred = np.concatenate(pred)\n",
    "fold_ad = np.concatenate(ad)\n",
    "fold_ad = (np.amax(fold_ad, axis=1) >= threshold_ad).astype(str)\n",
    "five_fold_padel = pd.DataFrame({'Prediction': fold_pred,'AD': fold_ad}, index=list(fold_index))\n",
    "five_fold_padel.AD[five_fold_padel.AD == 'False'] = np.nan\n",
    "five_fold_padel.AD[five_fold_padel.AD == 'True'] = five_fold_padel.Prediction\n",
    "five_fold_padel.sort_index(inplace=True)\n",
    "five_fold_padel['y_train'] = pd.DataFrame(y_train)\n",
    "five_fold_padel_ad = five_fold_padel.dropna().astype(int)\n",
    "cobertura_5f = len(five_fold_padel_ad) / len(five_fold_padel)\n",
    "\n",
    "# estatísticas padel\n",
    "padel = pd.DataFrame(stats(five_fold_padel['y_train'], five_fold_padel['Prediction']))\n",
    "padel['Cobertura'] = 1.0\n",
    "\n",
    "# estatísticas padel AD\n",
    "padel_ad = five_fold_padel.dropna(subset=['AD']).astype(int)\n",
    "cobertura_padel_ad = len(padel_ad['AD']) / len(five_fold_padel['y_train'])\n",
    "padel_ad = pd.DataFrame(stats(padel_ad['y_train'], padel_ad['AD']))\n",
    "padel_ad['Cobertura'] = round(cobertura_padel_ad, 2)\n",
    "\n",
    "# imprimir estatísticas\n",
    "if hiper_parametros == 'random_search':\n",
    "    print('\\033[1m' + 'Características estatísticas de validação cruzada externa de 5 vezes dos modelos QSAR desenvolvidos PaDEL (random_search)' + '\\n' + '\\033[0m')\n",
    "if hiper_parametros == 'grid_search':\n",
    "    print('\\033[1m' + 'Características estatísticas de validação cruzada externa de 5 vezes dos modelos QSAR desenvolvidos PaDEL (grid_search)' + '\\n' + '\\033[0m')\n",
    "padel_5f_stats = padel.append(padel_ad)\n",
    "padel_5f_stats.set_index([['PaDEL', 'PaDEL AD']], drop=True, inplace=True)\n",
    "padel_5f_stats"
   ]
  },
  {
   "cell_type": "markdown",
   "metadata": {},
   "source": [
    "##### Prever conjunto retido externo após o balanceamento"
   ]
  },
  {
   "cell_type": "code",
   "execution_count": 97,
   "metadata": {},
   "outputs": [],
   "source": [
    "moldf_ext = moldf_desc[(moldf_desc['Set'] == 'ext')]\n",
    "descriptor_list = list(X_train.columns.values)\n",
    "\n",
    "if len(moldf_ext) > 0:\n",
    "    y_ext = moldf_ext['Outcome'].to_numpy()\n",
    "    X_ext = moldf_ext[descriptors]\n",
    "    \n",
    "    # Filtrar descritores não presentes no modelo\n",
    "    X_ext = X_ext[descriptor_list]\n",
    "    \n",
    "    # Fazer previsões\n",
    "    ext_set_padel = rf_best.predict(X_ext)\n",
    "    ext_set_padel_ad = rf_best.predict_proba(X_ext)\n",
    "    ext_set_padel_ad = (np.amax(ext_set_padel_ad, axis=1) >= threshold_ad).astype(str)\n",
    "    \n",
    "    # Preparar dados\n",
    "    ext_set_padel = pd.DataFrame({'Prediction': ext_set_padel,'AD': ext_set_padel_ad})\n",
    "    ext_set_padel.AD[ext_set_padel.AD == 'False'] = np.nan\n",
    "    ext_set_padel.AD[ext_set_padel.AD == 'True'] = ext_set_padel.Prediction\n",
    "    ext_set_padel.sort_index(inplace=True)\n",
    "    ext_set_padel['y_ext'] = pd.DataFrame(y_ext)\n",
    "    ext_set_padel_ad = ext_set_padel.dropna().astype(int)\n",
    "    cobertura_ext = len(ext_set_padel_ad) / len(ext_set_padel)\n",
    "    \n",
    "    # ext_set_padel estatísticas\n",
    "    padel_ext = pd.DataFrame(stats(ext_set_padel['y_ext'], ext_set_padel['Prediction']))\n",
    "    padel_ext['Cobertura'] = 1.0\n",
    "    \n",
    "    # ext_set_padel AD stats\n",
    "    padel_ext_ad = ext_set_padel.dropna(subset=['AD']).astype(int)\n",
    "    cobertura_padel_ext_ad = len(padel_ext_ad['AD']) / len(ext_set_padel['y_ext'])\n",
    "    padel_ext_ad = pd.DataFrame(stats(padel_ext_ad['y_ext'], padel_ext_ad['AD']))\n",
    "    padel_ext_ad['Cobertura'] = round(cobertura_padel_ext_ad, 2)\n",
    "    \n",
    "    # imprimir estatísticas\n",
    "    print('\\033[1m' + 'Características estatísticas da previsão do conjunto retido na fonte por modelos PaDEL' + '\\n' + '\\033[0m')\n",
    "    ext_set_padel_stats = padel_ext.append(padel_ext_ad)\n",
    "    ext_set_padel_stats.set_index([['PaDEL Ext.', 'PaDEL Ext. AD']], drop=True, inplace=True)\n",
    "    ext_set_padel_stats\n",
    "else:\n",
    "    pass"
   ]
  },
  {
   "cell_type": "markdown",
   "metadata": {},
   "source": [
    "##### Y-randomization"
   ]
  },
  {
   "cell_type": "code",
   "execution_count": 98,
   "metadata": {},
   "outputs": [
    {
     "name": "stderr",
     "output_type": "stream",
     "text": [
      "[Parallel(n_jobs=-1)]: Using backend LokyBackend with 4 concurrent workers.\n"
     ]
    },
    {
     "name": "stdout",
     "output_type": "stream",
     "text": [
      "True score =  0.73 \n",
      "Y-randomization =  0.5 \n",
      "p-value =  0.0476\n"
     ]
    },
    {
     "name": "stderr",
     "output_type": "stream",
     "text": [
      "[Parallel(n_jobs=-1)]: Done  20 out of  20 | elapsed:  1.2min finished\n"
     ]
    }
   ],
   "source": [
    "permutations = 20\n",
    "score, permutation_scores, pvalue = permutation_test_score(rf_best, X_train, y_train,\n",
    "                                                           cv=5, scoring='balanced_accuracy',\n",
    "                                                           n_permutations=permutations,\n",
    "                                                           n_jobs=-1,\n",
    "                                                           verbose=1,\n",
    "                                                           random_state=24)\n",
    "print('True score = ', score.round(2),\n",
    "      '\\nY-randomization = ', np.mean(permutation_scores).round(2),\n",
    "      '\\np-value = ', pvalue.round(4))\n",
    "\n",
    "\n",
    "###############################################################################\n",
    "# View histogram of permutation scores\n",
    "pl.subplots(figsize=(10,6))\n",
    "pl.hist(permutation_scores.round(2), label='Permutation scores')\n",
    "ylim = pl.ylim()\n",
    "pl.vlines(score, ylim[0], ylim[1], linestyle='--',\n",
    "          color='g', linewidth=3, label='Classification Score'\n",
    "          ' (pvalue %s)' % pvalue.round(4))\n",
    "pl.vlines(1.0 / 2, ylim[0], ylim[1], linestyle='--',\n",
    "          color='k', linewidth=3, label='Luck')\n",
    "pl.ylim(ylim)\n",
    "pl.legend()\n",
    "pl.xlabel('Score')\n",
    "pl.show()"
   ]
  },
  {
   "cell_type": "markdown",
   "metadata": {},
   "source": [
    "##### Salvar modelo"
   ]
  },
  {
   "cell_type": "code",
   "execution_count": 99,
   "metadata": {},
   "outputs": [],
   "source": [
    "with gzip.GzipFile('model/sars-cov-3clpro-padel_RF_ad_balanced.pgz', 'w') as f:\n",
    "    cPickle.dump(rf_best, f)"
   ]
  },
  {
   "cell_type": "markdown",
   "metadata": {},
   "source": [
    "### Plotar estatísticas"
   ]
  },
  {
   "cell_type": "code",
   "execution_count": 100,
   "metadata": {},
   "outputs": [
    {
     "data": {
      "text/html": [
       "<div>\n",
       "<style scoped>\n",
       "    .dataframe tbody tr th:only-of-type {\n",
       "        vertical-align: middle;\n",
       "    }\n",
       "\n",
       "    .dataframe tbody tr th {\n",
       "        vertical-align: top;\n",
       "    }\n",
       "\n",
       "    .dataframe thead th {\n",
       "        text-align: right;\n",
       "    }\n",
       "</style>\n",
       "<table border=\"1\" class=\"dataframe\">\n",
       "  <thead>\n",
       "    <tr style=\"text-align: right;\">\n",
       "      <th></th>\n",
       "      <th>Kappa</th>\n",
       "      <th>CCR</th>\n",
       "      <th>Sensibilidade</th>\n",
       "      <th>PPV</th>\n",
       "      <th>Especificidade</th>\n",
       "      <th>NPV</th>\n",
       "      <th>Accuracy</th>\n",
       "      <th>F1 Score</th>\n",
       "      <th>Cobertura</th>\n",
       "    </tr>\n",
       "  </thead>\n",
       "  <tbody>\n",
       "    <tr>\n",
       "      <th>PaDEL</th>\n",
       "      <td>0.47</td>\n",
       "      <td>0.73</td>\n",
       "      <td>0.62</td>\n",
       "      <td>0.68</td>\n",
       "      <td>0.84</td>\n",
       "      <td>0.80</td>\n",
       "      <td>0.76</td>\n",
       "      <td>0.65</td>\n",
       "      <td>1.00</td>\n",
       "    </tr>\n",
       "    <tr>\n",
       "      <th>PaDEL AD</th>\n",
       "      <td>0.86</td>\n",
       "      <td>0.90</td>\n",
       "      <td>0.80</td>\n",
       "      <td>1.00</td>\n",
       "      <td>1.00</td>\n",
       "      <td>0.95</td>\n",
       "      <td>0.96</td>\n",
       "      <td>0.89</td>\n",
       "      <td>0.43</td>\n",
       "    </tr>\n",
       "  </tbody>\n",
       "</table>\n",
       "</div>"
      ],
      "text/plain": [
       "          Kappa   CCR  Sensibilidade   PPV  Especificidade   NPV  Accuracy  \\\n",
       "PaDEL      0.47  0.73           0.62  0.68            0.84  0.80      0.76   \n",
       "PaDEL AD   0.86  0.90           0.80  1.00            1.00  0.95      0.96   \n",
       "\n",
       "          F1 Score  Cobertura  \n",
       "PaDEL         0.65       1.00  \n",
       "PaDEL AD      0.89       0.43  "
      ]
     },
     "execution_count": 100,
     "metadata": {},
     "output_type": "execute_result"
    }
   ],
   "source": [
    "# Exportar estatísticas\n",
    "if len(moldf_ext) > 0:\n",
    "    padel_stats = pd.concat([padel_5f_stats, ext_set_padel_stats], axis=0)\n",
    "    padel_stats\n",
    "else:\n",
    "    padel_stats = padel_5f_stats.copy()\n",
    "    padel_stats"
   ]
  },
  {
   "cell_type": "code",
   "execution_count": 101,
   "metadata": {},
   "outputs": [
    {
     "data": {
      "image/png": "[encoded data removed]",
      "text/plain": [
       "<Figure size 1040x650 with 1 Axes>"
      ]
     },
     "metadata": {
      "needs_background": "light"
     },
     "output_type": "display_data"
    }
   ],
   "source": [
    "# Estatísticas de transposição\n",
    "padel_stats_t = padel_stats.T\n",
    "padel_stats_t = padel_stats_t.reset_index()\n",
    "padel_stats_t = padel_stats_t.rename(columns={'index': 'Stats'})\n",
    "\n",
    "# Fazer enredo\n",
    "plt.style.use('seaborn-colorblind')\n",
    "fig, ax1 = plt.subplots(figsize=(8,5), dpi=130)\n",
    "\n",
    "padel_stats_t.plot(kind='bar', ax=ax1, width=0.8)\n",
    "ax1.set_xticklabels(labels=padel_stats_t['Stats'].tolist(), fontsize=14, rotation=0)\n",
    "ax1.axhline(y=.6, color='indianred', ls='dashed')\n",
    "ax1.legend_.remove()\n",
    "if hiper_parametros == 'random_search':\n",
    "    plt.title('Características estatísticas (random_search)', fontsize=16)\n",
    "if hiper_parametros == 'grid_search':\n",
    "    plt.title('Características estatísticas (grid_search)', fontsize=16)  \n",
    "ax1.set_yticks(np.arange(0, 1.1, 0.1))\n",
    "ax1.tick_params(labelsize=9)\n",
    "\n",
    "handles, labels = ax1.get_legend_handles_labels()\n",
    "ax1.legend(handles, labels, fontsize=12,\n",
    "            loc='upper center', bbox_to_anchor=(0.5, -0.09), ncol=4)\n",
    "fig.tight_layout()\n",
    "\n",
    "plt.savefig('statistics-padel.png', bbox_inches='tight', transparent=False, format='png', dpi=300)\n",
    "plt.show();"
   ]
  },
  {
   "cell_type": "markdown",
   "metadata": {},
   "source": [
    "# Consenso"
   ]
  },
  {
   "cell_type": "code",
   "execution_count": 102,
   "metadata": {},
   "outputs": [],
   "source": [
    "results_sirms = five_fold_sirms.drop(columns='y_train')\n",
    "results_sirms = five_fold_sirms.rename(columns={'Prediction':'sirms', 'AD':'sirms_ad'})\n",
    "results_padel = five_fold_padel.drop(columns='y_train')\n",
    "results_padel = five_fold_padel.rename(columns={'Prediction':'padel', 'AD':'padel_ad'})"
   ]
  },
  {
   "cell_type": "code",
   "execution_count": 103,
   "metadata": {},
   "outputs": [],
   "source": [
    "var = list(moldf.columns.values)\n",
    "moldf_train = moldf_train[var]\n",
    "predictions = pd.concat([moldf_train.reset_index(drop=True), results_sirms, results_padel], axis=1)"
   ]
  },
  {
   "cell_type": "markdown",
   "metadata": {},
   "source": [
    "#### Previsões de consenso"
   ]
  },
  {
   "cell_type": "code",
   "execution_count": 104,
   "metadata": {},
   "outputs": [],
   "source": [
    "# Consenso\n",
    "predictions['consensus'] = (predictions.sirms + predictions.padel)/2\n",
    "predictions['consensus'] = np.where(predictions['consensus'] > 0.5, 1, 0)\n",
    "\n",
    "# Consenso AD\n",
    "for i in range(0, predictions.shape[0]):\n",
    "    if all([np.isnan(predictions.sirms_ad[i]) == False, np.isnan(predictions.padel_ad[i]) == False]):\n",
    "        predictions.loc[i,'consensus_ad'] = (predictions.sirms_ad[i] + predictions.padel_ad[i])/2\n",
    "        predictions.loc[i,'consensus_ad'] = np.where(predictions.loc[i,'consensus_ad'] > 0.5, 1, 0)\n",
    "    elif all([np.isnan(predictions.sirms_ad[i]) == True, np.isnan(predictions.padel_ad[i]) == False]):\n",
    "        predictions.loc[i,'consensus_ad'] = predictions.padel_ad[i]\n",
    "    elif all([np.isnan(predictions.sirms_ad[i]) == False, np.isnan(predictions.padel_ad[i]) == True]):\n",
    "        predictions.loc[i,'consensus_ad'] = predictions.sirms_ad[i]\n",
    "    else:\n",
    "        predictions.loc[i,'consensus_ad']  = np.nan\n",
    "\n",
    "# Rigor de consenso\n",
    "for i in range(0, predictions.shape[0]):\n",
    "    if all([np.isnan(predictions.sirms_ad[i]) == False, np.isnan(predictions.padel_ad[i]) == False]):\n",
    "        predictions.loc[i,'consensus_rigor'] = (predictions.sirms_ad[i] + predictions.padel_ad[i])/2\n",
    "        predictions.loc[i,'consensus_rigor'] = np.where(predictions.loc[i,'consensus_rigor'] > 0.5, 1, 0)\n",
    "    else:\n",
    "        predictions.loc[i,'consensus_rigor']  = np.nan\n",
    "        \n",
    "predictions.drop(columns=['y_train', 'ID'], inplace=True)"
   ]
  },
  {
   "cell_type": "code",
   "execution_count": 105,
   "metadata": {},
   "outputs": [],
   "source": [
    "##### SiRMS\n",
    "\n",
    "# Estatísticas SiRMS\n",
    "sirms = pd.DataFrame(stats(predictions.Outcome, predictions.sirms))\n",
    "sirms['Cobertura'] = 1.0\n",
    "\n",
    "# Estatísticas SiRMS AD\n",
    "sirms_ad = predictions.dropna(subset=['sirms_ad'])\n",
    "cobertura_sirms_ad = len(sirms_ad.sirms_ad) / len(predictions.Outcome)\n",
    "sirms_ad = pd.DataFrame(stats(sirms_ad.Outcome, sirms_ad.sirms_ad.astype(int)))\n",
    "sirms_ad['Cobertura'] = round(cobertura_sirms_ad, 2)\n",
    "\n",
    "##### PaDEL\n",
    "\n",
    "# estatísticas de padel\n",
    "padel = pd.DataFrame(stats(predictions.Outcome, predictions.padel))\n",
    "padel['Cobertura'] = 1.0\n",
    "\n",
    "# estatísticas de padel AD\n",
    "padel_ad = predictions.dropna(subset=['padel_ad'])\n",
    "cobertura_padel_ad = len(padel_ad.padel_ad) / len(predictions.Outcome)\n",
    "padel_ad = pd.DataFrame(stats(padel_ad.Outcome, padel_ad.padel_ad.astype(int)))\n",
    "padel_ad['Cobertura'] = round(cobertura_padel_ad, 2)\n",
    "\n",
    "##### Consenso\n",
    "\n",
    "# estatísticas consenso\n",
    "consensus = pd.DataFrame(stats(predictions.Outcome, predictions.consensus))\n",
    "consensus['Cobertura'] = 1.0\n",
    "\n",
    "# estatísticas consenso AD\n",
    "consensus_ad = predictions.dropna(subset=['consensus_ad'])\n",
    "cobertura_consensus_ad = len(consensus_ad.consensus_ad) / len(predictions.Outcome)\n",
    "\n",
    "consensus_ad = pd.DataFrame(stats(consensus_ad.Outcome, consensus_ad.consensus_ad.astype(int)))\n",
    "consensus_ad['Cobertura'] = round(cobertura_consensus_ad, 2)\n",
    "\n",
    "# estatísticas rigor do consenso\n",
    "consensus_rigor = predictions.dropna(subset=['consensus_rigor'])\n",
    "cobertura_consensus_rigor = len(consensus_rigor.consensus_rigor) / len(predictions.Outcome)\n",
    "consensus_rigor = pd.DataFrame(stats(consensus_rigor.Outcome, consensus_rigor.consensus_rigor.astype(int)))\n",
    "consensus_rigor['Cobertura'] = round(cobertura_consensus_rigor, 2)"
   ]
  },
  {
   "cell_type": "markdown",
   "metadata": {},
   "source": [
    "##### Previsões de exportação"
   ]
  },
  {
   "cell_type": "code",
   "execution_count": 106,
   "metadata": {
    "scrolled": false
   },
   "outputs": [],
   "source": [
    "pred_exp = predictions.drop(columns=['Mol'])\n",
    "\n",
    "with pd.ExcelWriter('predictions-sirms-padel.xlsx') as writer:\n",
    "    pred_exp.to_excel(writer, sheet_name='sirms-padel', index=False)"
   ]
  },
  {
   "cell_type": "markdown",
   "metadata": {},
   "source": [
    "##### Estatísticas"
   ]
  },
  {
   "cell_type": "code",
   "execution_count": 107,
   "metadata": {},
   "outputs": [
    {
     "data": {
      "text/html": [
       "<div>\n",
       "<style scoped>\n",
       "    .dataframe tbody tr th:only-of-type {\n",
       "        vertical-align: middle;\n",
       "    }\n",
       "\n",
       "    .dataframe tbody tr th {\n",
       "        vertical-align: top;\n",
       "    }\n",
       "\n",
       "    .dataframe thead th {\n",
       "        text-align: right;\n",
       "    }\n",
       "</style>\n",
       "<table border=\"1\" class=\"dataframe\">\n",
       "  <thead>\n",
       "    <tr style=\"text-align: right;\">\n",
       "      <th></th>\n",
       "      <th>Kappa</th>\n",
       "      <th>CCR</th>\n",
       "      <th>Sensibilidade</th>\n",
       "      <th>PPV</th>\n",
       "      <th>Especificidade</th>\n",
       "      <th>NPV</th>\n",
       "      <th>Accuracy</th>\n",
       "      <th>F1 Score</th>\n",
       "      <th>Cobertura</th>\n",
       "    </tr>\n",
       "  </thead>\n",
       "  <tbody>\n",
       "    <tr>\n",
       "      <th>SiRMS</th>\n",
       "      <td>0.63</td>\n",
       "      <td>0.80</td>\n",
       "      <td>0.69</td>\n",
       "      <td>0.82</td>\n",
       "      <td>0.91</td>\n",
       "      <td>0.84</td>\n",
       "      <td>0.84</td>\n",
       "      <td>0.75</td>\n",
       "      <td>0.65</td>\n",
       "    </tr>\n",
       "    <tr>\n",
       "      <th>PaDEL</th>\n",
       "      <td>0.86</td>\n",
       "      <td>0.90</td>\n",
       "      <td>0.80</td>\n",
       "      <td>1.00</td>\n",
       "      <td>1.00</td>\n",
       "      <td>0.95</td>\n",
       "      <td>0.96</td>\n",
       "      <td>0.89</td>\n",
       "      <td>0.43</td>\n",
       "    </tr>\n",
       "    <tr>\n",
       "      <th>Consenso</th>\n",
       "      <td>0.57</td>\n",
       "      <td>0.77</td>\n",
       "      <td>0.62</td>\n",
       "      <td>0.81</td>\n",
       "      <td>0.92</td>\n",
       "      <td>0.82</td>\n",
       "      <td>0.81</td>\n",
       "      <td>0.70</td>\n",
       "      <td>1.00</td>\n",
       "    </tr>\n",
       "    <tr>\n",
       "      <th>Consenso (AD)</th>\n",
       "      <td>0.68</td>\n",
       "      <td>0.82</td>\n",
       "      <td>0.70</td>\n",
       "      <td>0.86</td>\n",
       "      <td>0.94</td>\n",
       "      <td>0.86</td>\n",
       "      <td>0.86</td>\n",
       "      <td>0.78</td>\n",
       "      <td>0.71</td>\n",
       "    </tr>\n",
       "    <tr>\n",
       "      <th>Consenso com rigor</th>\n",
       "      <td>0.85</td>\n",
       "      <td>0.89</td>\n",
       "      <td>0.78</td>\n",
       "      <td>1.00</td>\n",
       "      <td>1.00</td>\n",
       "      <td>0.94</td>\n",
       "      <td>0.95</td>\n",
       "      <td>0.88</td>\n",
       "      <td>0.37</td>\n",
       "    </tr>\n",
       "  </tbody>\n",
       "</table>\n",
       "</div>"
      ],
      "text/plain": [
       "                    Kappa   CCR  Sensibilidade   PPV  Especificidade   NPV  \\\n",
       "SiRMS                0.63  0.80           0.69  0.82            0.91  0.84   \n",
       "PaDEL                0.86  0.90           0.80  1.00            1.00  0.95   \n",
       "Consenso             0.57  0.77           0.62  0.81            0.92  0.82   \n",
       "Consenso (AD)        0.68  0.82           0.70  0.86            0.94  0.86   \n",
       "Consenso com rigor   0.85  0.89           0.78  1.00            1.00  0.94   \n",
       "\n",
       "                    Accuracy  F1 Score  Cobertura  \n",
       "SiRMS                   0.84      0.75       0.65  \n",
       "PaDEL                   0.96      0.89       0.43  \n",
       "Consenso                0.81      0.70       1.00  \n",
       "Consenso (AD)           0.86      0.78       0.71  \n",
       "Consenso com rigor      0.95      0.88       0.37  "
      ]
     },
     "execution_count": 107,
     "metadata": {},
     "output_type": "execute_result"
    }
   ],
   "source": [
    "stats = pd.concat([sirms_ad, padel_ad, consensus, consensus_ad, consensus_rigor], axis=0)\n",
    "stats.set_index([['SiRMS', 'PaDEL', 'Consenso', 'Consenso (AD)', 'Consenso com rigor']], drop=True, inplace=True)\n",
    "\n",
    "stats"
   ]
  },
  {
   "cell_type": "code",
   "execution_count": 108,
   "metadata": {},
   "outputs": [
    {
     "data": {
      "image/png": "[encoded data removed]",
      "text/plain": [
       "<Figure size 1040x650 with 1 Axes>"
      ]
     },
     "metadata": {
      "needs_background": "light"
     },
     "output_type": "display_data"
    }
   ],
   "source": [
    "# Estatísticas de transposição\n",
    "stats_t = stats.T\n",
    "stats_t = stats_t.reset_index()\n",
    "stats_t = stats_t.rename(columns={'index': 'Stats'})\n",
    "\n",
    "# Fazer plot\n",
    "plt.style.use('seaborn-colorblind')\n",
    "fig, ax1 = plt.subplots(figsize=(8,5), dpi=130)\n",
    "\n",
    "stats_t.plot(kind='bar', ax=ax1, width=0.8)\n",
    "ax1.set_xticklabels(labels=stats_t['Stats'].tolist(), fontsize=14, rotation=0)\n",
    "ax1.axhline(y=.6, color='indianred', ls='dashed')\n",
    "ax1.legend_.remove()\n",
    "if hiper_parametros == 'random_search':\n",
    "    plt.title('Características estatísticas do QSAR (random_search) ', fontsize=16)\n",
    "if hiper_parametros == 'grid_search':\n",
    "    plt.title('Características estatísticas do QSAR (grid_search) ', fontsize=16)\n",
    "ax1.set_yticks(np.arange(0, 1.1, 0.1))\n",
    "ax1.tick_params(labelsize=9)\n",
    "\n",
    "handles, labels = ax1.get_legend_handles_labels()\n",
    "ax1.legend(handles, labels, fontsize=8,\n",
    "            loc='upper center', bbox_to_anchor=(0.5, -0.09), ncol=5)\n",
    "fig.tight_layout()\n",
    "\n",
    "plt.savefig('statistics-sirms-padel-5f.png', bbox_inches='tight', transparent=False, format='png', dpi=300)\n",
    "plt.show();"
   ]
  },
  {
   "cell_type": "code",
   "execution_count": null,
   "metadata": {},
   "outputs": [],
   "source": []
  }
 ],
 "metadata": {
  "kernelspec": {
   "display_name": "Python 3",
   "language": "python",
   "name": "python3"
  },
  "language_info": {
   "codemirror_mode": {
    "name": "ipython",
    "version": 3
   },
   "file_extension": ".py",
   "mimetype": "text/x-python",
   "name": "python",
   "nbconvert_exporter": "python",
   "pygments_lexer": "ipython3",
   "version": "3.7.6"
  }
 },
 "nbformat": 4,
 "nbformat_minor": 2
}
