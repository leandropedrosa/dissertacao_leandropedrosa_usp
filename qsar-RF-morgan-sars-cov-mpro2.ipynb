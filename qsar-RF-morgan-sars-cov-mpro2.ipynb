{
 "cells": [
  {
   "cell_type": "markdown",
   "metadata": {},
   "source": [
    "# Modelos QSAR-RF para protease principal 3C-like protease (M<sup>pro</sup>) de SARS-CoV"
   ]
  },
  {
   "cell_type": "markdown",
   "metadata": {},
   "source": [
    "Os modelos nesse fluxo de trabalho foram criados usando as impressões digitais de Morgan com Random Forest scikit-learn."
   ]
  },
  {
   "cell_type": "markdown",
   "metadata": {},
   "source": [
    "## Importando Módulos e Funções"
   ]
  },
  {
   "cell_type": "code",
   "execution_count": 1,
   "metadata": {},
   "outputs": [
    {
     "data": {
      "text/html": [
       "<style>.container { width:90% !important; }</style>"
      ],
      "text/plain": [
       "<IPython.core.display.HTML object>"
      ]
     },
     "metadata": {},
     "output_type": "display_data"
    }
   ],
   "source": [
    "import numpy as np\n",
    "import pandas as pd\n",
    "import seaborn as sns\n",
    "import matplotlib.pyplot as plt\n",
    "import _pickle as cPickle\n",
    "import gzip\n",
    "import seaborn as sns\n",
    "from time import time\n",
    "from bayes_opt import BayesianOptimization\n",
    "from bayes_opt.util import Colours\n",
    "#BalanceBySim: função de balanceamento de conjunto de dados (Equilibre os dados usando 1/2 similaridade e 1/2 aleatória)\n",
    "from BalanceBySim import *\n",
    "from sklearn.preprocessing import StandardScaler\n",
    "#Stats: Calculos estatisticos referente ao modelo Kappa\tCCR\tSensitivity\tPPV\tSpecificity\tNPV\tCoverage\n",
    "from stats import *\n",
    "from scipy.stats import randint as sp_randint\n",
    "from collections import Counter\n",
    "\n",
    "#Rdkit: coleção de quiminformática e software de aprendizado de máquina escrito em C++ e Python de Código Aberto.\n",
    "from rdkit import Chem\n",
    "from rdkit.Chem import AllChem\n",
    "from rdkit.Chem import Draw\n",
    "from rdkit.Chem import PandasTools\n",
    "from rdkit.Chem.Draw import IPythonConsole\n",
    "\n",
    "#Sklearn: Bibliotecas p/ Machine learning de Código Aberto\n",
    "from sklearn import metrics\n",
    "from sklearn.ensemble import RandomForestClassifier # biblioteca Random Forest para Classificação\n",
    "from sklearn.feature_selection import VarianceThreshold\n",
    "from sklearn.model_selection import train_test_split, cross_validate, GridSearchCV, RandomizedSearchCV, cross_val_score # biblioteca GridSearch e RandomizedSearch e cross_validate\n",
    "from sklearn.model_selection import permutation_test_score, StratifiedKFold\n",
    "from sklearn import model_selection\n",
    "from sklearn.tree import export_graphviz\n",
    "from sklearn.metrics import classification_report, confusion_matrix, accuracy_score, plot_roc_curve, auc\n",
    "from subprocess import call\n",
    "from IPython.display import Image\n",
    "\n",
    "def warn(*args, **kwargs):\n",
    "    pass\n",
    "import warnings\n",
    "warnings.filterwarnings(\"ignore\")\n",
    "warnings.warn = warn\n",
    "\n",
    "from IPython.core.interactiveshell import InteractiveShell\n",
    "InteractiveShell.ast_node_interactivity = \"all\"\n",
    "%matplotlib inline\n",
    "%reload_ext autoreload\n",
    "%autoreload 2\n",
    "Draw.DrawingOptions.atomLabelFontFace = \"DejaVu Sans\"\n",
    "Draw.DrawingOptions.atomLabelFontSize = 18\n",
    "\n",
    "from IPython.core.display import display, HTML\n",
    "display(HTML(\"<style>.container { width:90% !important; }</style>\"))"
   ]
  },
  {
   "cell_type": "markdown",
   "metadata": {},
   "source": [
    "## Carregar dados"
   ]
  },
  {
   "cell_type": "code",
   "execution_count": 2,
   "metadata": {},
   "outputs": [
    {
     "name": "stdout",
     "output_type": "stream",
     "text": [
      "Original data:  (113, 11)\n",
      "Dados mantidos:  (113, 11)\n"
     ]
    },
    {
     "data": {
      "text/html": [
       "<div>\n",
       "<style scoped>\n",
       "    .dataframe tbody tr th:only-of-type {\n",
       "        vertical-align: middle;\n",
       "    }\n",
       "\n",
       "    .dataframe tbody tr th {\n",
       "        vertical-align: top;\n",
       "    }\n",
       "\n",
       "    .dataframe thead th {\n",
       "        text-align: right;\n",
       "    }\n",
       "</style>\n",
       "<table border=\"1\" class=\"dataframe\">\n",
       "  <thead>\n",
       "    <tr style=\"text-align: right;\">\n",
       "      <th></th>\n",
       "      <th>Compound_name</th>\n",
       "      <th>Standard Type</th>\n",
       "      <th>Standard Relation</th>\n",
       "      <th>Standard Value</th>\n",
       "      <th>Standard Units</th>\n",
       "      <th>Outcome</th>\n",
       "      <th>InChIKey</th>\n",
       "      <th>Molecule ChEMBL ID</th>\n",
       "      <th>ID</th>\n",
       "      <th>SMILES</th>\n",
       "      <th>Mol</th>\n",
       "    </tr>\n",
       "  </thead>\n",
       "  <tbody>\n",
       "    <tr>\n",
       "      <th>count</th>\n",
       "      <td>113</td>\n",
       "      <td>113</td>\n",
       "      <td>113</td>\n",
       "      <td>113</td>\n",
       "      <td>113</td>\n",
       "      <td>113</td>\n",
       "      <td>113</td>\n",
       "      <td>113</td>\n",
       "      <td>113</td>\n",
       "      <td>113</td>\n",
       "      <td>113</td>\n",
       "    </tr>\n",
       "    <tr>\n",
       "      <th>unique</th>\n",
       "      <td>74</td>\n",
       "      <td>2</td>\n",
       "      <td>4</td>\n",
       "      <td>94</td>\n",
       "      <td>1</td>\n",
       "      <td>2</td>\n",
       "      <td>113</td>\n",
       "      <td>92</td>\n",
       "      <td>1</td>\n",
       "      <td>113</td>\n",
       "      <td>113</td>\n",
       "    </tr>\n",
       "    <tr>\n",
       "      <th>top</th>\n",
       "      <td></td>\n",
       "      <td>IC50</td>\n",
       "      <td>'='</td>\n",
       "      <td>2.44889419684223E12</td>\n",
       "      <td>nM</td>\n",
       "      <td>Inactive</td>\n",
       "      <td>QGWPMYZWJXKBHT-UHFFFAOYSA-N</td>\n",
       "      <td></td>\n",
       "      <td></td>\n",
       "      <td>O=C(Oc1cncc(Cl)c1)c1cscn1</td>\n",
       "      <td><img data-content=\"rdkit/molecule\" src=\"data:image/png;base64,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\" alt=\"Mol\"/></td>\n",
       "    </tr>\n",
       "    <tr>\n",
       "      <th>freq</th>\n",
       "      <td>8</td>\n",
       "      <td>88</td>\n",
       "      <td>89</td>\n",
       "      <td>5</td>\n",
       "      <td>113</td>\n",
       "      <td>73</td>\n",
       "      <td>1</td>\n",
       "      <td>22</td>\n",
       "      <td>113</td>\n",
       "      <td>1</td>\n",
       "      <td>1</td>\n",
       "    </tr>\n",
       "  </tbody>\n",
       "</table>\n",
       "</div>"
      ],
      "text/plain": [
       "       Compound_name Standard Type Standard Relation       Standard Value  \\\n",
       "count            113           113               113                  113   \n",
       "unique            74             2                 4                   94   \n",
       "top                           IC50               '='  2.44889419684223E12   \n",
       "freq               8            88                89                    5   \n",
       "\n",
       "       Standard Units   Outcome                     InChIKey  \\\n",
       "count             113       113                          113   \n",
       "unique              1         2                          113   \n",
       "top                nM  Inactive  QGWPMYZWJXKBHT-UHFFFAOYSA-N   \n",
       "freq              113        73                            1   \n",
       "\n",
       "       Molecule ChEMBL ID   ID                     SMILES  \\\n",
       "count                 113  113                        113   \n",
       "unique                 92    1                        113   \n",
       "top                             O=C(Oc1cncc(Cl)c1)c1cscn1   \n",
       "freq                   22  113                          1   \n",
       "\n",
       "                                                      Mol  \n",
       "count                                                 113  \n",
       "unique                                                113  \n",
       "top     <img data-content=\"rdkit/molecule\" src=\"data:i...  \n",
       "freq                                                    1  "
      ]
     },
     "execution_count": 2,
     "metadata": {},
     "output_type": "execute_result"
    }
   ],
   "source": [
    "# Definir caminho do arquivo\n",
    "file = 'datasets/curated_data/chembl-pdb-sars-cov-3C-like-proteinase.sdf.gz'\n",
    "\n",
    "# Novo dicionário inicializado a partir de um objeto de mapeamento\n",
    "sdfInfo = dict(smilesName='SMILES', molColName='ROMol')\n",
    "\n",
    "# Carregando o arquivo SDF com os dicionarios mapeados\n",
    "moldf = PandasTools.LoadSDF(file, **sdfInfo)\n",
    "print('Original data: ', moldf.shape)\n",
    "\n",
    "# Renomear ROMol\n",
    "moldf = moldf.rename(columns={'ROMol': 'Mol'})\n",
    "\n",
    "# Remover moléculas RDKit ausentes\n",
    "moldf = moldf[pd.notnull(moldf['Mol'])]\n",
    "if 'StandardizerResult' in moldf.columns:\n",
    "    moldf = moldf.drop(columns='StandardizerResult')\n",
    "    \n",
    "# Colunas\n",
    "print('Dados mantidos: ', moldf.shape)\n",
    "moldf.describe()"
   ]
  },
  {
   "cell_type": "markdown",
   "metadata": {},
   "source": [
    "## Forma dos dados"
   ]
  },
  {
   "cell_type": "code",
   "execution_count": 4,
   "metadata": {},
   "outputs": [
    {
     "name": "stdout",
     "output_type": "stream",
     "text": [
      "\u001b[1mForma do conjunto de treinamento:\n",
      "\u001b[0m\n",
      "\t\t Classe 1: 40\n",
      "\t\t Classe 0: 73\n",
      "\t\t Número total de compostos: 113\n",
      "Class labels: [Counter({0: 73, 1: 40})]\n"
     ]
    }
   ],
   "source": [
    "# (27 ativos e 64 inativos) 91 compostos utilizando o software ChemAxon Standardizer \n",
    "# (13 ativos e 09 inativos) 22 compostos obtidos de empresas encontradas do PDB\n",
    "# 2 Classes criadas Classe 1: 40 (Ativos) e Classe 0: 73 (Inativos)\n",
    "\n",
    "moldf['Outcome'] = moldf['Outcome'].replace('Active', 1)\n",
    "moldf['Outcome'] = moldf['Outcome'].replace('Inactive', 0)\n",
    "\n",
    "classes = Counter(moldf['Outcome'])\n",
    "print('\\033[1m' + 'Forma do conjunto de treinamento:' + '\\n' + '\\033[0m')\n",
    "for key, value in classes.items():\n",
    "    print('\\t\\t Classe %d: %d' % (key, value))\n",
    "print('\\t\\t Número total de compostos: %d' % (len(moldf['Outcome'])))\n",
    "\n",
    "print('Class labels:', np.unique(classes))"
   ]
  },
  {
   "cell_type": "markdown",
   "metadata": {},
   "source": [
    "# Calcular impressões digitais de Morgan"
   ]
  },
  {
   "cell_type": "code",
   "execution_count": 5,
   "metadata": {},
   "outputs": [
    {
     "data": {
      "text/plain": [
       "(113, 2048)"
      ]
     },
     "execution_count": 5,
     "metadata": {},
     "output_type": "execute_result"
    }
   ],
   "source": [
    "# Calculando os descritores fingerprints de Harry Morgan (vetores de bits).\n",
    "def calcfp(mol,funcFPInfo=dict(radius=3, nBits=2048, useFeatures=False, useChirality=False)):\n",
    "    fp = AllChem.GetMorganFingerprintAsBitVect(mol, **funcFPInfo)\n",
    "    fp = pd.Series(np.asarray(fp))\n",
    "    fp = fp.add_prefix('Bit_')\n",
    "    return fp\n",
    "\n",
    "# Adicionando os 113 componentes e os 2048 dados referetens aos descritores de Morgan\n",
    "desc = moldf.Mol.apply(calcfp)\n",
    "descriptors = desc.columns.difference(moldf.columns).tolist()\n",
    "desc.shape"
   ]
  },
  {
   "cell_type": "code",
   "execution_count": 6,
   "metadata": {},
   "outputs": [
    {
     "name": "stdout",
     "output_type": "stream",
     "text": [
      "Forma do conjunto de treinamento: Counter({0: 73, 1: 40})\n",
      "Forma externa definida: Counter()\n"
     ]
    }
   ],
   "source": [
    "# Moldando o conjunto de treinamento e o conjunto de validação externa\n",
    "moldf_desc = pd.concat([moldf,desc], axis=1)\n",
    "balance_data = 'no'\n",
    "\n",
    "if balance_data == 'yes':\n",
    "    # Equilibre os dados usando 1/2 similaridade e 1/2 aleatória\n",
    "    moldf_desc = BalanceBySim(moldf_desc, 'Outcome', 2)\n",
    "    # Forma de impressão\n",
    "    print('Forma do conjunto de treinamento: %s' % Counter(moldf_desc['Outcome'].loc[moldf_desc['Set'] == 'train']))\n",
    "    print('Forma externa definida: %s' % Counter(moldf_desc['Outcome'].loc[moldf_desc['Set'] == 'ext']))\n",
    "      \n",
    "else:\n",
    "    moldf_desc['Set'] = 'train'\n",
    "    # Forma de impressão\n",
    "    print('Forma do conjunto de treinamento: %s' % Counter(moldf_desc['Outcome'].loc[moldf_desc['Set'] == 'train']))\n",
    "    print('Forma externa definida: %s' % Counter(moldf_desc['Outcome'].loc[moldf_desc['Set'] == 'ext']))"
   ]
  },
  {
   "cell_type": "code",
   "execution_count": 7,
   "metadata": {},
   "outputs": [
    {
     "data": {
      "text/plain": [
       "(113, 2048)"
      ]
     },
     "execution_count": 7,
     "metadata": {},
     "output_type": "execute_result"
    }
   ],
   "source": [
    "# Conjunto de treinamento\n",
    "moldf_train = moldf_desc[(moldf_desc['Set'] == 'train')]\n",
    "\n",
    "# variáveis dependentes ()\n",
    "y_train = moldf_train['Outcome'].to_numpy()\n",
    "\n",
    "# variáceis independentes - propriedades estruturais (descritores) calculados\n",
    "X_train = moldf_train[descriptors]\n",
    "X_train.shape"
   ]
  },
  {
   "cell_type": "markdown",
   "metadata": {},
   "source": [
    "## Construção de modelo"
   ]
  },
  {
   "cell_type": "markdown",
   "metadata": {},
   "source": [
    "### Encontre os melhores parâmetros"
   ]
  },
  {
   "cell_type": "markdown",
   "metadata": {},
   "source": [
    "##### Função utilitária para relatar as melhores pontuações"
   ]
  },
  {
   "cell_type": "code",
   "execution_count": 8,
   "metadata": {},
   "outputs": [],
   "source": [
    "def report(results, n_top=3):\n",
    "    for i in range(1, n_top + 1):\n",
    "        candidates = np.flatnonzero(results['rank_test_score'] == i)\n",
    "        for candidate in candidates:\n",
    "            print(\"Modelo com classificação: {0}\".format(i))\n",
    "            print(\"Escore médio de validação: {0:.3f} (std: {1:.3f})\"\n",
    "                  .format(results['mean_test_score'][candidate],\n",
    "                          results['std_test_score'][candidate]))\n",
    "            print(\"Parametros: {0}\".format(results['params'][candidate]))\n",
    "            print(\"\")"
   ]
  },
  {
   "cell_type": "markdown",
   "metadata": {},
   "source": [
    "### Pesquisa em grade (Grid Search)"
   ]
  },
  {
   "cell_type": "code",
   "execution_count": 9,
   "metadata": {},
   "outputs": [],
   "source": [
    "def grid_search(clf_rf, rf_params, X_train, y_train):\n",
    "    n_iter_search = 20\n",
    "    # configuração detalhada = 10 imprimirá o progresso para cada 10 tarefas concluídas\n",
    "    grid = GridSearchCV(clf_rf, rf_params, n_jobs=-1, cv=5, scoring='roc_auc', verbose=1, return_train_score=True)\n",
    "    \n",
    "    start = time()\n",
    "    grid.fit(X_train, y_train)\n",
    "    print(\"GridSearchCV levou %.2f segundos para %d candidatos\"\n",
    "      \" configurações de parâmetros.\" % ((time() - start), n_iter_search))\n",
    "    report(grid.cv_results_)\n",
    "\n",
    "    return grid"
   ]
  },
  {
   "cell_type": "markdown",
   "metadata": {},
   "source": [
    "### Pesquisa aleatória (Random Search)"
   ]
  },
  {
   "cell_type": "code",
   "execution_count": 10,
   "metadata": {},
   "outputs": [],
   "source": [
    "def random_search(clf_rf, param_dist, X_train, y_train):\n",
    "    n_iter_search = 80\n",
    "    random_search = RandomizedSearchCV(clf_rf, param_distributions=param_dist, n_iter=n_iter_search, n_jobs=-1, cv=5, verbose=1, return_train_score=True)\n",
    "    \n",
    "    start = time()\n",
    "    random_search.fit(X_train, y_train)\n",
    "    print(\"RandomizedSearchCV levou %.2f segundos para %d candidatos\"\n",
    "      \" configurações de parâmetros.\" % ((time() - start), n_iter_search))\n",
    "    report(random_search.cv_results_)\n",
    "\n",
    "    return random_search"
   ]
  },
  {
   "cell_type": "markdown",
   "metadata": {},
   "source": [
    "### Dados de modelagem"
   ]
  },
  {
   "cell_type": "code",
   "execution_count": 11,
   "metadata": {},
   "outputs": [
    {
     "name": "stdout",
     "output_type": "stream",
     "text": [
      "Fitting 5 folds for each of 80 candidates, totalling 400 fits\n"
     ]
    },
    {
     "name": "stderr",
     "output_type": "stream",
     "text": [
      "[Parallel(n_jobs=-1)]: Using backend LokyBackend with 4 concurrent workers.\n",
      "[Parallel(n_jobs=-1)]: Done  42 tasks      | elapsed:   28.8s\n",
      "[Parallel(n_jobs=-1)]: Done 192 tasks      | elapsed:  1.8min\n",
      "[Parallel(n_jobs=-1)]: Done 400 out of 400 | elapsed:  3.6min finished\n"
     ]
    },
    {
     "name": "stdout",
     "output_type": "stream",
     "text": [
      "RandomizedSearchCV levou 220.75 segundos para 80 candidatos configurações de parâmetros.\n",
      "Modelo com classificação: 1\n",
      "Escore médio de validação: 0.815 (std: 0.068)\n",
      "Parametros: {'random_state': 24, 'n_estimators': 850, 'min_samples_split': 2, 'min_samples_leaf': 1, 'max_features': 'sqrt', 'max_depth': 50, 'criterion': 'entropy', 'class_weight': {0: 0.7, 1: 0.3}, 'bootstrap': True}\n",
      "\n",
      "Modelo com classificação: 1\n",
      "Escore médio de validação: 0.815 (std: 0.074)\n",
      "Parametros: {'random_state': 0, 'n_estimators': 966, 'min_samples_split': 5, 'min_samples_leaf': 1, 'max_features': 'sqrt', 'max_depth': 20, 'criterion': 'gini', 'class_weight': None, 'bootstrap': True}\n",
      "\n",
      "Modelo com classificação: 3\n",
      "Escore médio de validação: 0.815 (std: 0.063)\n",
      "Parametros: {'random_state': 24, 'n_estimators': 1083, 'min_samples_split': 2, 'min_samples_leaf': 1, 'max_features': 'log2', 'max_depth': 60, 'criterion': 'entropy', 'class_weight': {0: 0.3, 1: 0.7}, 'bootstrap': False}\n",
      "\n",
      "Fitting 5 folds for each of 135 candidates, totalling 675 fits\n"
     ]
    },
    {
     "name": "stderr",
     "output_type": "stream",
     "text": [
      "[Parallel(n_jobs=-1)]: Using backend LokyBackend with 4 concurrent workers.\n",
      "[Parallel(n_jobs=-1)]: Done  42 tasks      | elapsed:    7.8s\n",
      "[Parallel(n_jobs=-1)]: Done 192 tasks      | elapsed:  1.1min\n",
      "[Parallel(n_jobs=-1)]: Done 442 tasks      | elapsed:  2.8min\n",
      "[Parallel(n_jobs=-1)]: Done 675 out of 675 | elapsed:  4.2min finished\n"
     ]
    },
    {
     "name": "stdout",
     "output_type": "stream",
     "text": [
      "GridSearchCV levou 254.70 segundos para 20 candidatos configurações de parâmetros.\n",
      "Modelo com classificação: 1\n",
      "Escore médio de validação: 0.854 (std: 0.098)\n",
      "Parametros: {'bootstrap': True, 'class_weight': {0: 0.7, 1: 0.3}, 'criterion': 'entropy', 'max_depth': 47, 'max_features': 'sqrt', 'min_samples_leaf': 1, 'min_samples_split': 2, 'n_estimators': 700, 'random_state': 24}\n",
      "\n",
      "Modelo com classificação: 1\n",
      "Escore médio de validação: 0.854 (std: 0.098)\n",
      "Parametros: {'bootstrap': True, 'class_weight': {0: 0.7, 1: 0.3}, 'criterion': 'entropy', 'max_depth': 50, 'max_features': 'sqrt', 'min_samples_leaf': 1, 'min_samples_split': 2, 'n_estimators': 700, 'random_state': 24}\n",
      "\n",
      "Modelo com classificação: 1\n",
      "Escore médio de validação: 0.854 (std: 0.098)\n",
      "Parametros: {'bootstrap': True, 'class_weight': {0: 0.7, 1: 0.3}, 'criterion': 'entropy', 'max_depth': 53, 'max_features': 'sqrt', 'min_samples_leaf': 1, 'min_samples_split': 2, 'n_estimators': 700, 'random_state': 24}\n",
      "\n"
     ]
    }
   ],
   "source": [
    "if balance_data == 'yes':\n",
    "    class_weight = [None]\n",
    "else:\n",
    "    class_weight = [None,'balanced',\n",
    "                    {0:.9, 1:.1}, {0:.8, 1:.2}, {0:.7, 1:.3}, {0:.6, 1:.4},\n",
    "                    {0:.4, 1:.6}, {0:.3, 1:.7}, {0:.2, 1:.8}, {0:.1, 1:.9}]\n",
    "\n",
    "random_param = {'criterion': ['entropy', 'gini'],\n",
    "               'max_features': ['auto', 'sqrt','log2'],\n",
    "               'class_weight': class_weight,\n",
    "               'random_state': [0, 24],\n",
    "               'min_samples_split':[2,5,10],\n",
    "               'min_samples_leaf':[1,2,4],\n",
    "               'bootstrap' : [True,False],\n",
    "               'max_depth': [1, 10, 20, 30, 40, 50, 60, 70, 80, 90, 100],\n",
    "               'n_estimators': list(np.linspace(151, 1200, 10, dtype = int))}\n",
    "\n",
    "clf_rf = RandomForestClassifier(random_state=24).fit(X_train, y_train)\n",
    "\n",
    "rf_random = random_search(clf_rf, random_param, X_train, y_train);\n",
    "\n",
    "grid_params = {\n",
    "    'criterion': [rf_random.best_params_['criterion']],\n",
    "    'max_features': [rf_random.best_params_['max_features']],           \n",
    "    'class_weight': [rf_random.best_params_['class_weight']],\n",
    "    'random_state': [rf_random.best_params_['random_state']], \n",
    "    'bootstrap': [rf_random.best_params_['bootstrap']],\n",
    "    'max_depth':    [rf_random.best_params_['max_depth'] - 3,\n",
    "                     rf_random.best_params_['max_depth'],\n",
    "                     rf_random.best_params_['max_depth'] + 3],\n",
    "    'min_samples_leaf': [rf_random.best_params_['min_samples_leaf'] - 2,\n",
    "                     rf_random.best_params_['min_samples_leaf'],\n",
    "                     rf_random.best_params_['min_samples_leaf'] + 2],\n",
    "    'min_samples_split': [rf_random.best_params_['min_samples_split'] - 5,\n",
    "                     rf_random.best_params_['min_samples_split'],\n",
    "                     rf_random.best_params_['min_samples_split'] + 5],\n",
    "    'n_estimators': [rf_random.best_params_['n_estimators'] - 150, \n",
    "                     rf_random.best_params_['n_estimators'] - 100, \n",
    "                     rf_random.best_params_['n_estimators'], \n",
    "                     rf_random.best_params_['n_estimators'] + 100, \n",
    "                     rf_random.best_params_['n_estimators'] + 150]\n",
    "}\n",
    "\n",
    "rf_grid = grid_search(clf_rf, grid_params, X_train, y_train);"
   ]
  },
  {
   "cell_type": "code",
   "execution_count": 36,
   "metadata": {},
   "outputs": [
    {
     "name": "stdout",
     "output_type": "stream",
     "text": [
      "Baseline = 0.81\n",
      "\n",
      "Best param - Random search: {'random_state': 24, 'n_estimators': 850, 'min_samples_split': 2, 'min_samples_leaf': 1, 'max_features': 'sqrt', 'max_depth': 50, 'criterion': 'entropy', 'class_weight': {0: 0.7, 1: 0.3}, 'bootstrap': True}\n",
      "Random search = 0.82\n",
      "\n",
      "Best param - Grid search: {'bootstrap': True, 'class_weight': {0: 0.7, 1: 0.3}, 'criterion': 'entropy', 'max_depth': 47, 'max_features': 'sqrt', 'min_samples_leaf': 1, 'min_samples_split': 2, 'n_estimators': 700, 'random_state': 24}\n",
      "Grid search = nan\n"
     ]
    },
    {
     "data": {
      "image/png": "[encoded data removed]",
      "text/plain": [
       "<Figure size 432x288 with 1 Axes>"
      ]
     },
     "metadata": {
      "needs_background": "light"
     },
     "output_type": "display_data"
    }
   ],
   "source": [
    "baseline = cross_val_score(clf_rf, X_train, y_train).mean()\n",
    "y_gs = np.maximum.accumulate(rf_grid.cv_results_['mean_test_score'])\n",
    "y_rs = np.maximum.accumulate(rf_random.cv_results_['mean_test_score'])\n",
    "\n",
    "print(f'Baseline = {baseline:.2f}')\n",
    "\n",
    "print()\n",
    "print('Best param - Random search: %s' % rf_random.best_params_)\n",
    "print(f'Random search = {y_rs[-1]:.2f}')\n",
    "\n",
    "print()\n",
    "print('Best param - Grid search: %s' % rf_grid.best_params_)\n",
    "print(f'Grid search = {y_gs[-1]:.2f}')\n",
    "\n",
    "plt.plot(y_gs, 'gs-', label='Grid search')\n",
    "plt.plot(y_rs, 'rs-', label='Random search')\n",
    "plt.xlabel('Iteration')\n",
    "plt.ylabel('score')\n",
    "plt.ylim(0, 1)\n",
    "plt.title('Valor da melhor pontuação CV amostrada');\n",
    "plt.legend();"
   ]
  },
  {
   "cell_type": "markdown",
   "metadata": {},
   "source": [
    "##### Modelo com w/ melhores parâmetros"
   ]
  },
  {
   "cell_type": "code",
   "execution_count": 34,
   "metadata": {},
   "outputs": [
    {
     "name": "stdout",
     "output_type": "stream",
     "text": [
      "\n",
      "Best param - Random search: {'random_state': 24, 'n_estimators': 850, 'min_samples_split': 2, 'min_samples_leaf': 1, 'max_features': 'sqrt', 'max_depth': 50, 'criterion': 'entropy', 'class_weight': {0: 0.7, 1: 0.3}, 'bootstrap': True}\n"
     ]
    },
    {
     "ename": "NameError",
     "evalue": "name 'y_rs' is not defined",
     "output_type": "error",
     "traceback": [
      "\u001b[1;31m---------------------------------------------------------------------------\u001b[0m",
      "\u001b[1;31mNameError\u001b[0m                                 Traceback (most recent call last)",
      "\u001b[1;32m<ipython-input-34-d55dfe6ab1b3>\u001b[0m in \u001b[0;36m<module>\u001b[1;34m\u001b[0m\n\u001b[0;32m      4\u001b[0m \u001b[0mprint\u001b[0m\u001b[1;33m(\u001b[0m\u001b[1;33m)\u001b[0m\u001b[1;33m\u001b[0m\u001b[1;33m\u001b[0m\u001b[0m\n\u001b[0;32m      5\u001b[0m \u001b[0mprint\u001b[0m\u001b[1;33m(\u001b[0m\u001b[1;34m'Best param - Random search: %s'\u001b[0m \u001b[1;33m%\u001b[0m \u001b[0mrf_random\u001b[0m\u001b[1;33m.\u001b[0m\u001b[0mbest_params_\u001b[0m\u001b[1;33m)\u001b[0m\u001b[1;33m\u001b[0m\u001b[1;33m\u001b[0m\u001b[0m\n\u001b[1;32m----> 6\u001b[1;33m \u001b[0mprint\u001b[0m\u001b[1;33m(\u001b[0m\u001b[1;34mf'Random search = {y_rs[-1]:.2f}'\u001b[0m\u001b[1;33m)\u001b[0m\u001b[1;33m\u001b[0m\u001b[1;33m\u001b[0m\u001b[0m\n\u001b[0m\u001b[0;32m      7\u001b[0m \u001b[1;33m\u001b[0m\u001b[0m\n\u001b[0;32m      8\u001b[0m \u001b[0mprint\u001b[0m\u001b[1;33m(\u001b[0m\u001b[1;33m)\u001b[0m\u001b[1;33m\u001b[0m\u001b[1;33m\u001b[0m\u001b[0m\n",
      "\u001b[1;31mNameError\u001b[0m: name 'y_rs' is not defined"
     ]
    }
   ],
   "source": [
    "#criando o modelo com os melhores parametros utilizando processamento paralelo\n",
    "rf_best = RandomForestClassifier(**rf_random.best_params_, n_jobs=-1)\n",
    "\n",
    "# n_splits: int, padrão = 5 Número de dobras. Deve ser pelo menos 2.\n",
    "cross_val = StratifiedKFold(n_splits=5)\n"
   ]
  },
  {
   "cell_type": "markdown",
   "metadata": {},
   "source": [
    "#####  Área sob a curva ROC (AUC) "
   ]
  },
  {
   "cell_type": "code",
   "execution_count": 31,
   "metadata": {},
   "outputs": [],
   "source": [
    "def roc_auc(rf_best, cross_val, X_train, y_train):\n",
    "    tprs = []\n",
    "    aucs = []\n",
    "    mean_fpr = np.linspace(0, 1, 100)\n",
    "\n",
    "    fig, ax = plt.subplots(figsize=(10,6))\n",
    "    for i, (train_index, test_index) in enumerate(cross_val.split(X_train, y_train)):\n",
    "        rf_best.fit(X_train.iloc[train_index], y_train[train_index])\n",
    "        viz = plot_roc_curve(rf_best, X_train.iloc[test_index], y_train[test_index],\n",
    "                             name='ROC fold {}'.format(i),\n",
    "                             alpha=0.3, lw=1, ax=ax)\n",
    "        interp_tpr = np.interp(mean_fpr, viz.fpr, viz.tpr)\n",
    "        interp_tpr[0] = 0.0\n",
    "        tprs.append(interp_tpr)\n",
    "        aucs.append(viz.roc_auc)\n",
    "\n",
    "    ax.plot([0, 1], [0, 1], linestyle='--', lw=2, color='r',\n",
    "            label='Chance', alpha=.8, )\n",
    "\n",
    "    mean_tpr = np.mean(tprs, axis=0)\n",
    "    mean_tpr[-1] = 1.0\n",
    "    mean_auc = auc(mean_fpr, mean_tpr)\n",
    "    std_auc = np.std(aucs)\n",
    "    ax.plot(mean_fpr, mean_tpr, color='b',\n",
    "            label=r'Média ROC (AUC = %0.2f $\\pm$ %0.2f)' % (mean_auc, std_auc),\n",
    "            lw=2, alpha=.8)\n",
    "\n",
    "    std_tpr = np.std(tprs, axis=0)\n",
    "    tprs_upper = np.minimum(mean_tpr + std_tpr, 1)\n",
    "    tprs_lower = np.maximum(mean_tpr - std_tpr, 0)\n",
    "    ax.fill_between(mean_fpr, tprs_lower, tprs_upper, color='grey', alpha=.2,\n",
    "                    label=r'$\\pm$ 1 std. dev.')\n",
    "\n",
    "    ax.set(xlim=[-0.05, 1.05], ylim=[-0.05, 1.05],\n",
    "           title=\"Característica operacional do receptor\")\n",
    "    ax.legend(loc=\"lower right\")\n",
    "    plt.show()"
   ]
  },
  {
   "cell_type": "markdown",
   "metadata": {},
   "source": [
    "##### Validação cruzada 5 vezes Calcular DA"
   ]
  },
  {
   "cell_type": "code",
   "execution_count": 30,
   "metadata": {},
   "outputs": [
    {
     "data": {
      "image/png": "[encoded data removed]",
      "text/plain": [
       "<Figure size 720x432 with 1 Axes>"
      ]
     },
     "metadata": {
      "needs_background": "light"
     },
     "output_type": "display_data"
    }
   ],
   "source": [
    "roc_auc(rf_best, cross_val, X_train, y_train)\n",
    "\n",
    "# Parametros\n",
    "pred = []\n",
    "ad = []\n",
    "index = []\n",
    "\n",
    "cross_val = StratifiedKFold(n_splits=5)\n",
    "\n",
    "# Faça um loop de 5 vezes\n",
    "for train_index, test_index in cross_val.split(X_train, y_train):    \n",
    "    fold_model = rf_best.fit(X_train.iloc[train_index], y_train[train_index])\n",
    "    fold_pred = rf_best.predict(X_train.iloc[test_index])\n",
    "    fold_ad = rf_best.predict_proba(X_train.iloc[test_index])\n",
    "    pred.append(fold_pred)\n",
    "    ad.append(fold_ad)\n",
    "    index.append(test_index)"
   ]
  },
  {
   "cell_type": "code",
   "execution_count": 89,
   "metadata": {},
   "outputs": [
    {
     "name": "stdout",
     "output_type": "stream",
     "text": [
      "\u001b[1mCaracterísticas estatísticas de validação cruzada externa de 5 vezes dos modelos QSAR desenvolvidos morgan\n",
      "\u001b[0m\n"
     ]
    },
    {
     "data": {
      "text/html": [
       "<div>\n",
       "<style scoped>\n",
       "    .dataframe tbody tr th:only-of-type {\n",
       "        vertical-align: middle;\n",
       "    }\n",
       "\n",
       "    .dataframe tbody tr th {\n",
       "        vertical-align: top;\n",
       "    }\n",
       "\n",
       "    .dataframe thead th {\n",
       "        text-align: right;\n",
       "    }\n",
       "</style>\n",
       "<table border=\"1\" class=\"dataframe\">\n",
       "  <thead>\n",
       "    <tr style=\"text-align: right;\">\n",
       "      <th></th>\n",
       "      <th>Kappa</th>\n",
       "      <th>CCR</th>\n",
       "      <th>Sensibilidade</th>\n",
       "      <th>PPV</th>\n",
       "      <th>Especificidade</th>\n",
       "      <th>NPV</th>\n",
       "      <th>Accuracy</th>\n",
       "      <th>F1 Score</th>\n",
       "      <th>Coverage</th>\n",
       "    </tr>\n",
       "  </thead>\n",
       "  <tbody>\n",
       "    <tr>\n",
       "      <th>Morgan</th>\n",
       "      <td>0.58</td>\n",
       "      <td>0.78</td>\n",
       "      <td>0.68</td>\n",
       "      <td>0.77</td>\n",
       "      <td>0.89</td>\n",
       "      <td>0.83</td>\n",
       "      <td>0.81</td>\n",
       "      <td>0.72</td>\n",
       "      <td>1.00</td>\n",
       "    </tr>\n",
       "    <tr>\n",
       "      <th>Morgan AD</th>\n",
       "      <td>0.71</td>\n",
       "      <td>0.83</td>\n",
       "      <td>0.68</td>\n",
       "      <td>0.94</td>\n",
       "      <td>0.98</td>\n",
       "      <td>0.86</td>\n",
       "      <td>0.88</td>\n",
       "      <td>0.79</td>\n",
       "      <td>0.67</td>\n",
       "    </tr>\n",
       "  </tbody>\n",
       "</table>\n",
       "</div>"
      ],
      "text/plain": [
       "           Kappa   CCR  Sensibilidade   PPV  Especificidade   NPV  Accuracy  \\\n",
       "Morgan      0.58  0.78           0.68  0.77            0.89  0.83      0.81   \n",
       "Morgan AD   0.71  0.83           0.68  0.94            0.98  0.86      0.88   \n",
       "\n",
       "           F1 Score  Coverage  \n",
       "Morgan         0.72      1.00  \n",
       "Morgan AD      0.79      0.67  "
      ]
     },
     "execution_count": 89,
     "metadata": {},
     "output_type": "execute_result"
    }
   ],
   "source": [
    "# nomal = média majoritária das previsões dos modelos independentes desenvolvidos com os decritores de Morgan\n",
    "# AD = previsões médias de modelos independentes quando as previsões estão dentro do domínio de aplicabilidade desse modelo\n",
    "\n",
    "threshold_ad = 0.70 # A abordagem do domínio de aplicabilidade local (árvore), que estabeleceu um limiar de 70%, foi utilizada para todos os modelos de RF\n",
    "\n",
    "# Preparar resultados para exportar    \n",
    "fold_index = np.concatenate(index)    \n",
    "fold_pred = np.concatenate(pred)\n",
    "fold_ad = np.concatenate(ad)\n",
    "# amax() retorna o máximo de uma matriz ou o máximo ao longo do eixo (se mencionado).\n",
    "# astype() também oferece a capacidade de converter qualquer coluna existente adequada em tipo categórico.\n",
    "fold_ad = (np.amax(fold_ad, axis=1) >= threshold_ad).astype(str)\n",
    "five_fold_morgan = pd.DataFrame({'Prediction': fold_pred,'AD': fold_ad}, index=list(fold_index))\n",
    "five_fold_morgan.AD[five_fold_morgan.AD == 'False'] = np.nan\n",
    "five_fold_morgan.AD[five_fold_morgan.AD == 'True'] = five_fold_morgan.Prediction\n",
    "five_fold_morgan.sort_index(inplace=True)\n",
    "five_fold_morgan['y_train'] = pd.DataFrame(y_train)\n",
    "five_fold_ad = five_fold_morgan.dropna().astype(int)\n",
    "coverage_5f = len(five_fold_ad) / len(five_fold_morgan)\n",
    "\n",
    "\n",
    "# estatísticas de morgan (stats)\n",
    "morgan = pd.DataFrame(stats(five_fold_morgan['y_train'], five_fold_morgan['Prediction']))\n",
    "morgan['Coverage'] = 1.0\n",
    "\n",
    "# estatísticas do morgan AD\n",
    "morgan_ad = five_fold_morgan.dropna(subset=['AD']).astype(int)\n",
    "coverage_morgan_ad = len(morgan_ad['AD']) / len(five_fold_morgan['y_train'])\n",
    "morgan_ad = pd.DataFrame(stats(morgan_ad['y_train'], morgan_ad['AD']))\n",
    "morgan_ad['Coverage'] = round(coverage_morgan_ad, 2)\n",
    "\n",
    "# imprimir estatísticas\n",
    "print('\\033[1m' + 'Características estatísticas de validação cruzada externa de 5 vezes dos modelos QSAR desenvolvidos morgan' + '\\n' + '\\033[0m')\n",
    "morgan_5f_stats = morgan.append(morgan_ad)\n",
    "morgan_5f_stats.set_index([['Morgan', 'Morgan AD']], drop=True, inplace=True)\n",
    "morgan_5f_stats\n",
    "\n",
    "\n",
    "# Valores verdadeiros e falsos: TN, FP, FN, TP = confusion_matrix.ravel()\n",
    "# Accuracy AC = (TP+TN)/(TP+FP+FN+TN)\n",
    "# Sensibilidade, taxa de acerto, recall ou taxa positiva verdadeira: SE = TP/(TP+FN)\n",
    "# Especificidade ou taxa negativa verdadeira: SP = TN/(TN+FP)\n",
    "# Precisão ou valor preditivo positivo: PPV = TP/(TP+FP)\n",
    "# Valor preditivo negativo: NPV = TN/(TN+FN)\n",
    "# Taxa de classificação correta: CCR = (SE + SP)/2\n",
    "# Cobertura: baseia-se na cobertura média (número de amostras afetadas) de divisões que usam o recurso\n",
    "# F1 Score = 2 * (Precision * Sensitivity) / (Precision + Sensitivity)\n",
    "\n",
    "# O índice de acurácia Kappa, é uma pontuação que expressa o nível de concordância entre dois anotadores em um problema de classificação. É definido como k = (Po-Pc)/(1-Pc) (y_train, y_pred, weights='linear')\n",
    "# Po = Precisão Global (Proporção de unidades que concordam); e\n",
    "# Pc = Proporção de unidades que concordam por coincidência, representada pela Equação:\n",
    "# Pc = Somatoria(M)*ni+n+i/N^2\n",
    "# M = número de classes;\n",
    "# ni+ = total de elementos classificados para categoria i;\n",
    "# n+i = total de elementos de referência amostrados para uma categoria i; e\n",
    "# N = número total de amostras.\n",
    "# Tipo de ponderação para calcular a pontuação. Nenhum significa não ponderado; \"Linear\" significa linear ponderado; \"Quadrático\" significa ponderado quadrático."
   ]
  },
  {
   "cell_type": "markdown",
   "metadata": {},
   "source": [
    "##### Prever conjunto retido externo após o balanceamento"
   ]
  },
  {
   "cell_type": "code",
   "execution_count": 90,
   "metadata": {},
   "outputs": [],
   "source": [
    "moldf_ext = moldf_desc[(moldf_desc['Set'] == 'ext')]\n",
    "descriptor_list = list(X_train.columns.values)\n",
    "\n",
    "if len(moldf_ext) > 0:\n",
    "    y_ext = moldf_ext['Outcome'].to_numpy()\n",
    "    X_ext = moldf_ext[descriptors]\n",
    "    \n",
    "    # Filtrar descritores não presentes no modelo\n",
    "    X_ext = X_ext[descriptor_list]\n",
    "    \n",
    "    # Fazer previsões\n",
    "    ext_set = rf_best.predict(X_ext)\n",
    "    ext_set_ad = rf_best.predict_proba(X_ext)\n",
    "    ext_set_ad = (np.amax(ext_set_ad, axis=1) >= threshold_ad).astype(str)\n",
    "    \n",
    "    # Preparar dados\n",
    "    ext_set = pd.DataFrame({'Prediction': ext_set,'AD': ext_set_ad})\n",
    "    ext_set.AD[ext_set.AD == 'False'] = np.nan\n",
    "    ext_set.AD[ext_set.AD == 'True'] = ext_set.Prediction\n",
    "    ext_set.sort_index(inplace=True)\n",
    "    ext_set['y_ext'] = pd.DataFrame(y_ext)\n",
    "    ext_set_ad = ext_set.dropna().astype(int)\n",
    "    coverage_ext = len(ext_set_ad) / len(ext_set)\n",
    "    \n",
    "    # Imprimir estatísticas\n",
    "    ext_set_stats = pd.DataFrame(stats(ext_set.y_ext, ext_set.Prediction))\n",
    "    ext_set_stats['Coverage'] = 1.0\n",
    "    print('External withheld set: \\n', ext_set_stats.to_string(index=False), '\\n')\n",
    "    ext_set_stats_ad = pd.DataFrame(stats(ext_set_ad.y_ext, ext_set_ad.AD))\n",
    "    ext_set_stats_ad['Coverage'] = round(coverage_ext, 2)\n",
    "    print('External withheld set with AD: \\n', ext_set_stats_ad.to_string(index=False), '\\n')\n",
    "else:\n",
    "    pass"
   ]
  },
  {
   "cell_type": "markdown",
   "metadata": {},
   "source": [
    "##### Y-randomization"
   ]
  },
  {
   "cell_type": "code",
   "execution_count": 91,
   "metadata": {},
   "outputs": [
    {
     "name": "stderr",
     "output_type": "stream",
     "text": [
      "[Parallel(n_jobs=-1)]: Using backend LokyBackend with 4 concurrent workers.\n"
     ]
    },
    {
     "name": "stdout",
     "output_type": "stream",
     "text": [
      "True score =  0.78 \n",
      "Y-randomization =  0.5 \n",
      "p-value =  0.0476\n"
     ]
    },
    {
     "name": "stderr",
     "output_type": "stream",
     "text": [
      "[Parallel(n_jobs=-1)]: Done  20 out of  20 | elapsed:   50.4s finished\n"
     ]
    }
   ],
   "source": [
    "# Avaliar a significância de uma pontuação validada cruzada com permutações\n",
    "# True score = A pontuação verdadeira, sem permutar metas.\n",
    "# Y-randomization = Media das pontuações obtidas para cada permutação.\n",
    "# np-value = O valor retornado é igual ao valor-p se a pontuação retornar números maiores para obter melhores \n",
    "#     pontuações (por exemplo, exatidão_score). Se a pontuação é uma função de perda (ou seja, quando menor é melhor, \n",
    "#     como com mean_squared_error), então esse é realmente o complemento do valor p: 1 - valor p.\n",
    "permutations = 20\n",
    "score, permutation_scores, pvalue = permutation_test_score(rf_best, X_train, y_train,\n",
    "                                                           cv=5, scoring='balanced_accuracy',\n",
    "                                                           n_permutations=permutations,\n",
    "                                                           n_jobs=-1,\n",
    "                                                           verbose=1,\n",
    "                                                           random_state=24)\n",
    "print('True score = ', score.round(2),\n",
    "      '\\nY-randomization = ', np.mean(permutation_scores).round(2),\n",
    "      '\\np-value = ', pvalue.round(4))"
   ]
  },
  {
   "cell_type": "markdown",
   "metadata": {},
   "source": [
    "##### Salvar modelo"
   ]
  },
  {
   "cell_type": "code",
   "execution_count": 92,
   "metadata": {},
   "outputs": [],
   "source": [
    "with gzip.GzipFile('model/sars-cov-3clpro-morgan_RF_ad_balanced.pgz', 'w') as f:\n",
    "    cPickle.dump(rf_best, f)"
   ]
  },
  {
   "cell_type": "markdown",
   "metadata": {},
   "source": [
    "### Exportar previsões"
   ]
  },
  {
   "cell_type": "code",
   "execution_count": 93,
   "metadata": {},
   "outputs": [],
   "source": [
    "pred_train = moldf_train[moldf_train.columns.difference(descriptor_list)]\n",
    "pred_train.reset_index(inplace=True)\n",
    "five_fold_exp = five_fold_morgan[['Prediction', 'AD']].rename(columns={'Prediction':'morgan', 'AD':'morgan_ad'}, )\n",
    "pred_train = pd.concat([pred_train, five_fold_exp], axis=1)\n",
    "pred_train['Set'] = 'train'\n",
    "\n",
    "if len(moldf_ext) > 0:\n",
    "    pred_ext = moldf_ext[moldf_ext.columns.difference(descriptor_list)]\n",
    "    pred_ext.reset_index(inplace=True)\n",
    "    ext_set_exp = ext_set[['Prediction', 'AD']].rename(columns={'Prediction':'morgan', 'AD':'morgan_ad'}, )\n",
    "    pred_ext = pd.concat([pred_ext, ext_set_exp], axis=1)\n",
    "    pred_ext['Set'] = 'ext'\n",
    "    \n",
    "    pred_morgan = pd.concat([pred_train, pred_ext], axis=0).sort_values(by='index')\n",
    "    pred_morgan.drop(columns=['index', 'Mol', 'ID'], inplace=True)\n",
    "\n",
    "else:\n",
    "    pred_morgan = pred_train.copy()\n",
    "    pred_morgan.drop(columns=['index', 'Mol', 'ID'], inplace=True)\n",
    "    \n",
    "#for col in ['Outcome', 'morgan', 'morgan_ad']:\n",
    "#    pred_morgan[col].replace(0,'Inactive', inplace=True)\n",
    "#    pred_morgan[col].replace(1,'Active', inplace=True)"
   ]
  },
  {
   "cell_type": "code",
   "execution_count": 94,
   "metadata": {},
   "outputs": [],
   "source": [
    "with pd.ExcelWriter('predictions-morgan.xlsx') as writer:\n",
    "    pred_morgan.to_excel(writer, sheet_name='morgan', index=False)"
   ]
  },
  {
   "cell_type": "markdown",
   "metadata": {},
   "source": [
    "### Plotando as Estatísticas"
   ]
  },
  {
   "cell_type": "code",
   "execution_count": 95,
   "metadata": {},
   "outputs": [
    {
     "data": {
      "text/html": [
       "<div>\n",
       "<style scoped>\n",
       "    .dataframe tbody tr th:only-of-type {\n",
       "        vertical-align: middle;\n",
       "    }\n",
       "\n",
       "    .dataframe tbody tr th {\n",
       "        vertical-align: top;\n",
       "    }\n",
       "\n",
       "    .dataframe thead th {\n",
       "        text-align: right;\n",
       "    }\n",
       "</style>\n",
       "<table border=\"1\" class=\"dataframe\">\n",
       "  <thead>\n",
       "    <tr style=\"text-align: right;\">\n",
       "      <th></th>\n",
       "      <th>Kappa</th>\n",
       "      <th>CCR</th>\n",
       "      <th>Sensibilidade</th>\n",
       "      <th>PPV</th>\n",
       "      <th>Especificidade</th>\n",
       "      <th>NPV</th>\n",
       "      <th>Accuracy</th>\n",
       "      <th>F1 Score</th>\n",
       "      <th>Coverage</th>\n",
       "    </tr>\n",
       "  </thead>\n",
       "  <tbody>\n",
       "    <tr>\n",
       "      <th>Morgan</th>\n",
       "      <td>0.58</td>\n",
       "      <td>0.78</td>\n",
       "      <td>0.68</td>\n",
       "      <td>0.77</td>\n",
       "      <td>0.89</td>\n",
       "      <td>0.83</td>\n",
       "      <td>0.81</td>\n",
       "      <td>0.72</td>\n",
       "      <td>1.00</td>\n",
       "    </tr>\n",
       "    <tr>\n",
       "      <th>Morgan AD</th>\n",
       "      <td>0.71</td>\n",
       "      <td>0.83</td>\n",
       "      <td>0.68</td>\n",
       "      <td>0.94</td>\n",
       "      <td>0.98</td>\n",
       "      <td>0.86</td>\n",
       "      <td>0.88</td>\n",
       "      <td>0.79</td>\n",
       "      <td>0.67</td>\n",
       "    </tr>\n",
       "  </tbody>\n",
       "</table>\n",
       "</div>"
      ],
      "text/plain": [
       "           Kappa   CCR  Sensibilidade   PPV  Especificidade   NPV  Accuracy  \\\n",
       "Morgan      0.58  0.78           0.68  0.77            0.89  0.83      0.81   \n",
       "Morgan AD   0.71  0.83           0.68  0.94            0.98  0.86      0.88   \n",
       "\n",
       "           F1 Score  Coverage  \n",
       "Morgan         0.72      1.00  \n",
       "Morgan AD      0.79      0.67  "
      ]
     },
     "execution_count": 95,
     "metadata": {},
     "output_type": "execute_result"
    }
   ],
   "source": [
    "# Exportar estatísticas\n",
    "if len(moldf_ext) > 0:\n",
    "    morgan_stats = pd.concat([morgan, morgan_ad], axis=0)\n",
    "    morgan_stats.set_index([['5-fold CV', 'External withheld set']], drop=True, inplace=True)\n",
    "    morgan_stats\n",
    "else:\n",
    "    morgan_stats = morgan_5f_stats.copy()\n",
    "    morgan_stats"
   ]
  },
  {
   "cell_type": "code",
   "execution_count": 96,
   "metadata": {
    "scrolled": false
   },
   "outputs": [
    {
     "data": {
      "image/png": "[encoded data removed]",
      "text/plain": [
       "<Figure size 720x432 with 1 Axes>"
      ]
     },
     "metadata": {
      "needs_background": "light"
     },
     "output_type": "display_data"
    }
   ],
   "source": [
    "# Estatísticas de transposição\n",
    "morgan_stats_t = morgan_stats.T\n",
    "morgan_stats_t = morgan_stats_t.reset_index()\n",
    "morgan_stats_t = morgan_stats_t.rename(columns={'index': 'Stats'})\n",
    "\n",
    "# Fazer enredo\n"
   ]
  },
  {
   "cell_type": "code",
   "execution_count": null,
   "metadata": {},
   "outputs": [],
   "source": []
  }
 ],
 "metadata": {
  "kernelspec": {
   "display_name": "Python 3",
   "language": "python",
   "name": "python3"
  },
  "language_info": {
   "codemirror_mode": {
    "name": "ipython",
    "version": 3
   },
   "file_extension": ".py",
   "mimetype": "text/x-python",
   "name": "python",
   "nbconvert_exporter": "python",
   "pygments_lexer": "ipython3",
   "version": "3.7.6"
  }
 },
 "nbformat": 4,
 "nbformat_minor": 2
}
