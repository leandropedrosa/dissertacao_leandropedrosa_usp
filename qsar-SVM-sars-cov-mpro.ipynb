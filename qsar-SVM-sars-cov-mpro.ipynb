{
 "cells": [
  {
   "cell_type": "markdown",
   "metadata": {},
   "source": [
    "# Modelos QSAR-SVM para protease principal 3C-like protease (M<sup>pro</sup>) de SARS-CoV"
   ]
  },
  {
   "cell_type": "markdown",
   "metadata": {},
   "source": [
    "Os modelos nesse fluxo de trabalho foram criados usando as PaDEL-Descriptor, Impressões digitais de Morgan, SiRMS (Simplex Representation of Molecular Structure) e Drangon 7.0 com SVM scikit-learn."
   ]
  },
  {
   "cell_type": "markdown",
   "metadata": {},
   "source": [
    "## Importando Módulos e Funções"
   ]
  },
  {
   "cell_type": "code",
   "execution_count": 2,
   "metadata": {},
   "outputs": [],
   "source": [
    "# Funções\n",
    "from functions.BalanceBySim import *\n",
    "from functions.DescritoresMorgan import morgan_descriptors\n",
    "from functions.DescritoresPaDEL import padel_descriptors\n",
    "from functions.DescritoresSiRMS import sirms_descriptors\n",
    "from functions.DescritoresDragon import dragon_descriptors\n",
    "from functions.stats import stats\n",
    "from functions.RocAUC import roc_auc\n",
    "from functions.YRandomization import y_randomization\n",
    "from functions.BestModel import grid_search, random_search, best_grid_search, best_random_search\n",
    "from functions.Evaluation import statistics\n",
    "from functions.StatsChart import print_stats\n",
    "from functions.CarregarDados import carregar_dados\n",
    "from functions.Consenso import statistics_morganXpadel, statistics_sirmsXdragon\n",
    "from functions.ConsensoChart import print_consenso\n",
    "from functions.ComparisonHyperparameters import compare\n",
    "import scipy\n",
    "\n",
    "from sklearn.svm import SVC\n",
    "from sklearn.model_selection import StratifiedKFold"
   ]
  },
  {
   "cell_type": "markdown",
   "metadata": {},
   "source": [
    "## Carregar compostos inibidores (Y)"
   ]
  },
  {
   "cell_type": "code",
   "execution_count": 3,
   "metadata": {},
   "outputs": [
    {
     "name": "stdout",
     "output_type": "stream",
     "text": [
      "Original data:  (113, 11)\n",
      "Dados mantidos:  (113, 11)\n",
      "\u001b[1mForma do conjunto de treinamento:\n",
      "\u001b[0m\n",
      "\t\t Classe 1: 40\n",
      "\t\t Classe 0: 73\n",
      "\t\t Número total de compostos: 113\n",
      "Class labels: [Counter({0: 73, 1: 40})]\n"
     ]
    },
    {
     "data": {
      "image/png": "[encoded data removed]",
      "text/plain": [
       "<Figure size 432x288 with 1 Axes>"
      ]
     },
     "metadata": {
      "needs_background": "light"
     },
     "output_type": "display_data"
    },
    {
     "data": {
      "image/png": "[encoded data removed]",
      "text/plain": [
       "<Figure size 432x288 with 1 Axes>"
      ]
     },
     "metadata": {
      "needs_background": "light"
     },
     "output_type": "display_data"
    }
   ],
   "source": [
    "moldf = carregar_dados();\n",
    "moldf.plot(kind=\"hist\", legend=None, bins=20, color='k')\n",
    "moldf.plot(kind=\"kde\", legend=None);"
   ]
  },
  {
   "cell_type": "markdown",
   "metadata": {},
   "source": [
    "## Gerando conjunto de treinamento e teste a partir dos descritores (X)"
   ]
  },
  {
   "cell_type": "markdown",
   "metadata": {},
   "source": [
    "#### Função Fingerprints de Harry Morgan"
   ]
  },
  {
   "cell_type": "code",
   "execution_count": 4,
   "metadata": {},
   "outputs": [
    {
     "name": "stdout",
     "output_type": "stream",
     "text": [
      "\u001b[1mForma do conjunto de treinamento:\n",
      "\u001b[0m\n",
      "\t\t Classe 1: 40\n",
      "\t\t Classe 0: 73\n",
      "\t\t Número total de compostos: 113\n",
      "Class labels: [Counter({0: 73, 1: 40})]\n",
      "Forma do conjunto de treinamento: Counter({0: 73, 1: 40})\n",
      "Forma externa definida: Counter()\n"
     ]
    },
    {
     "data": {
      "text/plain": [
       "(113, 2048)"
      ]
     },
     "execution_count": 4,
     "metadata": {},
     "output_type": "execute_result"
    }
   ],
   "source": [
    "data_morgan = morgan_descriptors(moldf)\n",
    "Y_train_morgan = data_morgan['Y_train']\n",
    "X_train_morgan = data_morgan['X_train']\n",
    "X_train_morgan.shape"
   ]
  },
  {
   "cell_type": "markdown",
   "metadata": {},
   "source": [
    "#### PaDEL-Descriptor"
   ]
  },
  {
   "cell_type": "code",
   "execution_count": 5,
   "metadata": {},
   "outputs": [
    {
     "name": "stdout",
     "output_type": "stream",
     "text": [
      "Forma do conjunto de treinamento: Counter({0: 73, 1: 40})\n",
      "Forma externa definida: Counter()\n"
     ]
    },
    {
     "data": {
      "text/plain": [
       "(113, 1444)"
      ]
     },
     "execution_count": 5,
     "metadata": {},
     "output_type": "execute_result"
    }
   ],
   "source": [
    "data_padel = padel_descriptors(moldf)\n",
    "Y_train_padel = data_padel['Y_train']\n",
    "X_train_padel = data_padel['X_train']\n",
    "X_train_padel.shape"
   ]
  },
  {
   "cell_type": "markdown",
   "metadata": {},
   "source": [
    "#### SiRMS (Simplex Representation of Molecular Structure)"
   ]
  },
  {
   "cell_type": "code",
   "execution_count": 6,
   "metadata": {},
   "outputs": [
    {
     "data": {
      "text/plain": [
       "(113, 1261)"
      ]
     },
     "execution_count": 6,
     "metadata": {},
     "output_type": "execute_result"
    }
   ],
   "source": [
    "data_sirms = sirms_descriptors(moldf)\n",
    "Y_train_sirms = data_sirms['Y_train']\n",
    "X_train_sirms = data_sirms['X_train']\n",
    "X_train_sirms.shape"
   ]
  },
  {
   "cell_type": "markdown",
   "metadata": {},
   "source": [
    "#### Drangon 7.0"
   ]
  },
  {
   "cell_type": "code",
   "execution_count": 7,
   "metadata": {},
   "outputs": [
    {
     "data": {
      "text/plain": [
       "(113, 377)"
      ]
     },
     "execution_count": 7,
     "metadata": {},
     "output_type": "execute_result"
    }
   ],
   "source": [
    "data_dragon = dragon_descriptors(moldf)\n",
    "Y_train_dragon = data_dragon['Y_train']\n",
    "X_train_dragon = data_dragon['X_train']\n",
    "X_train_dragon.shape"
   ]
  },
  {
   "cell_type": "markdown",
   "metadata": {},
   "source": [
    "## Parâmetros p/ geração dos modelos"
   ]
  },
  {
   "cell_type": "markdown",
   "metadata": {},
   "source": [
    "#### Parâmetros SVM"
   ]
  },
  {
   "cell_type": "code",
   "execution_count": 8,
   "metadata": {},
   "outputs": [],
   "source": [
    "from scipy.stats import expon, randint\n",
    "# Grade de parametros\n",
    "svm_param = {\n",
    "    \"C\": [0.001, 0.01, 0.1, 1, 10],\n",
    "    \"gamma\": [0.1, 5, 10],\n",
    "    \"kernel\": ['rbf', 'linear', 'poly'],\n",
    "    \"random_state\": [24]\n",
    "}\n",
    "\n",
    "# Distribuição de parametros\n",
    "svm_dist = {\n",
    "    \"C\": randint(.001,10),\n",
    "    \"gamma\": randint(.1,10),\n",
    "    \"kernel\": ['rbf', 'linear', 'poly'],\n",
    "    \"random_state\": [24]\n",
    "}"
   ]
  },
  {
   "cell_type": "markdown",
   "metadata": {},
   "source": [
    "## Otimizando hiperparâmetros"
   ]
  },
  {
   "cell_type": "markdown",
   "metadata": {},
   "source": [
    "#### Morgan"
   ]
  },
  {
   "cell_type": "code",
   "execution_count": 9,
   "metadata": {},
   "outputs": [
    {
     "name": "stdout",
     "output_type": "stream",
     "text": [
      "Fitting 5 folds for each of 45 candidates, totalling 225 fits\n"
     ]
    },
    {
     "name": "stderr",
     "output_type": "stream",
     "text": [
      "[Parallel(n_jobs=-1)]: Using backend LokyBackend with 4 concurrent workers.\n",
      "[Parallel(n_jobs=-1)]: Done  10 tasks      | elapsed:    2.0s\n",
      "[Parallel(n_jobs=-1)]: Done  64 tasks      | elapsed:    4.1s\n",
      "[Parallel(n_jobs=-1)]: Done 154 tasks      | elapsed:    7.6s\n",
      "[Parallel(n_jobs=-1)]: Done 225 out of 225 | elapsed:   10.2s finished\n",
      "[Parallel(n_jobs=-1)]: Using backend LokyBackend with 4 concurrent workers.\n"
     ]
    },
    {
     "name": "stdout",
     "output_type": "stream",
     "text": [
      "**Resultados Grid Search**\n",
      "Melhores Parâmetros: {'C': 0.001, 'gamma': 5, 'kernel': 'poly', 'random_state': 24}\n",
      "Melhor precisão de treinamento:\t 0.8237154150197629\n",
      "Fitting 5 folds for each of 45 candidates, totalling 225 fits\n"
     ]
    },
    {
     "name": "stderr",
     "output_type": "stream",
     "text": [
      "[Parallel(n_jobs=-1)]: Done  12 tasks      | elapsed:    0.4s\n",
      "[Parallel(n_jobs=-1)]: Done 120 tasks      | elapsed:    3.8s\n",
      "[Parallel(n_jobs=-1)]: Done 218 out of 225 | elapsed:    7.0s remaining:    0.1s\n",
      "[Parallel(n_jobs=-1)]: Done 225 out of 225 | elapsed:    7.2s finished\n"
     ]
    },
    {
     "name": "stdout",
     "output_type": "stream",
     "text": [
      "**Resultados Random Search**\n",
      "Melhores Parâmetros: {'C': 6, 'gamma': 9, 'kernel': 'poly', 'random_state': 24}\n",
      "Melhor precisão de treinamento:\t 0.8237154150197629\n"
     ]
    },
    {
     "data": {
      "image/png": "[encoded data removed]",
      "text/plain": [
       "<Figure size 432x288 with 2 Axes>"
      ]
     },
     "metadata": {
      "needs_background": "light"
     },
     "output_type": "display_data"
    }
   ],
   "source": [
    "compare(SVC(), X_train_morgan, Y_train_morgan, svm_param, svm_dist, 'Morgan', 'SVM')"
   ]
  },
  {
   "cell_type": "markdown",
   "metadata": {},
   "source": [
    "#### Sirms"
   ]
  },
  {
   "cell_type": "code",
   "execution_count": 10,
   "metadata": {},
   "outputs": [
    {
     "name": "stdout",
     "output_type": "stream",
     "text": [
      "Fitting 5 folds for each of 45 candidates, totalling 225 fits\n"
     ]
    },
    {
     "name": "stderr",
     "output_type": "stream",
     "text": [
      "[Parallel(n_jobs=-1)]: Using backend LokyBackend with 4 concurrent workers.\n",
      "[Parallel(n_jobs=-1)]: Done  12 tasks      | elapsed:    0.3s\n",
      "[Parallel(n_jobs=-1)]: Done 120 tasks      | elapsed:    2.4s\n",
      "[Parallel(n_jobs=-1)]: Done 218 out of 225 | elapsed:    4.4s remaining:    0.0s\n",
      "[Parallel(n_jobs=-1)]: Done 225 out of 225 | elapsed:    4.4s finished\n",
      "[Parallel(n_jobs=-1)]: Using backend LokyBackend with 4 concurrent workers.\n"
     ]
    },
    {
     "name": "stdout",
     "output_type": "stream",
     "text": [
      "**Resultados Grid Search**\n",
      "Melhores Parâmetros: {'C': 0.01, 'gamma': 0.1, 'kernel': 'linear', 'random_state': 24}\n",
      "Melhor precisão de treinamento:\t 0.7620553359683794\n",
      "Fitting 5 folds for each of 45 candidates, totalling 225 fits\n"
     ]
    },
    {
     "name": "stderr",
     "output_type": "stream",
     "text": [
      "[Parallel(n_jobs=-1)]: Done  12 tasks      | elapsed:    0.3s\n",
      "[Parallel(n_jobs=-1)]: Done 120 tasks      | elapsed:    2.0s\n",
      "[Parallel(n_jobs=-1)]: Done 218 out of 225 | elapsed:    4.0s remaining:    0.0s\n",
      "[Parallel(n_jobs=-1)]: Done 225 out of 225 | elapsed:    4.2s finished\n"
     ]
    },
    {
     "name": "stdout",
     "output_type": "stream",
     "text": [
      "**Resultados Random Search**\n",
      "Melhores Parâmetros: {'C': 5, 'gamma': 8, 'kernel': 'linear', 'random_state': 24}\n",
      "Melhor precisão de treinamento:\t 0.7620553359683794\n"
     ]
    },
    {
     "data": {
      "image/png": "[encoded data removed]",
      "text/plain": [
       "<Figure size 432x288 with 2 Axes>"
      ]
     },
     "metadata": {
      "needs_background": "light"
     },
     "output_type": "display_data"
    }
   ],
   "source": [
    "compare(SVC(), X_train_sirms, Y_train_sirms, svm_param, svm_dist, 'Sirms', 'SVM')"
   ]
  },
  {
   "cell_type": "markdown",
   "metadata": {},
   "source": [
    "#### Dragon"
   ]
  },
  {
   "cell_type": "code",
   "execution_count": 11,
   "metadata": {},
   "outputs": [
    {
     "name": "stdout",
     "output_type": "stream",
     "text": [
      "Fitting 5 folds for each of 45 candidates, totalling 225 fits\n"
     ]
    },
    {
     "name": "stderr",
     "output_type": "stream",
     "text": [
      "[Parallel(n_jobs=-1)]: Using backend LokyBackend with 4 concurrent workers.\n",
      "[Parallel(n_jobs=-1)]: Done  12 tasks      | elapsed:    5.5s\n",
      "[Parallel(n_jobs=-1)]: Done  72 tasks      | elapsed:  1.3min\n",
      "[Parallel(n_jobs=-1)]: Done 162 tasks      | elapsed:  4.3min\n",
      "[Parallel(n_jobs=-1)]: Done 225 out of 225 | elapsed:  6.8min finished\n"
     ]
    },
    {
     "name": "stdout",
     "output_type": "stream",
     "text": [
      "**Resultados Grid Search**\n",
      "Melhores Parâmetros: {'C': 0.01, 'gamma': 0.1, 'kernel': 'linear', 'random_state': 24}\n",
      "Melhor precisão de treinamento:\t 0.7177865612648221\n",
      "Fitting 5 folds for each of 45 candidates, totalling 225 fits\n"
     ]
    },
    {
     "name": "stderr",
     "output_type": "stream",
     "text": [
      "[Parallel(n_jobs=-1)]: Using backend LokyBackend with 4 concurrent workers.\n",
      "[Parallel(n_jobs=-1)]: Done  10 tasks      | elapsed:   22.8s\n",
      "[Parallel(n_jobs=-1)]: Done  64 tasks      | elapsed:  2.7min\n",
      "[Parallel(n_jobs=-1)]: Done 154 tasks      | elapsed:  5.3min\n",
      "[Parallel(n_jobs=-1)]: Done 225 out of 225 | elapsed:  8.6min finished\n"
     ]
    },
    {
     "name": "stdout",
     "output_type": "stream",
     "text": [
      "**Resultados Random Search**\n",
      "Melhores Parâmetros: {'C': 5, 'gamma': 8, 'kernel': 'linear', 'random_state': 24}\n",
      "Melhor precisão de treinamento:\t 0.6826086956521739\n"
     ]
    },
    {
     "data": {
      "image/png": "[encoded data removed]",
      "text/plain": [
       "<Figure size 432x288 with 2 Axes>"
      ]
     },
     "metadata": {
      "needs_background": "light"
     },
     "output_type": "display_data"
    }
   ],
   "source": [
    "compare(SVC(), X_train_dragon, Y_train_dragon, svm_param, svm_dist, 'Dragon', 'SVM')"
   ]
  },
  {
   "cell_type": "markdown",
   "metadata": {},
   "source": [
    "#### Padel"
   ]
  },
  {
   "cell_type": "code",
   "execution_count": null,
   "metadata": {},
   "outputs": [
    {
     "name": "stdout",
     "output_type": "stream",
     "text": [
      "Fitting 5 folds for each of 45 candidates, totalling 225 fits\n"
     ]
    },
    {
     "name": "stderr",
     "output_type": "stream",
     "text": [
      "[Parallel(n_jobs=-1)]: Using backend LokyBackend with 4 concurrent workers.\n",
      "[Parallel(n_jobs=-1)]: Done  12 tasks      | elapsed:    0.7s\n"
     ]
    }
   ],
   "source": [
    "compare(SVC(), X_train_padel, Y_train_padel, svm_param, svm_dist, 'Padel', 'SVM')"
   ]
  },
  {
   "cell_type": "markdown",
   "metadata": {},
   "source": [
    "## Otimizando hiperparâmetros"
   ]
  },
  {
   "cell_type": "markdown",
   "metadata": {},
   "source": [
    "#### Criando modelos a partir  melhores parâmetros"
   ]
  },
  {
   "cell_type": "code",
   "execution_count": null,
   "metadata": {},
   "outputs": [],
   "source": [
    "#criando o modelo com os melhores parametros utilizando processamento paralelo\n",
    "#{'C': 0.01, 'gamma': 0.1, 'kernel': 'poly', 'random_state': 1}\n",
    "svm_best_morgan = SVC(C=0.01, gamma=0.1, random_state= 1, kernel='poly', probability=True)\n",
    "#{'C': 0.0009688387165373345, 'gamma': 0.002061146340820805, 'kernel': 'linear', 'random_state': 1}\n",
    "svm_best_sirms = SVC(C=0.0009688387165373345, gamma=0.002061146340820805, random_state= 1, kernel='linear', probability=True)\n",
    "svm_best_dragon = SVC(C=1, gamma=1, random_state= 0, kernel='linear', probability=True)\n",
    "svm_best_padel = SVC(C=1, gamma=0.9, random_state= 0, kernel='linear', probability=True)\n",
    "\n",
    "\n",
    "svm_best_morgan.fit(X_train_morgan, Y_train_morgan)\n",
    "svm_best_sirms.fit(X_train_sirms, Y_train_sirms)\n",
    "svm_best_dragon.fit(X_train_dragon, Y_train_dragon)\n",
    "svm_best_padel.fit(X_train_padel, Y_train_padel)"
   ]
  },
  {
   "cell_type": "markdown",
   "metadata": {},
   "source": [
    "## Validação dos modelos"
   ]
  },
  {
   "cell_type": "markdown",
   "metadata": {},
   "source": [
    "####  Área sob a curva ROC (AUC) "
   ]
  },
  {
   "cell_type": "code",
   "execution_count": null,
   "metadata": {},
   "outputs": [],
   "source": [
    "# n_splits: int, padrão = 5 Número de dobras. Deve ser pelo menos 2.\n",
    "cross_val = StratifiedKFold(n_splits=5)"
   ]
  },
  {
   "cell_type": "code",
   "execution_count": null,
   "metadata": {},
   "outputs": [],
   "source": [
    "roc_auc(svm_best, cross_val, X_train, y_train)"
   ]
  },
  {
   "cell_type": "markdown",
   "metadata": {},
   "source": [
    "####  Estatisiticas e AD"
   ]
  },
  {
   "cell_type": "code",
   "execution_count": null,
   "metadata": {
    "scrolled": true
   },
   "outputs": [],
   "source": [
    "data_stats_morgan = statistics(svm_best_morgan, X_train_morgan, Y_train_morgan, cross_val, data_morgan['moldf_desc'], data_morgan['moldf_train'], 'Morgan')\n",
    "stats_morgan = data_stats_morgan['stats']\n",
    "five_fold_morgan = data_stats_morgan['five_fold']\n",
    "stats_morgan"
   ]
  },
  {
   "cell_type": "code",
   "execution_count": null,
   "metadata": {},
   "outputs": [],
   "source": [
    "data_stats_sirms = statistics(svm_best_sirms, X_train_sirms, Y_train_sirms, cross_val, data_sirms['moldf_desc'], data_sirms['moldf_train'], 'Sirms')\n",
    "stats_sirms = data_stats_sirms['stats']\n",
    "five_fold_sirms = data_stats_sirms['five_fold']\n",
    "stats_sirms"
   ]
  },
  {
   "cell_type": "code",
   "execution_count": null,
   "metadata": {},
   "outputs": [],
   "source": [
    "data_stats_dragon = statistics(svm_best_dragon, X_train_dragon, Y_train_dragon, cross_val, data_dragon['moldf_desc'], data_dragon['moldf_train'], 'Dragon')\n",
    "stats_dragon = data_stats_dragon['stats']\n",
    "five_fold_dragon = data_stats_dragon['five_fold']\n",
    "stats_dragon"
   ]
  },
  {
   "cell_type": "code",
   "execution_count": null,
   "metadata": {},
   "outputs": [],
   "source": [
    "data_stats_padel = statistics(svm_best_padel, X_train_padel, Y_train_padel, cross_val, data_padel['moldf_desc'], data_padel['moldf_train'], 'Padel')\n",
    "stats_padel = data_stats_padel['stats']\n",
    "five_fold_padel = data_stats_padel['five_fold']\n",
    "stats_padel"
   ]
  },
  {
   "cell_type": "code",
   "execution_count": null,
   "metadata": {},
   "outputs": [],
   "source": [
    "print_stats(stats)"
   ]
  },
  {
   "cell_type": "markdown",
   "metadata": {},
   "source": [
    "#### Y-randomization"
   ]
  },
  {
   "cell_type": "code",
   "execution_count": null,
   "metadata": {},
   "outputs": [],
   "source": [
    "y_randomization(svm_best, X_train, y_train)"
   ]
  },
  {
   "cell_type": "markdown",
   "metadata": {},
   "source": [
    "## Consenso"
   ]
  },
  {
   "cell_type": "markdown",
   "metadata": {},
   "source": [
    "#### Obter consenso"
   ]
  },
  {
   "cell_type": "code",
   "execution_count": null,
   "metadata": {},
   "outputs": [],
   "source": [
    "stats_consenso = statistics_consenso(moldf, five_fold_morgan, five_fold_sirms,five_fold_dragon,five_fold_padel, stats)\n",
    "stats_consenso"
   ]
  },
  {
   "cell_type": "markdown",
   "metadata": {},
   "source": [
    "#### Plotar consenso"
   ]
  },
  {
   "cell_type": "code",
   "execution_count": null,
   "metadata": {},
   "outputs": [],
   "source": [
    "print_consenso(stats_consenso, 'SVM')"
   ]
  },
  {
   "cell_type": "markdown",
   "metadata": {},
   "source": [
    "## Salvar modelos"
   ]
  },
  {
   "cell_type": "markdown",
   "metadata": {},
   "source": [
    "### Random Forest"
   ]
  },
  {
   "cell_type": "code",
   "execution_count": null,
   "metadata": {},
   "outputs": [],
   "source": [
    "with gzip.GzipFile('model/sars-cov-3clpro-morgan_RF_ad_balanced.pgz', 'w') as f:\n",
    "    cPickle.dump(rf_best_morgan, f)\n",
    "with gzip.GzipFile('model/sars-cov-3clpro-sirms_RF_ad_balanced.pgz', 'w') as f:\n",
    "    cPickle.dump(rf_best_sirms, f)\n",
    "with gzip.GzipFile('model/sars-cov-3clpro-dragon_RF_ad_balanced.pgz', 'w') as f:\n",
    "    cPickle.dump(rf_best_dragon, f)\n",
    "with gzip.GzipFile('model/sars-cov-3clpro-padel_RF_ad_balanced.pgz', 'w') as f:\n",
    "    cPickle.dump(rf_best_padel, f)"
   ]
  },
  {
   "cell_type": "markdown",
   "metadata": {},
   "source": [
    "### SVM"
   ]
  },
  {
   "cell_type": "code",
   "execution_count": null,
   "metadata": {},
   "outputs": [],
   "source": [
    "with gzip.GzipFile('model/sars-cov-3clpro-morgan_SVM_ad_balanced.pgz', 'w') as f:\n",
    "    cPickle.dump(svm_best, f)\n",
    "with gzip.GzipFile('model/sars-cov-3clpro-sirms_SVM_ad_balanced.pgz', 'w') as f:\n",
    "    cPickle.dump(svm_best, f)\n",
    "with gzip.GzipFile('model/sars-cov-3clpro-dragon_SVM_ad_balanced.pgz', 'w') as f:\n",
    "    cPickle.dump(svm_best, f)    \n",
    "with gzip.GzipFile('model/sars-cov-3clpro-padel_SVM_ad_balanced.pgz', 'w') as f:\n",
    "    cPickle.dump(svm_best, f)"
   ]
  },
  {
   "cell_type": "markdown",
   "metadata": {},
   "source": [
    "## Exportando Predições"
   ]
  },
  {
   "cell_type": "markdown",
   "metadata": {},
   "source": [
    "### Random Forest"
   ]
  },
  {
   "cell_type": "code",
   "execution_count": null,
   "metadata": {},
   "outputs": [],
   "source": [
    "with pd.ExcelWriter('predictions-morgan.xlsx') as writer:\n",
    "    pred_morgan.to_excel(writer, sheet_name='morgan', index=False)"
   ]
  },
  {
   "cell_type": "markdown",
   "metadata": {},
   "source": [
    "### SVM"
   ]
  },
  {
   "cell_type": "code",
   "execution_count": null,
   "metadata": {},
   "outputs": [],
   "source": []
  }
 ],
 "metadata": {
  "kernelspec": {
   "display_name": "Python 3",
   "language": "python",
   "name": "python3"
  },
  "language_info": {
   "codemirror_mode": {
    "name": "ipython",
    "version": 3
   },
   "file_extension": ".py",
   "mimetype": "text/x-python",
   "name": "python",
   "nbconvert_exporter": "python",
   "pygments_lexer": "ipython3",
   "version": "3.7.6"
  }
 },
 "nbformat": 4,
 "nbformat_minor": 2
}
