{
 "cells": [
  {
   "cell_type": "markdown",
   "metadata": {},
   "source": [
    "# Modelos QSAR para protease principal 3C-like protease (M<sup>pro</sup>) de SARS-CoV"
   ]
  },
  {
   "cell_type": "markdown",
   "metadata": {},
   "source": [
    "- Os modelos neste fluxo de trabalho foram gerados usando descritores 2D sirms.py e PaDEL-Descriptor.\n",
    "- Foram coletados 114 pontos de dados para 113 compostos testados em SARS-CoV Mpro (CHEMBL3927). Os dados foram cuidadosamente selecionados seguindo os protocolos desenvolvidos por Fourches et al. Após a curadoria, 91 compostos (27 ativos e 64 inativos) foram mantidos para modelagem.\n",
    "- Devido ao tamanho limitado dos dados, validamos os modelos apenas por meio de validação cruzada externa de 5 vezes e aplicamos um limite de 70% de confiança para avaliar os modelos e selecionar resultados para validação experimental."
   ]
  },
  {
   "cell_type": "markdown",
   "metadata": {},
   "source": [
    "## Importando Módulos e Funções\n",
    "         \n",
    "    "
   ]
  },
  {
   "cell_type": "code",
   "execution_count": 17,
   "metadata": {},
   "outputs": [
    {
     "data": {
      "text/html": [
       "<style>.container { width:90% !important; }</style>"
      ],
      "text/plain": [
       "<IPython.core.display.HTML object>"
      ]
     },
     "metadata": {},
     "output_type": "display_data"
    }
   ],
   "source": [
    "import numpy as np\n",
    "import pandas as pd\n",
    "import seaborn as sns\n",
    "import matplotlib.pyplot as plt\n",
    "import _pickle as cPickle\n",
    "import gzip\n",
    "from time import time\n",
    "\n",
    "from BalanceBySim import *\n",
    "from stats import *\n",
    "from sklearn.metrics import classification_report\n",
    "\n",
    "from collections import Counter\n",
    "\n",
    "from rdkit import Chem, DataStructs\n",
    "from rdkit.Chem import Draw\n",
    "from rdkit.Chem import PandasTools\n",
    "from rdkit.Chem.Draw import IPythonConsole\n",
    "\n",
    "from sklearn import metrics\n",
    "from sklearn.ensemble import RandomForestClassifier\n",
    "from sklearn.feature_selection import VarianceThreshold\n",
    "from sklearn.model_selection import train_test_split, cross_validate, GridSearchCV, RandomizedSearchCV, cross_val_score\n",
    "from sklearn.model_selection import permutation_test_score, StratifiedKFold\n",
    "\n",
    "def warn(*args, **kwargs):\n",
    "    pass\n",
    "import warnings\n",
    "warnings.filterwarnings(\"ignore\")\n",
    "warnings.warn = warn\n",
    "\n",
    "from IPython.core.interactiveshell import InteractiveShell\n",
    "InteractiveShell.ast_node_interactivity = \"all\"\n",
    "%matplotlib inline\n",
    "%reload_ext autoreload\n",
    "%autoreload 2\n",
    "Draw.DrawingOptions.atomLabelFontFace = \"DejaVu Sans\"\n",
    "Draw.DrawingOptions.atomLabelFontSize = 18\n",
    "\n",
    "from IPython.core.display import display, HTML\n",
    "display(HTML(\"<style>.container { width:90% !important; }</style>\"))\n",
    "hiper_parametros = 'grid_search' #grid_search, random_search"
   ]
  },
  {
   "cell_type": "markdown",
   "metadata": {},
   "source": [
    "## Carregar dados"
   ]
  },
  {
   "cell_type": "code",
   "execution_count": 2,
   "metadata": {},
   "outputs": [
    {
     "name": "stdout",
     "output_type": "stream",
     "text": [
      "Dados originais:  (113, 11)\n",
      "Dados mantidos:  (113, 11)\n"
     ]
    },
    {
     "data": {
      "text/html": [
       "<div>\n",
       "<style scoped>\n",
       "    .dataframe tbody tr th:only-of-type {\n",
       "        vertical-align: middle;\n",
       "    }\n",
       "\n",
       "    .dataframe tbody tr th {\n",
       "        vertical-align: top;\n",
       "    }\n",
       "\n",
       "    .dataframe thead th {\n",
       "        text-align: right;\n",
       "    }\n",
       "</style>\n",
       "<table border=\"1\" class=\"dataframe\">\n",
       "  <thead>\n",
       "    <tr style=\"text-align: right;\">\n",
       "      <th></th>\n",
       "      <th>Compound_name</th>\n",
       "      <th>Standard Type</th>\n",
       "      <th>Standard Relation</th>\n",
       "      <th>Standard Value</th>\n",
       "      <th>Standard Units</th>\n",
       "      <th>Outcome</th>\n",
       "      <th>InChIKey</th>\n",
       "      <th>Molecule ChEMBL ID</th>\n",
       "      <th>ID</th>\n",
       "      <th>SMILES</th>\n",
       "      <th>Mol</th>\n",
       "    </tr>\n",
       "  </thead>\n",
       "  <tbody>\n",
       "    <tr>\n",
       "      <th>count</th>\n",
       "      <td>113</td>\n",
       "      <td>113</td>\n",
       "      <td>113</td>\n",
       "      <td>113</td>\n",
       "      <td>113</td>\n",
       "      <td>113</td>\n",
       "      <td>113</td>\n",
       "      <td>113</td>\n",
       "      <td>113</td>\n",
       "      <td>113</td>\n",
       "      <td>113</td>\n",
       "    </tr>\n",
       "    <tr>\n",
       "      <th>unique</th>\n",
       "      <td>74</td>\n",
       "      <td>2</td>\n",
       "      <td>4</td>\n",
       "      <td>94</td>\n",
       "      <td>1</td>\n",
       "      <td>2</td>\n",
       "      <td>113</td>\n",
       "      <td>92</td>\n",
       "      <td>1</td>\n",
       "      <td>113</td>\n",
       "      <td>113</td>\n",
       "    </tr>\n",
       "    <tr>\n",
       "      <th>top</th>\n",
       "      <td></td>\n",
       "      <td>IC50</td>\n",
       "      <td>'='</td>\n",
       "      <td>2.44889419684223E12</td>\n",
       "      <td>nM</td>\n",
       "      <td>Inactive</td>\n",
       "      <td>HRVIHQDVDQVYBE-UHFFFAOYSA-N</td>\n",
       "      <td></td>\n",
       "      <td></td>\n",
       "      <td>CCOC(=O)C=CC(CC1CCNC1=O)NC(=O)C(CC=C(C)C)CC(=O...</td>\n",
       "      <td><img data-content=\"rdkit/molecule\" src=\"data:image/png;base64,iVBORw0KGgoAAAANSUhEUgAAAMgAAADICAIAAAAiOjnJAAAABmJLR0QA/wD/AP+gvaeTAAAYzklEQVR4nO2deVRUR/bHb2/QrOIGkQEjiBDFNa2gtI4imBnGBh0NEReSE51DEp0hTjwGx2TCHGeRqPE8+HmSwTgztmZcUANiglGPwWFxQTlo5Li1jQaEqMi+08v7/VHxpdNAQ3e/ahq4n+MfvnrvVd3XfF+9qltVtwQsywKC8I2wvw1ABicoLIQKKCyECigshAooLIQKKCyECigshAooLIQKKCyECigshAooLIQKKCyECigshAooLIQKKCyECigshAooLIQKKCyECigshAooLIQKKCyECigshAooLIQKKCyECigshAooLIQKKCyECigshAooLIQKKCyECigshAooLIQKKCyECigshAooLIQKKCyECigshAooLIQKKCyECigshAooLIQKKCyECigshAooLIQKKCyECigsS7l/HwSCn/4hPweFZRGnT8OECZCTAywLLAs5OSAQwP37/W2WHSHA/QotQS6HDz+EqKifUlJTISMDCgv7zyb7AoVlPvfvw4QJYPS7kUSVCgIC+sks+wI/heajUkFYmHEi0ZNKZXtz7BMUFkIFFJb5TJgAFy/2eAoBABSWJQQEQFgYnD79s8TUVAgLwwYWBzbeLeL0afjNbyAn58eOITnElrsBKCwrMPSLsiy0tkJODsyYAePH959N9gJ+Cq2AeEc1mh9dD++/D7GxsH9/P1tlH6CwrKC5GRQK8PMDnQ4A4Le/BQA4dqx/jbITUFhW4OoKZWXw6BHk5QEALFgAo0fD3btw+3Z/W9b/oLCsY9kyAIATJwAARCKIifnpcGiDwrKO5csBAE6cAL3+Z4dDHuwVWk1AAKjVUFAAcjloNODlBXV16HrAGstqDL+GEgkoFOyIEQ/Pnetfo/odFJbVkM/f8ePE6XB5xQrnxsYVg9rp0PRQf+DFBtPXoLCsJiTkZnR04ogR165dA4DpERESJ6erV6+Wl5f3t2X9CQrLagSCfX5+/3fjxokvvwQAqVQaFRXFsmxmZqbNTNBqtTqdTqvV2qzEXkFh8cDy5csB4MTzzqDRIW1yc3NlMtn69esnT56ck5NDu7j2mr719ljEanQ63ZgxYwDgxo0bLMs2NTU5OTkJhcLKykqq5arV6t8Sdz/AsGHDyH+io6Pv3btHo7iWKl3+xpYj0xqeXdcqx9abvhhrLB4QCoVLliyB57WUq6vrK6+8otfrT548SanElpaWv/zlL8HBwZmZmS4uLsnJyRUVFQzDDBs27NSpU8HBwe+++25DQy/t676jbWOv727PXNBc9qVG1w71d/W930ND2kOQc+fOAUBwcDDLsjqd7t///jcArFixgveC9Hp9RkbG2LFjAUAgEMTGxn7//ffc2WfPniUmJopEIgAYOXIkwzBardbKEivOdR6f06gcW68cW3/+zeamCl3jA12vNRYKix80Gs2oUaMAIC0tbfv27cOGDYuIiNi/f39TUxOPpRQVFYU9n24/c+bMwsLCbi8rLi6eN28euWzGjBl5eXmWFVdzU3t6eTOR1KnfND25oiHpKCybkpycvGHDBjc3N4HBPC1XV9fXXnstIyOjubnZmswrKysTEhKEQiEAeHt7p6en63Q6cqqjoyM3N7frLdnZ2ePGjSNmKBSKBw8e9L24qqqq/C31B8bVK8fWZ8gaVEc79LqfzqKwbIpGo5kzZw4ALF++/MGDBwzDyOVyTmRSqVShUCiVyvr6Xv4kRnR0dDAM4+bmBgAODg6JiYmNjY3c2XPnzgUHB4vF4tLS0q73tra2pqSkuLq6AoCTk1NSUlKvNWhnZyfDMO7u7rtiTh70ry9Kbu1s0htdg8KyKX/6058AwNfXt6amhkssLy9nGCYyMlIsFhOFiUQiuVzOMMzjx497zTM7O9vPz4+rddRqNXfq1q1bv/71r8mpl1566fLlyz1l8ujRo/j4eCLxX/ziF0qlUq831gohKytr/PPpr3GxqxseWN4+Q2Hxw4ULF0QikUgk6varxLJsdXW1UqlUKBQSicRIYd16JW7duvWrX/2KXDlx4sRvvvmGO1VXV5eUlOTg4AAAHh4eKSkp7e3tvVp45cqV2bNnkwxDQkIuXrxoePbOnTtRzxd2BwUFff311+Y9fxdQWDxQXV3t7e0NANu2bev14pqaGqIwogwAEAqFcrk8JSVFpVKRC7ie3YgRIwx7djqdTqlUenp6krvi4+OfPHnSdzv1er1SqXzhhRdIjzI+Pv6HH36ora1NTEwkFerw4cMZhtFoNJb9DoagsKxFr9fHxMQAwLx588zq29fV1R04cGDJkiVOTk5EYQKBYNKkSe7u7gAgkUj++Mc/1tXVcdfn5uZOmzaNXLlgwYLr169bZnBDQ8PmzZuJrF1cXEjrTSwWb9iwwfAjbiUoLGthGIa864b+JLNobW3Nzs6Oj493d3eXSCTOzs6RkZGGjfHy8vL4+HgiKV9fX6VSab3ZKpUqNjZWKpW6urqGh4eTMQMeQWFZxc2bN0l9k5mZaX1uLS0tRl7rlpaW5ORkqVQKAM7OzsnJyW1tbdYXxEHqLX7zJKCwLKe5uXnixIkAsGHDBl4y1Ov1RsIqKyuTSqVdPex84ejoiMKyO9atW0eGcVpbW3nJsKuwWJbdu3evCVeCuRQUFCiVSs5tgcKyO44fP07cnjy2TroVFr+QthrXSqMnLJzdYAkVFRUJCQkAwDDM1KlT+9scewSFZTZarXblypW1tbXLli176623+tscO0Xc3wbYChLKkYMsequvhzt3ul6rFQqv6bufciSTybZt21ZYWOjj47N3714qpg4KhoawukYdEghApYJ792Dx4q6XCz095zx92m1OmZmZ27dvFwqFBw4cGDlyJFWrBzRDQ1h/+9tPqgKAqChgGHjjDdi1C0JDu16udXcPbWzsJl2r/cMf/qDT6ZKTk8PDw6maPODhvTtgd6hUbNfHJIkqlVk57dixAwDCwsKsn5bZLdgrHFDwF+TYy8tLLBaPHTuWjBAjJhgan8KeqKiATZu6Jnc4Om7t6OiaXlNTI5FIjhw5EhMTs3LlSvr2DWCGgLBMBDkWCmH37q7JEk/P3T003lNSUrZs2fLOO+/Mnj2bm4KHdGUICIsLcmy0Q0lYGEREwK5dXe/QSCS7NJpuM3vnnXdKSkqOHj0aFxdXUFDAzdpDjOG91WaP5OSwAGxOzs8OzWy5c9TV1b344osA8MEHH/BmIcuyg6vxPgRqLACIigKWNQ5ybCkeHh4HDx6MiIi4eFF74QIsWGC9fYOQoSEsAn8h5ubNm/ePf9zdvNnv3j24cQPQUdqVIeBuoMN77/mFh0NlJbz+Oo+K7YbLly/X19fzldvChQsTEhICAwP5yrBHeP+4Dh0qKtiRI1kAds8efjLs2sZqbGx84YUXjJZU8Ag6SO0RHx8gw9CbNsGNG1SKqK2tDQoKqq2t3bhxo0wmu3DhApViaMC7VIcab73FArCTJ7PWVCgVFRXp6elkTRiJHmM4K9XEslWLISueXV1dp0+f3tHRYX2GRqCwrKWlhV24kD1zxpJ71Wr1jh07QkNDuZX43GLDcePGHTt2jLvS9EJ7c8nMzORWPJ88edLifEyAwuoHbt9mP/nkyYwZM7jvhouLS2xs7JEjR5qamgzXD86fP7+kpIS70URokD4XfdtwxXMO59vjG5sKi69FB3YImS3BMMYphpSWssnJrEzGArAArK+vn7OzM4kUYhSro+uKZ8NAD1evXu1LMCMjKK147gm6wmpoaMjPz09JSVEoFJ6engkJCVu3bu0pIsWAhsjIUEkkRa9nr1xhk5LYgIAfLwBgR45k165lz569bTrmAonRQDpuRjEaTIdfM0Kj0aSnp48ePRoAxGJxQkLC06dPeXruHuFZWG1tbRcvXmQYZtWqVeO7bNtH4ukkJSXxW6g9wNVYXKVFUtraWDe3H/U0ahQbH89mZ7OdnWbkfPfuXYVCQX7AwMDAU6dOcacMl7MaRg0x5Pz581OmTCG3L1y48LvvvrP8Ic2BB2Gp1WqlUpmYmCiXy8lDGjYd5HJ5YmKiUqksLS09f/48ef92795tfbl2BffhCwszTtm4kX33XTYvjzWzOfQzSBws8qsaLcBXq9Uff/xxdyapYmNjyS0BAQEZGRmWF28+lgirqqoqOzs7OTlZoVAYzfsWiUSTJk2Kj49nGCY/P79rP/bQoUNCoVAgEBw4cIAP++0FTkY5OWxCws9S+II4CDw8PABAIpEkJiYahgwxpLm5OTk5mbzDxHlBwwVqGvMe/cSJE76+vkYfuLFjx8bGxu7atSsvL68vARF37txJfpozlvXR7RJDGYWFsSoV/8IimAhyxPYQqIh/I/qAGY/+2WefkcWZbm5u5AOXkZHRd7tbWlo418umTZtIPsXFxWabbJcYykilYhMSaAmLUFJS8stf/pK82FxYNsPQarNmzTIKrWZjzHh0si5l586dFnTrampq5HJ5eHg46dfo9fo33ngDAEaPHk0p2r2NMZJRQgLLMBSFRTh69CiZGUZaUcTL6uvre+jQoX7vevf10aurq8VisaOjo7mxWQkVFRXkG7pixQri0+vs7CShEMePH9+XaJx2jpGwunofKEHC17q5uYWHh5PwtdZ45Hmkr49OVv0qFAqLS7p58+bw4cMBYP369SSlsbFRJpMRLx+/8dBtT9cPnw1qLI6Kiorq6moacY4spq+PTmqX//znP+Tw0KFDFrQKL1y4QPwRO3bsIClPnz4lc4MiIiJoDIXakowMNi6OtTRY/2CjT8Kqq6tzcHAQi8XV1dUsy6rVajIsYMGYQFZWlkgkEggEnEbVajXpxaxatarfWwbWEBPDArD//Gd/22Ef9ElY+/fvB4BFixaRw48//hgA4uPjLSvy008/Je6G06dPk5QbN26QzausdMq3tbVdunQpNTU1LS2Nl7klfaepiZVKWaGQraqyZbH2S5+EFR0dDQD/fP4yhoSEAEBWVpbFpZJY+87OzlyX2GKnfGVlZUZGhpHff9SoURKJZP/+/RZbaC6HD7MA7Pz5NivQ3uldWE1NTVKpVCgUVlVVsSxbUVEhEAhcXV2tmaqg1+vXrl1LFHDnzh2SePjw4b445X/44YeTJ09+8MEHkZGR3CZ9nN9/ypQp69atW716tVGlSJtXX2UB2LQ025Q2AOhdWIcPHwaA+c9fRhJ9+rXXXrOyYK1Wu3TpUgDw8/Pj+gF79uzp6pRvbm7Oz89nGCY+Pn7SpElGfv8xY8YoFIrk5OTs7Oza2lrurqSkJFIpXrp0yUpTe6W1lXVxYQUCtrycdlEDht6F9eqrrwJA2vOXkexXdvToUevLbm1tJfOKpkyZwg17Eae8q6vrn//859/97ndTp041isAxbNiwyMjIrVu3ZmVlVfXcotHr9W+++aZRpUiJEydYAHb2bKqFDDB6EVZra6uLi4tAICgvL2dZ9vHjxyKRSCqV8uWFq66uDgoKAgCyJSnLsnq9ngS255QkFovJwHZ6enppaWnf50x2dnaS2ZL+/v5Uh8zee+/g3Ll3GcbWA732TC/CInvRzn7+MpIO3dKlS3m0oKKiYvz48YZV4Oeffw4APj4+DMNcvHjR3JH5S5cubd26lfy/paWFVIpTp07taS6AlbS3t5Om3v3792nkP0DpRVirVq0i44PkMCIiAgAOHjzIrxFGrtHFixcDwN69ey3IqqGhYcSIEQDw97//naRwlSI3UskvX331FQC8/PLLvOc8oDElLKN38dmzZ2KxWCKRGLaReaexsVEqlYpEIrP2tTIkOztbLBYLBIJ9+/aRlLKyMrLLfFxcnLmrD3qFtOQ4HSMEU8Iyehf37dsHAFFRUVQN+u9//0tqF2sySU9PJ94Hboub7777jkyR40YqeYHbCvr27ds8ZjsIMCUso3eRNIS5aoASy5YtA4A9Vq9a/+ijjwDAycmpoKCApOTm5hIfLPdltx7DzesRQ3oUltG7WF9f7+DgIBKJqC7waGlpcXFxEQqF3W46ai6///3vAWDkyJFcdZKZmWk0UmkNer2eeGI/+ugj63MbZPQorLNnzxq+i99++62jo+PChQupWnPs2DEACOMWJFiHVqsl9Z+Pj0/5c99l15FKs6irqzt37hw3318kEvn4+Fi8J+Ugpkdhkc08DN/FhoYGlaVR8PpIXFwcAHzyySd8Zdja2jp37lwAmDx5Mtfn2LJli9FIpQmam5vz8vJ27twZGxtL1vEZ4uvrOzhmwPJOj8L69NNPR4wYsWvXLpuZ0t7eTnat5XdiQn19PZmqP3/+fOIS63akkkOr1ZaWlnIL2rhgCgRuvr9SqSwrK+PRzkFGj8L617/+BQBSqfR///ufbUzJzs4GgJkzZ/Ke86NHj0hlExMTQ9a0aLXaJUuWcCOVlZWV3II2Ms21q9+fYZhr167x7q0YrJjqFW7cuBEA3N3dDeNS0IMsr9i+fTuNzEtLS4nj9O233yYpzc3NoaGhAODi4mL0gRs/fvzKlSsZhiksLLT9irzBgSlh6XQ6spTW29v74cOHVO3o7Owkf3h6A8Z5eXlSqdTf35/bq/377793dHT08PBwd3eXy+VJSUnZ2dkWO2YRQ3oZ0uno6Fi0aBEATJgwgeov/s0335BpDvSKYFn27NmzhqPRR48eNRwJRXikl1CRDg4Ox48fnzFjhkqlio6O5rZZ5x0y2r18+XJK+RMWLVpE5tcbFrpixQqqhQ5R+qK+qqqqcePGAcDixYtpBFXSarUkFtTNmzd5z7wn2tra3NzcBAKBXa2aGjT0dfmXSqUif/s1a9ZYvJamoaHh/Pnz27dvX7p0qeEkltzcXAAIDAy0LFvLyMrKAoCQkBBbFjp0MGNJZVFREQlw9eGHH/bxFo1Gw/mEZDIZiXFIOHv2LHcZGXvhJlHZBrL5R7cBgBDrMW+t7tdff01iDaampvZ0jVqtPnTo0MaNG8PCwpycnAw/u46OjrNnz05MTPziiy+4roBeryer720ZIKSzs5P4q2iPJQxZzF4E/sUXXwgEAqFQ2DWQV2pqKhm35hAIBC+99NLrr7++Z8+eoqKizu5C2RUWFgLAuHHjbLlaNScnBwCmTZtmsxKHGmbvpbN69ery8vKtW7euWbNm+PDhkZGR3ClnZ+dnz555eHjMnDlTLpfLZLI5c+YYSY3j4cOHV65cKSoq+vLLLwFg3rx5AsNNlChjm07okMYyPXbrlK+trTXRwyKBbhmGiY2N9fLyMrTB2dnZ09PTZkNvWq2WRHq9deuWbUocglgoLL1eTxq/3t7eDx486Paa9vb2y5cvp6WlrVmzJjAw0KhC8vT0VCgU27Zt++qrr8hUepvFMzp//jwABAUF2aCsIYvlgXY4p3xAQADXEu92wTtBIpHIZDIu0K1hi8rG8YzWr18P5vRtEQuwKoJTQ0PD9OnTAcDf33/RokVkUjmHSCSaPHny2rVr09PTS0pKTHtWbRbPSKfTeXt7A4BtRtaHLNaGBnvy5ElgYCAJEwI9L3jvC2q1mrS9qMYzys/PBwA/Pz9K+SMEHmLOtbS0FBUVZWZmWj9R/dq1a2QfInqbDJBux/vvv08pf4Rgd5s08bjJgEajKSkpMZyUodfrSTTYK1euWJk5Yhq7ExZr3SYD3FzQyMhIZ2dnAEhPT+fOFhUVAYCPj8+ADh04ILDHzcZXrlxZWVm5efPmdevWeXl5vfLKKyYurq2tLTKgurqaOyUQCIKCggyD1XB+UVs6Y4co/a3sHjGxyUB5eXlqaurq1asnTJhg9DheXl7R0dF//etfz5w50zUKCAnikIcBaOljv8IysckAWX9MMOEeM6Suru6zzz4jyqOxazdihD1+CgkCgeDzzz9//PjxmTNnoqKiCgsLuYGgWbNmrVu3LiQkJDQ0NDg4mEy4MEKr1d69e7e4uLiwsLCgoODOnTt6vT4sLGzx4sVGkdwQGghYlu1vG0zR1NQUHh5eXFw8c+bM3NxcMiGsW1iWValUXGPr+vXrHR0d3FknJ6eXX355zZo1b7/9tk0MH+rYu7AAoLq6eu7cuffu3YuIiMjJyTFcQdrQ0HD16tWCgoLi4uLLly8/e/bM8EZ/f38yyUImk82aNYt4MRDbMACEBQBlZWVyufzx48dxcXGbNm0qLCwsLi4uLi4m0T64y8aMGSN7jlwuJ+vJkH5hYAgLAIqLi8PDw3U6XWtrK5fo6uo6bdo0oqS5c+f6+/v3o4WIIQNGWADw7bfflpeXp6WlhYaGhoSEhISETJw40XAePWI/DCRhIQMIfN0RKqCwECqgsBAqoLAQKqCwECqgsBAqoLAQKqCwECqgsBAqoLAQKqCwECqgsBAqoLAQKqCwECqgsBAqoLAQKqCwECqgsBAqoLAQKqCwECqgsBAqoLAQKqCwECqgsBAqoLAQKqCwECqgsBAqoLAQKqCwECqgsBAqoLAQKqCwECqgsBAqoLAQKqCwECqgsBAqoLAQKqCwECqgsBAqoLAQKqCwECqgsBAqoLAQKvw/TszB6LnPWMAAAAAASUVORK5CYII=\" alt=\"Mol\"/></td>\n",
       "    </tr>\n",
       "    <tr>\n",
       "      <th>freq</th>\n",
       "      <td>8</td>\n",
       "      <td>88</td>\n",
       "      <td>89</td>\n",
       "      <td>5</td>\n",
       "      <td>113</td>\n",
       "      <td>73</td>\n",
       "      <td>1</td>\n",
       "      <td>22</td>\n",
       "      <td>113</td>\n",
       "      <td>1</td>\n",
       "      <td>1</td>\n",
       "    </tr>\n",
       "  </tbody>\n",
       "</table>\n",
       "</div>"
      ],
      "text/plain": [
       "       Compound_name Standard Type Standard Relation       Standard Value  \\\n",
       "count            113           113               113                  113   \n",
       "unique            74             2                 4                   94   \n",
       "top                           IC50               '='  2.44889419684223E12   \n",
       "freq               8            88                89                    5   \n",
       "\n",
       "       Standard Units   Outcome                     InChIKey  \\\n",
       "count             113       113                          113   \n",
       "unique              1         2                          113   \n",
       "top                nM  Inactive  HRVIHQDVDQVYBE-UHFFFAOYSA-N   \n",
       "freq              113        73                            1   \n",
       "\n",
       "       Molecule ChEMBL ID   ID  \\\n",
       "count                 113  113   \n",
       "unique                 92    1   \n",
       "top                              \n",
       "freq                   22  113   \n",
       "\n",
       "                                                   SMILES  \\\n",
       "count                                                 113   \n",
       "unique                                                113   \n",
       "top     CCOC(=O)C=CC(CC1CCNC1=O)NC(=O)C(CC=C(C)C)CC(=O...   \n",
       "freq                                                    1   \n",
       "\n",
       "                                                      Mol  \n",
       "count                                                 113  \n",
       "unique                                                113  \n",
       "top     <img data-content=\"rdkit/molecule\" src=\"data:i...  \n",
       "freq                                                    1  "
      ]
     },
     "execution_count": 2,
     "metadata": {},
     "output_type": "execute_result"
    }
   ],
   "source": [
    "# Definir caminho do arquivo\n",
    "file = 'datasets/curated_data/chembl-pdb-sars-cov-3C-like-proteinase.sdf.gz'\n",
    "sdfInfo = dict(smilesName='SMILES', molColName='ROMol')\n",
    "moldf = PandasTools.LoadSDF(file, **sdfInfo)\n",
    "print('Dados originais: ', moldf.shape)\n",
    "# Renomear ROMol\n",
    "moldf = moldf.rename(columns={'ROMol': 'Mol'})\n",
    "# Remover moléculas RDKit ausentes\n",
    "moldf = moldf[pd.notnull(moldf['Mol'])]\n",
    "if 'StandardizerResult' in moldf.columns:\n",
    "    moldf = moldf.drop(columns='StandardizerResult')\n",
    "# Colunas\n",
    "print('Dados mantidos: ', moldf.shape)\n",
    "moldf.describe()"
   ]
  },
  {
   "cell_type": "markdown",
   "metadata": {},
   "source": [
    "## Forma dos dados"
   ]
  },
  {
   "cell_type": "code",
   "execution_count": 3,
   "metadata": {},
   "outputs": [
    {
     "name": "stdout",
     "output_type": "stream",
     "text": [
      "\u001b[1mForma do conjunto de treinamento:\n",
      "\u001b[0m\n",
      "\t\t Classe 1: 40\n",
      "\t\t Classe 0: 73\n",
      "\t\t Número total de compostos: 113\n"
     ]
    }
   ],
   "source": [
    "moldf['Outcome'] = moldf['Outcome'].replace('Active', 1)\n",
    "moldf['Outcome'] = moldf['Outcome'].replace('Inactive', 0)\n",
    "\n",
    "classes = Counter(moldf['Outcome'])\n",
    "print('\\033[1m' + 'Forma do conjunto de treinamento:' + '\\n' + '\\033[0m')\n",
    "for key, value in classes.items():\n",
    "    print('\\t\\t Classe %d: %d' % (key, value))\n",
    "print('\\t\\t Número total de compostos: %d' % (len(moldf['Outcome'])))"
   ]
  },
  {
   "cell_type": "markdown",
   "metadata": {},
   "source": [
    "# SiRMS"
   ]
  },
  {
   "cell_type": "markdown",
   "metadata": {},
   "source": [
    "## Descritores de importação\n",
    "\n",
    "Os descritores foram calculados externamente usando o SiRMS.py. Descritores com baixa variância e correlacionados foram removidos do http://www.qsar4u.com/pages/sirms.php usando o módulo Métodos de Análise de Dados."
   ]
  },
  {
   "cell_type": "code",
   "execution_count": 4,
   "metadata": {
    "scrolled": true
   },
   "outputs": [
    {
     "data": {
      "text/html": [
       "<div>\n",
       "<style scoped>\n",
       "    .dataframe tbody tr th:only-of-type {\n",
       "        vertical-align: middle;\n",
       "    }\n",
       "\n",
       "    .dataframe tbody tr th {\n",
       "        vertical-align: top;\n",
       "    }\n",
       "\n",
       "    .dataframe thead th {\n",
       "        text-align: right;\n",
       "    }\n",
       "</style>\n",
       "<table border=\"1\" class=\"dataframe\">\n",
       "  <thead>\n",
       "    <tr style=\"text-align: right;\">\n",
       "      <th></th>\n",
       "      <th>|S|n|||2|||elm|C#C</th>\n",
       "      <th>|S|n|||2|||elm|C#N</th>\n",
       "      <th>|S|n|||2|||elm|C-C</th>\n",
       "      <th>|S|n|||2|||elm|C-Cl</th>\n",
       "      <th>|S|n|||2|||elm|C-F</th>\n",
       "      <th>|S|n|||2|||elm|C-H</th>\n",
       "      <th>|S|n|||2|||elm|C-I</th>\n",
       "      <th>|S|n|||2|||elm|C-N</th>\n",
       "      <th>|S|n|||2|||elm|C-O</th>\n",
       "      <th>|S|n|||2|||elm|C-S</th>\n",
       "      <th>...</th>\n",
       "      <th>|S|n|||6|||elm|C=C-N(-C-S)-H</th>\n",
       "      <th>|S|n|||6|||elm|C=C-N(-C:C)-H</th>\n",
       "      <th>|S|n|||6|||elm|C=C-N(-C=N)-H</th>\n",
       "      <th>|S|n|||6|||elm|C=C-N-C(:C):C</th>\n",
       "      <th>|S|n|||6|||elm|C=C-N-C(=N)-S</th>\n",
       "      <th>|S|n|||6|||elm|C=C-N-C-S-C</th>\n",
       "      <th>|S|n|||6|||elm|C=C-N-C:C-H</th>\n",
       "      <th>|S|n|||6|||elm|C=C-N-C:C:C</th>\n",
       "      <th>|S|n|||6|||elm|C=C-O-C(-H)-H</th>\n",
       "      <th>|S|n|||6|||elm|H-N(-H)-S(=O)=O</th>\n",
       "    </tr>\n",
       "  </thead>\n",
       "  <tbody>\n",
       "    <tr>\n",
       "      <th>0</th>\n",
       "      <td>0</td>\n",
       "      <td>0</td>\n",
       "      <td>17</td>\n",
       "      <td>0</td>\n",
       "      <td>0</td>\n",
       "      <td>34</td>\n",
       "      <td>0</td>\n",
       "      <td>10</td>\n",
       "      <td>1</td>\n",
       "      <td>0</td>\n",
       "      <td>...</td>\n",
       "      <td>0</td>\n",
       "      <td>0</td>\n",
       "      <td>0</td>\n",
       "      <td>0</td>\n",
       "      <td>0</td>\n",
       "      <td>0</td>\n",
       "      <td>0</td>\n",
       "      <td>0</td>\n",
       "      <td>0</td>\n",
       "      <td>0</td>\n",
       "    </tr>\n",
       "    <tr>\n",
       "      <th>1</th>\n",
       "      <td>0</td>\n",
       "      <td>0</td>\n",
       "      <td>8</td>\n",
       "      <td>0</td>\n",
       "      <td>0</td>\n",
       "      <td>31</td>\n",
       "      <td>0</td>\n",
       "      <td>9</td>\n",
       "      <td>0</td>\n",
       "      <td>0</td>\n",
       "      <td>...</td>\n",
       "      <td>0</td>\n",
       "      <td>0</td>\n",
       "      <td>0</td>\n",
       "      <td>0</td>\n",
       "      <td>0</td>\n",
       "      <td>0</td>\n",
       "      <td>0</td>\n",
       "      <td>0</td>\n",
       "      <td>0</td>\n",
       "      <td>0</td>\n",
       "    </tr>\n",
       "    <tr>\n",
       "      <th>2</th>\n",
       "      <td>0</td>\n",
       "      <td>0</td>\n",
       "      <td>17</td>\n",
       "      <td>0</td>\n",
       "      <td>0</td>\n",
       "      <td>32</td>\n",
       "      <td>0</td>\n",
       "      <td>9</td>\n",
       "      <td>0</td>\n",
       "      <td>0</td>\n",
       "      <td>...</td>\n",
       "      <td>0</td>\n",
       "      <td>0</td>\n",
       "      <td>0</td>\n",
       "      <td>0</td>\n",
       "      <td>0</td>\n",
       "      <td>0</td>\n",
       "      <td>0</td>\n",
       "      <td>0</td>\n",
       "      <td>0</td>\n",
       "      <td>0</td>\n",
       "    </tr>\n",
       "    <tr>\n",
       "      <th>3</th>\n",
       "      <td>0</td>\n",
       "      <td>0</td>\n",
       "      <td>8</td>\n",
       "      <td>0</td>\n",
       "      <td>0</td>\n",
       "      <td>25</td>\n",
       "      <td>0</td>\n",
       "      <td>4</td>\n",
       "      <td>1</td>\n",
       "      <td>0</td>\n",
       "      <td>...</td>\n",
       "      <td>0</td>\n",
       "      <td>0</td>\n",
       "      <td>0</td>\n",
       "      <td>0</td>\n",
       "      <td>0</td>\n",
       "      <td>0</td>\n",
       "      <td>0</td>\n",
       "      <td>0</td>\n",
       "      <td>0</td>\n",
       "      <td>0</td>\n",
       "    </tr>\n",
       "    <tr>\n",
       "      <th>4</th>\n",
       "      <td>0</td>\n",
       "      <td>0</td>\n",
       "      <td>16</td>\n",
       "      <td>0</td>\n",
       "      <td>0</td>\n",
       "      <td>27</td>\n",
       "      <td>0</td>\n",
       "      <td>11</td>\n",
       "      <td>4</td>\n",
       "      <td>0</td>\n",
       "      <td>...</td>\n",
       "      <td>0</td>\n",
       "      <td>0</td>\n",
       "      <td>0</td>\n",
       "      <td>0</td>\n",
       "      <td>0</td>\n",
       "      <td>0</td>\n",
       "      <td>0</td>\n",
       "      <td>0</td>\n",
       "      <td>0</td>\n",
       "      <td>0</td>\n",
       "    </tr>\n",
       "  </tbody>\n",
       "</table>\n",
       "<p>5 rows × 4842 columns</p>\n",
       "</div>"
      ],
      "text/plain": [
       "   |S|n|||2|||elm|C#C  |S|n|||2|||elm|C#N  |S|n|||2|||elm|C-C  \\\n",
       "0                   0                   0                  17   \n",
       "1                   0                   0                   8   \n",
       "2                   0                   0                  17   \n",
       "3                   0                   0                   8   \n",
       "4                   0                   0                  16   \n",
       "\n",
       "   |S|n|||2|||elm|C-Cl  |S|n|||2|||elm|C-F  |S|n|||2|||elm|C-H  \\\n",
       "0                    0                   0                  34   \n",
       "1                    0                   0                  31   \n",
       "2                    0                   0                  32   \n",
       "3                    0                   0                  25   \n",
       "4                    0                   0                  27   \n",
       "\n",
       "   |S|n|||2|||elm|C-I  |S|n|||2|||elm|C-N  |S|n|||2|||elm|C-O  \\\n",
       "0                   0                  10                   1   \n",
       "1                   0                   9                   0   \n",
       "2                   0                   9                   0   \n",
       "3                   0                   4                   1   \n",
       "4                   0                  11                   4   \n",
       "\n",
       "   |S|n|||2|||elm|C-S  ...  |S|n|||6|||elm|C=C-N(-C-S)-H  \\\n",
       "0                   0  ...                             0   \n",
       "1                   0  ...                             0   \n",
       "2                   0  ...                             0   \n",
       "3                   0  ...                             0   \n",
       "4                   0  ...                             0   \n",
       "\n",
       "   |S|n|||6|||elm|C=C-N(-C:C)-H  |S|n|||6|||elm|C=C-N(-C=N)-H  \\\n",
       "0                             0                             0   \n",
       "1                             0                             0   \n",
       "2                             0                             0   \n",
       "3                             0                             0   \n",
       "4                             0                             0   \n",
       "\n",
       "   |S|n|||6|||elm|C=C-N-C(:C):C  |S|n|||6|||elm|C=C-N-C(=N)-S  \\\n",
       "0                             0                             0   \n",
       "1                             0                             0   \n",
       "2                             0                             0   \n",
       "3                             0                             0   \n",
       "4                             0                             0   \n",
       "\n",
       "   |S|n|||6|||elm|C=C-N-C-S-C  |S|n|||6|||elm|C=C-N-C:C-H  \\\n",
       "0                           0                           0   \n",
       "1                           0                           0   \n",
       "2                           0                           0   \n",
       "3                           0                           0   \n",
       "4                           0                           0   \n",
       "\n",
       "   |S|n|||6|||elm|C=C-N-C:C:C  |S|n|||6|||elm|C=C-O-C(-H)-H  \\\n",
       "0                           0                             0   \n",
       "1                           0                             0   \n",
       "2                           0                             0   \n",
       "3                           0                             0   \n",
       "4                           0                             0   \n",
       "\n",
       "   |S|n|||6|||elm|H-N(-H)-S(=O)=O  \n",
       "0                               0  \n",
       "1                               0  \n",
       "2                               0  \n",
       "3                               0  \n",
       "4                               0  \n",
       "\n",
       "[5 rows x 4842 columns]"
      ]
     },
     "execution_count": 4,
     "metadata": {},
     "output_type": "execute_result"
    }
   ],
   "source": [
    "desc = pd.read_csv('descriptors/sirms_descritores.csv', sep='\\t')\n",
    "desc.drop(desc.columns[0:2], axis=1,inplace=True)\n",
    "descriptors = desc.columns.difference(moldf.columns).tolist()\n",
    "desc.head()"
   ]
  },
  {
   "cell_type": "code",
   "execution_count": 5,
   "metadata": {},
   "outputs": [
    {
     "name": "stdout",
     "output_type": "stream",
     "text": [
      "Forma do conjunto de treinamento: Counter({0: 73, 1: 40})\n",
      "Forma externa definida: Counter()\n"
     ]
    }
   ],
   "source": [
    "moldf_desc = pd.concat([moldf,desc], axis=1)\n",
    "balance_data = 'no'\n",
    "\n",
    "if balance_data == 'yes':\n",
    "    # Equilibre os dados usando 1/2 similaridade e 1/2 aleatória\n",
    "    moldf_desc = BalanceBySim(moldf_desc, 'Outcome', 2)\n",
    "    # Forma de impressão\n",
    "    print('Forma do conjunto de treinamento: %s' % Counter(moldf_desc['Outcome'].loc[moldf_desc['Set'] == 'train']))\n",
    "    print('Forma externa definida: %s' % Counter(moldf_desc['Outcome'].loc[moldf_desc['Set'] == 'ext']))\n",
    "      \n",
    "else:\n",
    "    moldf_desc['Set'] = 'train'\n",
    "    # Print shape\n",
    "    print('Forma do conjunto de treinamento: %s' % Counter(moldf_desc['Outcome']))\n",
    "    print('Forma externa definida: %s' % Counter(moldf_desc['Outcome'].loc[moldf_desc['Set'] == 'ext']))"
   ]
  },
  {
   "cell_type": "code",
   "execution_count": 6,
   "metadata": {
    "scrolled": true
   },
   "outputs": [
    {
     "data": {
      "text/plain": [
       "(113, 4842)"
      ]
     },
     "execution_count": 6,
     "metadata": {},
     "output_type": "execute_result"
    }
   ],
   "source": [
    "moldf_train = moldf_desc[(moldf_desc['Set'] == 'train')]\n",
    "\n",
    "y_train = moldf_train['Outcome'].to_numpy()\n",
    "X_train = moldf_train[descriptors]\n",
    "X_train.shape"
   ]
  },
  {
   "cell_type": "markdown",
   "metadata": {},
   "source": [
    "##### Remova variáveis constantes e quase constantes"
   ]
  },
  {
   "cell_type": "code",
   "execution_count": 7,
   "metadata": {},
   "outputs": [],
   "source": [
    "X_train = X_train.select_dtypes(exclude=['object'])\n",
    "X_train = X_train.dropna(axis=1, how='any')\n",
    "X_train = X_train.fillna(0)\n",
    "\n",
    "# Definir filtro de baixa variação (limite de 10%)\n",
    "def variance_filter(data, threshold=0.1):\n",
    "    selector = VarianceThreshold(threshold)\n",
    "    selector.fit(data)\n",
    "    return data[data.columns[selector.get_support(indices=True)]]\n",
    "\n",
    "# Aplicar filtro\n",
    "X_train = variance_filter(X_train)"
   ]
  },
  {
   "cell_type": "markdown",
   "metadata": {},
   "source": [
    "##### Remover variáveis correlacionadas"
   ]
  },
  {
   "cell_type": "code",
   "execution_count": 8,
   "metadata": {},
   "outputs": [
    {
     "name": "stdout",
     "output_type": "stream",
     "text": [
      "Wall time: 18.8 s\n"
     ]
    },
    {
     "data": {
      "text/plain": [
       "(113, 394)"
      ]
     },
     "execution_count": 8,
     "metadata": {},
     "output_type": "execute_result"
    }
   ],
   "source": [
    "%%time\n",
    "correlated_features = set()  \n",
    "correlation_matrix = X_train.corr()\n",
    "\n",
    "for i in range(len(correlation_matrix.columns)):  \n",
    "    for j in range(i):\n",
    "        if abs(correlation_matrix.iloc[i, j]) > 0.9:\n",
    "            colname = correlation_matrix.columns[i]\n",
    "            correlated_features.add(colname)\n",
    "\n",
    "X_train.drop(labels=correlated_features, axis=1, inplace=True)\n",
    "\n",
    "X_train.shape"
   ]
  },
  {
   "cell_type": "code",
   "execution_count": 9,
   "metadata": {},
   "outputs": [],
   "source": [
    "X_train.to_csv('descriptors/sirms-chembl-sars-cov-3C-like-proteinase-processed.txt', sep='\\t', index=False)"
   ]
  },
  {
   "cell_type": "code",
   "execution_count": 10,
   "metadata": {},
   "outputs": [],
   "source": [
    "def report(results, n_top=3):\n",
    "    for i in range(1, n_top + 1):\n",
    "        candidates = np.flatnonzero(results['rank_test_score'] == i)\n",
    "        for candidate in candidates:\n",
    "            print(\"Modelo com classificação: {0}\".format(i))\n",
    "            print(\"Escore médio de validação: {0:.3f} (std: {1:.3f})\"\n",
    "                  .format(results['mean_test_score'][candidate],\n",
    "                          results['std_test_score'][candidate]))\n",
    "            print(\"Parametros: {0}\".format(results['params'][candidate]))\n",
    "            print(\"\")"
   ]
  },
  {
   "cell_type": "markdown",
   "metadata": {},
   "source": [
    "## Construção de modelo"
   ]
  },
  {
   "cell_type": "markdown",
   "metadata": {},
   "source": [
    "##### Encontre os melhores parâmetros"
   ]
  },
  {
   "cell_type": "markdown",
   "metadata": {},
   "source": [
    "### Pesquisa em grade (Grid Search)"
   ]
  },
  {
   "cell_type": "code",
   "execution_count": 11,
   "metadata": {},
   "outputs": [],
   "source": [
    "def grid_search(clf_rf, rf_params, X_train, y_train):\n",
    "    n_iter_search = 20\n",
    "    # configuração detalhada = 10 imprimirá o progresso para cada 10 tarefas concluídas\n",
    "    grid = GridSearchCV(clf_rf, rf_params, scoring='roc_auc', cv=5, n_jobs=-1, verbose=1)\n",
    "    \n",
    "    start = time()\n",
    "    grid.fit(X_train, y_train)\n",
    "    print(\"GridSearchCV levou %.2f segundos para %d candidatos\"\n",
    "      \" configurações de parâmetros.\" % ((time() - start), n_iter_search))\n",
    "    report(grid.cv_results_)\n",
    "\n",
    "    return grid"
   ]
  },
  {
   "cell_type": "markdown",
   "metadata": {},
   "source": [
    "### Pesquisa aleatória (Random Search)"
   ]
  },
  {
   "cell_type": "code",
   "execution_count": 12,
   "metadata": {},
   "outputs": [],
   "source": [
    "def random_search(clf_rf, param_dist, X_train, y_train):\n",
    "    n_iter_search = 80\n",
    "    random_search = RandomizedSearchCV(clf_rf, param_distributions=param_dist, \n",
    "                                       n_iter=n_iter_search, verbose=1, n_jobs=-1)\n",
    "    \n",
    "    start = time()\n",
    "    random_search.fit(X_train, y_train)\n",
    "    print(\"RandomizedSearchCV levou %.2f segundos para %d candidatos\"\n",
    "      \" configurações de parâmetros.\" % ((time() - start), n_iter_search))\n",
    "    report(random_search.cv_results_)\n",
    "\n",
    "    return random_search"
   ]
  },
  {
   "cell_type": "markdown",
   "metadata": {},
   "source": [
    "### Dados de modelagem"
   ]
  },
  {
   "cell_type": "code",
   "execution_count": 25,
   "metadata": {},
   "outputs": [
    {
     "name": "stdout",
     "output_type": "stream",
     "text": [
      "Fitting 5 folds for each of 80 candidates, totalling 400 fits\n"
     ]
    },
    {
     "name": "stderr",
     "output_type": "stream",
     "text": [
      "[Parallel(n_jobs=-1)]: Using backend LokyBackend with 4 concurrent workers.\n",
      "[Parallel(n_jobs=-1)]: Done  42 tasks      | elapsed:   23.3s\n",
      "[Parallel(n_jobs=-1)]: Done 192 tasks      | elapsed:  1.6min\n",
      "[Parallel(n_jobs=-1)]: Done 400 out of 400 | elapsed:  3.3min finished\n"
     ]
    },
    {
     "name": "stdout",
     "output_type": "stream",
     "text": [
      "RandomizedSearchCV levou 196.30 segundos para 80 candidatos configurações de parâmetros.\n",
      "Modelo com classificação: 1\n",
      "Escore médio de validação: 0.798 (std: 0.068)\n",
      "Parametros: {'random_state': 24, 'n_estimators': 267, 'max_features': 'sqrt', 'max_depth': 12, 'criterion': 'gini', 'class_weight': {0: 0.8, 1: 0.2}}\n",
      "\n",
      "Modelo com classificação: 2\n",
      "Escore médio de validação: 0.771 (std: 0.072)\n",
      "Parametros: {'random_state': 24, 'n_estimators': 384, 'max_features': 'auto', 'max_depth': 7, 'criterion': 'gini', 'class_weight': {0: 0.8, 1: 0.2}}\n",
      "\n",
      "Modelo com classificação: 2\n",
      "Escore médio de validação: 0.771 (std: 0.113)\n",
      "Parametros: {'random_state': 24, 'n_estimators': 1083, 'max_features': 'sqrt', 'max_depth': 12, 'criterion': 'entropy', 'class_weight': {0: 0.6, 1: 0.4}}\n",
      "\n",
      "Fitting 5 folds for each of 15 candidates, totalling 75 fits\n"
     ]
    },
    {
     "name": "stderr",
     "output_type": "stream",
     "text": [
      "[Parallel(n_jobs=-1)]: Using backend LokyBackend with 4 concurrent workers.\n",
      "[Parallel(n_jobs=-1)]: Done  42 tasks      | elapsed:    8.5s\n",
      "[Parallel(n_jobs=-1)]: Done  75 out of  75 | elapsed:   16.5s finished\n"
     ]
    },
    {
     "name": "stdout",
     "output_type": "stream",
     "text": [
      "GridSearchCV levou 16.99 segundos para 20 candidatos configurações de parâmetros.\n",
      "Modelo com classificação: 1\n",
      "Escore médio de validação: 0.838 (std: 0.069)\n",
      "Parametros: {'class_weight': {0: 0.8, 1: 0.2}, 'criterion': 'gini', 'max_depth': 15, 'max_features': 'sqrt', 'n_estimators': 117, 'random_state': 24}\n",
      "\n",
      "Modelo com classificação: 2\n",
      "Escore médio de validação: 0.838 (std: 0.072)\n",
      "Parametros: {'class_weight': {0: 0.8, 1: 0.2}, 'criterion': 'gini', 'max_depth': 15, 'max_features': 'sqrt', 'n_estimators': 167, 'random_state': 24}\n",
      "\n",
      "Modelo com classificação: 3\n",
      "Escore médio de validação: 0.836 (std: 0.077)\n",
      "Parametros: {'class_weight': {0: 0.8, 1: 0.2}, 'criterion': 'gini', 'max_depth': 15, 'max_features': 'sqrt', 'n_estimators': 267, 'random_state': 24}\n",
      "\n"
     ]
    }
   ],
   "source": [
    "if balance_data == 'yes':\n",
    "    class_weight = [None]\n",
    "else:\n",
    "    class_weight = [None,'balanced',\n",
    "                    {0:.9, 1:.1}, {0:.8, 1:.2}, {0:.7, 1:.3}, {0:.6, 1:.4},\n",
    "                    {0:.4, 1:.6}, {0:.3, 1:.7}, {0:.2, 1:.8}, {0:.1, 1:.9}]\n",
    "\n",
    "random_param = {'criterion': ['entropy', 'gini'],\n",
    "               'max_features': ['auto', 'sqrt','log2'],\n",
    "               'class_weight': class_weight,\n",
    "               'random_state': [24],\n",
    "               'max_depth': [1, 3, 5, 7, 9, 12],\n",
    "               'n_estimators': list(np.linspace(151, 1200, 10, dtype = int))}\n",
    "\n",
    "clf_rf_sirms = RandomForestClassifier(random_state=24).fit(X_train, y_train)\n",
    "\n",
    "rf_random_sirms = random_search(clf_rf_sirms, random_param, X_train, y_train);\n",
    "\n",
    "grid_params_sirms = {\n",
    "    'criterion': [rf_random_sirms.best_params_['criterion']],\n",
    "    'max_features': [rf_random_sirms.best_params_['max_features']],           \n",
    "    'class_weight': [rf_random_sirms.best_params_['class_weight']],\n",
    "    'random_state': [rf_random_sirms.best_params_['random_state']], \n",
    "    'max_depth':    [rf_random_sirms.best_params_['max_depth'] - 3,\n",
    "                     rf_random_sirms.best_params_['max_depth'],\n",
    "                     rf_random_sirms.best_params_['max_depth'] + 3],\n",
    "    'n_estimators': [rf_random_sirms.best_params_['n_estimators'] - 150, \n",
    "                     rf_random_sirms.best_params_['n_estimators'] - 100, \n",
    "                     rf_random_sirms.best_params_['n_estimators'], \n",
    "                     rf_random_sirms.best_params_['n_estimators'] + 100, \n",
    "                     rf_random_sirms.best_params_['n_estimators'] + 150]\n",
    "}\n",
    "\n",
    "rf_grid_sirms = grid_search(clf_rf_sirms, grid_params_sirms, X_train, y_train);"
   ]
  },
  {
   "cell_type": "code",
   "execution_count": 26,
   "metadata": {},
   "outputs": [
    {
     "name": "stdout",
     "output_type": "stream",
     "text": [
      "Baseline = 0.74\n",
      "\n",
      "Best param - Random search: {'random_state': 24, 'n_estimators': 267, 'max_features': 'sqrt', 'max_depth': 12, 'criterion': 'gini', 'class_weight': {0: 0.8, 1: 0.2}}\n",
      "Random search = 0.80\n",
      "\n",
      "Best param - Grid search: {'class_weight': {0: 0.8, 1: 0.2}, 'criterion': 'gini', 'max_depth': 15, 'max_features': 'sqrt', 'n_estimators': 117, 'random_state': 24}\n",
      "Grid search = 0.84\n"
     ]
    },
    {
     "data": {
      "image/png": "[encoded data removed]",
      "text/plain": [
       "<Figure size 432x288 with 1 Axes>"
      ]
     },
     "metadata": {
      "needs_background": "light"
     },
     "output_type": "display_data"
    }
   ],
   "source": [
    "baseline = cross_val_score(clf_rf_sirms, X_train, y_train).mean()\n",
    "y_gs = np.maximum.accumulate(rf_grid_sirms.cv_results_['mean_test_score'])\n",
    "y_rs = np.maximum.accumulate(rf_random_sirms.cv_results_['mean_test_score'])\n",
    "\n",
    "print(f'Baseline = {baseline:.2f}')\n",
    "\n",
    "print()\n",
    "print('Best param - Random search: %s' % rf_random_sirms.best_params_)\n",
    "print(f'Random search = {y_rs[-1]:.2f}')\n",
    "\n",
    "print()\n",
    "print('Best param - Grid search: %s' % rf_grid_sirms.best_params_)\n",
    "print(f'Grid search = {y_gs[-1]:.2f}')\n",
    "\n",
    "plt.plot(y_gs, 'gs-', label='Grid search')\n",
    "plt.plot(y_rs, 'rs-', label='Random search')\n",
    "plt.xlabel('Iteration')\n",
    "plt.ylabel('score')\n",
    "plt.ylim(0, 1)\n",
    "plt.title('Valor da melhor pontuação CV amostrada');\n",
    "plt.legend();"
   ]
  },
  {
   "cell_type": "markdown",
   "metadata": {},
   "source": [
    "##### Modelo com W/ melhores parâmetros"
   ]
  },
  {
   "cell_type": "code",
   "execution_count": 27,
   "metadata": {},
   "outputs": [
    {
     "data": {
      "text/plain": [
       "RandomForestClassifier(bootstrap=True, ccp_alpha=0.0,\n",
       "                       class_weight={0: 0.8, 1: 0.2}, criterion='gini',\n",
       "                       max_depth=15, max_features='sqrt', max_leaf_nodes=None,\n",
       "                       max_samples=None, min_impurity_decrease=0.0,\n",
       "                       min_impurity_split=None, min_samples_leaf=1,\n",
       "                       min_samples_split=2, min_weight_fraction_leaf=0.0,\n",
       "                       n_estimators=117, n_jobs=-1, oob_score=False,\n",
       "                       random_state=24, verbose=0, warm_start=False)"
      ]
     },
     "execution_count": 27,
     "metadata": {},
     "output_type": "execute_result"
    }
   ],
   "source": [
    "#criando o modelo com os melhores parametros utilizando processamento paralelo\n",
    "rf_best = RandomForestClassifier(**rf_grid_sirms.best_params_, n_jobs=-1)\n",
    "\n",
    "#Construa uma floresta de árvores a partir do conjunto de treinamento (X, y)\n",
    "rf_best.fit(X_train, y_train)"
   ]
  },
  {
   "cell_type": "markdown",
   "metadata": {},
   "source": [
    "##### 5-fold cross-validation"
   ]
  },
  {
   "cell_type": "code",
   "execution_count": 28,
   "metadata": {},
   "outputs": [],
   "source": [
    "# Parametros\n",
    "pred = []\n",
    "ad = []\n",
    "index = []\n",
    "cross_val = StratifiedKFold(n_splits=5)\n",
    "\n",
    "# Faça um loop de 5 vezes\n",
    "for train_index, test_index in cross_val.split(X_train, y_train):\n",
    "    \n",
    "    fold_model = rf_best.fit(X_train.iloc[train_index], y_train[train_index])\n",
    "    fold_pred = rf_best.predict(X_train.iloc[test_index])\n",
    "    fold_ad = rf_best.predict_proba(X_train.iloc[test_index])\n",
    "    pred.append(fold_pred)\n",
    "    ad.append(fold_ad)\n",
    "    index.append(test_index)"
   ]
  },
  {
   "cell_type": "code",
   "execution_count": 29,
   "metadata": {},
   "outputs": [
    {
     "name": "stdout",
     "output_type": "stream",
     "text": [
      "\u001b[1mCaracterísticas estatísticas de validação cruzada externa de 5 vezes dos modelos QSAR desenvolvidos SiRMS (grid_search)\n",
      "\u001b[0m\n"
     ]
    },
    {
     "data": {
      "text/html": [
       "<div>\n",
       "<style scoped>\n",
       "    .dataframe tbody tr th:only-of-type {\n",
       "        vertical-align: middle;\n",
       "    }\n",
       "\n",
       "    .dataframe tbody tr th {\n",
       "        vertical-align: top;\n",
       "    }\n",
       "\n",
       "    .dataframe thead th {\n",
       "        text-align: right;\n",
       "    }\n",
       "</style>\n",
       "<table border=\"1\" class=\"dataframe\">\n",
       "  <thead>\n",
       "    <tr style=\"text-align: right;\">\n",
       "      <th></th>\n",
       "      <th>Kappa</th>\n",
       "      <th>CCR</th>\n",
       "      <th>Sensibilidade</th>\n",
       "      <th>PPV</th>\n",
       "      <th>Especificidade</th>\n",
       "      <th>NPV</th>\n",
       "      <th>Accuracy</th>\n",
       "      <th>F1 Score</th>\n",
       "      <th>Cobertura</th>\n",
       "    </tr>\n",
       "  </thead>\n",
       "  <tbody>\n",
       "    <tr>\n",
       "      <th>SiRMS</th>\n",
       "      <td>0.51</td>\n",
       "      <td>0.76</td>\n",
       "      <td>0.68</td>\n",
       "      <td>0.69</td>\n",
       "      <td>0.84</td>\n",
       "      <td>0.82</td>\n",
       "      <td>0.78</td>\n",
       "      <td>0.68</td>\n",
       "      <td>1.00</td>\n",
       "    </tr>\n",
       "    <tr>\n",
       "      <th>SiRMS AD</th>\n",
       "      <td>0.67</td>\n",
       "      <td>0.82</td>\n",
       "      <td>0.71</td>\n",
       "      <td>0.85</td>\n",
       "      <td>0.94</td>\n",
       "      <td>0.86</td>\n",
       "      <td>0.86</td>\n",
       "      <td>0.77</td>\n",
       "      <td>0.63</td>\n",
       "    </tr>\n",
       "  </tbody>\n",
       "</table>\n",
       "</div>"
      ],
      "text/plain": [
       "          Kappa   CCR  Sensibilidade   PPV  Especificidade   NPV  Accuracy  \\\n",
       "SiRMS      0.51  0.76           0.68  0.69            0.84  0.82      0.78   \n",
       "SiRMS AD   0.67  0.82           0.71  0.85            0.94  0.86      0.86   \n",
       "\n",
       "          F1 Score  Cobertura  \n",
       "SiRMS         0.68       1.00  \n",
       "SiRMS AD      0.77       0.63  "
      ]
     },
     "execution_count": 29,
     "metadata": {},
     "output_type": "execute_result"
    }
   ],
   "source": [
    "threshold_ad = 0.70\n",
    "\n",
    "# Preparar resultados para exportar   \n",
    "fold_index = np.concatenate(index)    \n",
    "fold_pred = np.concatenate(pred)\n",
    "fold_ad = np.concatenate(ad)\n",
    "fold_ad = (np.amax(fold_ad, axis=1) >= threshold_ad).astype(str)\n",
    "five_fold_sirms = pd.DataFrame({'Prediction': fold_pred,'AD': fold_ad}, index=list(fold_index))\n",
    "five_fold_sirms.AD[five_fold_sirms.AD == 'False'] = np.nan\n",
    "five_fold_sirms.AD[five_fold_sirms.AD == 'True'] = five_fold_sirms.Prediction\n",
    "five_fold_sirms.sort_index(inplace=True)\n",
    "five_fold_sirms['y_train'] = pd.DataFrame(y_train)\n",
    "five_fold_sirms_ad = five_fold_sirms.dropna().astype(int)\n",
    "cobertura_5f = len(five_fold_sirms_ad) / len(five_fold_sirms)\n",
    "\n",
    "# estatísticas de sirms\n",
    "sirms = pd.DataFrame(stats(five_fold_sirms['y_train'], five_fold_sirms['Prediction']))\n",
    "sirms['Cobertura'] = 1.0\n",
    "\n",
    "# estatísticas de sirms AD\n",
    "sirms_ad = five_fold_sirms.dropna(subset=['AD']).astype(int)\n",
    "cobertura_sirms_ad = len(sirms_ad['AD']) / len(five_fold_sirms['y_train'])\n",
    "sirms_ad = pd.DataFrame(stats(sirms_ad['y_train'], sirms_ad['AD']))\n",
    "sirms_ad['Cobertura'] = round(cobertura_sirms_ad, 2)\n",
    "\n",
    "# imprimir estatísticas\n",
    "if hiper_parametros == 'random_search':\n",
    "    print('\\033[1m' + 'Características estatísticas de validação cruzada externa de 5 vezes dos modelos QSAR desenvolvidos SiRMS (random_search)' + '\\n' + '\\033[0m')\n",
    "if hiper_parametros == 'grid_search':\n",
    "    print('\\033[1m' + 'Características estatísticas de validação cruzada externa de 5 vezes dos modelos QSAR desenvolvidos SiRMS (grid_search)' + '\\n' + '\\033[0m')\n",
    "    \n",
    "sirms_5f_stats = sirms.append(sirms_ad)\n",
    "sirms_5f_stats.set_index([['SiRMS', 'SiRMS AD']], drop=True, inplace=True)\n",
    "sirms_5f_stats"
   ]
  },
  {
   "cell_type": "markdown",
   "metadata": {},
   "source": [
    "##### Prever conjunto retido externo após o balanceamento"
   ]
  },
  {
   "cell_type": "code",
   "execution_count": 30,
   "metadata": {},
   "outputs": [],
   "source": [
    "moldf_ext = moldf_desc[(moldf_desc['Set'] == 'ext')]\n",
    "descriptor_list = list(X_train.columns.values)\n",
    "\n",
    "if len(moldf_ext) > 0:\n",
    "    y_ext = moldf_ext['Outcome'].to_numpy()\n",
    "    X_ext = moldf_ext[descriptors]\n",
    "    \n",
    "    # Filtrar descritores não presentes no modelo\n",
    "    X_ext = X_ext[descriptor_list]\n",
    "    \n",
    "    # Fazer previsões\n",
    "    ext_set_sirms = rf_best.predict(X_ext)\n",
    "    ext_set_sirms_ad = rf_best.predict_proba(X_ext)\n",
    "    ext_set_sirms_ad = (np.amax(ext_set_sirms_ad, axis=1) >= threshold_ad).astype(str)\n",
    "    \n",
    "    # Preparar dados\n",
    "    ext_set_sirms = pd.DataFrame({'Prediction': ext_set_sirms,'AD': ext_set_sirms_ad})\n",
    "    ext_set_sirms.AD[ext_set_sirms.AD == 'False'] = np.nan\n",
    "    ext_set_sirms.AD[ext_set_sirms.AD == 'True'] = ext_set_sirms.Prediction\n",
    "    ext_set_sirms.sort_index(inplace=True)\n",
    "    ext_set_sirms['y_ext'] = pd.DataFrame(y_ext)\n",
    "    ext_set_sirms_ad = ext_set_sirms.dropna().astype(int)\n",
    "    cobertura_ext = len(ext_set_sirms_ad) / len(ext_set_sirms)\n",
    "    \n",
    "    # ext_set_sirms estatísticas\n",
    "    sirms_ext = pd.DataFrame(stats(ext_set_sirms['y_ext'], ext_set_sirms['Prediction']))\n",
    "    sirms_ext['Cobertura'] = 1.0\n",
    "    \n",
    "    # ext_set_sirms AD estatísticas\n",
    "    sirms_ext_ad = ext_set_sirms.dropna(subset=['AD']).astype(int)\n",
    "    cobertura_sirms_ext_ad = len(sirms_ext_ad['AD']) / len(ext_set_sirms['y_ext'])\n",
    "    sirms_ext_ad = pd.DataFrame(stats(sirms_ext_ad['y_ext'], sirms_ext_ad['AD']))\n",
    "    sirms_ext_ad['Cobertura'] = round(cobertura_sirms_ext_ad, 2)\n",
    "    \n",
    "    # imprimir estatísticas\n",
    "    print('\\033[1m' + 'Características estatísticas da previsão do conjunto retido na fonte por modelos SiRMS' + '\\n' + '\\033[0m')\n",
    "    ext_set_sirms_stats = sirms_ext.append(sirms_ext_ad)\n",
    "    ext_set_sirms_stats.set_index([['SiRMS Ext.', 'SiRMS Ext. AD']], drop=True, inplace=True)\n",
    "    ext_set_sirms_stats\n",
    "else:\n",
    "    pass"
   ]
  },
  {
   "cell_type": "markdown",
   "metadata": {},
   "source": [
    "##### Y-randomization"
   ]
  },
  {
   "cell_type": "code",
   "execution_count": 31,
   "metadata": {},
   "outputs": [
    {
     "name": "stderr",
     "output_type": "stream",
     "text": [
      "[Parallel(n_jobs=-1)]: Using backend LokyBackend with 4 concurrent workers.\n"
     ]
    },
    {
     "name": "stdout",
     "output_type": "stream",
     "text": [
      "True score =  0.76 \n",
      "Y-randomization =  0.48 \n",
      "p-value =  0.0476\n"
     ]
    },
    {
     "name": "stderr",
     "output_type": "stream",
     "text": [
      "[Parallel(n_jobs=-1)]: Done  20 out of  20 | elapsed:   12.3s finished\n"
     ]
    }
   ],
   "source": [
    "permutations = 20\n",
    "score, permutation_scores, pvalue = permutation_test_score(rf_best, X_train, y_train,\n",
    "                                                           cv=5, scoring='balanced_accuracy',\n",
    "                                                           n_permutations=permutations,\n",
    "                                                           n_jobs=-1,\n",
    "                                                           verbose=1,\n",
    "                                                           random_state=24)\n",
    "print('True score = ', score.round(2),\n",
    "      '\\nY-randomization = ', np.mean(permutation_scores).round(2),\n",
    "      '\\np-value = ', pvalue.round(4))"
   ]
  },
  {
   "cell_type": "markdown",
   "metadata": {},
   "source": [
    "##### Salvar modelo"
   ]
  },
  {
   "cell_type": "code",
   "execution_count": 32,
   "metadata": {},
   "outputs": [],
   "source": [
    "with gzip.GzipFile('model/sars-cov-3clpro-sirms_RF_ad_balanced.pgz', 'w') as f:\n",
    "    cPickle.dump(rf_best, f)"
   ]
  },
  {
   "cell_type": "markdown",
   "metadata": {},
   "source": [
    "### Estatísticas de plotagem"
   ]
  },
  {
   "cell_type": "code",
   "execution_count": 33,
   "metadata": {},
   "outputs": [],
   "source": [
    "# Exportar estatísticas\n",
    "if len(moldf_ext) > 0:\n",
    "    sirms_stats = pd.concat([sirms_5f_stats, ext_set_sirms_stats], axis=0)\n",
    "    sirms_stats\n",
    "else:\n",
    "    sirms_stats = sirms_5f_stats.copy()"
   ]
  },
  {
   "cell_type": "code",
   "execution_count": 34,
   "metadata": {},
   "outputs": [
    {
     "data": {
      "image/png": "[encoded data removed]",
      "text/plain": [
       "<Figure size 1040x650 with 1 Axes>"
      ]
     },
     "metadata": {
      "needs_background": "light"
     },
     "output_type": "display_data"
    }
   ],
   "source": [
    "# Estatísticas de transposição\n",
    "sirms_stats_t = sirms_stats.T\n",
    "sirms_stats_t = sirms_stats_t.reset_index()\n",
    "sirms_stats_t = sirms_stats_t.rename(columns={'index': 'Stats'})\n",
    "\n",
    "# Fazer enredo\n",
    "plt.style.use('seaborn-colorblind')\n",
    "fig, ax1 = plt.subplots(figsize=(8,5), dpi=130)\n",
    "\n",
    "sirms_stats_t.plot(kind='bar', ax=ax1, width=0.8)\n",
    "ax1.set_xticklabels(labels=sirms_stats_t['Stats'].tolist(), fontsize=14, rotation=0)\n",
    "ax1.axhline(y=.6, color='indianred', ls='dashed')\n",
    "ax1.legend_.remove()\n",
    "if hiper_parametros == 'random_search':\n",
    "    plt.title('Características estatísticas (random_search)', fontsize=16)\n",
    "if hiper_parametros == 'grid_search':\n",
    "    plt.title('Características estatísticas (grid_search)', fontsize=16)    \n",
    "ax1.set_yticks(np.arange(0, 1.1, 0.1))\n",
    "ax1.tick_params(labelsize=9)\n",
    "\n",
    "handles, labels = ax1.get_legend_handles_labels()\n",
    "ax1.legend(handles, labels, fontsize=12,\n",
    "            loc='upper center', bbox_to_anchor=(0.5, -0.09), ncol=4)\n",
    "fig.tight_layout()\n",
    "\n",
    "plt.savefig('statistics-sirms.png', bbox_inches='tight', transparent=False, format='png', dpi=300)\n",
    "plt.show();"
   ]
  },
  {
   "cell_type": "markdown",
   "metadata": {},
   "source": [
    "# PaDEL-Descriptor"
   ]
  },
  {
   "cell_type": "markdown",
   "metadata": {},
   "source": [
    "## Descritores de importação\n",
    "\n",
    "Os descritores foram calculados externamente usando o PaDEL-Descriptor"
   ]
  },
  {
   "cell_type": "code",
   "execution_count": 35,
   "metadata": {},
   "outputs": [
    {
     "data": {
      "text/html": [
       "<div>\n",
       "<style scoped>\n",
       "    .dataframe tbody tr th:only-of-type {\n",
       "        vertical-align: middle;\n",
       "    }\n",
       "\n",
       "    .dataframe tbody tr th {\n",
       "        vertical-align: top;\n",
       "    }\n",
       "\n",
       "    .dataframe thead th {\n",
       "        text-align: right;\n",
       "    }\n",
       "</style>\n",
       "<table border=\"1\" class=\"dataframe\">\n",
       "  <thead>\n",
       "    <tr style=\"text-align: right;\">\n",
       "      <th></th>\n",
       "      <th>nAcid</th>\n",
       "      <th>ALogP</th>\n",
       "      <th>ALogp2</th>\n",
       "      <th>AMR</th>\n",
       "      <th>apol</th>\n",
       "      <th>naAromAtom</th>\n",
       "      <th>nAromBond</th>\n",
       "      <th>nAtom</th>\n",
       "      <th>nHeavyAtom</th>\n",
       "      <th>nH</th>\n",
       "      <th>...</th>\n",
       "      <th>AMW</th>\n",
       "      <th>WTPT-1</th>\n",
       "      <th>WTPT-2</th>\n",
       "      <th>WTPT-3</th>\n",
       "      <th>WTPT-4</th>\n",
       "      <th>WTPT-5</th>\n",
       "      <th>WPATH</th>\n",
       "      <th>WPOL</th>\n",
       "      <th>XLogP</th>\n",
       "      <th>Zagreb</th>\n",
       "    </tr>\n",
       "  </thead>\n",
       "  <tbody>\n",
       "    <tr>\n",
       "      <th>0</th>\n",
       "      <td>0</td>\n",
       "      <td>-4.2977</td>\n",
       "      <td>18.470225</td>\n",
       "      <td>132.8391</td>\n",
       "      <td>84.652513</td>\n",
       "      <td>0</td>\n",
       "      <td>0</td>\n",
       "      <td>80</td>\n",
       "      <td>39</td>\n",
       "      <td>41</td>\n",
       "      <td>...</td>\n",
       "      <td>6.891334</td>\n",
       "      <td>75.570741</td>\n",
       "      <td>1.937711</td>\n",
       "      <td>38.322507</td>\n",
       "      <td>17.432368</td>\n",
       "      <td>20.890140</td>\n",
       "      <td>5667.0</td>\n",
       "      <td>54.0</td>\n",
       "      <td>-1.209</td>\n",
       "      <td>182.0</td>\n",
       "    </tr>\n",
       "    <tr>\n",
       "      <th>1</th>\n",
       "      <td>0</td>\n",
       "      <td>-1.7673</td>\n",
       "      <td>3.123349</td>\n",
       "      <td>69.7047</td>\n",
       "      <td>81.390169</td>\n",
       "      <td>20</td>\n",
       "      <td>21</td>\n",
       "      <td>71</td>\n",
       "      <td>38</td>\n",
       "      <td>33</td>\n",
       "      <td>...</td>\n",
       "      <td>7.257246</td>\n",
       "      <td>76.720926</td>\n",
       "      <td>2.018972</td>\n",
       "      <td>29.983053</td>\n",
       "      <td>7.558586</td>\n",
       "      <td>22.424467</td>\n",
       "      <td>4373.0</td>\n",
       "      <td>60.0</td>\n",
       "      <td>4.283</td>\n",
       "      <td>200.0</td>\n",
       "    </tr>\n",
       "    <tr>\n",
       "      <th>2</th>\n",
       "      <td>0</td>\n",
       "      <td>-2.3517</td>\n",
       "      <td>5.530493</td>\n",
       "      <td>111.7482</td>\n",
       "      <td>80.756927</td>\n",
       "      <td>5</td>\n",
       "      <td>5</td>\n",
       "      <td>76</td>\n",
       "      <td>37</td>\n",
       "      <td>39</td>\n",
       "      <td>...</td>\n",
       "      <td>6.859160</td>\n",
       "      <td>71.610666</td>\n",
       "      <td>1.935423</td>\n",
       "      <td>35.344750</td>\n",
       "      <td>15.491789</td>\n",
       "      <td>19.852961</td>\n",
       "      <td>4915.0</td>\n",
       "      <td>51.0</td>\n",
       "      <td>1.144</td>\n",
       "      <td>174.0</td>\n",
       "    </tr>\n",
       "    <tr>\n",
       "      <th>3</th>\n",
       "      <td>0</td>\n",
       "      <td>-1.4399</td>\n",
       "      <td>2.073312</td>\n",
       "      <td>48.8548</td>\n",
       "      <td>70.796204</td>\n",
       "      <td>18</td>\n",
       "      <td>18</td>\n",
       "      <td>60</td>\n",
       "      <td>32</td>\n",
       "      <td>28</td>\n",
       "      <td>...</td>\n",
       "      <td>7.136833</td>\n",
       "      <td>64.813560</td>\n",
       "      <td>2.025424</td>\n",
       "      <td>13.685079</td>\n",
       "      <td>7.585620</td>\n",
       "      <td>6.099459</td>\n",
       "      <td>3270.0</td>\n",
       "      <td>42.0</td>\n",
       "      <td>9.673</td>\n",
       "      <td>154.0</td>\n",
       "    </tr>\n",
       "    <tr>\n",
       "      <th>4</th>\n",
       "      <td>2</td>\n",
       "      <td>-5.9759</td>\n",
       "      <td>35.711381</td>\n",
       "      <td>117.1793</td>\n",
       "      <td>89.082134</td>\n",
       "      <td>6</td>\n",
       "      <td>6</td>\n",
       "      <td>83</td>\n",
       "      <td>45</td>\n",
       "      <td>38</td>\n",
       "      <td>...</td>\n",
       "      <td>7.689817</td>\n",
       "      <td>87.562513</td>\n",
       "      <td>1.945834</td>\n",
       "      <td>46.951878</td>\n",
       "      <td>29.497872</td>\n",
       "      <td>17.454006</td>\n",
       "      <td>7960.0</td>\n",
       "      <td>62.0</td>\n",
       "      <td>-2.633</td>\n",
       "      <td>208.0</td>\n",
       "    </tr>\n",
       "  </tbody>\n",
       "</table>\n",
       "<p>5 rows × 1444 columns</p>\n",
       "</div>"
      ],
      "text/plain": [
       "   nAcid   ALogP     ALogp2       AMR       apol  naAromAtom  nAromBond  \\\n",
       "0      0 -4.2977  18.470225  132.8391  84.652513           0          0   \n",
       "1      0 -1.7673   3.123349   69.7047  81.390169          20         21   \n",
       "2      0 -2.3517   5.530493  111.7482  80.756927           5          5   \n",
       "3      0 -1.4399   2.073312   48.8548  70.796204          18         18   \n",
       "4      2 -5.9759  35.711381  117.1793  89.082134           6          6   \n",
       "\n",
       "   nAtom  nHeavyAtom  nH  ...       AMW     WTPT-1    WTPT-2     WTPT-3  \\\n",
       "0     80          39  41  ...  6.891334  75.570741  1.937711  38.322507   \n",
       "1     71          38  33  ...  7.257246  76.720926  2.018972  29.983053   \n",
       "2     76          37  39  ...  6.859160  71.610666  1.935423  35.344750   \n",
       "3     60          32  28  ...  7.136833  64.813560  2.025424  13.685079   \n",
       "4     83          45  38  ...  7.689817  87.562513  1.945834  46.951878   \n",
       "\n",
       "      WTPT-4     WTPT-5   WPATH  WPOL  XLogP  Zagreb  \n",
       "0  17.432368  20.890140  5667.0  54.0 -1.209   182.0  \n",
       "1   7.558586  22.424467  4373.0  60.0  4.283   200.0  \n",
       "2  15.491789  19.852961  4915.0  51.0  1.144   174.0  \n",
       "3   7.585620   6.099459  3270.0  42.0  9.673   154.0  \n",
       "4  29.497872  17.454006  7960.0  62.0 -2.633   208.0  \n",
       "\n",
       "[5 rows x 1444 columns]"
      ]
     },
     "execution_count": 35,
     "metadata": {},
     "output_type": "execute_result"
    }
   ],
   "source": [
    "desc = pd.read_csv('descriptors/descritores_padel.csv', sep=',')\n",
    "desc.drop(desc.columns[0:1], axis=1,inplace=True)\n",
    "descriptors = desc.columns.difference(moldf.columns).tolist()\n",
    "desc.head()"
   ]
  },
  {
   "cell_type": "code",
   "execution_count": 36,
   "metadata": {},
   "outputs": [
    {
     "name": "stdout",
     "output_type": "stream",
     "text": [
      "Forma do conjunto de treinamento: Counter({0: 73, 1: 40})\n",
      "Forma externa definida: Counter()\n"
     ]
    }
   ],
   "source": [
    "moldf_desc = pd.concat([moldf,desc], axis=1)\n",
    "balance_data = 'no'\n",
    "\n",
    "if balance_data == 'yes':\n",
    "    # Equilibre os dados usando 1/2 similaridade e 1/2 aleatória\n",
    "    moldf_desc = BalanceBySim(moldf_desc, 'Outcome', 2)\n",
    "    # Forma de impressão\n",
    "    print('Forma do conjunto de treinamento: %s' % Counter(moldf_desc['Outcome'].loc[moldf_desc['Set'] == 'train']))\n",
    "    print('Forma externa definida: %s' % Counter(moldf_desc['Outcome'].loc[moldf_desc['Set'] == 'ext']))\n",
    "      \n",
    "else:\n",
    "    moldf_desc['Set'] = 'train'\n",
    "    # Forma de impressão\n",
    "    print('Forma do conjunto de treinamento: %s' % Counter(moldf_desc['Outcome']))\n",
    "    print('Forma externa definida: %s' % Counter(moldf_desc['Outcome'].loc[moldf_desc['Set'] == 'ext']))"
   ]
  },
  {
   "cell_type": "code",
   "execution_count": 37,
   "metadata": {},
   "outputs": [
    {
     "data": {
      "text/plain": [
       "(113, 1444)"
      ]
     },
     "execution_count": 37,
     "metadata": {},
     "output_type": "execute_result"
    }
   ],
   "source": [
    "moldf_train = moldf_desc[(moldf_desc['Set'] == 'train')]\n",
    "\n",
    "y_train = moldf_train['Outcome'].to_numpy()\n",
    "X_train = moldf_train[descriptors]\n",
    "X_train.shape"
   ]
  },
  {
   "cell_type": "markdown",
   "metadata": {},
   "source": [
    "##### Remover variáveis constantes e quase constantes"
   ]
  },
  {
   "cell_type": "code",
   "execution_count": 38,
   "metadata": {},
   "outputs": [],
   "source": [
    "X_train = X_train.select_dtypes(exclude=['object'])\n",
    "X_train = X_train.dropna(axis=1, how='any')\n",
    "X_train = X_train.fillna(0)\n",
    "\n",
    "# Definir filtro de baixa variação (limite de 10%)\n",
    "def variance_filter(data, threshold=0.1):\n",
    "    selector = VarianceThreshold(threshold)\n",
    "    selector.fit(data)\n",
    "    return data[data.columns[selector.get_support(indices=True)]]\n",
    "\n",
    "# Aplicar filtro\n",
    "X = variance_filter(X_train)"
   ]
  },
  {
   "cell_type": "markdown",
   "metadata": {},
   "source": [
    "##### Remover variáveis correlacionadas"
   ]
  },
  {
   "cell_type": "code",
   "execution_count": 39,
   "metadata": {},
   "outputs": [
    {
     "data": {
      "text/plain": [
       "(113, 728)"
      ]
     },
     "execution_count": 39,
     "metadata": {},
     "output_type": "execute_result"
    }
   ],
   "source": [
    "correlated_features = set()  \n",
    "correlation_matrix = X_train.corr()\n",
    "\n",
    "for i in range(len(correlation_matrix.columns)):  \n",
    "    for j in range(i):\n",
    "        if abs(correlation_matrix.iloc[i, j]) > 0.9:\n",
    "            colname = correlation_matrix.columns[i]\n",
    "            correlated_features.add(colname)\n",
    "\n",
    "X_train.drop(labels=correlated_features, axis=1, inplace=True)\n",
    "\n",
    "X_train.shape"
   ]
  },
  {
   "cell_type": "code",
   "execution_count": 40,
   "metadata": {},
   "outputs": [],
   "source": [
    "X_train.to_csv('descriptors/padel-chembl-sars-cov-3C-like-proteinase-processed.txt', sep='\\t', index=False)"
   ]
  },
  {
   "cell_type": "markdown",
   "metadata": {},
   "source": [
    "## Construção de modelo"
   ]
  },
  {
   "cell_type": "markdown",
   "metadata": {},
   "source": [
    "### Dados de modelagem"
   ]
  },
  {
   "cell_type": "markdown",
   "metadata": {},
   "source": [
    "##### Encontre os melhores parâmetros"
   ]
  },
  {
   "cell_type": "code",
   "execution_count": 42,
   "metadata": {},
   "outputs": [
    {
     "name": "stdout",
     "output_type": "stream",
     "text": [
      "Fitting 5 folds for each of 15 candidates, totalling 75 fits\n"
     ]
    },
    {
     "name": "stderr",
     "output_type": "stream",
     "text": [
      "[Parallel(n_jobs=-1)]: Using backend LokyBackend with 4 concurrent workers.\n",
      "[Parallel(n_jobs=-1)]: Done  42 tasks      | elapsed:   18.6s\n",
      "[Parallel(n_jobs=-1)]: Done  75 out of  75 | elapsed:   33.1s finished\n"
     ]
    },
    {
     "name": "stdout",
     "output_type": "stream",
     "text": [
      "GridSearchCV levou 34.16 segundos para 20 candidatos configurações de parâmetros.\n",
      "Modelo com classificação: 1\n",
      "Escore médio de validação: 0.859 (std: 0.051)\n",
      "Parametros: {'class_weight': 'balanced', 'criterion': 'gini', 'max_depth': 12, 'max_features': 'sqrt', 'n_estimators': 617, 'random_state': 24}\n",
      "\n",
      "Modelo com classificação: 2\n",
      "Escore médio de validação: 0.857 (std: 0.051)\n",
      "Parametros: {'class_weight': 'balanced', 'criterion': 'gini', 'max_depth': 9, 'max_features': 'sqrt', 'n_estimators': 617, 'random_state': 24}\n",
      "\n",
      "Modelo com classificação: 3\n",
      "Escore médio de validação: 0.853 (std: 0.053)\n",
      "Parametros: {'class_weight': 'balanced', 'criterion': 'gini', 'max_depth': 12, 'max_features': 'sqrt', 'n_estimators': 517, 'random_state': 24}\n",
      "\n"
     ]
    }
   ],
   "source": [
    "clf_rf_padel = RandomForestClassifier(random_state=24).fit(X_train, y_train)\n",
    "\n",
    "rf_random_padel = random_search(clf_rf_padel, random_param, X_train, y_train);\n",
    "\n",
    "grid_params_padel = {\n",
    "    'criterion': [rf_random_padel.best_params_['criterion']],\n",
    "    'max_features': [rf_random_padel.best_params_['max_features']],           \n",
    "    'class_weight': [rf_random_padel.best_params_['class_weight']],\n",
    "    'random_state': [rf_random_padel.best_params_['random_state']], \n",
    "    'max_depth':    [rf_random_padel.best_params_['max_depth'] - 3,\n",
    "                     rf_random_padel.best_params_['max_depth'],\n",
    "                     rf_random_padel.best_params_['max_depth'] + 3],\n",
    "    'n_estimators': [rf_random_padel.best_params_['n_estimators'] - 150, \n",
    "                     rf_random_padel.best_params_['n_estimators'] - 100, \n",
    "                     rf_random_padel.best_params_['n_estimators'], \n",
    "                     rf_random_padel.best_params_['n_estimators'] + 100, \n",
    "                     rf_random_padel.best_params_['n_estimators'] + 150]\n",
    "}\n",
    "\n",
    "rf_grid_padel = grid_search(clf_rf_padel, grid_params_padel, X_train, y_train);"
   ]
  },
  {
   "cell_type": "code",
   "execution_count": 43,
   "metadata": {},
   "outputs": [
    {
     "name": "stdout",
     "output_type": "stream",
     "text": [
      "Baseline = 0.76\n",
      "\n",
      "Best param - Random search: {'random_state': 24, 'n_estimators': 617, 'max_features': 'sqrt', 'max_depth': 9, 'criterion': 'gini', 'class_weight': 'balanced'}\n",
      "Random search = 0.79\n",
      "\n",
      "Best param - Grid search: {'class_weight': 'balanced', 'criterion': 'gini', 'max_depth': 12, 'max_features': 'sqrt', 'n_estimators': 617, 'random_state': 24}\n",
      "Grid search = 0.86\n"
     ]
    },
    {
     "data": {
      "image/png": "[encoded data removed]",
      "text/plain": [
       "<Figure size 432x288 with 1 Axes>"
      ]
     },
     "metadata": {
      "needs_background": "light"
     },
     "output_type": "display_data"
    }
   ],
   "source": [
    "baseline = cross_val_score(clf_rf_padel, X_train, y_train).mean()\n",
    "y_gs = np.maximum.accumulate(rf_grid_padel.cv_results_['mean_test_score'])\n",
    "y_rs = np.maximum.accumulate(rf_random_padel.cv_results_['mean_test_score'])\n",
    "\n",
    "print(f'Baseline = {baseline:.2f}')\n",
    "\n",
    "print()\n",
    "print('Best param - Random search: %s' % rf_random_padel.best_params_)\n",
    "print(f'Random search = {y_rs[-1]:.2f}')\n",
    "\n",
    "print()\n",
    "print('Best param - Grid search: %s' % rf_grid_padel.best_params_)\n",
    "print(f'Grid search = {y_gs[-1]:.2f}')\n",
    "\n",
    "plt.plot(y_gs, 'gs-', label='Grid search')\n",
    "plt.plot(y_rs, 'rs-', label='Random search')\n",
    "plt.xlabel('Iteration')\n",
    "plt.ylabel('score')\n",
    "plt.ylim(0, 1)\n",
    "plt.title('Valor da melhor pontuação CV amostrada');\n",
    "plt.legend();"
   ]
  },
  {
   "cell_type": "markdown",
   "metadata": {},
   "source": [
    "##### Modelo com / melhores parâmetros"
   ]
  },
  {
   "cell_type": "code",
   "execution_count": 44,
   "metadata": {},
   "outputs": [
    {
     "data": {
      "text/plain": [
       "RandomForestClassifier(bootstrap=True, ccp_alpha=0.0, class_weight='balanced',\n",
       "                       criterion='gini', max_depth=12, max_features='sqrt',\n",
       "                       max_leaf_nodes=None, max_samples=None,\n",
       "                       min_impurity_decrease=0.0, min_impurity_split=None,\n",
       "                       min_samples_leaf=1, min_samples_split=2,\n",
       "                       min_weight_fraction_leaf=0.0, n_estimators=617,\n",
       "                       n_jobs=-1, oob_score=False, random_state=24, verbose=0,\n",
       "                       warm_start=False)"
      ]
     },
     "execution_count": 44,
     "metadata": {},
     "output_type": "execute_result"
    }
   ],
   "source": [
    "#criando o modelo com os melhores parametros utilizando processamento paralelo\n",
    "rf_best = RandomForestClassifier(**rf_grid_padel.best_params_, n_jobs=-1)\n",
    "\n",
    "#Construa uma floresta de árvores a partir do conjunto de treinamento (X, y)\n",
    "rf_best.fit(X_train, y_train)"
   ]
  },
  {
   "cell_type": "markdown",
   "metadata": {},
   "source": [
    "##### Validação cruzada 5 vezes"
   ]
  },
  {
   "cell_type": "code",
   "execution_count": 45,
   "metadata": {},
   "outputs": [
    {
     "name": "stdout",
     "output_type": "stream",
     "text": [
      "\u001b[1mCaracterísticas estatísticas de validação cruzada externa de 5 vezes dos modelos QSAR desenvolvidos PaDEL (grid_search)\n",
      "\u001b[0m\n"
     ]
    },
    {
     "data": {
      "text/html": [
       "<div>\n",
       "<style scoped>\n",
       "    .dataframe tbody tr th:only-of-type {\n",
       "        vertical-align: middle;\n",
       "    }\n",
       "\n",
       "    .dataframe tbody tr th {\n",
       "        vertical-align: top;\n",
       "    }\n",
       "\n",
       "    .dataframe thead th {\n",
       "        text-align: right;\n",
       "    }\n",
       "</style>\n",
       "<table border=\"1\" class=\"dataframe\">\n",
       "  <thead>\n",
       "    <tr style=\"text-align: right;\">\n",
       "      <th></th>\n",
       "      <th>Kappa</th>\n",
       "      <th>CCR</th>\n",
       "      <th>Sensibilidade</th>\n",
       "      <th>PPV</th>\n",
       "      <th>Especificidade</th>\n",
       "      <th>NPV</th>\n",
       "      <th>Accuracy</th>\n",
       "      <th>F1 Score</th>\n",
       "      <th>Cobertura</th>\n",
       "    </tr>\n",
       "  </thead>\n",
       "  <tbody>\n",
       "    <tr>\n",
       "      <th>PaDEL</th>\n",
       "      <td>0.51</td>\n",
       "      <td>0.75</td>\n",
       "      <td>0.60</td>\n",
       "      <td>0.75</td>\n",
       "      <td>0.89</td>\n",
       "      <td>0.80</td>\n",
       "      <td>0.79</td>\n",
       "      <td>0.67</td>\n",
       "      <td>1.00</td>\n",
       "    </tr>\n",
       "    <tr>\n",
       "      <th>PaDEL AD</th>\n",
       "      <td>0.67</td>\n",
       "      <td>0.79</td>\n",
       "      <td>0.57</td>\n",
       "      <td>1.00</td>\n",
       "      <td>1.00</td>\n",
       "      <td>0.88</td>\n",
       "      <td>0.90</td>\n",
       "      <td>0.73</td>\n",
       "      <td>0.52</td>\n",
       "    </tr>\n",
       "  </tbody>\n",
       "</table>\n",
       "</div>"
      ],
      "text/plain": [
       "          Kappa   CCR  Sensibilidade   PPV  Especificidade   NPV  Accuracy  \\\n",
       "PaDEL      0.51  0.75           0.60  0.75            0.89  0.80      0.79   \n",
       "PaDEL AD   0.67  0.79           0.57  1.00            1.00  0.88      0.90   \n",
       "\n",
       "          F1 Score  Cobertura  \n",
       "PaDEL         0.67       1.00  \n",
       "PaDEL AD      0.73       0.52  "
      ]
     },
     "execution_count": 45,
     "metadata": {},
     "output_type": "execute_result"
    }
   ],
   "source": [
    "# Parametros\n",
    "pred = []\n",
    "ad = []\n",
    "index = []\n",
    "cross_val = StratifiedKFold(n_splits=5)\n",
    "\n",
    "# Faça um loop de 5 vezes\n",
    "for train_index, test_index in cross_val.split(X_train, y_train):\n",
    "    \n",
    "    fold_model = rf_best.fit(X_train.iloc[train_index], y_train[train_index])\n",
    "    fold_pred = rf_best.predict(X_train.iloc[test_index])\n",
    "    fold_ad = rf_best.predict_proba(X_train.iloc[test_index])\n",
    "    pred.append(fold_pred)\n",
    "    ad.append(fold_ad)\n",
    "    index.append(test_index)\n",
    "\n",
    "threshold_ad = 0.70\n",
    "\n",
    "# Preparar resultados para exportar    \n",
    "fold_index = np.concatenate(index)    \n",
    "fold_pred = np.concatenate(pred)\n",
    "fold_ad = np.concatenate(ad)\n",
    "fold_ad = (np.amax(fold_ad, axis=1) >= threshold_ad).astype(str)\n",
    "five_fold_padel = pd.DataFrame({'Prediction': fold_pred,'AD': fold_ad}, index=list(fold_index))\n",
    "five_fold_padel.AD[five_fold_padel.AD == 'False'] = np.nan\n",
    "five_fold_padel.AD[five_fold_padel.AD == 'True'] = five_fold_padel.Prediction\n",
    "five_fold_padel.sort_index(inplace=True)\n",
    "five_fold_padel['y_train'] = pd.DataFrame(y_train)\n",
    "five_fold_padel_ad = five_fold_padel.dropna().astype(int)\n",
    "cobertura_5f = len(five_fold_padel_ad) / len(five_fold_padel)\n",
    "\n",
    "# estatísticas padel\n",
    "padel = pd.DataFrame(stats(five_fold_padel['y_train'], five_fold_padel['Prediction']))\n",
    "padel['Cobertura'] = 1.0\n",
    "\n",
    "# estatísticas padel AD\n",
    "padel_ad = five_fold_padel.dropna(subset=['AD']).astype(int)\n",
    "cobertura_padel_ad = len(padel_ad['AD']) / len(five_fold_padel['y_train'])\n",
    "padel_ad = pd.DataFrame(stats(padel_ad['y_train'], padel_ad['AD']))\n",
    "padel_ad['Cobertura'] = round(cobertura_padel_ad, 2)\n",
    "\n",
    "# imprimir estatísticas\n",
    "if hiper_parametros == 'random_search':\n",
    "    print('\\033[1m' + 'Características estatísticas de validação cruzada externa de 5 vezes dos modelos QSAR desenvolvidos PaDEL (random_search)' + '\\n' + '\\033[0m')\n",
    "if hiper_parametros == 'grid_search':\n",
    "    print('\\033[1m' + 'Características estatísticas de validação cruzada externa de 5 vezes dos modelos QSAR desenvolvidos PaDEL (grid_search)' + '\\n' + '\\033[0m')\n",
    "padel_5f_stats = padel.append(padel_ad)\n",
    "padel_5f_stats.set_index([['PaDEL', 'PaDEL AD']], drop=True, inplace=True)\n",
    "padel_5f_stats"
   ]
  },
  {
   "cell_type": "markdown",
   "metadata": {},
   "source": [
    "##### Prever conjunto retido externo após o balanceamento"
   ]
  },
  {
   "cell_type": "code",
   "execution_count": 46,
   "metadata": {},
   "outputs": [],
   "source": [
    "moldf_ext = moldf_desc[(moldf_desc['Set'] == 'ext')]\n",
    "descriptor_list = list(X_train.columns.values)\n",
    "\n",
    "if len(moldf_ext) > 0:\n",
    "    y_ext = moldf_ext['Outcome'].to_numpy()\n",
    "    X_ext = moldf_ext[descriptors]\n",
    "    \n",
    "    # Filtrar descritores não presentes no modelo\n",
    "    X_ext = X_ext[descriptor_list]\n",
    "    \n",
    "    # Fazer previsões\n",
    "    ext_set_padel = rf_best.predict(X_ext)\n",
    "    ext_set_padel_ad = rf_best.predict_proba(X_ext)\n",
    "    ext_set_padel_ad = (np.amax(ext_set_padel_ad, axis=1) >= threshold_ad).astype(str)\n",
    "    \n",
    "    # Preparar dados\n",
    "    ext_set_padel = pd.DataFrame({'Prediction': ext_set_padel,'AD': ext_set_padel_ad})\n",
    "    ext_set_padel.AD[ext_set_padel.AD == 'False'] = np.nan\n",
    "    ext_set_padel.AD[ext_set_padel.AD == 'True'] = ext_set_padel.Prediction\n",
    "    ext_set_padel.sort_index(inplace=True)\n",
    "    ext_set_padel['y_ext'] = pd.DataFrame(y_ext)\n",
    "    ext_set_padel_ad = ext_set_padel.dropna().astype(int)\n",
    "    cobertura_ext = len(ext_set_padel_ad) / len(ext_set_padel)\n",
    "    \n",
    "    # ext_set_padel estatísticas\n",
    "    padel_ext = pd.DataFrame(stats(ext_set_padel['y_ext'], ext_set_padel['Prediction']))\n",
    "    padel_ext['Cobertura'] = 1.0\n",
    "    \n",
    "    # ext_set_padel AD stats\n",
    "    padel_ext_ad = ext_set_padel.dropna(subset=['AD']).astype(int)\n",
    "    cobertura_padel_ext_ad = len(padel_ext_ad['AD']) / len(ext_set_padel['y_ext'])\n",
    "    padel_ext_ad = pd.DataFrame(stats(padel_ext_ad['y_ext'], padel_ext_ad['AD']))\n",
    "    padel_ext_ad['Cobertura'] = round(cobertura_padel_ext_ad, 2)\n",
    "    \n",
    "    # imprimir estatísticas\n",
    "    print('\\033[1m' + 'Características estatísticas da previsão do conjunto retido na fonte por modelos PaDEL' + '\\n' + '\\033[0m')\n",
    "    ext_set_padel_stats = padel_ext.append(padel_ext_ad)\n",
    "    ext_set_padel_stats.set_index([['PaDEL Ext.', 'PaDEL Ext. AD']], drop=True, inplace=True)\n",
    "    ext_set_padel_stats\n",
    "else:\n",
    "    pass"
   ]
  },
  {
   "cell_type": "markdown",
   "metadata": {},
   "source": [
    "##### Y-randomization"
   ]
  },
  {
   "cell_type": "code",
   "execution_count": 47,
   "metadata": {},
   "outputs": [
    {
     "name": "stderr",
     "output_type": "stream",
     "text": [
      "[Parallel(n_jobs=-1)]: Using backend LokyBackend with 4 concurrent workers.\n"
     ]
    },
    {
     "name": "stdout",
     "output_type": "stream",
     "text": [
      "True score =  0.75 \n",
      "Y-randomization =  0.5 \n",
      "p-value =  0.0476\n"
     ]
    },
    {
     "name": "stderr",
     "output_type": "stream",
     "text": [
      "[Parallel(n_jobs=-1)]: Done  20 out of  20 | elapsed:   54.3s finished\n"
     ]
    }
   ],
   "source": [
    "permutations = 20\n",
    "score, permutation_scores, pvalue = permutation_test_score(rf_best, X_train, y_train,\n",
    "                                                           cv=5, scoring='balanced_accuracy',\n",
    "                                                           n_permutations=permutations,\n",
    "                                                           n_jobs=-1,\n",
    "                                                           verbose=1,\n",
    "                                                           random_state=24)\n",
    "print('True score = ', score.round(2),\n",
    "      '\\nY-randomization = ', np.mean(permutation_scores).round(2),\n",
    "      '\\np-value = ', pvalue.round(4))"
   ]
  },
  {
   "cell_type": "markdown",
   "metadata": {},
   "source": [
    "##### Salvar modelo"
   ]
  },
  {
   "cell_type": "code",
   "execution_count": 48,
   "metadata": {},
   "outputs": [],
   "source": [
    "with gzip.GzipFile('model/sars-cov-3clpro-padel_RF_ad_balanced.pgz', 'w') as f:\n",
    "    cPickle.dump(rf_best, f)"
   ]
  },
  {
   "cell_type": "markdown",
   "metadata": {},
   "source": [
    "### Plotar estatísticas"
   ]
  },
  {
   "cell_type": "code",
   "execution_count": 49,
   "metadata": {},
   "outputs": [
    {
     "data": {
      "text/html": [
       "<div>\n",
       "<style scoped>\n",
       "    .dataframe tbody tr th:only-of-type {\n",
       "        vertical-align: middle;\n",
       "    }\n",
       "\n",
       "    .dataframe tbody tr th {\n",
       "        vertical-align: top;\n",
       "    }\n",
       "\n",
       "    .dataframe thead th {\n",
       "        text-align: right;\n",
       "    }\n",
       "</style>\n",
       "<table border=\"1\" class=\"dataframe\">\n",
       "  <thead>\n",
       "    <tr style=\"text-align: right;\">\n",
       "      <th></th>\n",
       "      <th>Kappa</th>\n",
       "      <th>CCR</th>\n",
       "      <th>Sensibilidade</th>\n",
       "      <th>PPV</th>\n",
       "      <th>Especificidade</th>\n",
       "      <th>NPV</th>\n",
       "      <th>Accuracy</th>\n",
       "      <th>F1 Score</th>\n",
       "      <th>Cobertura</th>\n",
       "    </tr>\n",
       "  </thead>\n",
       "  <tbody>\n",
       "    <tr>\n",
       "      <th>PaDEL</th>\n",
       "      <td>0.51</td>\n",
       "      <td>0.75</td>\n",
       "      <td>0.60</td>\n",
       "      <td>0.75</td>\n",
       "      <td>0.89</td>\n",
       "      <td>0.80</td>\n",
       "      <td>0.79</td>\n",
       "      <td>0.67</td>\n",
       "      <td>1.00</td>\n",
       "    </tr>\n",
       "    <tr>\n",
       "      <th>PaDEL AD</th>\n",
       "      <td>0.67</td>\n",
       "      <td>0.79</td>\n",
       "      <td>0.57</td>\n",
       "      <td>1.00</td>\n",
       "      <td>1.00</td>\n",
       "      <td>0.88</td>\n",
       "      <td>0.90</td>\n",
       "      <td>0.73</td>\n",
       "      <td>0.52</td>\n",
       "    </tr>\n",
       "  </tbody>\n",
       "</table>\n",
       "</div>"
      ],
      "text/plain": [
       "          Kappa   CCR  Sensibilidade   PPV  Especificidade   NPV  Accuracy  \\\n",
       "PaDEL      0.51  0.75           0.60  0.75            0.89  0.80      0.79   \n",
       "PaDEL AD   0.67  0.79           0.57  1.00            1.00  0.88      0.90   \n",
       "\n",
       "          F1 Score  Cobertura  \n",
       "PaDEL         0.67       1.00  \n",
       "PaDEL AD      0.73       0.52  "
      ]
     },
     "execution_count": 49,
     "metadata": {},
     "output_type": "execute_result"
    }
   ],
   "source": [
    "# Exportar estatísticas\n",
    "if len(moldf_ext) > 0:\n",
    "    padel_stats = pd.concat([padel_5f_stats, ext_set_padel_stats], axis=0)\n",
    "    padel_stats\n",
    "else:\n",
    "    padel_stats = padel_5f_stats.copy()\n",
    "    padel_stats"
   ]
  },
  {
   "cell_type": "code",
   "execution_count": 64,
   "metadata": {},
   "outputs": [
    {
     "data": {
      "image/png": "[encoded data removed]",
      "text/plain": [
       "<Figure size 1040x650 with 1 Axes>"
      ]
     },
     "metadata": {
      "needs_background": "light"
     },
     "output_type": "display_data"
    }
   ],
   "source": [
    "# Estatísticas de transposição\n",
    "padel_stats_t = padel_stats.T\n",
    "padel_stats_t = padel_stats_t.reset_index()\n",
    "padel_stats_t = padel_stats_t.rename(columns={'index': 'Stats'})\n",
    "\n",
    "# Fazer enredo\n",
    "plt.style.use('seaborn-colorblind')\n",
    "fig, ax1 = plt.subplots(figsize=(8,5), dpi=130)\n",
    "\n",
    "padel_stats_t.plot(kind='bar', ax=ax1, width=0.8)\n",
    "ax1.set_xticklabels(labels=padel_stats_t['Stats'].tolist(), fontsize=14, rotation=0)\n",
    "ax1.axhline(y=.6, color='indianred', ls='dashed')\n",
    "ax1.legend_.remove()\n",
    "if hiper_parametros == 'random_search':\n",
    "    plt.title('Características estatísticas (random_search)', fontsize=16)\n",
    "if hiper_parametros == 'grid_search':\n",
    "    plt.title('Características estatísticas (grid_search)', fontsize=16)  \n",
    "ax1.set_yticks(np.arange(0, 1.1, 0.1))\n",
    "ax1.tick_params(labelsize=9)\n",
    "\n",
    "handles, labels = ax1.get_legend_handles_labels()\n",
    "ax1.legend(handles, labels, fontsize=12,\n",
    "            loc='upper center', bbox_to_anchor=(0.5, -0.09), ncol=4)\n",
    "fig.tight_layout()\n",
    "\n",
    "plt.savefig('statistics-padel.png', bbox_inches='tight', transparent=False, format='png', dpi=300)\n",
    "plt.show();"
   ]
  },
  {
   "cell_type": "markdown",
   "metadata": {},
   "source": [
    "# Consenso"
   ]
  },
  {
   "cell_type": "code",
   "execution_count": 51,
   "metadata": {},
   "outputs": [],
   "source": [
    "results_sirms = five_fold_sirms.drop(columns='y_train')\n",
    "results_sirms = five_fold_sirms.rename(columns={'Prediction':'sirms', 'AD':'sirms_ad'})\n",
    "results_padel = five_fold_padel.drop(columns='y_train')\n",
    "results_padel = five_fold_padel.rename(columns={'Prediction':'padel', 'AD':'padel_ad'})"
   ]
  },
  {
   "cell_type": "code",
   "execution_count": 52,
   "metadata": {},
   "outputs": [],
   "source": [
    "var = list(moldf.columns.values)\n",
    "moldf_train = moldf_train[var]\n",
    "predictions = pd.concat([moldf_train.reset_index(drop=True), results_sirms, results_padel], axis=1)"
   ]
  },
  {
   "cell_type": "markdown",
   "metadata": {},
   "source": [
    "#### Previsões de consenso"
   ]
  },
  {
   "cell_type": "code",
   "execution_count": 53,
   "metadata": {},
   "outputs": [],
   "source": [
    "# Consenso\n",
    "predictions['consensus'] = (predictions.sirms + predictions.padel)/2\n",
    "predictions['consensus'] = np.where(predictions['consensus'] > 0.5, 1, 0)\n",
    "\n",
    "# Consenso AD\n",
    "for i in range(0, predictions.shape[0]):\n",
    "    if all([np.isnan(predictions.sirms_ad[i]) == False, np.isnan(predictions.padel_ad[i]) == False]):\n",
    "        predictions.loc[i,'consensus_ad'] = (predictions.sirms_ad[i] + predictions.padel_ad[i])/2\n",
    "        predictions.loc[i,'consensus_ad'] = np.where(predictions.loc[i,'consensus_ad'] > 0.5, 1, 0)\n",
    "    elif all([np.isnan(predictions.sirms_ad[i]) == True, np.isnan(predictions.padel_ad[i]) == False]):\n",
    "        predictions.loc[i,'consensus_ad'] = predictions.padel_ad[i]\n",
    "    elif all([np.isnan(predictions.sirms_ad[i]) == False, np.isnan(predictions.padel_ad[i]) == True]):\n",
    "        predictions.loc[i,'consensus_ad'] = predictions.sirms_ad[i]\n",
    "    else:\n",
    "        predictions.loc[i,'consensus_ad']  = np.nan\n",
    "\n",
    "# Rigor de consenso\n",
    "for i in range(0, predictions.shape[0]):\n",
    "    if all([np.isnan(predictions.sirms_ad[i]) == False, np.isnan(predictions.padel_ad[i]) == False]):\n",
    "        predictions.loc[i,'consensus_rigor'] = (predictions.sirms_ad[i] + predictions.padel_ad[i])/2\n",
    "        predictions.loc[i,'consensus_rigor'] = np.where(predictions.loc[i,'consensus_rigor'] > 0.5, 1, 0)\n",
    "    else:\n",
    "        predictions.loc[i,'consensus_rigor']  = np.nan\n",
    "        \n",
    "predictions.drop(columns=['y_train', 'ID'], inplace=True)"
   ]
  },
  {
   "cell_type": "code",
   "execution_count": 54,
   "metadata": {},
   "outputs": [],
   "source": [
    "##### SiRMS\n",
    "\n",
    "# Estatísticas SiRMS\n",
    "sirms = pd.DataFrame(stats(predictions.Outcome, predictions.sirms))\n",
    "sirms['Cobertura'] = 1.0\n",
    "\n",
    "# Estatísticas SiRMS AD\n",
    "sirms_ad = predictions.dropna(subset=['sirms_ad'])\n",
    "cobertura_sirms_ad = len(sirms_ad.sirms_ad) / len(predictions.Outcome)\n",
    "sirms_ad = pd.DataFrame(stats(sirms_ad.Outcome, sirms_ad.sirms_ad.astype(int)))\n",
    "sirms_ad['Cobertura'] = round(cobertura_sirms_ad, 2)\n",
    "\n",
    "##### PaDEL\n",
    "\n",
    "# estatísticas de padel\n",
    "padel = pd.DataFrame(stats(predictions.Outcome, predictions.padel))\n",
    "padel['Cobertura'] = 1.0\n",
    "\n",
    "# estatísticas de padel AD\n",
    "padel_ad = predictions.dropna(subset=['padel_ad'])\n",
    "cobertura_padel_ad = len(padel_ad.padel_ad) / len(predictions.Outcome)\n",
    "padel_ad = pd.DataFrame(stats(padel_ad.Outcome, padel_ad.padel_ad.astype(int)))\n",
    "padel_ad['Cobertura'] = round(cobertura_padel_ad, 2)\n",
    "\n",
    "##### Consenso\n",
    "\n",
    "# estatísticas consenso\n",
    "consensus = pd.DataFrame(stats(predictions.Outcome, predictions.consensus))\n",
    "consensus['Cobertura'] = 1.0\n",
    "\n",
    "# estatísticas consenso AD\n",
    "consensus_ad = predictions.dropna(subset=['consensus_ad'])\n",
    "cobertura_consensus_ad = len(consensus_ad.consensus_ad) / len(predictions.Outcome)\n",
    "\n",
    "consensus_ad = pd.DataFrame(stats(consensus_ad.Outcome, consensus_ad.consensus_ad.astype(int)))\n",
    "consensus_ad['Cobertura'] = round(cobertura_consensus_ad, 2)\n",
    "\n",
    "# estatísticas rigor do consenso\n",
    "consensus_rigor = predictions.dropna(subset=['consensus_rigor'])\n",
    "cobertura_consensus_rigor = len(consensus_rigor.consensus_rigor) / len(predictions.Outcome)\n",
    "consensus_rigor = pd.DataFrame(stats(consensus_rigor.Outcome, consensus_rigor.consensus_rigor.astype(int)))\n",
    "consensus_rigor['Cobertura'] = round(cobertura_consensus_rigor, 2)"
   ]
  },
  {
   "cell_type": "markdown",
   "metadata": {},
   "source": [
    "##### Previsões de exportação"
   ]
  },
  {
   "cell_type": "code",
   "execution_count": 55,
   "metadata": {
    "scrolled": false
   },
   "outputs": [],
   "source": [
    "pred_exp = predictions.drop(columns=['Mol'])\n",
    "\n",
    "with pd.ExcelWriter('predictions-sirms-padel.xlsx') as writer:\n",
    "    pred_exp.to_excel(writer, sheet_name='sirms-padel', index=False)"
   ]
  },
  {
   "cell_type": "markdown",
   "metadata": {},
   "source": [
    "##### Estatísticas"
   ]
  },
  {
   "cell_type": "code",
   "execution_count": 56,
   "metadata": {},
   "outputs": [
    {
     "data": {
      "text/html": [
       "<div>\n",
       "<style scoped>\n",
       "    .dataframe tbody tr th:only-of-type {\n",
       "        vertical-align: middle;\n",
       "    }\n",
       "\n",
       "    .dataframe tbody tr th {\n",
       "        vertical-align: top;\n",
       "    }\n",
       "\n",
       "    .dataframe thead th {\n",
       "        text-align: right;\n",
       "    }\n",
       "</style>\n",
       "<table border=\"1\" class=\"dataframe\">\n",
       "  <thead>\n",
       "    <tr style=\"text-align: right;\">\n",
       "      <th></th>\n",
       "      <th>Kappa</th>\n",
       "      <th>CCR</th>\n",
       "      <th>Sensibilidade</th>\n",
       "      <th>PPV</th>\n",
       "      <th>Especificidade</th>\n",
       "      <th>NPV</th>\n",
       "      <th>Accuracy</th>\n",
       "      <th>F1 Score</th>\n",
       "      <th>Cobertura</th>\n",
       "    </tr>\n",
       "  </thead>\n",
       "  <tbody>\n",
       "    <tr>\n",
       "      <th>SiRMS</th>\n",
       "      <td>0.67</td>\n",
       "      <td>0.82</td>\n",
       "      <td>0.71</td>\n",
       "      <td>0.85</td>\n",
       "      <td>0.94</td>\n",
       "      <td>0.86</td>\n",
       "      <td>0.86</td>\n",
       "      <td>0.77</td>\n",
       "      <td>0.63</td>\n",
       "    </tr>\n",
       "    <tr>\n",
       "      <th>PaDEL</th>\n",
       "      <td>0.67</td>\n",
       "      <td>0.79</td>\n",
       "      <td>0.57</td>\n",
       "      <td>1.00</td>\n",
       "      <td>1.00</td>\n",
       "      <td>0.88</td>\n",
       "      <td>0.90</td>\n",
       "      <td>0.73</td>\n",
       "      <td>0.52</td>\n",
       "    </tr>\n",
       "    <tr>\n",
       "      <th>Consenso</th>\n",
       "      <td>0.58</td>\n",
       "      <td>0.77</td>\n",
       "      <td>0.60</td>\n",
       "      <td>0.86</td>\n",
       "      <td>0.95</td>\n",
       "      <td>0.81</td>\n",
       "      <td>0.82</td>\n",
       "      <td>0.71</td>\n",
       "      <td>1.00</td>\n",
       "    </tr>\n",
       "    <tr>\n",
       "      <th>Consenso (AD)</th>\n",
       "      <td>0.67</td>\n",
       "      <td>0.82</td>\n",
       "      <td>0.69</td>\n",
       "      <td>0.86</td>\n",
       "      <td>0.95</td>\n",
       "      <td>0.87</td>\n",
       "      <td>0.87</td>\n",
       "      <td>0.77</td>\n",
       "      <td>0.73</td>\n",
       "    </tr>\n",
       "    <tr>\n",
       "      <th>Consenso com rigor</th>\n",
       "      <td>0.68</td>\n",
       "      <td>0.79</td>\n",
       "      <td>0.58</td>\n",
       "      <td>1.00</td>\n",
       "      <td>1.00</td>\n",
       "      <td>0.88</td>\n",
       "      <td>0.89</td>\n",
       "      <td>0.74</td>\n",
       "      <td>0.42</td>\n",
       "    </tr>\n",
       "  </tbody>\n",
       "</table>\n",
       "</div>"
      ],
      "text/plain": [
       "                    Kappa   CCR  Sensibilidade   PPV  Especificidade   NPV  \\\n",
       "SiRMS                0.67  0.82           0.71  0.85            0.94  0.86   \n",
       "PaDEL                0.67  0.79           0.57  1.00            1.00  0.88   \n",
       "Consenso             0.58  0.77           0.60  0.86            0.95  0.81   \n",
       "Consenso (AD)        0.67  0.82           0.69  0.86            0.95  0.87   \n",
       "Consenso com rigor   0.68  0.79           0.58  1.00            1.00  0.88   \n",
       "\n",
       "                    Accuracy  F1 Score  Cobertura  \n",
       "SiRMS                   0.86      0.77       0.63  \n",
       "PaDEL                   0.90      0.73       0.52  \n",
       "Consenso                0.82      0.71       1.00  \n",
       "Consenso (AD)           0.87      0.77       0.73  \n",
       "Consenso com rigor      0.89      0.74       0.42  "
      ]
     },
     "execution_count": 56,
     "metadata": {},
     "output_type": "execute_result"
    }
   ],
   "source": [
    "stats = pd.concat([sirms_ad, padel_ad, consensus, consensus_ad, consensus_rigor], axis=0)\n",
    "stats.set_index([['SiRMS', 'PaDEL', 'Consenso', 'Consenso (AD)', 'Consenso com rigor']], drop=True, inplace=True)\n",
    "\n",
    "stats"
   ]
  },
  {
   "cell_type": "code",
   "execution_count": 61,
   "metadata": {},
   "outputs": [
    {
     "data": {
      "image/png": "[encoded data removed]",
      "text/plain": [
       "<Figure size 1040x650 with 1 Axes>"
      ]
     },
     "metadata": {
      "needs_background": "light"
     },
     "output_type": "display_data"
    }
   ],
   "source": [
    "# Estatísticas de transposição\n",
    "stats_t = stats.T\n",
    "stats_t = stats_t.reset_index()\n",
    "stats_t = stats_t.rename(columns={'index': 'Stats'})\n",
    "\n",
    "# Fazer plot\n",
    "plt.style.use('seaborn-colorblind')\n",
    "fig, ax1 = plt.subplots(figsize=(8,5), dpi=130)\n",
    "\n",
    "stats_t.plot(kind='bar', ax=ax1, width=0.8)\n",
    "ax1.set_xticklabels(labels=stats_t['Stats'].tolist(), fontsize=14, rotation=0)\n",
    "ax1.axhline(y=.6, color='indianred', ls='dashed')\n",
    "ax1.legend_.remove()\n",
    "if hiper_parametros == 'random_search':\n",
    "    plt.title('Características estatísticas do QSAR (random_search) ', fontsize=16)\n",
    "if hiper_parametros == 'grid_search':\n",
    "    plt.title('Características estatísticas do QSAR (grid_search) ', fontsize=16)\n",
    "ax1.set_yticks(np.arange(0, 1.1, 0.1))\n",
    "ax1.tick_params(labelsize=9)\n",
    "\n",
    "handles, labels = ax1.get_legend_handles_labels()\n",
    "ax1.legend(handles, labels, fontsize=8,\n",
    "            loc='upper center', bbox_to_anchor=(0.5, -0.09), ncol=5)\n",
    "fig.tight_layout()\n",
    "\n",
    "plt.savefig('statistics-sirms-padel-5f.png', bbox_inches='tight', transparent=False, format='png', dpi=300)\n",
    "plt.show();"
   ]
  },
  {
   "cell_type": "code",
   "execution_count": null,
   "metadata": {},
   "outputs": [],
   "source": []
  }
 ],
 "metadata": {
  "kernelspec": {
   "display_name": "Python 3",
   "language": "python",
   "name": "python3"
  },
  "language_info": {
   "codemirror_mode": {
    "name": "ipython",
    "version": 3
   },
   "file_extension": ".py",
   "mimetype": "text/x-python",
   "name": "python",
   "nbconvert_exporter": "python",
   "pygments_lexer": "ipython3",
   "version": "3.7.6"
  }
 },
 "nbformat": 4,
 "nbformat_minor": 2
}
