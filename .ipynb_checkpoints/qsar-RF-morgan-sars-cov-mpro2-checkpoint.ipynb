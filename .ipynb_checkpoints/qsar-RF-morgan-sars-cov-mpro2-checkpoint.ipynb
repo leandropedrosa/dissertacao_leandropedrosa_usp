{
 "cells": [
  {
   "cell_type": "markdown",
   "metadata": {},
   "source": [
    "# Modelos QSAR-RF para protease principal 3C-like protease (M<sup>pro</sup>) de SARS-CoV"
   ]
  },
  {
   "cell_type": "markdown",
   "metadata": {},
   "source": [
    "Os modelos nesse fluxo de trabalho foram criados usando as impressões digitais de Morgan com Random Forest scikit-learn."
   ]
  },
  {
   "cell_type": "markdown",
   "metadata": {},
   "source": [
    "## Importando Módulos e Funções"
   ]
  },
  {
   "cell_type": "code",
   "execution_count": 1,
   "metadata": {},
   "outputs": [
    {
     "data": {
      "text/html": [
       "<style>.container { width:90% !important; }</style>"
      ],
      "text/plain": [
       "<IPython.core.display.HTML object>"
      ]
     },
     "metadata": {},
     "output_type": "display_data"
    }
   ],
   "source": [
    "import numpy as np\n",
    "import pandas as pd\n",
    "import seaborn as sns\n",
    "import matplotlib.pyplot as plt\n",
    "import _pickle as cPickle\n",
    "import gzip\n",
    "import seaborn as sns\n",
    "from time import time\n",
    "from bayes_opt import BayesianOptimization\n",
    "from bayes_opt.util import Colours\n",
    "#BalanceBySim: função de balanceamento de conjunto de dados (Equilibre os dados usando 1/2 similaridade e 1/2 aleatória)\n",
    "from BalanceBySim import *\n",
    "from sklearn.preprocessing import StandardScaler\n",
    "#Stats: Calculos estatisticos referente ao modelo Kappa\tCCR\tSensitivity\tPPV\tSpecificity\tNPV\tCoverage\n",
    "from stats import *\n",
    "from scipy.stats import randint as sp_randint\n",
    "from collections import Counter\n",
    "\n",
    "#Rdkit: coleção de quiminformática e software de aprendizado de máquina escrito em C++ e Python de Código Aberto.\n",
    "from rdkit import Chem\n",
    "from rdkit.Chem import AllChem\n",
    "from rdkit.Chem import Draw\n",
    "from rdkit.Chem import PandasTools\n",
    "from rdkit.Chem.Draw import IPythonConsole\n",
    "\n",
    "#Sklearn: Bibliotecas p/ Machine learning de Código Aberto\n",
    "from sklearn import metrics\n",
    "from sklearn.ensemble import RandomForestClassifier # biblioteca Random Forest para Classificação\n",
    "from sklearn.feature_selection import VarianceThreshold\n",
    "from sklearn.model_selection import train_test_split, cross_validate, GridSearchCV, RandomizedSearchCV, cross_val_score # biblioteca GridSearch e RandomizedSearch e cross_validate\n",
    "from sklearn.model_selection import permutation_test_score, StratifiedKFold\n",
    "from sklearn import model_selection\n",
    "from sklearn.tree import export_graphviz\n",
    "from sklearn.metrics import classification_report, confusion_matrix, accuracy_score\n",
    "from subprocess import call\n",
    "from IPython.display import Image\n",
    "\n",
    "def warn(*args, **kwargs):\n",
    "    pass\n",
    "import warnings\n",
    "warnings.filterwarnings(\"ignore\")\n",
    "warnings.warn = warn\n",
    "\n",
    "from IPython.core.interactiveshell import InteractiveShell\n",
    "InteractiveShell.ast_node_interactivity = \"all\"\n",
    "%matplotlib inline\n",
    "%reload_ext autoreload\n",
    "%autoreload 2\n",
    "Draw.DrawingOptions.atomLabelFontFace = \"DejaVu Sans\"\n",
    "Draw.DrawingOptions.atomLabelFontSize = 18\n",
    "\n",
    "from IPython.core.display import display, HTML\n",
    "display(HTML(\"<style>.container { width:90% !important; }</style>\"))"
   ]
  },
  {
   "cell_type": "markdown",
   "metadata": {},
   "source": [
    "## Carregar dados"
   ]
  },
  {
   "cell_type": "code",
   "execution_count": 2,
   "metadata": {},
   "outputs": [
    {
     "name": "stdout",
     "output_type": "stream",
     "text": [
      "Original data:  (113, 11)\n",
      "Dados mantidos:  (113, 11)\n"
     ]
    },
    {
     "data": {
      "text/html": [
       "<div>\n",
       "<style scoped>\n",
       "    .dataframe tbody tr th:only-of-type {\n",
       "        vertical-align: middle;\n",
       "    }\n",
       "\n",
       "    .dataframe tbody tr th {\n",
       "        vertical-align: top;\n",
       "    }\n",
       "\n",
       "    .dataframe thead th {\n",
       "        text-align: right;\n",
       "    }\n",
       "</style>\n",
       "<table border=\"1\" class=\"dataframe\">\n",
       "  <thead>\n",
       "    <tr style=\"text-align: right;\">\n",
       "      <th></th>\n",
       "      <th>Compound_name</th>\n",
       "      <th>Standard Type</th>\n",
       "      <th>Standard Relation</th>\n",
       "      <th>Standard Value</th>\n",
       "      <th>Standard Units</th>\n",
       "      <th>Outcome</th>\n",
       "      <th>InChIKey</th>\n",
       "      <th>Molecule ChEMBL ID</th>\n",
       "      <th>ID</th>\n",
       "      <th>SMILES</th>\n",
       "      <th>Mol</th>\n",
       "    </tr>\n",
       "  </thead>\n",
       "  <tbody>\n",
       "    <tr>\n",
       "      <th>count</th>\n",
       "      <td>113</td>\n",
       "      <td>113</td>\n",
       "      <td>113</td>\n",
       "      <td>113</td>\n",
       "      <td>113</td>\n",
       "      <td>113</td>\n",
       "      <td>113</td>\n",
       "      <td>113</td>\n",
       "      <td>113</td>\n",
       "      <td>113</td>\n",
       "      <td>113</td>\n",
       "    </tr>\n",
       "    <tr>\n",
       "      <th>unique</th>\n",
       "      <td>74</td>\n",
       "      <td>2</td>\n",
       "      <td>4</td>\n",
       "      <td>94</td>\n",
       "      <td>1</td>\n",
       "      <td>2</td>\n",
       "      <td>113</td>\n",
       "      <td>92</td>\n",
       "      <td>1</td>\n",
       "      <td>113</td>\n",
       "      <td>113</td>\n",
       "    </tr>\n",
       "    <tr>\n",
       "      <th>top</th>\n",
       "      <td></td>\n",
       "      <td>IC50</td>\n",
       "      <td>'='</td>\n",
       "      <td>2.44889419684223E12</td>\n",
       "      <td>nM</td>\n",
       "      <td>Inactive</td>\n",
       "      <td>UPFRLUKDHMINPH-UHFFFAOYSA-N</td>\n",
       "      <td></td>\n",
       "      <td></td>\n",
       "      <td>CC(C)c1ccc(NC(=O)CSc2nccc(-c3cccs3)n2)cc1</td>\n",
       "      <td><img data-content=\"rdkit/molecule\" src=\"data:image/png;base64,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\" alt=\"Mol\"/></td>\n",
       "    </tr>\n",
       "    <tr>\n",
       "      <th>freq</th>\n",
       "      <td>8</td>\n",
       "      <td>88</td>\n",
       "      <td>89</td>\n",
       "      <td>5</td>\n",
       "      <td>113</td>\n",
       "      <td>73</td>\n",
       "      <td>1</td>\n",
       "      <td>22</td>\n",
       "      <td>113</td>\n",
       "      <td>1</td>\n",
       "      <td>1</td>\n",
       "    </tr>\n",
       "  </tbody>\n",
       "</table>\n",
       "</div>"
      ],
      "text/plain": [
       "       Compound_name Standard Type Standard Relation       Standard Value  \\\n",
       "count            113           113               113                  113   \n",
       "unique            74             2                 4                   94   \n",
       "top                           IC50               '='  2.44889419684223E12   \n",
       "freq               8            88                89                    5   \n",
       "\n",
       "       Standard Units   Outcome                     InChIKey  \\\n",
       "count             113       113                          113   \n",
       "unique              1         2                          113   \n",
       "top                nM  Inactive  UPFRLUKDHMINPH-UHFFFAOYSA-N   \n",
       "freq              113        73                            1   \n",
       "\n",
       "       Molecule ChEMBL ID   ID                                     SMILES  \\\n",
       "count                 113  113                                        113   \n",
       "unique                 92    1                                        113   \n",
       "top                             CC(C)c1ccc(NC(=O)CSc2nccc(-c3cccs3)n2)cc1   \n",
       "freq                   22  113                                          1   \n",
       "\n",
       "                                                      Mol  \n",
       "count                                                 113  \n",
       "unique                                                113  \n",
       "top     <img data-content=\"rdkit/molecule\" src=\"data:i...  \n",
       "freq                                                    1  "
      ]
     },
     "execution_count": 2,
     "metadata": {},
     "output_type": "execute_result"
    }
   ],
   "source": [
    "# Definir caminho do arquivo\n",
    "file = 'datasets/curated_data/chembl-pdb-sars-cov-3C-like-proteinase.sdf.gz'\n",
    "\n",
    "# Novo dicionário inicializado a partir de um objeto de mapeamento\n",
    "sdfInfo = dict(smilesName='SMILES', molColName='ROMol')\n",
    "\n",
    "# Carregando o arquivo SDF com os dicionarios mapeados\n",
    "moldf = PandasTools.LoadSDF(file, **sdfInfo)\n",
    "print('Original data: ', moldf.shape)\n",
    "\n",
    "# Renomear ROMol\n",
    "moldf = moldf.rename(columns={'ROMol': 'Mol'})\n",
    "\n",
    "# Remover moléculas RDKit ausentes\n",
    "moldf = moldf[pd.notnull(moldf['Mol'])]\n",
    "if 'StandardizerResult' in moldf.columns:\n",
    "    moldf = moldf.drop(columns='StandardizerResult')\n",
    "    \n",
    "# Colunas\n",
    "print('Dados mantidos: ', moldf.shape)\n",
    "moldf.describe()"
   ]
  },
  {
   "cell_type": "markdown",
   "metadata": {},
   "source": [
    "## Forma dos dados"
   ]
  },
  {
   "cell_type": "code",
   "execution_count": 3,
   "metadata": {},
   "outputs": [
    {
     "name": "stdout",
     "output_type": "stream",
     "text": [
      "\u001b[1mForma do conjunto de treinamento:\n",
      "\u001b[0m\n",
      "\t\t Classe 1: 40\n",
      "\t\t Classe 0: 73\n",
      "\t\t Número total de compostos: 113\n",
      "Class labels: [Counter({0: 73, 1: 40})]\n"
     ]
    }
   ],
   "source": [
    "# (27 ativos e 64 inativos) 91 compostos utilizando o software ChemAxon Standardizer \n",
    "# (13 ativos e 09 inativos) 22 compostos obtidos de empresas encontradas do PDB\n",
    "# 2 Classes criadas Classe 1: 40 (Ativos) e Classe 0: 73 (Inativos)\n",
    "\n",
    "moldf['Outcome'] = moldf['Outcome'].replace('Active', 1)\n",
    "moldf['Outcome'] = moldf['Outcome'].replace('Inactive', 0)\n",
    "\n",
    "classes = Counter(moldf['Outcome'])\n",
    "print('\\033[1m' + 'Forma do conjunto de treinamento:' + '\\n' + '\\033[0m')\n",
    "for key, value in classes.items():\n",
    "    print('\\t\\t Classe %d: %d' % (key, value))\n",
    "print('\\t\\t Número total de compostos: %d' % (len(moldf['Outcome'])))\n",
    "\n",
    "print('Class labels:', np.unique(classes))\n"
   ]
  },
  {
   "cell_type": "markdown",
   "metadata": {},
   "source": [
    "# Calcular impressões digitais de Morgan"
   ]
  },
  {
   "cell_type": "code",
   "execution_count": 4,
   "metadata": {},
   "outputs": [
    {
     "data": {
      "text/plain": [
       "(113, 2048)"
      ]
     },
     "execution_count": 4,
     "metadata": {},
     "output_type": "execute_result"
    }
   ],
   "source": [
    "# Calculando os descritores fingerprints de Harry Morgan (vetores de bits).\n",
    "def calcfp(mol,funcFPInfo=dict(radius=3, nBits=2048, useFeatures=False, useChirality=False)):\n",
    "    fp = AllChem.GetMorganFingerprintAsBitVect(mol, **funcFPInfo)\n",
    "    fp = pd.Series(np.asarray(fp))\n",
    "    fp = fp.add_prefix('Bit_')\n",
    "    return fp\n",
    "\n",
    "# Adicionando os 113 componentes e os 2048 dados referetens aos descritores de Morgan\n",
    "desc = moldf.Mol.apply(calcfp)\n",
    "descriptors = desc.columns.difference(moldf.columns).tolist()\n",
    "desc.shape"
   ]
  },
  {
   "cell_type": "code",
   "execution_count": 5,
   "metadata": {},
   "outputs": [
    {
     "name": "stdout",
     "output_type": "stream",
     "text": [
      "Forma do conjunto de treinamento: Counter({0: 73, 1: 40})\n",
      "Forma externa definida: Counter()\n"
     ]
    }
   ],
   "source": [
    "# Moldando o conjunto de treinamento e o conjunto de validação externa\n",
    "moldf_desc = pd.concat([moldf,desc], axis=1)\n",
    "balance_data = 'no'\n",
    "\n",
    "if balance_data == 'yes':\n",
    "    # Equilibre os dados usando 1/2 similaridade e 1/2 aleatória\n",
    "    moldf_desc = BalanceBySim(moldf_desc, 'Outcome', 2)\n",
    "    # Forma de impressão\n",
    "    print('Forma do conjunto de treinamento: %s' % Counter(moldf_desc['Outcome'].loc[moldf_desc['Set'] == 'train']))\n",
    "    print('Forma externa definida: %s' % Counter(moldf_desc['Outcome'].loc[moldf_desc['Set'] == 'ext']))\n",
    "      \n",
    "else:\n",
    "    moldf_desc['Set'] = 'train'\n",
    "    # Forma de impressão\n",
    "    print('Forma do conjunto de treinamento: %s' % Counter(moldf_desc['Outcome'].loc[moldf_desc['Set'] == 'train']))\n",
    "    print('Forma externa definida: %s' % Counter(moldf_desc['Outcome'].loc[moldf_desc['Set'] == 'ext']))"
   ]
  },
  {
   "cell_type": "code",
   "execution_count": 8,
   "metadata": {},
   "outputs": [
    {
     "data": {
      "text/plain": [
       "(113, 2048)"
      ]
     },
     "execution_count": 8,
     "metadata": {},
     "output_type": "execute_result"
    }
   ],
   "source": [
    "# Conjunto de treinamento\n",
    "moldf_train = moldf_desc[(moldf_desc['Set'] == 'train')]\n",
    "\n",
    "# variáveis dependentes ()\n",
    "y = moldf_train['Outcome'].to_numpy()\n",
    "\n",
    "# variáceis independentes - propriedades estruturais (descritores) calculados\n",
    "X = moldf_train[descriptors]\n",
    "X.shape"
   ]
  },
  {
   "cell_type": "code",
   "execution_count": 10,
   "metadata": {},
   "outputs": [
    {
     "name": "stdout",
     "output_type": "stream",
     "text": [
      "Labels counts in y: [73 40]\n",
      "Labels counts in y_train: [51 28]\n",
      "Labels counts in y_test: [22 12]\n"
     ]
    }
   ],
   "source": [
    "X_train, X_test, y_train, y_test = train_test_split(X, y, test_size=0.3, random_state=1, stratify=y)\n",
    "print('Labels counts in y:', np.bincount(y))\n",
    "print('Labels counts in y_train:', np.bincount(y_train))\n",
    "print('Labels counts in y_test:', np.bincount(y_test))"
   ]
  },
  {
   "cell_type": "code",
   "execution_count": null,
   "metadata": {},
   "outputs": [],
   "source": []
  },
  {
   "cell_type": "markdown",
   "metadata": {},
   "source": [
    "## Construção de modelo"
   ]
  },
  {
   "cell_type": "markdown",
   "metadata": {},
   "source": [
    "### Encontre os melhores parâmetros"
   ]
  },
  {
   "cell_type": "markdown",
   "metadata": {},
   "source": [
    "##### Função utilitária para relatar as melhores pontuações"
   ]
  },
  {
   "cell_type": "code",
   "execution_count": 56,
   "metadata": {},
   "outputs": [],
   "source": [
    "def report(results, n_top=3):\n",
    "    for i in range(1, n_top + 1):\n",
    "        candidates = np.flatnonzero(results['rank_test_score'] == i)\n",
    "        for candidate in candidates:\n",
    "            print(\"Modelo com classificação: {0}\".format(i))\n",
    "            print(\"Escore médio de validação: {0:.3f} (std: {1:.3f})\"\n",
    "                  .format(results['mean_test_score'][candidate],\n",
    "                          results['std_test_score'][candidate]))\n",
    "            print(\"Parametros: {0}\".format(results['params'][candidate]))\n",
    "            print(\"\")"
   ]
  },
  {
   "cell_type": "markdown",
   "metadata": {},
   "source": [
    "### Pesquisa em grade (Grid Search)"
   ]
  },
  {
   "cell_type": "code",
   "execution_count": 83,
   "metadata": {},
   "outputs": [],
   "source": [
    "def grid_search(clf_rf, rf_params, X_train, y_train):\n",
    "    n_iter_search = 20\n",
    "    # configuração detalhada = 10 imprimirá o progresso para cada 10 tarefas concluídas\n",
    "    grid = GridSearchCV(clf_rf, rf_params, n_jobs=-1, cv=5, scoring='roc_auc', verbose=1)\n",
    "    \n",
    "    start = time()\n",
    "    grid.fit(X_train, y_train)\n",
    "    print(\"GridSearchCV levou %.2f segundos para %d candidatos\"\n",
    "      \" configurações de parâmetros.\" % ((time() - start), n_iter_search))\n",
    "    report(grid.cv_results_)\n",
    "\n",
    "    return grid"
   ]
  },
  {
   "cell_type": "markdown",
   "metadata": {},
   "source": [
    "### Pesquisa aleatória (Random Search)"
   ]
  },
  {
   "cell_type": "code",
   "execution_count": 84,
   "metadata": {},
   "outputs": [],
   "source": [
    "def random_search(clf_rf, param_dist, X_train, y_train):\n",
    "    n_iter_search = 80\n",
    "    random_search = RandomizedSearchCV(clf_rf, param_distributions=param_dist, n_iter=n_iter_search, n_jobs=-1, cv=5, verbose=1)\n",
    "    \n",
    "    start = time()\n",
    "    random_search.fit(X_train, y_train)\n",
    "    print(\"RandomizedSearchCV levou %.2f segundos para %d candidatos\"\n",
    "      \" configurações de parâmetros.\" % ((time() - start), n_iter_search))\n",
    "    report(random_search.cv_results_)\n",
    "\n",
    "    return random_search"
   ]
  },
  {
   "cell_type": "markdown",
   "metadata": {},
   "source": [
    "### Dados de modelagem"
   ]
  },
  {
   "cell_type": "code",
   "execution_count": 85,
   "metadata": {},
   "outputs": [
    {
     "name": "stdout",
     "output_type": "stream",
     "text": [
      "Fitting 5 folds for each of 80 candidates, totalling 400 fits\n"
     ]
    },
    {
     "name": "stderr",
     "output_type": "stream",
     "text": [
      "[Parallel(n_jobs=-1)]: Using backend LokyBackend with 4 concurrent workers.\n",
      "[Parallel(n_jobs=-1)]: Done  42 tasks      | elapsed:   20.7s\n",
      "[Parallel(n_jobs=-1)]: Done 192 tasks      | elapsed:  1.5min\n",
      "[Parallel(n_jobs=-1)]: Done 400 out of 400 | elapsed:  2.9min finished\n"
     ]
    },
    {
     "name": "stdout",
     "output_type": "stream",
     "text": [
      "RandomizedSearchCV levou 174.73 segundos para 80 candidatos configurações de parâmetros.\n",
      "Modelo com classificação: 1\n",
      "Escore médio de validação: 0.815 (std: 0.074)\n",
      "Parametros: {'random_state': 24, 'n_estimators': 733, 'min_samples_split': 2, 'min_samples_leaf': 1, 'max_features': 'log2', 'max_depth': 40, 'criterion': 'entropy', 'class_weight': {0: 0.7, 1: 0.3}, 'bootstrap': False}\n",
      "\n",
      "Modelo com classificação: 1\n",
      "Escore médio de validação: 0.815 (std: 0.074)\n",
      "Parametros: {'random_state': 24, 'n_estimators': 267, 'min_samples_split': 2, 'min_samples_leaf': 1, 'max_features': 'log2', 'max_depth': 40, 'criterion': 'gini', 'class_weight': 'balanced', 'bootstrap': False}\n",
      "\n",
      "Modelo com classificação: 3\n",
      "Escore médio de validação: 0.815 (std: 0.063)\n",
      "Parametros: {'random_state': 0, 'n_estimators': 267, 'min_samples_split': 2, 'min_samples_leaf': 1, 'max_features': 'sqrt', 'max_depth': 100, 'criterion': 'entropy', 'class_weight': 'balanced', 'bootstrap': True}\n",
      "\n",
      "Modelo com classificação: 3\n",
      "Escore médio de validação: 0.815 (std: 0.063)\n",
      "Parametros: {'random_state': 0, 'n_estimators': 267, 'min_samples_split': 2, 'min_samples_leaf': 1, 'max_features': 'sqrt', 'max_depth': 20, 'criterion': 'gini', 'class_weight': 'balanced', 'bootstrap': True}\n",
      "\n",
      "Fitting 5 folds for each of 135 candidates, totalling 675 fits\n"
     ]
    },
    {
     "name": "stderr",
     "output_type": "stream",
     "text": [
      "[Parallel(n_jobs=-1)]: Using backend LokyBackend with 4 concurrent workers.\n",
      "[Parallel(n_jobs=-1)]: Done  42 tasks      | elapsed:    5.5s\n",
      "[Parallel(n_jobs=-1)]: Done 192 tasks      | elapsed:   43.2s\n",
      "[Parallel(n_jobs=-1)]: Done 442 tasks      | elapsed:  1.8min\n",
      "[Parallel(n_jobs=-1)]: Done 675 out of 675 | elapsed:  2.8min finished\n"
     ]
    },
    {
     "name": "stdout",
     "output_type": "stream",
     "text": [
      "GridSearchCV levou 167.65 segundos para 20 candidatos configurações de parâmetros.\n",
      "Modelo com classificação: 1\n",
      "Escore médio de validação: 0.855 (std: 0.064)\n",
      "Parametros: {'bootstrap': False, 'class_weight': {0: 0.7, 1: 0.3}, 'criterion': 'entropy', 'max_depth': 37, 'max_features': 'log2', 'min_samples_leaf': 1, 'min_samples_split': 2, 'n_estimators': 733, 'random_state': 24}\n",
      "\n",
      "Modelo com classificação: 1\n",
      "Escore médio de validação: 0.855 (std: 0.064)\n",
      "Parametros: {'bootstrap': False, 'class_weight': {0: 0.7, 1: 0.3}, 'criterion': 'entropy', 'max_depth': 40, 'max_features': 'log2', 'min_samples_leaf': 1, 'min_samples_split': 2, 'n_estimators': 733, 'random_state': 24}\n",
      "\n",
      "Modelo com classificação: 1\n",
      "Escore médio de validação: 0.855 (std: 0.064)\n",
      "Parametros: {'bootstrap': False, 'class_weight': {0: 0.7, 1: 0.3}, 'criterion': 'entropy', 'max_depth': 43, 'max_features': 'log2', 'min_samples_leaf': 1, 'min_samples_split': 2, 'n_estimators': 733, 'random_state': 24}\n",
      "\n"
     ]
    }
   ],
   "source": [
    "if balance_data == 'yes':\n",
    "    class_weight = [None]\n",
    "else:\n",
    "    class_weight = [None,'balanced',\n",
    "                    {0:.9, 1:.1}, {0:.8, 1:.2}, {0:.7, 1:.3}, {0:.6, 1:.4},\n",
    "                    {0:.4, 1:.6}, {0:.3, 1:.7}, {0:.2, 1:.8}, {0:.1, 1:.9}]\n",
    "\n",
    "random_param = {'criterion': ['entropy', 'gini'],\n",
    "               'max_features': ['auto', 'sqrt','log2'],\n",
    "               'class_weight': class_weight,\n",
    "               'random_state': [0, 24],\n",
    "               'min_samples_split':[2,5,10],\n",
    "               'min_samples_leaf':[1,2,4],\n",
    "               'bootstrap' : [True,False],\n",
    "               'max_depth': [1, 10, 20, 30, 40, 50, 60, 70, 80, 90, 100],\n",
    "               'n_estimators': list(np.linspace(151, 1200, 10, dtype = int))}\n",
    "\n",
    "clf_rf = RandomForestClassifier(random_state=24).fit(X_train, y_train)\n",
    "\n",
    "rf_random = random_search(clf_rf, random_param, X_train, y_train);\n",
    "\n",
    "grid_params = {\n",
    "    'criterion': [rf_random.best_params_['criterion']],\n",
    "    'max_features': [rf_random.best_params_['max_features']],           \n",
    "    'class_weight': [rf_random.best_params_['class_weight']],\n",
    "    'random_state': [rf_random.best_params_['random_state']], \n",
    "    'bootstrap': [rf_random.best_params_['bootstrap']],\n",
    "    'max_depth':    [rf_random.best_params_['max_depth'] - 3,\n",
    "                     rf_random.best_params_['max_depth'],\n",
    "                     rf_random.best_params_['max_depth'] + 3],\n",
    "    'min_samples_leaf': [rf_random.best_params_['min_samples_leaf'] - 2,\n",
    "                     rf_random.best_params_['min_samples_leaf'],\n",
    "                     rf_random.best_params_['min_samples_leaf'] + 2],\n",
    "    'min_samples_split': [rf_random.best_params_['min_samples_split'] - 5,\n",
    "                     rf_random.best_params_['min_samples_split'],\n",
    "                     rf_random.best_params_['min_samples_split'] + 5],\n",
    "    'n_estimators': [rf_random.best_params_['n_estimators'] - 150, \n",
    "                     rf_random.best_params_['n_estimators'] - 100, \n",
    "                     rf_random.best_params_['n_estimators'], \n",
    "                     rf_random.best_params_['n_estimators'] + 100, \n",
    "                     rf_random.best_params_['n_estimators'] + 150]\n",
    "}\n",
    "\n",
    "rf_grid = grid_search(clf_rf, grid_params, X_train, y_train);"
   ]
  },
  {
   "cell_type": "code",
   "execution_count": 86,
   "metadata": {},
   "outputs": [
    {
     "name": "stdout",
     "output_type": "stream",
     "text": [
      "Baseline = 0.81\n",
      "\n",
      "Best param - Random search: {'random_state': 24, 'n_estimators': 733, 'min_samples_split': 2, 'min_samples_leaf': 1, 'max_features': 'log2', 'max_depth': 40, 'criterion': 'entropy', 'class_weight': {0: 0.7, 1: 0.3}, 'bootstrap': False}\n",
      "Random search = 0.82\n",
      "\n",
      "Best param - Grid search: {'bootstrap': False, 'class_weight': {0: 0.7, 1: 0.3}, 'criterion': 'entropy', 'max_depth': 37, 'max_features': 'log2', 'min_samples_leaf': 1, 'min_samples_split': 2, 'n_estimators': 733, 'random_state': 24}\n",
      "Grid search = 0.86\n"
     ]
    },
    {
     "data": {
      "image/png": "[encoded data removed]",
      "text/plain": [
       "<Figure size 432x288 with 1 Axes>"
      ]
     },
     "metadata": {
      "needs_background": "light"
     },
     "output_type": "display_data"
    }
   ],
   "source": [
    "baseline = cross_val_score(clf_rf, X_train, y_train).mean()\n",
    "y_gs = np.maximum.accumulate(rf_grid.cv_results_['mean_test_score'])\n",
    "y_rs = np.maximum.accumulate(rf_random.cv_results_['mean_test_score'])\n",
    "\n",
    "print(f'Baseline = {baseline:.2f}')\n",
    "\n",
    "print()\n",
    "print('Best param - Random search: %s' % rf_random.best_params_)\n",
    "print(f'Random search = %.2f' % rf_random.best_score_)\n",
    "\n",
    "print()\n",
    "print('Best param - Grid search: %s' % rf_grid.best_params_)\n",
    "print(f'Grid search = %.2f' % rf_grid.best_score_)\n",
    "\n",
    "plt.plot(y_gs, 'gs-', label='Grid search')\n",
    "plt.plot(y_rs, 'rs-', label='Random search')\n",
    "plt.xlabel('Iteration')\n",
    "plt.ylabel('score')\n",
    "plt.ylim(0, 1)\n",
    "plt.title('Valor da melhor pontuação CV amostrada');\n",
    "plt.legend();"
   ]
  },
  {
   "cell_type": "markdown",
   "metadata": {},
   "source": [
    "##### Modelo com w/ melhores parâmetros"
   ]
  },
  {
   "cell_type": "code",
   "execution_count": 87,
   "metadata": {},
   "outputs": [
    {
     "data": {
      "text/plain": [
       "RandomForestClassifier(bootstrap=False, ccp_alpha=0.0,\n",
       "                       class_weight={0: 0.7, 1: 0.3}, criterion='entropy',\n",
       "                       max_depth=37, max_features='log2', max_leaf_nodes=None,\n",
       "                       max_samples=None, min_impurity_decrease=0.0,\n",
       "                       min_impurity_split=None, min_samples_leaf=1,\n",
       "                       min_samples_split=2, min_weight_fraction_leaf=0.0,\n",
       "                       n_estimators=733, n_jobs=-1, oob_score=False,\n",
       "                       random_state=24, verbose=0, warm_start=False)"
      ]
     },
     "execution_count": 87,
     "metadata": {},
     "output_type": "execute_result"
    }
   ],
   "source": [
    "#criando o modelo com os melhores parametros utilizando processamento paralelo\n",
    "rf_best = RandomForestClassifier(**rf_grid.best_params_, n_jobs=-1)\n",
    "\n",
    "#Construa uma floresta de árvores a partir do conjunto de treinamento (X, y)\n",
    "rf_best.fit(X_train, y_train)"
   ]
  },
  {
   "cell_type": "markdown",
   "metadata": {},
   "source": [
    "##### Validação cruzada 5 vezes"
   ]
  },
  {
   "cell_type": "code",
   "execution_count": 88,
   "metadata": {},
   "outputs": [],
   "source": [
    "# Parametros\n",
    "pred = []\n",
    "ad = []\n",
    "index = []\n",
    "\n",
    "# n_splits: int, padrão = 5 Número de dobras. Deve ser pelo menos 2.\n",
    "cross_val = StratifiedKFold(n_splits=5)\n",
    "\n",
    "# Faça um loop de 5 vezes\n",
    "for train_index, test_index in cross_val.split(X_train, y_train):    \n",
    "    fold_model = rf_best.fit(X_train.iloc[train_index], y_train[train_index])\n",
    "    fold_pred = rf_best.predict(X_train.iloc[test_index])\n",
    "    fold_ad = rf_best.predict_proba(X_train.iloc[test_index])\n",
    "    pred.append(fold_pred)\n",
    "    ad.append(fold_ad)\n",
    "    index.append(test_index)"
   ]
  },
  {
   "cell_type": "code",
   "execution_count": 89,
   "metadata": {},
   "outputs": [
    {
     "name": "stdout",
     "output_type": "stream",
     "text": [
      "\u001b[1mCaracterísticas estatísticas de validação cruzada externa de 5 vezes dos modelos QSAR desenvolvidos morgan\n",
      "\u001b[0m\n"
     ]
    },
    {
     "data": {
      "text/html": [
       "<div>\n",
       "<style scoped>\n",
       "    .dataframe tbody tr th:only-of-type {\n",
       "        vertical-align: middle;\n",
       "    }\n",
       "\n",
       "    .dataframe tbody tr th {\n",
       "        vertical-align: top;\n",
       "    }\n",
       "\n",
       "    .dataframe thead th {\n",
       "        text-align: right;\n",
       "    }\n",
       "</style>\n",
       "<table border=\"1\" class=\"dataframe\">\n",
       "  <thead>\n",
       "    <tr style=\"text-align: right;\">\n",
       "      <th></th>\n",
       "      <th>Kappa</th>\n",
       "      <th>CCR</th>\n",
       "      <th>Sensibilidade</th>\n",
       "      <th>PPV</th>\n",
       "      <th>Especificidade</th>\n",
       "      <th>NPV</th>\n",
       "      <th>Accuracy</th>\n",
       "      <th>F1 Score</th>\n",
       "      <th>Coverage</th>\n",
       "    </tr>\n",
       "  </thead>\n",
       "  <tbody>\n",
       "    <tr>\n",
       "      <th>Morgan</th>\n",
       "      <td>0.58</td>\n",
       "      <td>0.78</td>\n",
       "      <td>0.68</td>\n",
       "      <td>0.77</td>\n",
       "      <td>0.89</td>\n",
       "      <td>0.83</td>\n",
       "      <td>0.81</td>\n",
       "      <td>0.72</td>\n",
       "      <td>1.00</td>\n",
       "    </tr>\n",
       "    <tr>\n",
       "      <th>Morgan AD</th>\n",
       "      <td>0.71</td>\n",
       "      <td>0.83</td>\n",
       "      <td>0.68</td>\n",
       "      <td>0.94</td>\n",
       "      <td>0.98</td>\n",
       "      <td>0.86</td>\n",
       "      <td>0.88</td>\n",
       "      <td>0.79</td>\n",
       "      <td>0.67</td>\n",
       "    </tr>\n",
       "  </tbody>\n",
       "</table>\n",
       "</div>"
      ],
      "text/plain": [
       "           Kappa   CCR  Sensibilidade   PPV  Especificidade   NPV  Accuracy  \\\n",
       "Morgan      0.58  0.78           0.68  0.77            0.89  0.83      0.81   \n",
       "Morgan AD   0.71  0.83           0.68  0.94            0.98  0.86      0.88   \n",
       "\n",
       "           F1 Score  Coverage  \n",
       "Morgan         0.72      1.00  \n",
       "Morgan AD      0.79      0.67  "
      ]
     },
     "execution_count": 89,
     "metadata": {},
     "output_type": "execute_result"
    }
   ],
   "source": [
    "# nomal = média majoritária das previsões dos modelos independentes desenvolvidos com os decritores de Morgan\n",
    "# AD = previsões médias de modelos independentes quando as previsões estão dentro do domínio de aplicabilidade desse modelo\n",
    "\n",
    "threshold_ad = 0.70 # A abordagem do domínio de aplicabilidade local (árvore), que estabeleceu um limiar de 70%, foi utilizada para todos os modelos de RF\n",
    "\n",
    "# Preparar resultados para exportar    \n",
    "fold_index = np.concatenate(index)    \n",
    "fold_pred = np.concatenate(pred)\n",
    "fold_ad = np.concatenate(ad)\n",
    "# amax() retorna o máximo de uma matriz ou o máximo ao longo do eixo (se mencionado).\n",
    "# astype() também oferece a capacidade de converter qualquer coluna existente adequada em tipo categórico.\n",
    "fold_ad = (np.amax(fold_ad, axis=1) >= threshold_ad).astype(str)\n",
    "five_fold_morgan = pd.DataFrame({'Prediction': fold_pred,'AD': fold_ad}, index=list(fold_index))\n",
    "five_fold_morgan.AD[five_fold_morgan.AD == 'False'] = np.nan\n",
    "five_fold_morgan.AD[five_fold_morgan.AD == 'True'] = five_fold_morgan.Prediction\n",
    "five_fold_morgan.sort_index(inplace=True)\n",
    "five_fold_morgan['y_train'] = pd.DataFrame(y_train)\n",
    "five_fold_ad = five_fold_morgan.dropna().astype(int)\n",
    "coverage_5f = len(five_fold_ad) / len(five_fold_morgan)\n",
    "\n",
    "\n",
    "# estatísticas de morgan (stats)\n",
    "morgan = pd.DataFrame(stats(five_fold_morgan['y_train'], five_fold_morgan['Prediction']))\n",
    "morgan['Coverage'] = 1.0\n",
    "\n",
    "# estatísticas do morgan AD\n",
    "morgan_ad = five_fold_morgan.dropna(subset=['AD']).astype(int)\n",
    "coverage_morgan_ad = len(morgan_ad['AD']) / len(five_fold_morgan['y_train'])\n",
    "morgan_ad = pd.DataFrame(stats(morgan_ad['y_train'], morgan_ad['AD']))\n",
    "morgan_ad['Coverage'] = round(coverage_morgan_ad, 2)\n",
    "\n",
    "# imprimir estatísticas\n",
    "print('\\033[1m' + 'Características estatísticas de validação cruzada externa de 5 vezes dos modelos QSAR desenvolvidos morgan' + '\\n' + '\\033[0m')\n",
    "morgan_5f_stats = morgan.append(morgan_ad)\n",
    "morgan_5f_stats.set_index([['Morgan', 'Morgan AD']], drop=True, inplace=True)\n",
    "morgan_5f_stats\n",
    "\n",
    "\n",
    "# Valores verdadeiros e falsos: TN, FP, FN, TP = confusion_matrix.ravel()\n",
    "# Accuracy AC = (TP+TN)/(TP+FP+FN+TN)\n",
    "# Sensibilidade, taxa de acerto, recall ou taxa positiva verdadeira: SE = TP/(TP+FN)\n",
    "# Especificidade ou taxa negativa verdadeira: SP = TN/(TN+FP)\n",
    "# Precisão ou valor preditivo positivo: PPV = TP/(TP+FP)\n",
    "# Valor preditivo negativo: NPV = TN/(TN+FN)\n",
    "# Taxa de classificação correta: CCR = (SE + SP)/2\n",
    "# Cobertura: baseia-se na cobertura média (número de amostras afetadas) de divisões que usam o recurso\n",
    "# F1 Score = 2 * (Precision * Sensitivity) / (Precision + Sensitivity)\n",
    "\n",
    "# O índice de acurácia Kappa, é uma pontuação que expressa o nível de concordância entre dois anotadores em um problema de classificação. É definido como k = (Po-Pc)/(1-Pc) (y_train, y_pred, weights='linear')\n",
    "# Po = Precisão Global (Proporção de unidades que concordam); e\n",
    "# Pc = Proporção de unidades que concordam por coincidência, representada pela Equação:\n",
    "# Pc = Somatoria(M)*ni+n+i/N^2\n",
    "# M = número de classes;\n",
    "# ni+ = total de elementos classificados para categoria i;\n",
    "# n+i = total de elementos de referência amostrados para uma categoria i; e\n",
    "# N = número total de amostras.\n",
    "# Tipo de ponderação para calcular a pontuação. Nenhum significa não ponderado; \"Linear\" significa linear ponderado; \"Quadrático\" significa ponderado quadrático."
   ]
  },
  {
   "cell_type": "markdown",
   "metadata": {},
   "source": [
    "##### Prever conjunto retido externo após o balanceamento"
   ]
  },
  {
   "cell_type": "code",
   "execution_count": 90,
   "metadata": {},
   "outputs": [],
   "source": [
    "moldf_ext = moldf_desc[(moldf_desc['Set'] == 'ext')]\n",
    "descriptor_list = list(X_train.columns.values)\n",
    "\n",
    "if len(moldf_ext) > 0:\n",
    "    y_ext = moldf_ext['Outcome'].to_numpy()\n",
    "    X_ext = moldf_ext[descriptors]\n",
    "    \n",
    "    # Filtrar descritores não presentes no modelo\n",
    "    X_ext = X_ext[descriptor_list]\n",
    "    \n",
    "    # Fazer previsões\n",
    "    ext_set = rf_best.predict(X_ext)\n",
    "    ext_set_ad = rf_best.predict_proba(X_ext)\n",
    "    ext_set_ad = (np.amax(ext_set_ad, axis=1) >= threshold_ad).astype(str)\n",
    "    \n",
    "    # Preparar dados\n",
    "    ext_set = pd.DataFrame({'Prediction': ext_set,'AD': ext_set_ad})\n",
    "    ext_set.AD[ext_set.AD == 'False'] = np.nan\n",
    "    ext_set.AD[ext_set.AD == 'True'] = ext_set.Prediction\n",
    "    ext_set.sort_index(inplace=True)\n",
    "    ext_set['y_ext'] = pd.DataFrame(y_ext)\n",
    "    ext_set_ad = ext_set.dropna().astype(int)\n",
    "    coverage_ext = len(ext_set_ad) / len(ext_set)\n",
    "    \n",
    "    # Imprimir estatísticas\n",
    "    ext_set_stats = pd.DataFrame(stats(ext_set.y_ext, ext_set.Prediction))\n",
    "    ext_set_stats['Coverage'] = 1.0\n",
    "    print('External withheld set: \\n', ext_set_stats.to_string(index=False), '\\n')\n",
    "    ext_set_stats_ad = pd.DataFrame(stats(ext_set_ad.y_ext, ext_set_ad.AD))\n",
    "    ext_set_stats_ad['Coverage'] = round(coverage_ext, 2)\n",
    "    print('External withheld set with AD: \\n', ext_set_stats_ad.to_string(index=False), '\\n')\n",
    "else:\n",
    "    pass"
   ]
  },
  {
   "cell_type": "markdown",
   "metadata": {},
   "source": [
    "##### Y-randomization"
   ]
  },
  {
   "cell_type": "code",
   "execution_count": 91,
   "metadata": {},
   "outputs": [
    {
     "name": "stderr",
     "output_type": "stream",
     "text": [
      "[Parallel(n_jobs=-1)]: Using backend LokyBackend with 4 concurrent workers.\n"
     ]
    },
    {
     "name": "stdout",
     "output_type": "stream",
     "text": [
      "True score =  0.78 \n",
      "Y-randomization =  0.5 \n",
      "p-value =  0.0476\n"
     ]
    },
    {
     "name": "stderr",
     "output_type": "stream",
     "text": [
      "[Parallel(n_jobs=-1)]: Done  20 out of  20 | elapsed:   50.4s finished\n"
     ]
    }
   ],
   "source": [
    "# Avaliar a significância de uma pontuação validada cruzada com permutações\n",
    "# True score = A pontuação verdadeira, sem permutar metas.\n",
    "# Y-randomization = Media das pontuações obtidas para cada permutação.\n",
    "# np-value = O valor retornado é igual ao valor-p se a pontuação retornar números maiores para obter melhores \n",
    "#     pontuações (por exemplo, exatidão_score). Se a pontuação é uma função de perda (ou seja, quando menor é melhor, \n",
    "#     como com mean_squared_error), então esse é realmente o complemento do valor p: 1 - valor p.\n",
    "permutations = 20\n",
    "score, permutation_scores, pvalue = permutation_test_score(rf_best, X_train, y_train,\n",
    "                                                           cv=5, scoring='balanced_accuracy',\n",
    "                                                           n_permutations=permutations,\n",
    "                                                           n_jobs=-1,\n",
    "                                                           verbose=1,\n",
    "                                                           random_state=24)\n",
    "print('True score = ', score.round(2),\n",
    "      '\\nY-randomization = ', np.mean(permutation_scores).round(2),\n",
    "      '\\np-value = ', pvalue.round(4))"
   ]
  },
  {
   "cell_type": "markdown",
   "metadata": {},
   "source": [
    "##### Salvar modelo"
   ]
  },
  {
   "cell_type": "code",
   "execution_count": 92,
   "metadata": {},
   "outputs": [],
   "source": [
    "with gzip.GzipFile('model/sars-cov-3clpro-morgan_RF_ad_balanced.pgz', 'w') as f:\n",
    "    cPickle.dump(rf_best, f)"
   ]
  },
  {
   "cell_type": "markdown",
   "metadata": {},
   "source": [
    "### Exportar previsões"
   ]
  },
  {
   "cell_type": "code",
   "execution_count": 93,
   "metadata": {},
   "outputs": [],
   "source": [
    "pred_train = moldf_train[moldf_train.columns.difference(descriptor_list)]\n",
    "pred_train.reset_index(inplace=True)\n",
    "five_fold_exp = five_fold_morgan[['Prediction', 'AD']].rename(columns={'Prediction':'morgan', 'AD':'morgan_ad'}, )\n",
    "pred_train = pd.concat([pred_train, five_fold_exp], axis=1)\n",
    "pred_train['Set'] = 'train'\n",
    "\n",
    "if len(moldf_ext) > 0:\n",
    "    pred_ext = moldf_ext[moldf_ext.columns.difference(descriptor_list)]\n",
    "    pred_ext.reset_index(inplace=True)\n",
    "    ext_set_exp = ext_set[['Prediction', 'AD']].rename(columns={'Prediction':'morgan', 'AD':'morgan_ad'}, )\n",
    "    pred_ext = pd.concat([pred_ext, ext_set_exp], axis=1)\n",
    "    pred_ext['Set'] = 'ext'\n",
    "    \n",
    "    pred_morgan = pd.concat([pred_train, pred_ext], axis=0).sort_values(by='index')\n",
    "    pred_morgan.drop(columns=['index', 'Mol', 'ID'], inplace=True)\n",
    "\n",
    "else:\n",
    "    pred_morgan = pred_train.copy()\n",
    "    pred_morgan.drop(columns=['index', 'Mol', 'ID'], inplace=True)\n",
    "    \n",
    "#for col in ['Outcome', 'morgan', 'morgan_ad']:\n",
    "#    pred_morgan[col].replace(0,'Inactive', inplace=True)\n",
    "#    pred_morgan[col].replace(1,'Active', inplace=True)"
   ]
  },
  {
   "cell_type": "code",
   "execution_count": 94,
   "metadata": {},
   "outputs": [],
   "source": [
    "with pd.ExcelWriter('predictions-morgan.xlsx') as writer:\n",
    "    pred_morgan.to_excel(writer, sheet_name='morgan', index=False)"
   ]
  },
  {
   "cell_type": "markdown",
   "metadata": {},
   "source": [
    "### Plotando as Estatísticas"
   ]
  },
  {
   "cell_type": "code",
   "execution_count": 95,
   "metadata": {},
   "outputs": [
    {
     "data": {
      "text/html": [
       "<div>\n",
       "<style scoped>\n",
       "    .dataframe tbody tr th:only-of-type {\n",
       "        vertical-align: middle;\n",
       "    }\n",
       "\n",
       "    .dataframe tbody tr th {\n",
       "        vertical-align: top;\n",
       "    }\n",
       "\n",
       "    .dataframe thead th {\n",
       "        text-align: right;\n",
       "    }\n",
       "</style>\n",
       "<table border=\"1\" class=\"dataframe\">\n",
       "  <thead>\n",
       "    <tr style=\"text-align: right;\">\n",
       "      <th></th>\n",
       "      <th>Kappa</th>\n",
       "      <th>CCR</th>\n",
       "      <th>Sensibilidade</th>\n",
       "      <th>PPV</th>\n",
       "      <th>Especificidade</th>\n",
       "      <th>NPV</th>\n",
       "      <th>Accuracy</th>\n",
       "      <th>F1 Score</th>\n",
       "      <th>Coverage</th>\n",
       "    </tr>\n",
       "  </thead>\n",
       "  <tbody>\n",
       "    <tr>\n",
       "      <th>Morgan</th>\n",
       "      <td>0.58</td>\n",
       "      <td>0.78</td>\n",
       "      <td>0.68</td>\n",
       "      <td>0.77</td>\n",
       "      <td>0.89</td>\n",
       "      <td>0.83</td>\n",
       "      <td>0.81</td>\n",
       "      <td>0.72</td>\n",
       "      <td>1.00</td>\n",
       "    </tr>\n",
       "    <tr>\n",
       "      <th>Morgan AD</th>\n",
       "      <td>0.71</td>\n",
       "      <td>0.83</td>\n",
       "      <td>0.68</td>\n",
       "      <td>0.94</td>\n",
       "      <td>0.98</td>\n",
       "      <td>0.86</td>\n",
       "      <td>0.88</td>\n",
       "      <td>0.79</td>\n",
       "      <td>0.67</td>\n",
       "    </tr>\n",
       "  </tbody>\n",
       "</table>\n",
       "</div>"
      ],
      "text/plain": [
       "           Kappa   CCR  Sensibilidade   PPV  Especificidade   NPV  Accuracy  \\\n",
       "Morgan      0.58  0.78           0.68  0.77            0.89  0.83      0.81   \n",
       "Morgan AD   0.71  0.83           0.68  0.94            0.98  0.86      0.88   \n",
       "\n",
       "           F1 Score  Coverage  \n",
       "Morgan         0.72      1.00  \n",
       "Morgan AD      0.79      0.67  "
      ]
     },
     "execution_count": 95,
     "metadata": {},
     "output_type": "execute_result"
    }
   ],
   "source": [
    "# Exportar estatísticas\n",
    "if len(moldf_ext) > 0:\n",
    "    morgan_stats = pd.concat([morgan, morgan_ad], axis=0)\n",
    "    morgan_stats.set_index([['5-fold CV', 'External withheld set']], drop=True, inplace=True)\n",
    "    morgan_stats\n",
    "else:\n",
    "    morgan_stats = morgan_5f_stats.copy()\n",
    "    morgan_stats"
   ]
  },
  {
   "cell_type": "code",
   "execution_count": 96,
   "metadata": {
    "scrolled": false
   },
   "outputs": [
    {
     "data": {
      "image/png": "[encoded data removed]",
      "text/plain": [
       "<Figure size 720x432 with 1 Axes>"
      ]
     },
     "metadata": {
      "needs_background": "light"
     },
     "output_type": "display_data"
    }
   ],
   "source": [
    "# Estatísticas de transposição\n",
    "morgan_stats_t = morgan_stats.T\n",
    "morgan_stats_t = morgan_stats_t.reset_index()\n",
    "morgan_stats_t = morgan_stats_t.rename(columns={'index': 'Stats'})\n",
    "\n",
    "# Fazer enredo\n",
    "plt.style.use('seaborn-colorblind')\n",
    "fig, ax1 = plt.subplots(figsize=(10,6))\n",
    "\n",
    "morgan_stats_t.plot(kind='bar', ax=ax1, width=0.8)\n",
    "ax1.set_xticklabels(labels=morgan_stats_t['Stats'].tolist(), fontsize=14, rotation=0)\n",
    "ax1.axhline(y=.6, color='indianred', ls='dashed')# xmin=0.25, xmax=0.75)\n",
    "ax1.legend_.remove()\n",
    "plt.title('Características estatísticas', fontsize=16)\n",
    "ax1.set_yticks(np.arange(0, 1.1, 0.1))\n",
    "ax1.tick_params(labelsize=15)\n",
    "\n",
    "handles, labels = ax1.get_legend_handles_labels()\n",
    "ax1.legend(handles, labels, fontsize=16,\n",
    "            loc='upper center', bbox_to_anchor=(0.5, -0.07), fancybox=True,\n",
    "            shadow=True, ncol=2)\n",
    "fig.tight_layout()\n",
    "\n",
    "plt.savefig('statistics-morgan.png', bbox_inches='tight',\n",
    "            transparent=False, format='png', dpi=300)\n",
    "plt.show();"
   ]
  },
  {
   "cell_type": "code",
   "execution_count": null,
   "metadata": {},
   "outputs": [],
   "source": []
  }
 ],
 "metadata": {
  "kernelspec": {
   "display_name": "Python 3",
   "language": "python",
   "name": "python3"
  },
  "language_info": {
   "codemirror_mode": {
    "name": "ipython",
    "version": 3
   },
   "file_extension": ".py",
   "mimetype": "text/x-python",
   "name": "python",
   "nbconvert_exporter": "python",
   "pygments_lexer": "ipython3",
   "version": "3.7.6"
  }
 },
 "nbformat": 4,
 "nbformat_minor": 2
}
