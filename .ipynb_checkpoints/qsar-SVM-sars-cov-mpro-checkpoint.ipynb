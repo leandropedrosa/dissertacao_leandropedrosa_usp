{
 "cells": [
  {
   "cell_type": "markdown",
   "metadata": {},
   "source": [
    "# Modelos QSAR-SVM para protease principal 3C-like protease (M<sup>pro</sup>) de SARS-CoV"
   ]
  },
  {
   "cell_type": "markdown",
   "metadata": {},
   "source": [
    "Os modelos nesse fluxo de trabalho foram criados usando as PaDEL-Descriptor, Impressões digitais de Morgan, SiRMS (Simplex Representation of Molecular Structure) e Drangon 7.0 com SVM scikit-learn."
   ]
  },
  {
   "cell_type": "markdown",
   "metadata": {},
   "source": [
    "## Importando Módulos e Funções"
   ]
  },
  {
   "cell_type": "code",
   "execution_count": 1,
   "metadata": {},
   "outputs": [],
   "source": [
    "# Funções\n",
    "from functions.BalanceBySim import *\n",
    "from functions.DescritoresMorgan import morgan_descriptors\n",
    "from functions.DescritoresPaDEL import padel_descriptors\n",
    "from functions.DescritoresSiRMS import sirms_descriptors\n",
    "from functions.DescritoresDragon import dragon_descriptors\n",
    "from functions.stats import stats\n",
    "from functions.RocAUC import roc_auc\n",
    "from functions.YRandomization import y_randomization\n",
    "from functions.BestModel import grid_search, random_search, best_grid_search, best_random_search\n",
    "from functions.Evaluation import statistics\n",
    "from functions.StatsChart import print_stats\n",
    "from functions.CarregarDados import carregar_dados\n",
    "from functions.Consenso import statistics_consenso\n",
    "from functions.ConsensoChart import print_consenso\n",
    "from functions.ComparisonHyperparameters import compare\n",
    "import scipy\n",
    "\n",
    "from sklearn.svm import SVC\n",
    "from sklearn.model_selection import StratifiedKFold"
   ]
  },
  {
   "cell_type": "markdown",
   "metadata": {},
   "source": [
    "## Carregar compostos inibidores (Y)"
   ]
  },
  {
   "cell_type": "code",
   "execution_count": 2,
   "metadata": {},
   "outputs": [
    {
     "name": "stdout",
     "output_type": "stream",
     "text": [
      "Original data:  (113, 11)\n",
      "Dados mantidos:  (113, 11)\n",
      "\u001b[1mForma do conjunto de treinamento:\n",
      "\u001b[0m\n",
      "\t\t Classe 1: 40\n",
      "\t\t Classe 0: 73\n",
      "\t\t Número total de compostos: 113\n",
      "Class labels: [Counter({0: 73, 1: 40})]\n"
     ]
    }
   ],
   "source": [
    "moldf = carregar_dados();"
   ]
  },
  {
   "cell_type": "markdown",
   "metadata": {},
   "source": [
    "## Gerando conjunto de treinamento e teste a partir dos descritores (X)"
   ]
  },
  {
   "cell_type": "markdown",
   "metadata": {},
   "source": [
    "#### Função Fingerprints de Harry Morgan"
   ]
  },
  {
   "cell_type": "code",
   "execution_count": 3,
   "metadata": {},
   "outputs": [
    {
     "name": "stdout",
     "output_type": "stream",
     "text": [
      "\u001b[1mForma do conjunto de treinamento:\n",
      "\u001b[0m\n",
      "\t\t Classe 1: 40\n",
      "\t\t Classe 0: 73\n",
      "\t\t Número total de compostos: 113\n",
      "Class labels: [Counter({0: 73, 1: 40})]\n",
      "Forma do conjunto de treinamento: Counter({0: 73, 1: 40})\n",
      "Forma externa definida: Counter()\n"
     ]
    },
    {
     "data": {
      "text/plain": [
       "(113, 2048)"
      ]
     },
     "execution_count": 3,
     "metadata": {},
     "output_type": "execute_result"
    }
   ],
   "source": [
    "data_morgan = morgan_descriptors(moldf)\n",
    "Y_train_morgan = data_morgan['Y_train']\n",
    "X_train_morgan = data_morgan['X_train']\n",
    "X_train_morgan.shape"
   ]
  },
  {
   "cell_type": "markdown",
   "metadata": {},
   "source": [
    "#### PaDEL-Descriptor"
   ]
  },
  {
   "cell_type": "code",
   "execution_count": null,
   "metadata": {},
   "outputs": [],
   "source": [
    "data_padel = padel_descriptors(moldf)\n",
    "Y_train_padel = data_padel['Y_train']\n",
    "X_train_padel = data_padel['X_train']\n",
    "X_train_padel.shape"
   ]
  },
  {
   "cell_type": "markdown",
   "metadata": {},
   "source": [
    "#### SiRMS (Simplex Representation of Molecular Structure)"
   ]
  },
  {
   "cell_type": "code",
   "execution_count": null,
   "metadata": {},
   "outputs": [],
   "source": [
    "data_sirms = sirms_descriptors(moldf)\n",
    "Y_train_sirms = data_sirms['Y_train']\n",
    "X_train_sirms = data_sirms['X_train']\n",
    "X_train_sirms.shape"
   ]
  },
  {
   "cell_type": "markdown",
   "metadata": {},
   "source": [
    "#### Drangon 7.0"
   ]
  },
  {
   "cell_type": "code",
   "execution_count": null,
   "metadata": {},
   "outputs": [],
   "source": [
    "data_dragon = dragon_descriptors(moldf)\n",
    "Y_train_dragon = data_dragon['Y_train']\n",
    "X_train_dragon = data_dragon['X_train']\n",
    "X_train_dragon.shape"
   ]
  },
  {
   "cell_type": "markdown",
   "metadata": {},
   "source": [
    "## Parâmetros p/ geração dos modelos"
   ]
  },
  {
   "cell_type": "markdown",
   "metadata": {},
   "source": [
    "#### Parâmetros SVM"
   ]
  },
  {
   "cell_type": "code",
   "execution_count": 4,
   "metadata": {},
   "outputs": [],
   "source": [
    "# SVM\n",
    "svm_param = {\n",
    "    \"C\": [.01, .1, 1, 5, 10, 100],\n",
    "    \"gamma\": [0, .01, .1, 1, 5, 10, 100],\n",
    "    \"kernel\": ['rbf', 'linear', 'sigmoid', 'poly'],\n",
    "    \"random_state\": [1]\n",
    "}\n",
    "\n",
    "svm_dist = {\n",
    "    \"C\": scipy.stats.expon(scale=.01),\n",
    "    \"gamma\": scipy.stats.expon(scale=.01),\n",
    "    \"kernel\": ['rbf', 'linear', 'sigmoid', 'poly'],\n",
    "    \"random_state\": [1]\n",
    "}"
   ]
  },
  {
   "cell_type": "code",
   "execution_count": 7,
   "metadata": {},
   "outputs": [],
   "source": [
    "import pandas as pd\n",
    "import numpy as np\n",
    "from sklearn.model_selection import GridSearchCV, RandomizedSearchCV\n",
    "from rdkit import Chem\n",
    "from math import floor\n",
    "from time import time\n",
    "import pylab as pl\n",
    "import itertools\n",
    "import matplotlib.pyplot as plt \n",
    "from functions.Hyperparameter import procurar\n",
    "from functions.PlotConfusionMatrix import plot_confusion_matrix\n",
    "from sklearn.metrics import accuracy_score, classification_report, confusion_matrix, log_loss\n",
    "\n",
    "# PROCURAR POR PARAMETROS\n",
    "def compare(estimator, X_train, Y_train, param, dist):\n",
    "    grid = procurar(estimator, X_train, Y_train, param, \"grid\")\n",
    "    cfmatrix_grid = confusion_matrix(y_true=Y_train, y_pred=grid.predict(X_train))\n",
    "    print(\"**Resultados Grid Search**\")\n",
    "    print(\"Melhores Parâmetros: %s\" % (grid.best_params_))\n",
    "    print(\"Melhor precisão de treinamento:\\t\", grid.best_score_)\n",
    "\n",
    "    random = procurar(estimator, X_train, Y_train, dist, \"random\")\n",
    "    cfmatrix_rand = confusion_matrix(y_true=Y_train, y_pred=random.predict(X_train))\n",
    "    print(\"**Resultados Random Search**\")\n",
    "    print(\"Melhores Parâmetros: %s\" % (random.best_params_))\n",
    "    print(\"Melhor precisão de treinamento:\\t\", random.best_score_)\n",
    "\n",
    "    plt.subplots(1,2)\n",
    "    plt.subplots_adjust(left=-0.5, bottom=None, right=None, top=None, wspace=0.5, hspace=None)\n",
    "    plot_confusion_matrix(cfmatrix_rand, title=\"Matriz de confusão Random Search\")\n",
    "    plt.subplot(121)\n",
    "    plot_confusion_matrix(cfmatrix_grid, title=\"Matriz de confusão Grid Search\")"
   ]
  },
  {
   "cell_type": "code",
   "execution_count": null,
   "metadata": {},
   "outputs": [],
   "source": []
  },
  {
   "cell_type": "code",
   "execution_count": 8,
   "metadata": {},
   "outputs": [
    {
     "name": "stdout",
     "output_type": "stream",
     "text": [
      "**Resultados Grid Search**\n",
      "Melhores Parâmetros: {'C': 0.01, 'gamma': 0.1, 'kernel': 'poly', 'random_state': 1}\n",
      "Melhor precisão de treinamento:\t 0.7977272727272727\n"
     ]
    },
    {
     "ename": "NameError",
     "evalue": "name 'acc' is not defined",
     "output_type": "error",
     "traceback": [
      "\u001b[1;31m---------------------------------------------------------------------------\u001b[0m",
      "\u001b[1;31mNameError\u001b[0m                                 Traceback (most recent call last)",
      "\u001b[1;32m<ipython-input-8-a3ccb5e2bd00>\u001b[0m in \u001b[0;36m<module>\u001b[1;34m\u001b[0m\n\u001b[1;32m----> 1\u001b[1;33m \u001b[0mcompare\u001b[0m\u001b[1;33m(\u001b[0m\u001b[0mSVC\u001b[0m\u001b[1;33m(\u001b[0m\u001b[1;33m)\u001b[0m\u001b[1;33m,\u001b[0m \u001b[0mX_train_morgan\u001b[0m\u001b[1;33m,\u001b[0m \u001b[0mY_train_morgan\u001b[0m\u001b[1;33m,\u001b[0m \u001b[0msvm_param\u001b[0m\u001b[1;33m,\u001b[0m \u001b[0msvm_dist\u001b[0m\u001b[1;33m)\u001b[0m\u001b[1;33m\u001b[0m\u001b[1;33m\u001b[0m\u001b[0m\n\u001b[0m",
      "\u001b[1;32m<ipython-input-7-2bae178da603>\u001b[0m in \u001b[0;36mcompare\u001b[1;34m(estimator, X_train, Y_train, param, dist)\u001b[0m\n\u001b[0;32m     19\u001b[0m     \u001b[0mprint\u001b[0m\u001b[1;33m(\u001b[0m\u001b[1;34m\"Melhores Parâmetros: %s\"\u001b[0m \u001b[1;33m%\u001b[0m \u001b[1;33m(\u001b[0m\u001b[0mgrid\u001b[0m\u001b[1;33m.\u001b[0m\u001b[0mbest_params_\u001b[0m\u001b[1;33m)\u001b[0m\u001b[1;33m)\u001b[0m\u001b[1;33m\u001b[0m\u001b[1;33m\u001b[0m\u001b[0m\n\u001b[0;32m     20\u001b[0m     \u001b[0mprint\u001b[0m\u001b[1;33m(\u001b[0m\u001b[1;34m\"Melhor precisão de treinamento:\\t\"\u001b[0m\u001b[1;33m,\u001b[0m \u001b[0mgrid\u001b[0m\u001b[1;33m.\u001b[0m\u001b[0mbest_score_\u001b[0m\u001b[1;33m)\u001b[0m\u001b[1;33m\u001b[0m\u001b[1;33m\u001b[0m\u001b[0m\n\u001b[1;32m---> 21\u001b[1;33m     \u001b[0mprint\u001b[0m\u001b[1;33m(\u001b[0m\u001b[1;34m\"Precisão do teste:\\t\"\u001b[0m\u001b[1;33m,\u001b[0m \u001b[0macc\u001b[0m\u001b[1;33m)\u001b[0m\u001b[1;33m\u001b[0m\u001b[1;33m\u001b[0m\u001b[0m\n\u001b[0m\u001b[0;32m     22\u001b[0m \u001b[1;33m\u001b[0m\u001b[0m\n\u001b[0;32m     23\u001b[0m     \u001b[0mrandom\u001b[0m \u001b[1;33m=\u001b[0m \u001b[0mprocurar\u001b[0m\u001b[1;33m(\u001b[0m\u001b[0mestimator\u001b[0m\u001b[1;33m,\u001b[0m \u001b[0mX_train\u001b[0m\u001b[1;33m,\u001b[0m \u001b[0mY_train\u001b[0m\u001b[1;33m,\u001b[0m \u001b[0mdist\u001b[0m\u001b[1;33m,\u001b[0m \u001b[1;34m\"random\"\u001b[0m\u001b[1;33m)\u001b[0m\u001b[1;33m\u001b[0m\u001b[1;33m\u001b[0m\u001b[0m\n",
      "\u001b[1;31mNameError\u001b[0m: name 'acc' is not defined"
     ]
    }
   ],
   "source": [
    "compare(SVC(), X_train_morgan, Y_train_morgan, svm_param, svm_dist)"
   ]
  },
  {
   "cell_type": "code",
   "execution_count": null,
   "metadata": {},
   "outputs": [],
   "source": []
  },
  {
   "cell_type": "markdown",
   "metadata": {},
   "source": [
    "## Otimizando hiperparâmetros"
   ]
  },
  {
   "cell_type": "markdown",
   "metadata": {},
   "source": [
    "#### Grid search"
   ]
  },
  {
   "cell_type": "code",
   "execution_count": null,
   "metadata": {},
   "outputs": [],
   "source": [
    "# Grid Search - SVM\n",
    "#grid_svm_morgan = best_grid_search(SVC(), param_grid_svm, X_train_morgan, Y_train_morgan, 'Morgan', 'SVM')\n",
    "#grid_svm_sirms = best_grid_search(SVC(), param_grid_svm, X_train_sirms, Y_train_sirms, 'Sirms', 'SVM')\n",
    "#grid_svm_dragon = best_grid_search(SVC(), param_grid_svm, X_train_dragon, Y_train_dragon, 'Dragon', 'SVM')\n",
    "#grid_svm_padel = best_grid_search(SVC(), param_grid_svm, X_train_padel, Y_train_padel, 'Padel', 'SVM')"
   ]
  },
  {
   "cell_type": "markdown",
   "metadata": {},
   "source": [
    "#### Random Search"
   ]
  },
  {
   "cell_type": "code",
   "execution_count": null,
   "metadata": {},
   "outputs": [],
   "source": [
    "# Random Search - RF\n",
    "random_svm_morgan = best_random_search(SVC(), param_grid_svm, X_train_morgan, Y_train_morgan, 'Morgan', 'SVM')\n",
    "random_svm_sirms = best_random_search(SVC(), param_grid_svm, X_train_sirms, Y_train_sirms, 'Sirms', 'SVM')\n",
    "random_svm_dragon = best_random_search(SVC(), param_grid_svm, X_train_dragon, Y_train_dragon, 'Dragon', 'SVM')\n",
    "random_svm_padel = best_random_search(SVC(), param_grid_svm, X_train_padel, Y_train_padel, 'Padel', 'SVM')"
   ]
  },
  {
   "cell_type": "markdown",
   "metadata": {},
   "source": [
    "#### Criando modelos a partir  melhores parâmetros"
   ]
  },
  {
   "cell_type": "code",
   "execution_count": null,
   "metadata": {},
   "outputs": [],
   "source": [
    "#criando o modelo com os melhores parametros utilizando processamento paralelo\n",
    "svm_best_morgan = SVC(C=1, gamma=1, random_state= 0, kernel='poly', probability=True)\n",
    "svm_best_sirms = SVC(C=1, gamma=1, random_state= 0, kernel='linear', probability=True)\n",
    "svm_best_dragon = SVC(C=1, gamma=1, random_state= 0, kernel='linear', probability=True)\n",
    "svm_best_padel = SVC(C=1, gamma=0.9, random_state= 0, kernel='linear', probability=True)\n",
    "\n",
    "\n",
    "svm_best_morgan.fit(X_train_morgan, Y_train_morgan)\n",
    "svm_best_sirms.fit(X_train_sirms, Y_train_sirms)\n",
    "svm_best_dragon.fit(X_train_dragon, Y_train_dragon)\n",
    "svm_best_padel.fit(X_train_padel, Y_train_padel)"
   ]
  },
  {
   "cell_type": "markdown",
   "metadata": {},
   "source": [
    "## Validação dos modelos"
   ]
  },
  {
   "cell_type": "markdown",
   "metadata": {},
   "source": [
    "####  Área sob a curva ROC (AUC) "
   ]
  },
  {
   "cell_type": "code",
   "execution_count": null,
   "metadata": {},
   "outputs": [],
   "source": [
    "# n_splits: int, padrão = 5 Número de dobras. Deve ser pelo menos 2.\n",
    "cross_val = StratifiedKFold(n_splits=5)"
   ]
  },
  {
   "cell_type": "code",
   "execution_count": null,
   "metadata": {},
   "outputs": [],
   "source": [
    "roc_auc(svm_best, cross_val, X_train, y_train)"
   ]
  },
  {
   "cell_type": "markdown",
   "metadata": {},
   "source": [
    "####  Estatisiticas e AD"
   ]
  },
  {
   "cell_type": "code",
   "execution_count": null,
   "metadata": {
    "scrolled": true
   },
   "outputs": [],
   "source": [
    "data_stats_morgan = statistics(svm_best_morgan, X_train_morgan, Y_train_morgan, cross_val, data_morgan['moldf_desc'], data_morgan['moldf_train'], 'Morgan')\n",
    "stats_morgan = data_stats_morgan['stats']\n",
    "five_fold_morgan = data_stats_morgan['five_fold']\n",
    "stats_morgan"
   ]
  },
  {
   "cell_type": "code",
   "execution_count": null,
   "metadata": {},
   "outputs": [],
   "source": [
    "data_stats_sirms = statistics(svm_best_sirms, X_train_sirms, Y_train_sirms, cross_val, data_sirms['moldf_desc'], data_sirms['moldf_train'], 'Sirms')\n",
    "stats_sirms = data_stats_sirms['stats']\n",
    "five_fold_sirms = data_stats_sirms['five_fold']\n",
    "stats_sirms"
   ]
  },
  {
   "cell_type": "code",
   "execution_count": null,
   "metadata": {},
   "outputs": [],
   "source": [
    "data_stats_dragon = statistics(svm_best_dragon, X_train_dragon, Y_train_dragon, cross_val, data_dragon['moldf_desc'], data_dragon['moldf_train'], 'Dragon')\n",
    "stats_dragon = data_stats_dragon['stats']\n",
    "five_fold_dragon = data_stats_dragon['five_fold']\n",
    "stats_dragon"
   ]
  },
  {
   "cell_type": "code",
   "execution_count": null,
   "metadata": {},
   "outputs": [],
   "source": [
    "data_stats_padel = statistics(svm_best_padel, X_train_padel, Y_train_padel, cross_val, data_padel['moldf_desc'], data_padel['moldf_train'], 'Padel')\n",
    "stats_padel = data_stats_padel['stats']\n",
    "five_fold_padel = data_stats_padel['five_fold']\n",
    "stats_padel"
   ]
  },
  {
   "cell_type": "code",
   "execution_count": null,
   "metadata": {},
   "outputs": [],
   "source": [
    "print_stats(stats)"
   ]
  },
  {
   "cell_type": "markdown",
   "metadata": {},
   "source": [
    "#### Y-randomization"
   ]
  },
  {
   "cell_type": "code",
   "execution_count": null,
   "metadata": {},
   "outputs": [],
   "source": [
    "y_randomization(svm_best, X_train, y_train)"
   ]
  },
  {
   "cell_type": "markdown",
   "metadata": {},
   "source": [
    "## Consenso"
   ]
  },
  {
   "cell_type": "markdown",
   "metadata": {},
   "source": [
    "#### Obter consenso"
   ]
  },
  {
   "cell_type": "code",
   "execution_count": null,
   "metadata": {},
   "outputs": [],
   "source": [
    "stats_consenso = statistics_consenso(moldf, five_fold_morgan, five_fold_sirms,five_fold_dragon,five_fold_padel, stats)\n",
    "stats_consenso"
   ]
  },
  {
   "cell_type": "markdown",
   "metadata": {},
   "source": [
    "#### Plotar consenso"
   ]
  },
  {
   "cell_type": "code",
   "execution_count": null,
   "metadata": {},
   "outputs": [],
   "source": [
    "print_consenso(stats_consenso, 'SVM')"
   ]
  },
  {
   "cell_type": "markdown",
   "metadata": {},
   "source": [
    "## Salvar modelos"
   ]
  },
  {
   "cell_type": "markdown",
   "metadata": {},
   "source": [
    "### Random Forest"
   ]
  },
  {
   "cell_type": "code",
   "execution_count": null,
   "metadata": {},
   "outputs": [],
   "source": [
    "with gzip.GzipFile('model/sars-cov-3clpro-morgan_RF_ad_balanced.pgz', 'w') as f:\n",
    "    cPickle.dump(rf_best_morgan, f)\n",
    "with gzip.GzipFile('model/sars-cov-3clpro-sirms_RF_ad_balanced.pgz', 'w') as f:\n",
    "    cPickle.dump(rf_best_sirms, f)\n",
    "with gzip.GzipFile('model/sars-cov-3clpro-dragon_RF_ad_balanced.pgz', 'w') as f:\n",
    "    cPickle.dump(rf_best_dragon, f)\n",
    "with gzip.GzipFile('model/sars-cov-3clpro-padel_RF_ad_balanced.pgz', 'w') as f:\n",
    "    cPickle.dump(rf_best_padel, f)"
   ]
  },
  {
   "cell_type": "markdown",
   "metadata": {},
   "source": [
    "### SVM"
   ]
  },
  {
   "cell_type": "code",
   "execution_count": null,
   "metadata": {},
   "outputs": [],
   "source": [
    "with gzip.GzipFile('model/sars-cov-3clpro-morgan_SVM_ad_balanced.pgz', 'w') as f:\n",
    "    cPickle.dump(svm_best, f)\n",
    "with gzip.GzipFile('model/sars-cov-3clpro-sirms_SVM_ad_balanced.pgz', 'w') as f:\n",
    "    cPickle.dump(svm_best, f)\n",
    "with gzip.GzipFile('model/sars-cov-3clpro-dragon_SVM_ad_balanced.pgz', 'w') as f:\n",
    "    cPickle.dump(svm_best, f)    \n",
    "with gzip.GzipFile('model/sars-cov-3clpro-padel_SVM_ad_balanced.pgz', 'w') as f:\n",
    "    cPickle.dump(svm_best, f)"
   ]
  },
  {
   "cell_type": "markdown",
   "metadata": {},
   "source": [
    "## Exportando Predições"
   ]
  },
  {
   "cell_type": "markdown",
   "metadata": {},
   "source": [
    "### Random Forest"
   ]
  },
  {
   "cell_type": "code",
   "execution_count": null,
   "metadata": {},
   "outputs": [],
   "source": [
    "with pd.ExcelWriter('predictions-morgan.xlsx') as writer:\n",
    "    pred_morgan.to_excel(writer, sheet_name='morgan', index=False)"
   ]
  },
  {
   "cell_type": "markdown",
   "metadata": {},
   "source": [
    "### SVM"
   ]
  },
  {
   "cell_type": "code",
   "execution_count": null,
   "metadata": {},
   "outputs": [],
   "source": []
  }
 ],
 "metadata": {
  "kernelspec": {
   "display_name": "Python 3",
   "language": "python",
   "name": "python3"
  },
  "language_info": {
   "codemirror_mode": {
    "name": "ipython",
    "version": 3
   },
   "file_extension": ".py",
   "mimetype": "text/x-python",
   "name": "python",
   "nbconvert_exporter": "python",
   "pygments_lexer": "ipython3",
   "version": "3.7.6"
  }
 },
 "nbformat": 4,
 "nbformat_minor": 2
}
