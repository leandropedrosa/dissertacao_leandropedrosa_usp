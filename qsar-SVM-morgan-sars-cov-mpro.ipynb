{
 "cells": [
  {
   "cell_type": "markdown",
   "metadata": {},
   "source": [
    "# Modelos QSAR-SVM para protease principal 3C-like protease (M<sup>pro</sup>) de SARS-CoV"
   ]
  },
  {
   "cell_type": "markdown",
   "metadata": {},
   "source": [
    "Os modelos nesse fluxo de trabalho foram criados usando as impressões digitais de Morgan com SVM scikit-learn."
   ]
  },
  {
   "cell_type": "code",
   "execution_count": 1,
   "metadata": {},
   "outputs": [
    {
     "ename": "ModuleNotFoundError",
     "evalue": "No module named 'BalanceBySim'",
     "output_type": "error",
     "traceback": [
      "\u001b[1;31m---------------------------------------------------------------------------\u001b[0m",
      "\u001b[1;31mModuleNotFoundError\u001b[0m                       Traceback (most recent call last)",
      "\u001b[1;32m<ipython-input-1-b46c9671f9d6>\u001b[0m in \u001b[0;36m<module>\u001b[1;34m\u001b[0m\n\u001b[0;32m      8\u001b[0m \u001b[1;33m\u001b[0m\u001b[0m\n\u001b[0;32m      9\u001b[0m \u001b[1;31m#BalanceBySim: função de balanceamento de conjunto de dados (Equilibre os dados usando 1/2 similaridade e 1/2 aleatória)\u001b[0m\u001b[1;33m\u001b[0m\u001b[1;33m\u001b[0m\u001b[1;33m\u001b[0m\u001b[0m\n\u001b[1;32m---> 10\u001b[1;33m \u001b[1;32mfrom\u001b[0m \u001b[0mBalanceBySim\u001b[0m \u001b[1;32mimport\u001b[0m \u001b[1;33m*\u001b[0m\u001b[1;33m\u001b[0m\u001b[1;33m\u001b[0m\u001b[0m\n\u001b[0m\u001b[0;32m     11\u001b[0m \u001b[1;32mfrom\u001b[0m \u001b[0mtime\u001b[0m \u001b[1;32mimport\u001b[0m \u001b[0mtime\u001b[0m\u001b[1;33m\u001b[0m\u001b[1;33m\u001b[0m\u001b[0m\n\u001b[0;32m     12\u001b[0m \u001b[1;33m\u001b[0m\u001b[0m\n",
      "\u001b[1;31mModuleNotFoundError\u001b[0m: No module named 'BalanceBySim'"
     ]
    }
   ],
   "source": [
    "import numpy as np\n",
    "import pandas as pd\n",
    "import seaborn as sns\n",
    "import matplotlib.pyplot as plt\n",
    "import _pickle as cPickle\n",
    "import gzip\n",
    "import seaborn as sns\n",
    "\n",
    "#BalanceBySim: função de balanceamento de conjunto de dados (Equilibre os dados usando 1/2 similaridade e 1/2 aleatória)\n",
    "from BalanceBySim import *\n",
    "from time import time\n",
    "\n",
    "#Stats: Calculos estatisticos referente ao modelo Kappa\tCCR\tSensitivity\tPPV\tSpecificity\tNPV\tCoverage\n",
    "from stats import *\n",
    "\n",
    "from collections import Counter\n",
    "\n",
    "#RDKit: Bibliotecas p/ Cheminformatics de Código Aberto\n",
    "from rdkit import Chem\n",
    "from rdkit.Chem import AllChem\n",
    "from rdkit.Chem import Draw\n",
    "from rdkit.Chem import PandasTools\n",
    "from rdkit.Chem.Draw import IPythonConsole\n",
    "\n",
    "#Sklearn: Bibliotecas p/ Machine learning de Código Aberto\n",
    "from sklearn import metrics\n",
    "from sklearn.svm import SVC\n",
    "from sklearn.feature_selection import VarianceThreshold\n",
    "from sklearn.model_selection import train_test_split, cross_validate, GridSearchCV, RandomizedSearchCV, cross_val_score # biblioteca GridSearch e RandomizedSearch e cross_validate\n",
    "from sklearn.model_selection import permutation_test_score, StratifiedKFold\n",
    "from sklearn.metrics import classification_report\n",
    "def warn(*args, **kwargs):\n",
    "    pass\n",
    "import warnings\n",
    "warnings.filterwarnings(\"ignore\")\n",
    "warnings.warn = warn\n",
    "\n",
    "from IPython.core.interactiveshell import InteractiveShell\n",
    "InteractiveShell.ast_node_interactivity = \"all\"\n",
    "%matplotlib inline\n",
    "%reload_ext autoreload\n",
    "%autoreload 2\n",
    "Draw.DrawingOptions.atomLabelFontFace = \"DejaVu Sans\"\n",
    "Draw.DrawingOptions.atomLabelFontSize = 18\n",
    "\n",
    "from IPython.core.display import display, HTML\n",
    "display(HTML(\"<style>.container { width:90% !important; }</style>\"))"
   ]
  },
  {
   "cell_type": "markdown",
   "metadata": {},
   "source": [
    "## Carregar dados"
   ]
  },
  {
   "cell_type": "code",
   "execution_count": 6,
   "metadata": {},
   "outputs": [
    {
     "name": "stdout",
     "output_type": "stream",
     "text": [
      "Original data:  (113, 11)\n",
      "Dados mantidos:  (113, 11)\n"
     ]
    },
    {
     "data": {
      "text/html": [
       "<div>\n",
       "<style scoped>\n",
       "    .dataframe tbody tr th:only-of-type {\n",
       "        vertical-align: middle;\n",
       "    }\n",
       "\n",
       "    .dataframe tbody tr th {\n",
       "        vertical-align: top;\n",
       "    }\n",
       "\n",
       "    .dataframe thead th {\n",
       "        text-align: right;\n",
       "    }\n",
       "</style>\n",
       "<table border=\"1\" class=\"dataframe\">\n",
       "  <thead>\n",
       "    <tr style=\"text-align: right;\">\n",
       "      <th></th>\n",
       "      <th>Compound_name</th>\n",
       "      <th>Standard Type</th>\n",
       "      <th>Standard Relation</th>\n",
       "      <th>Standard Value</th>\n",
       "      <th>Standard Units</th>\n",
       "      <th>Outcome</th>\n",
       "      <th>InChIKey</th>\n",
       "      <th>Molecule ChEMBL ID</th>\n",
       "      <th>ID</th>\n",
       "      <th>SMILES</th>\n",
       "      <th>Mol</th>\n",
       "    </tr>\n",
       "  </thead>\n",
       "  <tbody>\n",
       "    <tr>\n",
       "      <th>count</th>\n",
       "      <td>113</td>\n",
       "      <td>113</td>\n",
       "      <td>113</td>\n",
       "      <td>113</td>\n",
       "      <td>113</td>\n",
       "      <td>113</td>\n",
       "      <td>113</td>\n",
       "      <td>113</td>\n",
       "      <td>113</td>\n",
       "      <td>113</td>\n",
       "      <td>113</td>\n",
       "    </tr>\n",
       "    <tr>\n",
       "      <th>unique</th>\n",
       "      <td>74</td>\n",
       "      <td>2</td>\n",
       "      <td>4</td>\n",
       "      <td>94</td>\n",
       "      <td>1</td>\n",
       "      <td>2</td>\n",
       "      <td>113</td>\n",
       "      <td>92</td>\n",
       "      <td>1</td>\n",
       "      <td>113</td>\n",
       "      <td>113</td>\n",
       "    </tr>\n",
       "    <tr>\n",
       "      <th>top</th>\n",
       "      <td></td>\n",
       "      <td>IC50</td>\n",
       "      <td>'='</td>\n",
       "      <td>2.44889419684223E12</td>\n",
       "      <td>nM</td>\n",
       "      <td>Inactive</td>\n",
       "      <td>RPPFHWBHHCJZJS-UHFFFAOYSA-N</td>\n",
       "      <td></td>\n",
       "      <td></td>\n",
       "      <td>Cc1noc(NC(=O)c2ccc(-c3cc(C(F)(F)F)nn3C)s2)c1[N...</td>\n",
       "      <td><img data-content=\"rdkit/molecule\" src=\"data:image/png;base64,iVBORw0KGgoAAAANSUhEUgAAAMgAAADICAIAAAAiOjnJAAAABmJLR0QA/wD/AP+gvaeTAAAPGElEQVR4nO3ce0yUZ9rH8WsYkNNURzwiVrR4gFDrInXbovGQ2BUpzVYtm+A61SYVaHaja9SAaXXM22o8hNfR2hhQt4JVIm4P4lZttB4qEhEtTTUqomIVrCyhWjnqMFz7x43jyGF8OFzM1P19/prAPMw18OWe8Xlu0TEzAXQ1D1cPAM8mhAUiEBaIQFggAmGBCIQFIhAWiEBYIAJhgQiEBSIQFohAWCACYYEIhAUiEBaIQFggAmGBCIQFIhAWiEBYIAJhgQiEBSIQFohAWCACYYEIhAUiEBaIQFggAmGBCIQFIhAWiEBYIAJhgQiEBSIQFohAWCACYYEIhAUiEBaIQFggAmGBCIQFIhAWiEBYIAJhgQiEBSIQFohAWCACYYEIhAUiEBaIQFggAmGBCIQFIhAWiEBYIAJhgQiEBSIQFohAWCACYYEIhAUiEBaIQFggAmGBCIQFIhAWiEBYIAJhgQiEBSIQFohAWCACYYEIhAUiEBaIQFggAmE9UzZupI0bn7ihbne/9oVVX1+/atWq1NTUuLi4S5cuCc3UzUpKSuLj40tKSrTcubGxcevWrStWrJCeql1KSmjr1qbbI0fS1atNtxMTKTGRLl50xUys2d69e4cOHUpE3t7eROTl5bVw4cJff/1V+1dwT/Hx8UTk4+PzwQcfVFdXO7nniRMnIiIiiMjT0/PKlSvdNqETNTVsNrOPD3t48NmzbLEwMycksMXSdJv58Y3upCmsixcvTps2TYUYFha2d+/e+fPne3p6ElFAQIDFYrFardKDyikrK0tISPDw8CCiQYMGpaWl2Wy2Zve5deuWyWTS6XRENHjw4IyMjMbGRpdMa9fY2JiZmTl9egkR63QcG8tJSY8biopy77AqKysXLFig1+vtDTU0NJSXlxuNxujo6MmTJ6vaQkNDDx482D0TCykoKIiKilJP5+WXXz516pT6eE1NzZo1awwGAxH5+fklJydXVVW5dlRmLigoGD9+PBEFBv7x1VcbZsxgvZ6JeO9eV0/2SJthPXz4MC0trW/fvmrlT0hIqKioUJ/6+uuvfXx8iMhgMJhMpmHDhqmfR2xs7LVr17pr8vY4cIAPHODiYk5IcHKvxsbG7OzsIUOGEJFOp4uLi9u+fXtwcLD92d24ccMlgzVjtVrV9zwwMHD27NnR0SeJ2MuLFyxg93lj0mZYZ86cUQtVdHT0pUuXmn325s2bJpNJfceDgoLefvtt9TudlJTU0NAgPHP72V8Miov5wAHn962qqkpJSVHvI9Xvj+MC5sLBHO3evXvWrFmjRo0iIj+/vn/5S93FiyIDdlibYfXv35+IPv/8cycHHz169KWXXlJ55eTkqF+jL774QmDOzrH//NQKocG1a9cGDhxIRCkpKS3fcrlwMGaurKxULyNENGLEiOzsbKnxOuEpYa1du3bRokVO/gXU0NCwZcuWuXPnMvOMGTPcNCz1WnPgQLtecSZMmEBE33//vdxcHRtMhdWzZ8/169c/ePBAbrrOeMp5rP3792/YsOHmzZtt3UGv1yclJe3YscP513Gl6mpSp53276eqKvrtN1cP5KC0lKqqqLCQqqqonefG9Hr9kiVLevToITRaJ/0PnHl/8ICysuhf/6Ivv6SsLKqrc/VADq5do6wsOn2asrLo229dPU1X+v2F5dorFU647WAu4enqAToiMdHVE7TBbQfrfr/LsNLSiDQvDPd0utigoOeMRr1ef8/T8yuifu4xGBF96eX1/0FBEb6+hUFBIwMC/ik2WPfrmrBsNps66eWGbMynysoC6uq8vLzKy8ttrp7H0V2rVc12qqzMGhTk6nG60lPeYyUmJm7ZsiU0NLStO9y7dy8lJWXixImNjY3tfvCDB+ngQbp6tb0vIW77JsZtB+uATu7AaTOsgQMH+vr6Xrly5d133w1q7ZfJZrOlpaWNHDly7dq1+fn5mZmZ+fn5BoNh27ZtFRUVmh78yhWaPp2GD6elS+ngQa0jP7kz5Kl0Op3RaLRarfX19T179tR41PHjxy9fvuzv7//pp5/ev39fYjA1m8FguHHjRo8ePTQu+Q0NDZmZmb6+vlarNTMzk5m1HHXkyJFp06a9//77K1eurNP87+JO7cBp6wTXuXPn1B1GjRp1oMVJ4ePHj48ZM0bd4bXXXnvzzTfVlX91DSQgIGDz5s3OtjzU1vKhQ83POx89yvfutXVEYyPv3Mnp6Y93hqxfz4mJfPWqs9N0ubm5kZGRjs83IiLixAln5zyvXy+ZNWuWurM6ux0YGLhjxw4n599/+42XLuWUlKbBLBY+fZpXrOCamjYfRZ1YVpdi1eUjnU43Z86c0tIyJ7MdOvRtWFiY49MZP358QUGBk0Mcd6aon9HQoUP3Or1YXVHBf/87r1z5+Ol0YKOEs90Nhw8fDg8PVzNNnTr1woUL6uO7du1SHwwODp43b55aBry8vBYsWHD27Nnp06c7KZKZOSeHhw1jT0/+5pvH553v3OFevTgggC0WbnG1MT+fX32VibhnT/7446YPBgczEXt7c0oK37/f/EFKS0vtG12CgoIyMjL27dunLjpNnvx/sbF8/XrzQ9TepsjIuzqdh5+fn9lszsvLU5sIiCgyMvLkyZPNDrHZeNs2HjCAiTgsrOmDUVFN0w4ezLt3c8v9NceOHbP/Wk6ePPn06dNms9nX19fDwzMi4r7ZzLW1zQ8pLua4OJ40aRERDR8+fM+ePRkZGeqik06nM5lMv/zyS7ND7t69m5ycrM6gGo3GNWvWHD582P64kyZN+vHHH5sd8vAhb9zIvXszEY8b9/jpOIZVXKwpr6dsm3n48KHFYjEajSodtcehpqYmNDQ0Pj7+hRdeUFPGxsZedVg6cnJyQkJCWn7q3Llza+bNYyIm4ogI/uGHJ75zEyeqTx37619PnDihPlxWVjZ37tzw8HwiDgzkHTvYvnDcvs1z57KHBxNxTEzmZ599phaV2tpa+0YXX1/f5OTk+4+6q62tXb16fZ8+tUTs68vLl7N9Vc3K4kGDWO1tWrw4u7S0VH1cbXlQexzUlgf7HoeTJ09Onz7L27ueiMeP57NnHz+b3FyOjGQiNhgaY2Lm2RcVx4v3zz//fEZGhv2QkpKSf/zjG/W9GTqU9+1r+nhdHS9dyj16qFLvpqZusF/Gqa6uNpvN6lXC39/fbDbX1dUxs81my8jIUBflPDw8TCZTeXm5OsTJpw4dOhQdnay+n3/6E7d1Vbu4mFnD0qVpo1+zXVnLli2zr66hoaGtLkuqSPtilpCQkJSUpNfrdTrdyQkTOD2dW31l2bOnNiqqp7c3EcXExCxdulT1MXbs5JQUbnUfVH4+x8X9R6fzIKJx48atW7dObXNVTV9vuS4xl5WxycQ6HU+Z8nidj45mIo6M5NzcVh6lpqZGLSpE5Ofnt2jRori4OLUcvvWWJSurlWXJZuPt2zk29t/2H+HixYtVBGo5VBE0c/w4/+EPTMQzZjQNtmEDjxvHOh2bTNxiVWJmLi4ujouLU095+PDhZrPZcTlsuSzxo8VMvQQbjcYlS5bExMSoQ2bO/DEnp5VHcdQFK5Yj+6u1yqV3795P3Tt6+/bthIQEvV6volQvl/fafiPFT6436scQExNz1ek7KcdFJSAg4NEbqRPOn86pU3zhAlssTRui1q3jXbta6cPRrVu3Zs+erdPpvLy81HhP3ffnuKh4enqqNe/nn392ckhDA2dmcmpq02AWC58798Ry2Krvvvtu9OjRRNSnT5+Wy2GrioqK1PsW+y+M2Wyur693fpR686LWLSfaEZaSnZ2dnZ29bNmyyspKjYecOXNm06ZNH330UVFRkcZDevfurX7/iOjYsWNaDqmurh47diwRvfPOO9o3ujhuEtciNzeXiNR7AIPBoPFRiouL/f39iaj1N51dMRgzW63WTZs27d+/f/Xq1a0uhy199dVXRPTiiy+qN/VaH0mDdofVPdSvndorrDEsZn7vvfeIKD09XfsDOW4S10KF9corr6iVW/sD9evXj4jsb2i6fLCOUWFNnTqViEJCQrrwK//+LkJ3rYULm26cOuXSOVpw28E0ctNrhR+PHWurqfEPDp5NFOTlJfdAGzc2/QjtN5wb6Om5OSrKb8gQk17v4ePjPoN1TIi39+aoKL+BA9+KivLp15UXUd00rKQffqDKSiKivDyyWkUfq13Xk0IaGv6Wl0c2G+Xnk+bz+B3TDXslRj94MDovj/z8KC+PHp0h6hJuGlZ3au+WhG7jtoNp8b/+HguEuOuKtXYt1dVR//4UH08jRsg9jv3ti9b3MSEh9Mkn1K8fVVSQt7fYXO0frGPGjKFPPqEBA+jPfyajsQu/sLuuWIMGUUgIjR1L58+TW21UKiykkBCKjKTz52n+fNGHYm07Fzrl8mUKCaGICDp/nubM6cIv7K5hdWhHzeDBg0ePHq3OgbnVYEQUHh7+3HPPLV++XOMmnCNHjkRGRhYVFXV0UG06+nSeyl3Dsisu1n5fs9n8008/zZw5U26cx9ozGBGlpqZWV1enp6eHhYXt3LnTyWpUVFT0xhtvvP7664WFhRs2bOj0oNq08+k8XReebO1KHfqfnN2hE4M1+7sjuS0udzteGzYYDFqu3HWW2PfZXcN6RrX8uyPqgrTazTJgwAB6tBXizp07rh62UxCWC1RVVS1btsz+F3vmz59v/xMYkyZNKiwsdPWAXQBhuYx901+vXr3Ibf6eW1fRcTf8mxbatmrVqg8//DA8PLygoEDti3o2uP2/Cp916kVw2LBhz1JVhLBACMICEQgLRCAsEIGwQATCAhEIC0QgLBfr27fvlClT7P93+ZmBM+8gAisWiEBYIAJhgQiEBSIQFohAWCACYYEIhAUiEBaIQFggAmGBCIQFIhAWiEBYIAJhgQiEBSIQFohAWCACYYEIhAUiEBaIQFggAmGBCIQFIhAWiEBYIAJhgQiEBSIQFohAWCACYYEIhAUiEBaIQFggAmGBCIQFIhAWiEBYIAJhgQiEBSIQFohAWCACYYEIhAUiEBaIQFggAmGBCIQFIhAWiEBYIAJhgQiEBSIQFohAWCACYYEIhAUiEBaIQFggAmGBCIQFIhAWiEBYIAJhgQiEBSIQFohAWCACYYEIhAUiEBaIQFggAmGBCIQFIhAWiEBYIAJhgYj/ArOpiG6RYUtQAAAAAElFTkSuQmCC\" alt=\"Mol\"/></td>\n",
       "    </tr>\n",
       "    <tr>\n",
       "      <th>freq</th>\n",
       "      <td>8</td>\n",
       "      <td>88</td>\n",
       "      <td>89</td>\n",
       "      <td>5</td>\n",
       "      <td>113</td>\n",
       "      <td>73</td>\n",
       "      <td>1</td>\n",
       "      <td>22</td>\n",
       "      <td>113</td>\n",
       "      <td>1</td>\n",
       "      <td>1</td>\n",
       "    </tr>\n",
       "  </tbody>\n",
       "</table>\n",
       "</div>"
      ],
      "text/plain": [
       "       Compound_name Standard Type Standard Relation       Standard Value  \\\n",
       "count            113           113               113                  113   \n",
       "unique            74             2                 4                   94   \n",
       "top                           IC50               '='  2.44889419684223E12   \n",
       "freq               8            88                89                    5   \n",
       "\n",
       "       Standard Units   Outcome                     InChIKey  \\\n",
       "count             113       113                          113   \n",
       "unique              1         2                          113   \n",
       "top                nM  Inactive  RPPFHWBHHCJZJS-UHFFFAOYSA-N   \n",
       "freq              113        73                            1   \n",
       "\n",
       "       Molecule ChEMBL ID   ID  \\\n",
       "count                 113  113   \n",
       "unique                 92    1   \n",
       "top                              \n",
       "freq                   22  113   \n",
       "\n",
       "                                                   SMILES  \\\n",
       "count                                                 113   \n",
       "unique                                                113   \n",
       "top     Cc1noc(NC(=O)c2ccc(-c3cc(C(F)(F)F)nn3C)s2)c1[N...   \n",
       "freq                                                    1   \n",
       "\n",
       "                                                      Mol  \n",
       "count                                                 113  \n",
       "unique                                                113  \n",
       "top     <img data-content=\"rdkit/molecule\" src=\"data:i...  \n",
       "freq                                                    1  "
      ]
     },
     "execution_count": 6,
     "metadata": {},
     "output_type": "execute_result"
    }
   ],
   "source": [
    "# Definir caminho do arquivo\n",
    "file = 'datasets/curated_data/chembl-pdb-sars-cov-3C-like-proteinase.sdf.gz'\n",
    "sdfInfo = dict(smilesName='SMILES', molColName='ROMol')\n",
    "moldf = PandasTools.LoadSDF(file, **sdfInfo)\n",
    "print('Original data: ', moldf.shape)\n",
    "\n",
    "# Renomear ROMol\n",
    "moldf = moldf.rename(columns={'ROMol': 'Mol'})\n",
    "\n",
    "# Remover moléculas RDKit ausentes\n",
    "moldf = moldf[pd.notnull(moldf['Mol'])]\n",
    "if 'StandardizerResult' in moldf.columns:\n",
    "    moldf = moldf.drop(columns='StandardizerResult')\n",
    "    \n",
    "# Colunas\n",
    "print('Dados mantidos: ', moldf.shape)\n",
    "moldf.describe()"
   ]
  },
  {
   "cell_type": "markdown",
   "metadata": {},
   "source": [
    "## Forma dos dados"
   ]
  },
  {
   "cell_type": "code",
   "execution_count": 7,
   "metadata": {},
   "outputs": [
    {
     "name": "stdout",
     "output_type": "stream",
     "text": [
      "\u001b[1mForma do conjunto de treinamento:\n",
      "\u001b[0m\n",
      "\t\t Classe 1: 40\n",
      "\t\t Classe 0: 73\n",
      "\t\t Número total de compostos: 113\n"
     ]
    }
   ],
   "source": [
    "moldf['Outcome'] = moldf['Outcome'].replace('Active', 1)\n",
    "moldf['Outcome'] = moldf['Outcome'].replace('Inactive', 0)\n",
    "\n",
    "classes = Counter(moldf['Outcome'])\n",
    "print('\\033[1m' + 'Forma do conjunto de treinamento:' + '\\n' + '\\033[0m')\n",
    "for key, value in classes.items():\n",
    "    print('\\t\\t Classe %d: %d' % (key, value))\n",
    "print('\\t\\t Número total de compostos: %d' % (len(moldf['Outcome'])))"
   ]
  },
  {
   "cell_type": "markdown",
   "metadata": {},
   "source": [
    "# Calcular impressões digitais de Morgan"
   ]
  },
  {
   "cell_type": "code",
   "execution_count": 8,
   "metadata": {},
   "outputs": [
    {
     "data": {
      "text/plain": [
       "(113, 2048)"
      ]
     },
     "execution_count": 8,
     "metadata": {},
     "output_type": "execute_result"
    }
   ],
   "source": [
    "def calcfp(mol,funcFPInfo=dict(radius=3, nBits=2048, useFeatures=False, useChirality=False)):\n",
    "    fp = AllChem.GetMorganFingerprintAsBitVect(mol, **funcFPInfo)\n",
    "    fp = pd.Series(np.asarray(fp))\n",
    "    fp = fp.add_prefix('Bit_')\n",
    "    return fp\n",
    "\n",
    "# Conjunto de treinamento\n",
    "desc = moldf.Mol.apply(calcfp)\n",
    "descriptors = desc.columns.difference(moldf.columns).tolist()\n",
    "desc.shape"
   ]
  },
  {
   "cell_type": "code",
   "execution_count": 10,
   "metadata": {},
   "outputs": [
    {
     "name": "stdout",
     "output_type": "stream",
     "text": [
      "Forma do conjunto de treinamento: Counter({0: 73, 1: 40})\n",
      "Forma externa definida: Counter()\n"
     ]
    }
   ],
   "source": [
    "moldf_desc = pd.concat([moldf,desc], axis=1)\n",
    "balance_data = 'no'\n",
    "\n",
    "if balance_data == 'yes':\n",
    "    # Equilibre os dados usando 1/2 similaridade e 1/2 aleatória\n",
    "    moldf_desc = BalanceBySim(moldf_desc, 'Outcome', 2)\n",
    "    # Forma de impressão\n",
    "    print('Forma do conjunto de treinamento: %s' % Counter(moldf_desc['Outcome'].loc[moldf_desc['Set'] == 'train']))\n",
    "    print('Forma externa definida: %s' % Counter(moldf_desc['Outcome'].loc[moldf_desc['Set'] == 'ext']))\n",
    "      \n",
    "else:\n",
    "    moldf_desc['Set'] = 'train'\n",
    "    # Forma de impressão\n",
    "    print('Forma do conjunto de treinamento: %s' % Counter(moldf_desc['Outcome'].loc[moldf_desc['Set'] == 'train']))\n",
    "    print('Forma externa definida: %s' % Counter(moldf_desc['Outcome'].loc[moldf_desc['Set'] == 'ext']))"
   ]
  },
  {
   "cell_type": "code",
   "execution_count": 11,
   "metadata": {},
   "outputs": [
    {
     "data": {
      "text/plain": [
       "(113, 2048)"
      ]
     },
     "execution_count": 11,
     "metadata": {},
     "output_type": "execute_result"
    }
   ],
   "source": [
    "moldf_train = moldf_desc[(moldf_desc['Set'] == 'train')]\n",
    "\n",
    "y_train = moldf_train['Outcome'].to_numpy()\n",
    "X_train = moldf_train[descriptors]\n",
    "X_train.shape"
   ]
  },
  {
   "cell_type": "code",
   "execution_count": 12,
   "metadata": {},
   "outputs": [],
   "source": [
    "def report(results, n_top=3):\n",
    "    for i in range(1, n_top + 1):\n",
    "        candidates = np.flatnonzero(results['rank_test_score'] == i)\n",
    "        for candidate in candidates:\n",
    "            print(\"Modelo com classificação: {0}\".format(i))\n",
    "            print(\"Escore médio de validação: {0:.3f} (std: {1:.3f})\"\n",
    "                  .format(results['mean_test_score'][candidate],\n",
    "                          results['std_test_score'][candidate]))\n",
    "            print(\"Parametros: {0}\".format(results['params'][candidate]))\n",
    "            print(\"\")"
   ]
  },
  {
   "cell_type": "markdown",
   "metadata": {},
   "source": [
    "## Construção de modelo"
   ]
  },
  {
   "cell_type": "markdown",
   "metadata": {},
   "source": [
    "### Pesquisa em grade (Grid Search)"
   ]
  },
  {
   "cell_type": "code",
   "execution_count": 13,
   "metadata": {},
   "outputs": [],
   "source": [
    "def grid_search(clf_rf, rf_params, X_train, y_train):\n",
    "    n_iter_search = 20\n",
    "    # configuração detalhada = 10 imprimirá o progresso para cada 10 tarefas concluídas\n",
    "    grid = GridSearchCV(clf_rf, rf_params, scoring='roc_auc', cv=5, n_jobs=-1, verbose=1)\n",
    "    \n",
    "    start = time()\n",
    "    grid.fit(X_train, y_train)\n",
    "    print(\"GridSearchCV levou %.2f segundos para %d candidatos\"\n",
    "      \" configurações de parâmetros.\" % ((time() - start), n_iter_search))\n",
    "    report(grid.cv_results_)\n",
    "\n",
    "    return grid"
   ]
  },
  {
   "cell_type": "markdown",
   "metadata": {},
   "source": [
    "### Pesquisa aleatória (Random Search)"
   ]
  },
  {
   "cell_type": "code",
   "execution_count": 14,
   "metadata": {},
   "outputs": [],
   "source": [
    "def random_search(clf_rf, param_dist, X_train, y_train):\n",
    "    n_iter_search = 80\n",
    "    random_search = RandomizedSearchCV(clf_rf, param_distributions=param_dist, \n",
    "                                       n_iter=n_iter_search, verbose=1, n_jobs=-1)\n",
    "    \n",
    "    start = time()\n",
    "    random_search.fit(X_train, y_train)\n",
    "    print(\"RandomizedSearchCV levou %.2f segundos para %d candidatos\"\n",
    "      \" configurações de parâmetros.\" % ((time() - start), n_iter_search))\n",
    "    report(random_search.cv_results_)\n",
    "\n",
    "    return random_search"
   ]
  },
  {
   "cell_type": "markdown",
   "metadata": {},
   "source": [
    "### Dados de modelagem"
   ]
  },
  {
   "cell_type": "code",
   "execution_count": 82,
   "metadata": {},
   "outputs": [
    {
     "name": "stdout",
     "output_type": "stream",
     "text": [
      "Fitting 5 folds for each of 80 candidates, totalling 400 fits\n"
     ]
    },
    {
     "name": "stderr",
     "output_type": "stream",
     "text": [
      "[Parallel(n_jobs=-1)]: Using backend LokyBackend with 4 concurrent workers.\n",
      "[Parallel(n_jobs=-1)]: Done  76 tasks      | elapsed:    1.3s\n",
      "[Parallel(n_jobs=-1)]: Done 376 tasks      | elapsed:    5.8s\n",
      "[Parallel(n_jobs=-1)]: Done 400 out of 400 | elapsed:    6.2s finished\n",
      "[Parallel(n_jobs=-1)]: Using backend LokyBackend with 4 concurrent workers.\n"
     ]
    },
    {
     "name": "stdout",
     "output_type": "stream",
     "text": [
      "RandomizedSearchCV levou 6.30 segundos para 80 candidatos configurações de parâmetros.\n",
      "Modelo com classificação: 1\n",
      "Escore médio de validação: 0.824 (std: 0.054)\n",
      "Parametros: {'random_state': 24, 'kernel': 'poly', 'gamma': 0.01, 'C': 500}\n",
      "\n",
      "Modelo com classificação: 1\n",
      "Escore médio de validação: 0.824 (std: 0.054)\n",
      "Parametros: {'random_state': 24, 'kernel': 'poly', 'gamma': 0.01, 'C': 750}\n",
      "\n",
      "Modelo com classificação: 1\n",
      "Escore médio de validação: 0.824 (std: 0.054)\n",
      "Parametros: {'random_state': 24, 'kernel': 'poly', 'gamma': 0.01, 'C': 250}\n",
      "\n",
      "Modelo com classificação: 1\n",
      "Escore médio de validação: 0.824 (std: 0.054)\n",
      "Parametros: {'random_state': 24, 'kernel': 'poly', 'gamma': 0.01, 'C': 1000}\n",
      "\n",
      "Modelo com classificação: 1\n",
      "Escore médio de validação: 0.824 (std: 0.054)\n",
      "Parametros: {'random_state': 24, 'kernel': 'poly', 'gamma': 0.1, 'C': 100}\n",
      "\n",
      "Modelo com classificação: 1\n",
      "Escore médio de validação: 0.824 (std: 0.054)\n",
      "Parametros: {'random_state': 24, 'kernel': 'poly', 'gamma': 0.1, 'C': 500}\n",
      "\n",
      "Modelo com classificação: 1\n",
      "Escore médio de validação: 0.824 (std: 0.054)\n",
      "Parametros: {'random_state': 24, 'kernel': 'poly', 'gamma': 0.1, 'C': 1000}\n",
      "\n",
      "Modelo com classificação: 1\n",
      "Escore médio de validação: 0.824 (std: 0.054)\n",
      "Parametros: {'random_state': 24, 'kernel': 'poly', 'gamma': 0.1, 'C': 250}\n",
      "\n",
      "Fitting 5 folds for each of 30 candidates, totalling 150 fits\n"
     ]
    },
    {
     "name": "stderr",
     "output_type": "stream",
     "text": [
      "[Parallel(n_jobs=-1)]: Done  76 tasks      | elapsed:    1.2s\n",
      "[Parallel(n_jobs=-1)]: Done 143 out of 150 | elapsed:    2.4s remaining:    0.0s\n",
      "[Parallel(n_jobs=-1)]: Done 150 out of 150 | elapsed:    2.5s finished\n"
     ]
    },
    {
     "name": "stdout",
     "output_type": "stream",
     "text": [
      "GridSearchCV levou 2.68 segundos para 20 candidatos configurações de parâmetros.\n",
      "Modelo com classificação: 1\n",
      "Escore médio de validação: 0.875 (std: 0.056)\n",
      "Parametros: {'C': 350, 'gamma': 0.01, 'kernel': 'poly', 'random_state': 24}\n",
      "\n",
      "Modelo com classificação: 1\n",
      "Escore médio de validação: 0.875 (std: 0.056)\n",
      "Parametros: {'C': 350, 'gamma': 0.11, 'kernel': 'poly', 'random_state': 24}\n",
      "\n",
      "Modelo com classificação: 1\n",
      "Escore médio de validação: 0.875 (std: 0.056)\n",
      "Parametros: {'C': 350, 'gamma': 0.02, 'kernel': 'poly', 'random_state': 24}\n",
      "\n",
      "Modelo com classificação: 1\n",
      "Escore médio de validação: 0.875 (std: 0.056)\n",
      "Parametros: {'C': 400, 'gamma': 0.01, 'kernel': 'poly', 'random_state': 24}\n",
      "\n",
      "Modelo com classificação: 1\n",
      "Escore médio de validação: 0.875 (std: 0.056)\n",
      "Parametros: {'C': 400, 'gamma': 0.11, 'kernel': 'poly', 'random_state': 24}\n",
      "\n",
      "Modelo com classificação: 1\n",
      "Escore médio de validação: 0.875 (std: 0.056)\n",
      "Parametros: {'C': 400, 'gamma': 0.02, 'kernel': 'poly', 'random_state': 24}\n",
      "\n",
      "Modelo com classificação: 1\n",
      "Escore médio de validação: 0.875 (std: 0.056)\n",
      "Parametros: {'C': 500, 'gamma': 0.01, 'kernel': 'poly', 'random_state': 24}\n",
      "\n",
      "Modelo com classificação: 1\n",
      "Escore médio de validação: 0.875 (std: 0.056)\n",
      "Parametros: {'C': 500, 'gamma': 0.11, 'kernel': 'poly', 'random_state': 24}\n",
      "\n",
      "Modelo com classificação: 1\n",
      "Escore médio de validação: 0.875 (std: 0.056)\n",
      "Parametros: {'C': 500, 'gamma': 0.02, 'kernel': 'poly', 'random_state': 24}\n",
      "\n",
      "Modelo com classificação: 1\n",
      "Escore médio de validação: 0.875 (std: 0.056)\n",
      "Parametros: {'C': 600, 'gamma': 0.01, 'kernel': 'poly', 'random_state': 24}\n",
      "\n",
      "Modelo com classificação: 1\n",
      "Escore médio de validação: 0.875 (std: 0.056)\n",
      "Parametros: {'C': 600, 'gamma': 0.11, 'kernel': 'poly', 'random_state': 24}\n",
      "\n",
      "Modelo com classificação: 1\n",
      "Escore médio de validação: 0.875 (std: 0.056)\n",
      "Parametros: {'C': 600, 'gamma': 0.02, 'kernel': 'poly', 'random_state': 24}\n",
      "\n",
      "Modelo com classificação: 1\n",
      "Escore médio de validação: 0.875 (std: 0.056)\n",
      "Parametros: {'C': 650, 'gamma': 0.01, 'kernel': 'poly', 'random_state': 24}\n",
      "\n",
      "Modelo com classificação: 1\n",
      "Escore médio de validação: 0.875 (std: 0.056)\n",
      "Parametros: {'C': 650, 'gamma': 0.11, 'kernel': 'poly', 'random_state': 24}\n",
      "\n",
      "Modelo com classificação: 1\n",
      "Escore médio de validação: 0.875 (std: 0.056)\n",
      "Parametros: {'C': 650, 'gamma': 0.02, 'kernel': 'poly', 'random_state': 24}\n",
      "\n"
     ]
    }
   ],
   "source": [
    "kernel = ['rbf', 'linear', 'sigmoid', 'poly']\n",
    "class_weight = [100, 250, 500, 750, 1000]\n",
    "gamma = [0.1, 0.01, 0.001, 0.0001, 0.00001]\n",
    "random_state = [24]\n",
    "\n",
    "# Crie a grade aleatória\n",
    "random_param = {'kernel': kernel,\n",
    "              'C': class_weight,\n",
    "              'gamma': gamma,\n",
    "              'random_state': random_state}\n",
    "\n",
    "clf_svc = SVC(random_state=24).fit(X_train, y_train)\n",
    "\n",
    "svc_random = random_search(clf_svc, random_param, X_train, y_train);\n",
    "\n",
    "grid_params = {\n",
    "    'kernel': [svc_random.best_params_['kernel']],\n",
    "    'random_state': [svc_random.best_params_['random_state']], \n",
    "    'gamma': [svc_random.best_params_['gamma'] - 0.1, \n",
    "         svc_random.best_params_['gamma'] - 0.01, \n",
    "         svc_random.best_params_['gamma'], \n",
    "         svc_random.best_params_['gamma'] + 0.1, \n",
    "         svc_random.best_params_['gamma'] + 0.01,\n",
    "             'auto'],\n",
    "    'C': [svc_random.best_params_['C'] - 150, \n",
    "         svc_random.best_params_['C'] - 100, \n",
    "         svc_random.best_params_['C'], \n",
    "         svc_random.best_params_['C'] + 100, \n",
    "         svc_random.best_params_['C'] + 150]\n",
    "}\n",
    "\n",
    "svc_grid = grid_search(clf_svc, grid_params, X_train, y_train);"
   ]
  },
  {
   "cell_type": "code",
   "execution_count": 99,
   "metadata": {},
   "outputs": [
    {
     "name": "stdout",
     "output_type": "stream",
     "text": [
      "Baseline = 0.82\n",
      "\n",
      "Best param - Random search: {'random_state': 24, 'kernel': 'poly', 'gamma': 0.01, 'C': 500}\n",
      "Random search = 0.82\n",
      "\n",
      "Best param - Grid search: {'C': 350, 'gamma': 0.01, 'kernel': 'poly', 'random_state': 24}\n",
      "Grid search = 0.87\n"
     ]
    },
    {
     "data": {
      "image/png": "[encoded data removed]",
      "text/plain": [
       "<Figure size 432x288 with 1 Axes>"
      ]
     },
     "metadata": {
      "needs_background": "light"
     },
     "output_type": "display_data"
    }
   ],
   "source": [
    "baseline = cross_val_score(clf_svc, X_train, y_train).mean()\n",
    "y_gs = np.maximum.accumulate(svc_grid.cv_results_['mean_test_score'])\n",
    "y_rs = np.maximum.accumulate(svc_random.cv_results_['mean_test_score'])\n",
    "\n",
    "print(f'Baseline = {baseline:.2f}')\n",
    "\n",
    "print()\n",
    "print('Best param - Random search: %s' % svc_random.best_params_)\n",
    "print(f'Random search = %.2f' % svc_random.best_score_)\n",
    "\n",
    "print()\n",
    "print('Best param - Grid search: %s' % svc_grid.best_params_)\n",
    "print(f'Grid search = %.2f' % svc_grid.best_score_)\n",
    "\n",
    "plt.plot(y_gs, 'gs-', label='Grid search')\n",
    "plt.plot(y_rs, 'rs-', label='Random search')\n",
    "plt.xlabel('Iteration')\n",
    "plt.ylabel('score')\n",
    "plt.ylim(0, 1)\n",
    "plt.title('Valor da melhor pontuação CV amostrada');\n",
    "plt.legend();"
   ]
  },
  {
   "cell_type": "markdown",
   "metadata": {},
   "source": [
    "##### Modelo com w/ melhores parâmetros"
   ]
  },
  {
   "cell_type": "code",
   "execution_count": 84,
   "metadata": {},
   "outputs": [
    {
     "data": {
      "text/plain": [
       "SVC(C=350, break_ties=False, cache_size=200, class_weight=None, coef0=0.0,\n",
       "    decision_function_shape='ovr', degree=3, gamma=0.01, kernel='poly',\n",
       "    max_iter=-1, probability=True, random_state=24, shrinking=True, tol=0.001,\n",
       "    verbose=False)"
      ]
     },
     "execution_count": 84,
     "metadata": {},
     "output_type": "execute_result"
    }
   ],
   "source": [
    "svc_best = SVC(C=350, gamma=0.01, kernel='poly', random_state = 24, probability=True)\n",
    "svc_best.fit(X_train, y_train)"
   ]
  },
  {
   "cell_type": "markdown",
   "metadata": {},
   "source": [
    "##### Validação cruzada 5 vezes"
   ]
  },
  {
   "cell_type": "code",
   "execution_count": 85,
   "metadata": {},
   "outputs": [],
   "source": [
    "# Parametros\n",
    "pred = []\n",
    "ad = []\n",
    "index = []\n",
    "cross_val = StratifiedKFold(n_splits=5)\n",
    "\n",
    "# Faça um loop de 5 vezes\n",
    "for train_index, test_index in cross_val.split(X_train, y_train):    \n",
    "    fold_model = svc_best.fit(X_train.iloc[train_index], y_train[train_index])\n",
    "    fold_pred = svc_best.predict(X_train.iloc[test_index])\n",
    "    fold_ad = svc_best.predict_proba(X_train.iloc[test_index])\n",
    "    pred.append(fold_pred)\n",
    "    ad.append(fold_ad)\n",
    "    index.append(test_index)"
   ]
  },
  {
   "cell_type": "code",
   "execution_count": 86,
   "metadata": {},
   "outputs": [
    {
     "name": "stdout",
     "output_type": "stream",
     "text": [
      "\u001b[1mCaracterísticas estatísticas de validação cruzada externa de 5 vezes dos modelos QSAR desenvolvidos morgan\n",
      "\u001b[0m\n"
     ]
    },
    {
     "data": {
      "text/html": [
       "<div>\n",
       "<style scoped>\n",
       "    .dataframe tbody tr th:only-of-type {\n",
       "        vertical-align: middle;\n",
       "    }\n",
       "\n",
       "    .dataframe tbody tr th {\n",
       "        vertical-align: top;\n",
       "    }\n",
       "\n",
       "    .dataframe thead th {\n",
       "        text-align: right;\n",
       "    }\n",
       "</style>\n",
       "<table border=\"1\" class=\"dataframe\">\n",
       "  <thead>\n",
       "    <tr style=\"text-align: right;\">\n",
       "      <th></th>\n",
       "      <th>Kappa</th>\n",
       "      <th>CCR</th>\n",
       "      <th>Sensibilidade</th>\n",
       "      <th>PPV</th>\n",
       "      <th>Especificidade</th>\n",
       "      <th>NPV</th>\n",
       "      <th>Accuracy</th>\n",
       "      <th>F1 Score</th>\n",
       "      <th>Coverage</th>\n",
       "    </tr>\n",
       "  </thead>\n",
       "  <tbody>\n",
       "    <tr>\n",
       "      <th>Morgan</th>\n",
       "      <td>0.59</td>\n",
       "      <td>0.78</td>\n",
       "      <td>0.65</td>\n",
       "      <td>0.81</td>\n",
       "      <td>0.92</td>\n",
       "      <td>0.83</td>\n",
       "      <td>0.82</td>\n",
       "      <td>0.72</td>\n",
       "      <td>1.00</td>\n",
       "    </tr>\n",
       "    <tr>\n",
       "      <th>Morgan AD</th>\n",
       "      <td>0.71</td>\n",
       "      <td>0.83</td>\n",
       "      <td>0.71</td>\n",
       "      <td>0.89</td>\n",
       "      <td>0.96</td>\n",
       "      <td>0.87</td>\n",
       "      <td>0.88</td>\n",
       "      <td>0.79</td>\n",
       "      <td>0.65</td>\n",
       "    </tr>\n",
       "  </tbody>\n",
       "</table>\n",
       "</div>"
      ],
      "text/plain": [
       "           Kappa   CCR  Sensibilidade   PPV  Especificidade   NPV  Accuracy  \\\n",
       "Morgan      0.59  0.78           0.65  0.81            0.92  0.83      0.82   \n",
       "Morgan AD   0.71  0.83           0.71  0.89            0.96  0.87      0.88   \n",
       "\n",
       "           F1 Score  Coverage  \n",
       "Morgan         0.72      1.00  \n",
       "Morgan AD      0.79      0.65  "
      ]
     },
     "execution_count": 86,
     "metadata": {},
     "output_type": "execute_result"
    }
   ],
   "source": [
    "threshold_ad = 0.70\n",
    "\n",
    "# Preparar resultados para exportar    \n",
    "fold_index = np.concatenate(index)    \n",
    "fold_pred = np.concatenate(pred)\n",
    "fold_ad = np.concatenate(ad)\n",
    "fold_ad = (np.amax(fold_ad, axis=1) >= threshold_ad).astype(str)\n",
    "five_fold_morgan = pd.DataFrame({'Prediction': fold_pred,'AD': fold_ad}, index=list(fold_index))\n",
    "five_fold_morgan.AD[five_fold_morgan.AD == 'False'] = np.nan\n",
    "five_fold_morgan.AD[five_fold_morgan.AD == 'True'] = five_fold_morgan.Prediction\n",
    "five_fold_morgan.sort_index(inplace=True)\n",
    "five_fold_morgan['y_train'] = pd.DataFrame(y_train)\n",
    "five_fold_ad = five_fold_morgan.dropna().astype(int)\n",
    "coverage_5f = len(five_fold_ad) / len(five_fold_morgan)\n",
    "\n",
    "\n",
    "# estatísticas de morgan\n",
    "morgan = pd.DataFrame(stats(five_fold_morgan['y_train'], five_fold_morgan['Prediction']))\n",
    "morgan['Coverage'] = 1.0\n",
    "\n",
    "# estatísticas do morgan AD\n",
    "morgan_ad = five_fold_morgan.dropna(subset=['AD']).astype(int)\n",
    "coverage_morgan_ad = len(morgan_ad['AD']) / len(five_fold_morgan['y_train'])\n",
    "morgan_ad = pd.DataFrame(stats(morgan_ad['y_train'], morgan_ad['AD']))\n",
    "morgan_ad['Coverage'] = round(coverage_morgan_ad, 2)\n",
    "\n",
    "# imprimir estatísticas\n",
    "print('\\033[1m' + 'Características estatísticas de validação cruzada externa de 5 vezes dos modelos QSAR desenvolvidos morgan' + '\\n' + '\\033[0m')\n",
    "morgan_5f_stats = morgan.append(morgan_ad)\n",
    "morgan_5f_stats.set_index([['Morgan', 'Morgan AD']], drop=True, inplace=True)\n",
    "morgan_5f_stats"
   ]
  },
  {
   "cell_type": "markdown",
   "metadata": {},
   "source": [
    "##### Prever conjunto retido externo após o balanceamento"
   ]
  },
  {
   "cell_type": "code",
   "execution_count": 87,
   "metadata": {},
   "outputs": [],
   "source": [
    "moldf_ext = moldf_desc[(moldf_desc['Set'] == 'ext')]\n",
    "descriptor_list = list(X_train.columns.values)\n",
    "\n",
    "if len(moldf_ext) > 0:\n",
    "    y_ext = moldf_ext['Outcome'].to_numpy()\n",
    "    X_ext = moldf_ext[descriptors]\n",
    "    \n",
    "    # Filtrar descritores não presentes no modelo\n",
    "    X_ext = X_ext[descriptor_list]\n",
    "    \n",
    "    # Fazer previsões\n",
    "    ext_set = svc_best.predict(X_ext)\n",
    "    ext_set_ad = svc_best.predict_proba(X_ext)\n",
    "    ext_set_ad = (np.amax(ext_set_ad, axis=1) >= threshold_ad).astype(str)\n",
    "    \n",
    "    # Preparar dados\n",
    "    ext_set = pd.DataFrame({'Prediction': ext_set,'AD': ext_set_ad})\n",
    "    ext_set.AD[ext_set.AD == 'False'] = np.nan\n",
    "    ext_set.AD[ext_set.AD == 'True'] = ext_set.Prediction\n",
    "    ext_set.sort_index(inplace=True)\n",
    "    ext_set['y_ext'] = pd.DataFrame(y_ext)\n",
    "    ext_set_ad = ext_set.dropna().astype(int)\n",
    "    coverage_ext = len(ext_set_ad) / len(ext_set)\n",
    "    \n",
    "    # Imprimir estatísticas\n",
    "    ext_set_stats = pd.DataFrame(stats(ext_set.y_ext, ext_set.Prediction))\n",
    "    ext_set_stats['Coverage'] = 1.0\n",
    "    print('External withheld set: \\n', ext_set_stats.to_string(index=False), '\\n')\n",
    "    ext_set_stats_ad = pd.DataFrame(stats(ext_set_ad.y_ext, ext_set_ad.AD))\n",
    "    ext_set_stats_ad['Coverage'] = round(coverage_ext, 2)\n",
    "    print('External withheld set with AD: \\n', ext_set_stats_ad.to_string(index=False), '\\n')\n",
    "else:\n",
    "    pass"
   ]
  },
  {
   "cell_type": "markdown",
   "metadata": {},
   "source": [
    "##### Y-randomização"
   ]
  },
  {
   "cell_type": "code",
   "execution_count": 88,
   "metadata": {},
   "outputs": [
    {
     "name": "stderr",
     "output_type": "stream",
     "text": [
      "[Parallel(n_jobs=-1)]: Using backend LokyBackend with 4 concurrent workers.\n"
     ]
    },
    {
     "name": "stdout",
     "output_type": "stream",
     "text": [
      "True score =  0.78 \n",
      "Y-randomization =  0.51 \n",
      "p-value =  0.0476\n"
     ]
    },
    {
     "name": "stderr",
     "output_type": "stream",
     "text": [
      "[Parallel(n_jobs=-1)]: Done  20 out of  20 | elapsed:    4.6s finished\n"
     ]
    }
   ],
   "source": [
    "permutations = 20\n",
    "score, permutation_scores, pvalue = permutation_test_score(svc_best, X_train, y_train,\n",
    "                                                           cv=5, scoring='balanced_accuracy',\n",
    "                                                           n_permutations=permutations,\n",
    "                                                           n_jobs=-1,\n",
    "                                                           verbose=1,\n",
    "                                                           random_state=24)\n",
    "print('True score = ', score.round(2),\n",
    "      '\\nY-randomization = ', np.mean(permutation_scores).round(2),\n",
    "      '\\np-value = ', pvalue.round(4))"
   ]
  },
  {
   "cell_type": "markdown",
   "metadata": {},
   "source": [
    "##### Salvar modelo"
   ]
  },
  {
   "cell_type": "code",
   "execution_count": 89,
   "metadata": {},
   "outputs": [],
   "source": [
    "with gzip.GzipFile('model/sars-cov-3clpro-morgan_SVM_ad_balanced.pgz', 'w') as f:\n",
    "    cPickle.dump(svc_best, f)"
   ]
  },
  {
   "cell_type": "markdown",
   "metadata": {},
   "source": [
    "### Exportar previsões"
   ]
  },
  {
   "cell_type": "code",
   "execution_count": 90,
   "metadata": {},
   "outputs": [],
   "source": [
    "pred_train = moldf_train[moldf_train.columns.difference(descriptor_list)]\n",
    "pred_train.reset_index(inplace=True)\n",
    "five_fold_exp = five_fold_morgan[['Prediction', 'AD']].rename(columns={'Prediction':'morgan', 'AD':'morgan_ad'}, )\n",
    "pred_train = pd.concat([pred_train, five_fold_exp], axis=1)\n",
    "pred_train['Set'] = 'train'\n",
    "\n",
    "if len(moldf_ext) > 0:\n",
    "    pred_ext = moldf_ext[moldf_ext.columns.difference(descriptor_list)]\n",
    "    pred_ext.reset_index(inplace=True)\n",
    "    ext_set_exp = ext_set[['Prediction', 'AD']].rename(columns={'Prediction':'morgan', 'AD':'morgan_ad'}, )\n",
    "    pred_ext = pd.concat([pred_ext, ext_set_exp], axis=1)\n",
    "    pred_ext['Set'] = 'ext'\n",
    "    \n",
    "    pred_morgan = pd.concat([pred_train, pred_ext], axis=0).sort_values(by='index')\n",
    "    pred_morgan.drop(columns=['index', 'Mol', 'ID'], inplace=True)\n",
    "\n",
    "else:\n",
    "    pred_morgan = pred_train.copy()\n",
    "    pred_morgan.drop(columns=['index', 'Mol', 'ID'], inplace=True)\n",
    "    \n",
    "#for col in ['Outcome', 'morgan', 'morgan_ad']:\n",
    "#    pred_morgan[col].replace(0,'Inactive', inplace=True)\n",
    "#    pred_morgan[col].replace(1,'Active', inplace=True)"
   ]
  },
  {
   "cell_type": "code",
   "execution_count": 91,
   "metadata": {},
   "outputs": [],
   "source": [
    "with pd.ExcelWriter('predictions-svm-morgan.xlsx') as writer:\n",
    "    pred_morgan.to_excel(writer, sheet_name='morgan', index=False)"
   ]
  },
  {
   "cell_type": "markdown",
   "metadata": {},
   "source": [
    "### Plotando as Estatísticas"
   ]
  },
  {
   "cell_type": "code",
   "execution_count": 92,
   "metadata": {},
   "outputs": [
    {
     "data": {
      "text/html": [
       "<div>\n",
       "<style scoped>\n",
       "    .dataframe tbody tr th:only-of-type {\n",
       "        vertical-align: middle;\n",
       "    }\n",
       "\n",
       "    .dataframe tbody tr th {\n",
       "        vertical-align: top;\n",
       "    }\n",
       "\n",
       "    .dataframe thead th {\n",
       "        text-align: right;\n",
       "    }\n",
       "</style>\n",
       "<table border=\"1\" class=\"dataframe\">\n",
       "  <thead>\n",
       "    <tr style=\"text-align: right;\">\n",
       "      <th></th>\n",
       "      <th>Kappa</th>\n",
       "      <th>CCR</th>\n",
       "      <th>Sensibilidade</th>\n",
       "      <th>PPV</th>\n",
       "      <th>Especificidade</th>\n",
       "      <th>NPV</th>\n",
       "      <th>Accuracy</th>\n",
       "      <th>F1 Score</th>\n",
       "      <th>Coverage</th>\n",
       "    </tr>\n",
       "  </thead>\n",
       "  <tbody>\n",
       "    <tr>\n",
       "      <th>Morgan</th>\n",
       "      <td>0.59</td>\n",
       "      <td>0.78</td>\n",
       "      <td>0.65</td>\n",
       "      <td>0.81</td>\n",
       "      <td>0.92</td>\n",
       "      <td>0.83</td>\n",
       "      <td>0.82</td>\n",
       "      <td>0.72</td>\n",
       "      <td>1.00</td>\n",
       "    </tr>\n",
       "    <tr>\n",
       "      <th>Morgan AD</th>\n",
       "      <td>0.71</td>\n",
       "      <td>0.83</td>\n",
       "      <td>0.71</td>\n",
       "      <td>0.89</td>\n",
       "      <td>0.96</td>\n",
       "      <td>0.87</td>\n",
       "      <td>0.88</td>\n",
       "      <td>0.79</td>\n",
       "      <td>0.65</td>\n",
       "    </tr>\n",
       "  </tbody>\n",
       "</table>\n",
       "</div>"
      ],
      "text/plain": [
       "           Kappa   CCR  Sensibilidade   PPV  Especificidade   NPV  Accuracy  \\\n",
       "Morgan      0.59  0.78           0.65  0.81            0.92  0.83      0.82   \n",
       "Morgan AD   0.71  0.83           0.71  0.89            0.96  0.87      0.88   \n",
       "\n",
       "           F1 Score  Coverage  \n",
       "Morgan         0.72      1.00  \n",
       "Morgan AD      0.79      0.65  "
      ]
     },
     "execution_count": 92,
     "metadata": {},
     "output_type": "execute_result"
    }
   ],
   "source": [
    "# Exportar estatísticas\n",
    "if len(moldf_ext) > 0:\n",
    "    morgan_stats = pd.concat([morgan, morgan_ad], axis=0)\n",
    "    morgan_stats.set_index([['5-fold CV', 'External withheld set']], drop=True, inplace=True)\n",
    "    morgan_stats\n",
    "else:\n",
    "    morgan_stats = morgan_5f_stats.copy()\n",
    "    morgan_stats"
   ]
  },
  {
   "cell_type": "code",
   "execution_count": 93,
   "metadata": {},
   "outputs": [
    {
     "data": {
      "image/png": "[encoded data removed]",
      "text/plain": [
       "<Figure size 720x432 with 1 Axes>"
      ]
     },
     "metadata": {
      "needs_background": "light"
     },
     "output_type": "display_data"
    }
   ],
   "source": [
    "# Estatísticas de transposição\n",
    "morgan_stats_t = morgan_stats.T\n",
    "morgan_stats_t = morgan_stats_t.reset_index()\n",
    "morgan_stats_t = morgan_stats_t.rename(columns={'index': 'Stats'})\n",
    "\n",
    "# Fazer enredo\n",
    "plt.style.use('seaborn-colorblind')\n",
    "fig, ax1 = plt.subplots(figsize=(10,6))\n",
    "\n",
    "morgan_stats_t.plot(kind='bar', ax=ax1, width=0.8)\n",
    "ax1.set_xticklabels(labels=morgan_stats_t['Stats'].tolist(), fontsize=14, rotation=0)\n",
    "ax1.axhline(y=.6, color='indianred', ls='dashed')# xmin=0.25, xmax=0.75)\n",
    "ax1.legend_.remove()\n",
    "plt.title('Características estatísticas', fontsize=16)\n",
    "ax1.set_yticks(np.arange(0, 1.1, 0.1))\n",
    "ax1.tick_params(labelsize=12)\n",
    "\n",
    "handles, labels = ax1.get_legend_handles_labels()\n",
    "ax1.legend(handles, labels, fontsize=16,\n",
    "            loc='upper center', bbox_to_anchor=(0.5, -0.07), fancybox=True,\n",
    "            shadow=True, ncol=2)\n",
    "fig.tight_layout()\n",
    "\n",
    "plt.savefig('statistics-morgan.png', bbox_inches='tight',\n",
    "            transparent=False, format='png', dpi=300)\n",
    "plt.show();"
   ]
  },
  {
   "cell_type": "code",
   "execution_count": null,
   "metadata": {},
   "outputs": [],
   "source": []
  }
 ],
 "metadata": {
  "kernelspec": {
   "display_name": "Python 3",
   "language": "python",
   "name": "python3"
  },
  "language_info": {
   "codemirror_mode": {
    "name": "ipython",
    "version": 3
   },
   "file_extension": ".py",
   "mimetype": "text/x-python",
   "name": "python",
   "nbconvert_exporter": "python",
   "pygments_lexer": "ipython3",
   "version": "3.7.6"
  }
 },
 "nbformat": 4,
 "nbformat_minor": 4
}
